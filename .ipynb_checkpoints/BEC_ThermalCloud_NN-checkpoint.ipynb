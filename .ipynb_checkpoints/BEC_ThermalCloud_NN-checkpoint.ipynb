{
 "cells": [
  {
   "cell_type": "markdown",
   "id": "19cdd5e3-cf56-4783-a1de-3f97ba9b2d71",
   "metadata": {},
   "source": [
    "# BEC and Thermal Cloud NN"
   ]
  },
  {
   "cell_type": "markdown",
   "id": "08f1e314-aa84-423f-a400-993c77ee0532",
   "metadata": {},
   "source": [
    "## Imports"
   ]
  },
  {
   "cell_type": "code",
   "execution_count": null,
   "id": "f9880158-1d0a-47ac-af89-ef5a85d50264",
   "metadata": {},
   "outputs": [],
   "source": [
    "import tensorflow as tf\n",
    "import numpy as np\n",
    "import pandas as pd\n",
    "import math\n",
    "import matplotlib.pyplot as plt\n",
    "import random\n",
    "from generate_bec_thermal_cloud_nn_data import GenerateBecThermalCloudData\n",
    "from matplotlib.colors import LogNorm"
   ]
  },
  {
   "cell_type": "code",
   "execution_count": null,
   "id": "6c430bc1-3fe0-449c-8235-48d832f9fba8",
   "metadata": {},
   "outputs": [],
   "source": [
    "num_atoms = 100000\n",
    "#calculate transition temperature\n",
    "\n",
    "trans_temp = (num_atoms/(2*1*1.645))**0.5\n",
    "print(trans_temp)"
   ]
  },
  {
   "cell_type": "markdown",
   "id": "49c52b15-3933-46a2-b973-c87c19e7a4ac",
   "metadata": {},
   "source": [
    "## Generate Training and Test Data"
   ]
  },
  {
   "cell_type": "code",
   "execution_count": null,
   "id": "9f9df071-2de3-4098-a6d4-c7f77d6753c8",
   "metadata": {},
   "outputs": [],
   "source": [
    "#training data size, test data size, noise spread, resolution length, number of atoms, transition temperature \n",
    "\n",
    "#current temps are {0:87,1:125,2:150,3:280}\n",
    "\n",
    "#500 noise spread can get 98% accuracy\n",
    "generate = GenerateBecThermalCloudData(10000,5000,0,100,100000,trans_temp)"
   ]
  },
  {
   "cell_type": "markdown",
   "id": "a5788b71-bb06-476c-abea-a5b28a14fd9f",
   "metadata": {},
   "source": [
    "#### See What Data Images Look Like"
   ]
  },
  {
   "cell_type": "code",
   "execution_count": null,
   "id": "45a44430-2aac-40a7-b4c2-780a287860e1",
   "metadata": {},
   "outputs": [],
   "source": [
    "# T = 170\n",
    "plt.imshow(generate.x_train[4],cmap = \"viridis\",norm = LogNorm())"
   ]
  },
  {
   "cell_type": "code",
   "execution_count": null,
   "id": "0e4ca1c1-b07a-4449-8309-4719c8119588",
   "metadata": {
    "tags": []
   },
   "outputs": [],
   "source": [
    "#plt.scatter(generate.x_train[0][0])\n",
    "plt.scatter(np.arange(len(generate.x_train[0][0])),generate.x_train[3][50])"
   ]
  },
  {
   "cell_type": "code",
   "execution_count": null,
   "id": "cf42567d-5c52-4c9a-b4ec-a94c7ad3d145",
   "metadata": {},
   "outputs": [],
   "source": [
    "plt.plot(np.arange(len(generate.x_train[0][0])),generate.x_train[0][50],label = \"Center of Image\")\n",
    "plt.plot(np.arange(len(generate.x_train[0][0])),generate.x_train[0][45],label = \"Edge of Image\")\n",
    "plt.legend(loc='upper left')\n",
    "plt.xlabel(\"Image Pixel\")\n",
    "plt.ylabel(\"Atom Cloud Density\")"
   ]
  },
  {
   "cell_type": "code",
   "execution_count": null,
   "id": "70dcba17-31d8-4dd4-a84b-f0feb001bb80",
   "metadata": {},
   "outputs": [],
   "source": [
    "N=100000\n",
    "\n",
    "def getN_ex(temp,trans_temp):\n",
    "    if temp>=trans_temp:\n",
    "        return N\n",
    "    else:\n",
    "        return N*(temp/trans_temp)**2\n",
    "    \n",
    "def getN_o(temp,trans_temp):\n",
    "    if temp>=trans_temp:\n",
    "        return 0\n",
    "    else:\n",
    "        return N*(1-(temp/trans_temp)**2)\n",
    "\n",
    "temps=np.arange(trans_temp+100)\n",
    "\n",
    "N_ex_arr = []\n",
    "N_o_arr = []\n",
    "for temp in temps:\n",
    "    N_ex_arr.append(getN_ex(temp,trans_temp))\n",
    "    N_o_arr.append(getN_o(temp,trans_temp))\n",
    "\n",
    "plt.plot(temps,N_ex_arr,label=\"Thermal Cloud\")\n",
    "plt.plot(temps,N_o_arr,label = \"BEC\")\n",
    "plt.legend(loc='center right')\n",
    "x=[175]\n",
    "labels = ['T_c']\n",
    "plt.xticks(x, labels, rotation='horizontal')\n",
    "plt.xlabel(\"Temperature\")\n",
    "plt.ylabel(\"Number of Particles\")"
   ]
  },
  {
   "cell_type": "markdown",
   "id": "c5d6a2fb-60f8-4b2f-918e-00a162789a55",
   "metadata": {},
   "source": [
    "## Compile Feed Forward NN"
   ]
  },
  {
   "cell_type": "markdown",
   "id": "0a32d6ba-e05e-435f-b3f7-3a0035628040",
   "metadata": {
    "tags": []
   },
   "source": [
    "#### Discrete Temperature Values Basic NN"
   ]
  },
  {
   "cell_type": "code",
   "execution_count": null,
   "id": "b9b7631e-8055-439d-a7c0-71c4e13b5f81",
   "metadata": {
    "tags": []
   },
   "outputs": [],
   "source": [
    "model = tf.keras.models.Sequential()\n",
    "model.add(tf.keras.layers.Flatten())\n",
    "model.add(tf.keras.layers.Dense(200,activation=tf.nn.relu))\n",
    "model.add(tf.keras.layers.Dense(4,activation=tf.nn.softmax))\n",
    "\n",
    "optim = tf.keras.optimizers.Adam(learning_rate=0.01)\n",
    "model.compile(optimizer=optim,loss='sparse_categorical_crossentropy',metrics=['accuracy'])"
   ]
  },
  {
   "cell_type": "markdown",
   "id": "2da1998e-65a7-4854-be02-1fa227d9c19d",
   "metadata": {},
   "source": [
    "#### Continuous Temperature Values Basic NN"
   ]
  },
  {
   "cell_type": "code",
   "execution_count": null,
   "id": "9a4f4256-0edf-4a7b-86ce-c88c77616a7f",
   "metadata": {},
   "outputs": [],
   "source": [
    "model = tf.keras.models.Sequential()\n",
    "model.add(tf.keras.layers.Flatten())\n",
    "model.add(tf.keras.layers.Dense(5000))\n",
    "model.add(tf.keras.layers.BatchNormalization(center=True,scale=False))\n",
    "model.add(tf.keras.layers.Activation(\"relu\"))\n",
    "model.add(tf.keras.layers.Dense(2000))\n",
    "model.add(tf.keras.layers.BatchNormalization(center=True,scale=False))\n",
    "model.add(tf.keras.layers.Activation(\"relu\"))\n",
    "model.add(tf.keras.layers.Dense(1))\n",
    "\n",
    "# optim = tf.keras.optimizers.Adam(learning_rate=0.1)\n",
    "model.compile(optimizer=\"adam\",loss='mean_squared_error',metrics=[tf.keras.metrics.RootMeanSquaredError()])"
   ]
  },
  {
   "cell_type": "markdown",
   "id": "b65cba1e-5189-4001-9a26-a7ffc8eedddd",
   "metadata": {},
   "source": [
    "#### Discrete Temperature Values Convolutional NN"
   ]
  },
  {
   "cell_type": "code",
   "execution_count": null,
   "id": "5928697b-3259-4f80-be4c-73a0cf62a008",
   "metadata": {
    "jupyter": {
     "source_hidden": true
    },
    "tags": []
   },
   "outputs": [],
   "source": [
    "model = tf.keras.Sequential()\n",
    "\n",
    "model.add(tf.keras.layers.Conv2D(kernel_size=3,filters=12,use_bias=False,padding='same'))\n",
    "model.add(tf.keras.layers.BatchNormalization(center=True,scale=False))\n",
    "model.add(tf.keras.layers.Activation(\"relu\"))\n",
    "\n",
    "model.add(tf.keras.layers.Conv2D(kernel_size=6,filters=24,use_bias=False,padding='same',strides=2))\n",
    "model.add(tf.keras.layers.BatchNormalization(center=True,scale=False))\n",
    "model.add(tf.keras.layers.Activation(\"relu\"))\n",
    "\n",
    "\n",
    "model.add(tf.keras.layers.Conv2D(kernel_size=6,filters=32,use_bias=False,padding='same',strides=2))\n",
    "model.add(tf.keras.layers.BatchNormalization(center=True,scale=False))\n",
    "model.add(tf.keras.layers.Activation(\"relu\"))\n",
    "\n",
    "model.add(tf.keras.layers.Flatten())\n",
    "model.add(tf.keras.layers.Dense(200,use_bias=False))\n",
    "model.add(tf.keras.layers.BatchNormalization(center=True,scale=False))\n",
    "model.add(tf.keras.layers.Activation(\"relu\"))\n",
    "\n",
    "model.add(tf.keras.layers.Dropout(0.3))\n",
    "model.add(tf.keras.layers.Dense(4,activation=tf.nn.softmax))\n",
    "\n",
    "optimizer = tf.keras.optimizers.Adam(learning_rate=0.01)\n",
    "\n",
    "model.compile(optimizer=optimizer,loss=\"sparse_categorical_crossentropy\",metrics=[\"accuracy\"])\n",
    "\n",
    "x_train = np.asarray(generate.x_train)\n",
    "x_test = np.asarray(generate.x_test)\n",
    "\n",
    "x_test = x_test.reshape((x_test.shape[0], 100, 100, 1)).tolist()\n",
    "x_train = x_train.reshape((x_train.shape[0], 100, 100, 1)).tolist()"
   ]
  },
  {
   "cell_type": "markdown",
   "id": "b9ca7189-802f-4fae-ac6d-5a36c8335941",
   "metadata": {
    "tags": []
   },
   "source": [
    "#### Continuous Temperature Values Convolutional NN"
   ]
  },
  {
   "cell_type": "code",
   "execution_count": null,
   "id": "e99cb28b-f1de-446d-b350-732b748eec4c",
   "metadata": {
    "jupyter": {
     "source_hidden": true
    },
    "tags": []
   },
   "outputs": [],
   "source": [
    "model = tf.keras.Sequential()\n",
    "\n",
    "model.add(tf.keras.layers.Conv2D(kernel_size=3,filters=12,use_bias=False,padding='same'))\n",
    "# model.add(tf.keras.layers.BatchNormalization(center=True,scale=False))\n",
    "model.add(tf.keras.layers.Activation(\"relu\"))\n",
    "\n",
    "model.add(tf.keras.layers.Conv2D(kernel_size=6,filters=24,use_bias=False,padding='same',strides=2))\n",
    "# model.add(tf.keras.layers.BatchNormalization(center=True,scale=False))\n",
    "model.add(tf.keras.layers.Activation(\"relu\"))\n",
    "\n",
    "\n",
    "model.add(tf.keras.layers.Conv2D(kernel_size=6,filters=32,use_bias=False,padding='same',strides=2))\n",
    "# model.add(tf.keras.layers.BatchNormalization(center=True,scale=False))\n",
    "model.add(tf.keras.layers.Activation(\"relu\"))\n",
    "\n",
    "model.add(tf.keras.layers.Flatten())\n",
    "model.add(tf.keras.layers.Dense(200,use_bias=False))\n",
    "# model.add(tf.keras.layers.BatchNormalization(center=True,scale=False))\n",
    "model.add(tf.keras.layers.Activation(\"relu\"))\n",
    "\n",
    "# model.add(tf.keras.layers.Dropout(0.3))\n",
    "model.add(tf.keras.layers.Dense(1,activation=\"relu\"))\n",
    "\n",
    "optimizer = tf.keras.optimizers.Adam(learning_rate=0.01)\n",
    "\n",
    "model.compile(optimizer=optimizer,loss=\"mean_squared_error\",metrics=[\"mean_squared_error\"])\n",
    "\n",
    "generate.x_train = np.asarray(generate.x_train)\n",
    "generate.x_test = np.asarray(generate.x_test)\n",
    "\n",
    "generate.x_train = generate.x_train.reshape((generate.x_train.shape[0], 100, 100, 1)).tolist()\n",
    "generate.x_test = generate.x_test.reshape((generate.x_test.shape[0], 100, 100, 1)).tolist()"
   ]
  },
  {
   "cell_type": "markdown",
   "id": "b4cfbd30-fbf8-4265-9f93-3a87caf4bde1",
   "metadata": {},
   "source": [
    "## Train Model"
   ]
  },
  {
   "cell_type": "code",
   "execution_count": null,
   "id": "90ea4d53-152f-45ff-9027-bb145a234a93",
   "metadata": {},
   "outputs": [],
   "source": [
    "# lr_decay_callback = tf.keras.callbacks.LearningRateScheduler(lambda epoch: 0.01 * math.pow(0.8,epoch), verbose=True)\n",
    "# steps_per_epoch = len(generate.x_train)//128\n",
    "# print(steps_per_epoch)\n",
    "\n",
    "\n",
    "model.fit(generate.x_train,generate.y_train,epochs=600)#,steps_per_epoch = steps_per_epoch,callbacks = lr_decay_callback)"
   ]
  },
  {
   "cell_type": "markdown",
   "id": "e8ccf3cc-78c0-41d2-93e2-00bf00190881",
   "metadata": {},
   "source": [
    "## Evaluate Results"
   ]
  },
  {
   "cell_type": "markdown",
   "id": "9b82c297-ec5d-487d-bad0-7025a68d5a2a",
   "metadata": {},
   "source": [
    "#### Discrete Accuracy"
   ]
  },
  {
   "cell_type": "code",
   "execution_count": null,
   "id": "e556b569-6aa5-498f-8b9d-4ea6991dba63",
   "metadata": {
    "jupyter": {
     "source_hidden": true
    },
    "tags": []
   },
   "outputs": [],
   "source": [
    "val_loss, val_acc = model.evaluate(generate.x_test,generate.y_test)\n",
    "print(\"loss: \",val_loss,\"\\n\",\"accuracy: \",val_acc)\n",
    "model.evaluate(generate.x_test,generate.y_test)"
   ]
  },
  {
   "cell_type": "markdown",
   "id": "70b96369-0d07-4961-a1ec-4276bcb9e94b",
   "metadata": {},
   "source": [
    "#### Continuous Accuracy"
   ]
  },
  {
   "cell_type": "code",
   "execution_count": null,
   "id": "968a09f8-0044-46fd-8f6f-2d70b1f8fc14",
   "metadata": {},
   "outputs": [],
   "source": [
    "val_loss, val_mse = model.evaluate(generate.x_test,generate.y_test)\n",
    "print(\"loss: \",val_loss,\"\\n\",\"mse: \",val_mse)"
   ]
  },
  {
   "cell_type": "markdown",
   "id": "c157aaf8-147e-4928-8203-f03e7ccb483c",
   "metadata": {},
   "source": [
    "## See Predictions"
   ]
  },
  {
   "cell_type": "markdown",
   "id": "29546791-45f0-4d1e-b0b0-6dadfe31e623",
   "metadata": {},
   "source": [
    "#### Continuous Predictions"
   ]
  },
  {
   "cell_type": "code",
   "execution_count": null,
   "id": "68bcd89a-764c-4733-9f52-9e4c5bbff37e",
   "metadata": {},
   "outputs": [],
   "source": [
    "#not really a great representation, but you can see the predicted scatterplot over correct scatterplot\n",
    "\n",
    "predictions = model.predict(generate.x_test)\n",
    "\n",
    "plt.scatter(np.arange(len(predictions)),predictions)\n",
    "plt.scatter(np.arange(len(generate.y_test)),generate.y_test)\n",
    "plt.xlabel(\"x\")\n",
    "plt.ylabel(\"y\")"
   ]
  },
  {
   "cell_type": "code",
   "execution_count": null,
   "id": "131a69fd-c975-41d4-acb2-53e1b7f90ac6",
   "metadata": {},
   "outputs": [],
   "source": []
  }
 ],
 "metadata": {
  "kernelspec": {
   "display_name": "Python 3 (ipykernel)",
   "language": "python",
   "name": "python3"
  },
  "language_info": {
   "codemirror_mode": {
    "name": "ipython",
    "version": 3
   },
   "file_extension": ".py",
   "mimetype": "text/x-python",
   "name": "python",
   "nbconvert_exporter": "python",
   "pygments_lexer": "ipython3",
   "version": "3.10.5"
  }
 },
 "nbformat": 4,
 "nbformat_minor": 5
}
