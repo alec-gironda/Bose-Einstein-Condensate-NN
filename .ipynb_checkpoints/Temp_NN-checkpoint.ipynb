{
 "cells": [
  {
   "cell_type": "code",
   "execution_count": 52,
   "id": "a504706d-4f8d-47dd-aa98-c099230d1b68",
   "metadata": {},
   "outputs": [],
   "source": [
    "import math\n",
    "import tensorflow as tf\n",
    "import numpy as np\n",
    "from random import randint\n",
    "from scipy import stats as stats"
   ]
  },
  {
   "cell_type": "markdown",
   "id": "c39a0e02-d684-457a-9827-ccf7f4e314cd",
   "metadata": {},
   "source": [
    "# Predicting Temperature"
   ]
  },
  {
   "cell_type": "code",
   "execution_count": 55,
   "id": "4d096559-dd8f-43f0-829a-2dbb350d4137",
   "metadata": {},
   "outputs": [
    {
     "name": "stdout",
     "output_type": "stream",
     "text": [
      "[[44 18 93 ... 95 45 72]\n",
      " [ 3  8 72 ... 81 11 49]\n",
      " [ 6 74 56 ... 93 82 56]\n",
      " ...\n",
      " [64 73 20 ... 24 85  8]\n",
      " [22 47 50 ... 33 19 18]\n",
      " [91 86 46 ... 47 26 64]]\n"
     ]
    }
   ],
   "source": [
    "class Width:\n",
    "    def __init__(self,temp,freq,mass):\n",
    "        self.temp = temp\n",
    "        self.freq = freq\n",
    "        self.mass = mass\n",
    "        self.width = self.calculate_width(self.temp,self.freq,self.mass)\n",
    "    def calculate_width(self,temp,freq,mass):\n",
    "        return temp**2\n",
    "    \n",
    "class Density:\n",
    "    def __init__(self,width_x,width_y,width_z,x,y,z,N):\n",
    "        self.width_x = width_x\n",
    "        self.width_y = width_y\n",
    "        self.width_z = width_z\n",
    "        self.N = N\n",
    "        self.x = x\n",
    "        self.y = y\n",
    "        self.z = z\n",
    "        self.density = self.calculate_density(self.width_x,self.width_y,self.width_z,self.x,self.y,self.z,self.N)\n",
    "    def calculate_density(self,width_x,width_y,width_z,x,y,z,N):\n",
    "        return math.e**(-x**2/width_x**2)\n",
    "rx = Width(100,1,1)\n",
    "num_dens = Density(rx.width,1,1,1,1,1,1) #placeholders for variables aside from width\n",
    "print(np.random.randint(1,101, size=(100,100)))\n",
    "training_moments = sp.stats.describe(training_data)\n",
    "\n",
    "\n",
    "    \n",
    "# print(training_moments.mean)\n",
    "# print(training_moments.variance)\n",
    "\n",
    "\n",
    "    "
   ]
  },
  {
   "cell_type": "code",
   "execution_count": null,
   "id": "2576be33-2f56-4175-ba5c-334c0e94f28c",
   "metadata": {},
   "outputs": [],
   "source": []
  }
 ],
 "metadata": {
  "kernelspec": {
   "display_name": "Python 3 (ipykernel)",
   "language": "python",
   "name": "python3"
  },
  "language_info": {
   "codemirror_mode": {
    "name": "ipython",
    "version": 3
   },
   "file_extension": ".py",
   "mimetype": "text/x-python",
   "name": "python",
   "nbconvert_exporter": "python",
   "pygments_lexer": "ipython3",
   "version": "3.9.7"
  }
 },
 "nbformat": 4,
 "nbformat_minor": 5
}
