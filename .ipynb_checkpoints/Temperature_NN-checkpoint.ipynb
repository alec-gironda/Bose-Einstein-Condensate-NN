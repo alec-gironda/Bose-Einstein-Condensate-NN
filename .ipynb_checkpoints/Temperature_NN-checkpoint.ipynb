{
 "cells": [
  {
   "cell_type": "markdown",
   "id": "91ff7721-0cb5-4292-b81b-8fceb567d9e2",
   "metadata": {},
   "source": [
    "# Temperature NN"
   ]
  },
  {
   "cell_type": "markdown",
   "id": "c5350010-a532-4171-a902-69b13536b8f0",
   "metadata": {},
   "source": [
    "### Imports"
   ]
  },
  {
   "cell_type": "code",
   "execution_count": 1,
   "id": "5c7d3066-c2c8-4b1d-8166-45c87fe2974a",
   "metadata": {},
   "outputs": [],
   "source": [
    "import tensorflow as tf\n",
    "import numpy as np\n",
    "import pandas as pd\n",
    "import math\n",
    "import matplotlib.pyplot as plt\n",
    "import random\n",
    "from generate_temp_nn_data import GenerateData"
   ]
  },
  {
   "cell_type": "markdown",
   "id": "acb72a0c-a8a7-4377-be50-fe65b63cf327",
   "metadata": {},
   "source": [
    "### Generate Training Data and Test Data"
   ]
  },
  {
   "cell_type": "code",
   "execution_count": 2,
   "id": "214551a2-4674-42e4-adc6-d96670be6270",
   "metadata": {},
   "outputs": [
    {
     "name": "stdout",
     "output_type": "stream",
     "text": [
      "--- 0.15692806243896484 seconds ---\n"
     ]
    }
   ],
   "source": [
    "generate = GenerateData(1000,500)"
   ]
  },
  {
   "cell_type": "markdown",
   "id": "e3a2d360-0916-4256-a939-be0654f5925a",
   "metadata": {},
   "source": [
    "#### Example Images"
   ]
  },
  {
   "cell_type": "code",
   "execution_count": 23,
   "id": "c8ce274d-9e91-4e32-9e36-05a377a30f58",
   "metadata": {},
   "outputs": [
    {
     "data": {
      "image/png": "[encoded data removed]",
      "text/plain": [
       "<Figure size 432x288 with 1 Axes>"
      ]
     },
     "metadata": {
      "needs_background": "light"
     },
     "output_type": "display_data"
    }
   ],
   "source": [
    "# T = 0.5\n",
    "for i in range(len(generate.y_train)):\n",
    "    if generate.y_train[i]==0:\n",
    "        plt.imshow(generate.x_train[i],cmap=plt.cm.binary)\n",
    "        break"
   ]
  },
  {
   "cell_type": "code",
   "execution_count": 25,
   "id": "620cf24c-1de8-4c85-b012-9d29d2f1d17b",
   "metadata": {},
   "outputs": [
    {
     "data": {
      "image/png": "[encoded data removed]",
      "text/plain": [
       "<Figure size 432x288 with 1 Axes>"
      ]
     },
     "metadata": {
      "needs_background": "light"
     },
     "output_type": "display_data"
    }
   ],
   "source": [
    "# T = 1\n",
    "for i in range(len(generate.y_train)):\n",
    "    if generate.y_train[i]==1:\n",
    "        plt.imshow(generate.x_train[i],cmap=plt.cm.binary)\n",
    "        break"
   ]
  },
  {
   "cell_type": "code",
   "execution_count": 27,
   "id": "3c5aa2f3-717b-48cb-afd4-2d4dda04b729",
   "metadata": {},
   "outputs": [
    {
     "data": {
      "image/png": "[encoded data removed]",
      "text/plain": [
       "<Figure size 432x288 with 1 Axes>"
      ]
     },
     "metadata": {
      "needs_background": "light"
     },
     "output_type": "display_data"
    }
   ],
   "source": [
    "# T = 1.5\n",
    "for i in range(len(generate.y_train)):\n",
    "    if generate.y_train[i]==2:\n",
    "        plt.imshow(generate.x_train[i],cmap=plt.cm.binary)\n",
    "        break"
   ]
  },
  {
   "cell_type": "code",
   "execution_count": 19,
   "id": "d0b1963a-ccf5-4d7d-98c0-502a1183a0e9",
   "metadata": {},
   "outputs": [
    {
     "data": {
      "image/png": "[encoded data removed]",
      "text/plain": [
       "<Figure size 432x288 with 1 Axes>"
      ]
     },
     "metadata": {
      "needs_background": "light"
     },
     "output_type": "display_data"
    }
   ],
   "source": [
    "# T = 2\n",
    "for i in range(len(generate.y_train)):\n",
    "    if generate.y_train[i]==3:\n",
    "        plt.imshow(generate.x_train[i],cmap=plt.cm.binary)\n",
    "        break"
   ]
  },
  {
   "cell_type": "markdown",
   "id": "182e0698-9e51-4f09-a9fe-72c23ff0f5de",
   "metadata": {},
   "source": [
    "### Compile Basic Feed Forward NN"
   ]
  },
  {
   "cell_type": "code",
   "execution_count": 31,
   "id": "d0254827-c0e9-4f50-8ea2-627bbd414022",
   "metadata": {},
   "outputs": [],
   "source": [
    "model = tf.keras.models.Sequential()\n",
    "model.add(tf.keras.layers.Flatten())\n",
    "model.add(tf.keras.layers.Dense(200,activation=tf.nn.relu))\n",
    "model.add(tf.keras.layers.Dense(4,activation=tf.nn.softmax))\n",
    "\n",
    "optim = tf.keras.optimizers.Adam(learning_rate=0.01)\n",
    "model.compile(optimizer=optim,loss='sparse_categorical_crossentropy',metrics=['accuracy'])"
   ]
  },
  {
   "cell_type": "markdown",
   "id": "ae4ff19f-95aa-43a9-adc2-09b76b902b6d",
   "metadata": {},
   "source": [
    "### Train"
   ]
  },
  {
   "cell_type": "code",
   "execution_count": 32,
   "id": "3c7b7e1d-7e21-46f4-ab37-84349703e4a2",
   "metadata": {},
   "outputs": [
    {
     "name": "stdout",
     "output_type": "stream",
     "text": [
      "Epoch 1/10\n",
      "  30/3125 [..............................] - ETA: 11s - loss: 0.8501 - accuracy: 0.6292"
     ]
    },
    {
     "name": "stderr",
     "output_type": "stream",
     "text": [
      "2022-07-26 10:25:20.632497: I tensorflow/core/grappler/optimizers/custom_graph_optimizer_registry.cc:113] Plugin optimizer for device_type GPU is enabled.\n"
     ]
    },
    {
     "name": "stdout",
     "output_type": "stream",
     "text": [
      "3125/3125 [==============================] - 10s 3ms/step - loss: 0.2759 - accuracy: 0.8788\n",
      "Epoch 2/10\n",
      "3125/3125 [==============================] - 10s 3ms/step - loss: 0.2527 - accuracy: 0.8902\n",
      "Epoch 3/10\n",
      "3125/3125 [==============================] - 10s 3ms/step - loss: 0.2472 - accuracy: 0.8928\n",
      "Epoch 4/10\n",
      "3125/3125 [==============================] - 10s 3ms/step - loss: 0.2447 - accuracy: 0.8936\n",
      "Epoch 5/10\n",
      "3125/3125 [==============================] - 10s 3ms/step - loss: 0.2425 - accuracy: 0.8940\n",
      "Epoch 6/10\n",
      "3125/3125 [==============================] - 10s 3ms/step - loss: 0.2410 - accuracy: 0.8952\n",
      "Epoch 7/10\n",
      "3125/3125 [==============================] - 10s 3ms/step - loss: 0.2403 - accuracy: 0.8959\n",
      "Epoch 8/10\n",
      "3125/3125 [==============================] - 10s 3ms/step - loss: 0.2387 - accuracy: 0.8967\n",
      "Epoch 9/10\n",
      "3125/3125 [==============================] - 10s 3ms/step - loss: 0.2370 - accuracy: 0.8967\n",
      "Epoch 10/10\n",
      "3125/3125 [==============================] - 10s 3ms/step - loss: 0.2356 - accuracy: 0.8980\n"
     ]
    },
    {
     "data": {
      "text/plain": [
       "<keras.callbacks.History at 0x28d88f040>"
      ]
     },
     "execution_count": 32,
     "metadata": {},
     "output_type": "execute_result"
    }
   ],
   "source": [
    "model.fit(generate.x_train,generate.y_train,epochs=10)"
   ]
  },
  {
   "cell_type": "markdown",
   "id": "948676e2-a948-4fef-8deb-4841ae26a08f",
   "metadata": {},
   "source": [
    "### Evaluate Loss and Accuracy on Test Set"
   ]
  },
  {
   "cell_type": "code",
   "execution_count": 33,
   "id": "5b647b8a-952e-43b7-82c5-f9c0d43456dc",
   "metadata": {},
   "outputs": [
    {
     "name": "stdout",
     "output_type": "stream",
     "text": [
      "  53/1563 [>.............................] - ETA: 4s - loss: 0.2295 - accuracy: 0.8992"
     ]
    },
    {
     "name": "stderr",
     "output_type": "stream",
     "text": [
      "2022-07-26 10:27:06.007838: I tensorflow/core/grappler/optimizers/custom_graph_optimizer_registry.cc:113] Plugin optimizer for device_type GPU is enabled.\n"
     ]
    },
    {
     "name": "stdout",
     "output_type": "stream",
     "text": [
      "1563/1563 [==============================] - 4s 3ms/step - loss: 0.2428 - accuracy: 0.8940\n",
      "loss:  0.2428465634584427 \n",
      " accuracy:  0.8940200805664062\n"
     ]
    }
   ],
   "source": [
    "val_loss, val_acc = model.evaluate(generate.x_test,generate.y_test)\n",
    "print(\"loss: \",val_loss,\"\\n\",\"accuracy: \",val_acc)"
   ]
  },
  {
   "cell_type": "code",
   "execution_count": 34,
   "id": "cd308778-7082-4e3b-8724-cd11bd46dd55",
   "metadata": {},
   "outputs": [
    {
     "name": "stdout",
     "output_type": "stream",
     "text": [
      "INFO:tensorflow:Assets written to: num_model/assets\n",
      "(50000, 7, 7)\n",
      " 141/1563 [=>............................] - ETA: 1s"
     ]
    },
    {
     "name": "stderr",
     "output_type": "stream",
     "text": [
      "2022-07-26 10:27:24.077078: I tensorflow/core/grappler/optimizers/custom_graph_optimizer_registry.cc:113] Plugin optimizer for device_type GPU is enabled.\n"
     ]
    },
    {
     "name": "stdout",
     "output_type": "stream",
     "text": [
      "1563/1563 [==============================] - 2s 1ms/step\n"
     ]
    }
   ],
   "source": [
    "model.save('num_model')\n",
    "new_model = tf.keras.models.load_model('num_model')\n",
    "predictions = new_model.predict(generate.x_test)"
   ]
  },
  {
   "cell_type": "code",
   "execution_count": 46,
   "id": "d8b9ce9b-21e9-4151-a2d5-14711f8fb7b9",
   "metadata": {},
   "outputs": [
    {
     "name": "stdout",
     "output_type": "stream",
     "text": [
      "0\n"
     ]
    },
    {
     "data": {
      "text/plain": [
       "<matplotlib.image.AxesImage at 0x29b990160>"
      ]
     },
     "execution_count": 46,
     "metadata": {},
     "output_type": "execute_result"
    },
    {
     "data": {
      "image/png": "[encoded data removed]",
      "text/plain": [
       "<Figure size 432x288 with 1 Axes>"
      ]
     },
     "metadata": {
      "needs_background": "light"
     },
     "output_type": "display_data"
    }
   ],
   "source": [
    "predict_data_point = 10\n",
    "print(np.argmax(predictions[predict_data_point]))\n",
    "plt.imshow(generate.x_test[predict_data_point],cmap=plt.cm.binary)"
   ]
  },
  {
   "cell_type": "code",
   "execution_count": null,
   "id": "0577f343-46fd-495a-b330-dc82d0a76bcb",
   "metadata": {},
   "outputs": [],
   "source": []
  }
 ],
 "metadata": {
  "kernelspec": {
   "display_name": "Python 3 (ipykernel)",
   "language": "python",
   "name": "python3"
  },
  "language_info": {
   "codemirror_mode": {
    "name": "ipython",
    "version": 3
   },
   "file_extension": ".py",
   "mimetype": "text/x-python",
   "name": "python",
   "nbconvert_exporter": "python",
   "pygments_lexer": "ipython3",
   "version": "3.10.5"
  }
 },
 "nbformat": 4,
 "nbformat_minor": 5
}
