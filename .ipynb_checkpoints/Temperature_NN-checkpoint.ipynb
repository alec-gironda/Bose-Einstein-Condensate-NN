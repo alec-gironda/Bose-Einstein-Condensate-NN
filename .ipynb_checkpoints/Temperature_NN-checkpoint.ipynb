{
 "cells": [
  {
   "cell_type": "markdown",
   "id": "91ff7721-0cb5-4292-b81b-8fceb567d9e2",
   "metadata": {},
   "source": [
    "# Temperature NN"
   ]
  },
  {
   "cell_type": "markdown",
   "id": "c5350010-a532-4171-a902-69b13536b8f0",
   "metadata": {},
   "source": [
    "### Imports"
   ]
  },
  {
   "cell_type": "code",
   "execution_count": 31,
   "id": "5c7d3066-c2c8-4b1d-8166-45c87fe2974a",
   "metadata": {},
   "outputs": [],
   "source": [
    "import tensorflow as tf\n",
    "import numpy as np\n",
    "import pandas as pd\n",
    "import math\n",
    "import matplotlib.pyplot as plt\n",
    "import random\n",
    "from generate_temp_nn_data import GenerateData"
   ]
  },
  {
   "cell_type": "markdown",
   "id": "acb72a0c-a8a7-4377-be50-fe65b63cf327",
   "metadata": {},
   "source": [
    "### Generate Training Data and Test Data"
   ]
  },
  {
   "cell_type": "code",
   "execution_count": 37,
   "id": "214551a2-4674-42e4-adc6-d96670be6270",
   "metadata": {},
   "outputs": [
    {
     "name": "stdout",
     "output_type": "stream",
     "text": [
      "--- 0.014896869659423828 seconds ---\n"
     ]
    }
   ],
   "source": [
    "generate = GenerateData(50,25)"
   ]
  },
  {
   "cell_type": "code",
   "execution_count": 38,
   "id": "c74c2a13-6ad0-4b31-9c29-5a1116972ab2",
   "metadata": {},
   "outputs": [
    {
     "name": "stdout",
     "output_type": "stream",
     "text": [
      "1\n"
     ]
    },
    {
     "data": {
      "image/png": "[encoded data removed]",
      "text/plain": [
       "<Figure size 432x288 with 1 Axes>"
      ]
     },
     "metadata": {
      "needs_background": "light"
     },
     "output_type": "display_data"
    }
   ],
   "source": [
    "plt.imshow(generate.x_test[data_point],cmap=plt.cm.binary)\n",
    "print(generate.y_test[data_point])"
   ]
  },
  {
   "cell_type": "markdown",
   "id": "182e0698-9e51-4f09-a9fe-72c23ff0f5de",
   "metadata": {},
   "source": [
    "### Compile Basic Feed Forward NN"
   ]
  },
  {
   "cell_type": "code",
   "execution_count": 39,
   "id": "d0254827-c0e9-4f50-8ea2-627bbd414022",
   "metadata": {},
   "outputs": [],
   "source": [
    "model = tf.keras.models.Sequential()\n",
    "model.add(tf.keras.layers.Flatten())\n",
    "model.add(tf.keras.layers.Dense(200,activation=tf.nn.relu))\n",
    "model.add(tf.keras.layers.Dense(4,activation=tf.nn.softmax))\n",
    "\n",
    "optim = tf.keras.optimizers.Adam(learning_rate=0.01)\n",
    "model.compile(optimizer=optim,loss='sparse_categorical_crossentropy',metrics=['accuracy'])\n"
   ]
  },
  {
   "cell_type": "markdown",
   "id": "ae4ff19f-95aa-43a9-adc2-09b76b902b6d",
   "metadata": {},
   "source": [
    "### Train"
   ]
  },
  {
   "cell_type": "code",
   "execution_count": 40,
   "id": "3c7b7e1d-7e21-46f4-ab37-84349703e4a2",
   "metadata": {},
   "outputs": [
    {
     "name": "stdout",
     "output_type": "stream",
     "text": [
      "Epoch 1/10\n",
      "2/2 [==============================] - 0s 18ms/step - loss: 1.3432 - accuracy: 0.5000\n",
      "Epoch 2/10\n",
      "2/2 [==============================] - 0s 5ms/step - loss: 1.1869 - accuracy: 0.7708\n",
      "Epoch 3/10\n",
      "2/2 [==============================] - 0s 4ms/step - loss: 1.0638 - accuracy: 1.0000\n",
      "Epoch 4/10\n",
      "2/2 [==============================] - 0s 4ms/step - loss: 0.9448 - accuracy: 0.7500\n",
      "Epoch 5/10\n",
      "2/2 [==============================] - 0s 4ms/step - loss: 0.8398 - accuracy: 0.7500\n",
      "Epoch 6/10\n",
      "2/2 [==============================] - 0s 4ms/step - loss: 0.7439 - accuracy: 0.7500\n",
      "Epoch 7/10\n",
      "2/2 [==============================] - 0s 4ms/step - loss: 0.6598 - accuracy: 0.9167\n",
      "Epoch 8/10\n",
      "2/2 [==============================] - 0s 4ms/step - loss: 0.5940 - accuracy: 1.0000\n",
      "Epoch 9/10\n",
      "2/2 [==============================] - 0s 4ms/step - loss: 0.5316 - accuracy: 1.0000\n",
      "Epoch 10/10\n",
      "1/2 [==============>...............] - ETA: 0s - loss: 0.4707 - accuracy: 1.0000"
     ]
    },
    {
     "name": "stderr",
     "output_type": "stream",
     "text": [
      "2022-07-25 11:30:33.248093: I tensorflow/core/grappler/optimizers/custom_graph_optimizer_registry.cc:113] Plugin optimizer for device_type GPU is enabled.\n"
     ]
    },
    {
     "name": "stdout",
     "output_type": "stream",
     "text": [
      "2/2 [==============================] - 0s 4ms/step - loss: 0.4729 - accuracy: 1.0000\n"
     ]
    },
    {
     "data": {
      "text/plain": [
       "<keras.callbacks.History at 0x16cc6db10>"
      ]
     },
     "execution_count": 40,
     "metadata": {},
     "output_type": "execute_result"
    }
   ],
   "source": [
    "model.fit(generate.x_train,generate.y_train,epochs=10)"
   ]
  },
  {
   "cell_type": "markdown",
   "id": "948676e2-a948-4fef-8deb-4841ae26a08f",
   "metadata": {},
   "source": [
    "### Evaluate Loss and Accuracy on Test Set"
   ]
  },
  {
   "cell_type": "code",
   "execution_count": 41,
   "id": "5b647b8a-952e-43b7-82c5-f9c0d43456dc",
   "metadata": {},
   "outputs": [
    {
     "name": "stdout",
     "output_type": "stream",
     "text": [
      "1/1 [==============================] - 0s 78ms/step - loss: 0.4399 - accuracy: 0.9583\n",
      "loss:  0.4398861825466156 \n",
      " accuracy:  0.9583333730697632\n"
     ]
    },
    {
     "name": "stderr",
     "output_type": "stream",
     "text": [
      "2022-07-25 11:30:37.838629: I tensorflow/core/grappler/optimizers/custom_graph_optimizer_registry.cc:113] Plugin optimizer for device_type GPU is enabled.\n"
     ]
    }
   ],
   "source": [
    "val_loss, val_acc = model.evaluate(generate.x_test,generate.y_test)\n",
    "print(\"loss: \",val_loss,\"\\n\",\"accuracy: \",val_acc)"
   ]
  },
  {
   "cell_type": "code",
   "execution_count": 42,
   "id": "cd308778-7082-4e3b-8724-cd11bd46dd55",
   "metadata": {},
   "outputs": [
    {
     "name": "stdout",
     "output_type": "stream",
     "text": [
      "INFO:tensorflow:Assets written to: num_model/assets\n",
      "(24, 7, 7)\n",
      "1/1 [==============================] - 0s 23ms/step\n"
     ]
    },
    {
     "name": "stderr",
     "output_type": "stream",
     "text": [
      "2022-07-25 11:30:40.237438: I tensorflow/core/grappler/optimizers/custom_graph_optimizer_registry.cc:113] Plugin optimizer for device_type GPU is enabled.\n"
     ]
    }
   ],
   "source": [
    "model.save('num_model')\n",
    "new_model = tf.keras.models.load_model('num_model')\n",
    "print(np.shape(generate.x_test))\n",
    "predictions = new_model.predict(generate.x_test)"
   ]
  },
  {
   "cell_type": "code",
   "execution_count": 43,
   "id": "d8b9ce9b-21e9-4151-a2d5-14711f8fb7b9",
   "metadata": {},
   "outputs": [
    {
     "name": "stdout",
     "output_type": "stream",
     "text": [
      "1\n"
     ]
    },
    {
     "data": {
      "text/plain": [
       "<matplotlib.image.AxesImage at 0x2a9a09360>"
      ]
     },
     "execution_count": 43,
     "metadata": {},
     "output_type": "execute_result"
    },
    {
     "data": {
      "image/png": "[encoded data removed]",
      "text/plain": [
       "<Figure size 432x288 with 1 Axes>"
      ]
     },
     "metadata": {
      "needs_background": "light"
     },
     "output_type": "display_data"
    }
   ],
   "source": [
    "predict_data_point = 13\n",
    "print(np.argmax(predictions[predict_data_point]))\n",
    "plt.imshow(generate.x_test[predict_data_point],cmap=plt.cm.binary)"
   ]
  },
  {
   "cell_type": "code",
   "execution_count": 4,
   "id": "d8031414-2a4f-4223-8fa7-a90eb2770fa7",
   "metadata": {},
   "outputs": [
    {
     "ename": "KeyboardInterrupt",
     "evalue": "",
     "output_type": "error",
     "traceback": [
      "\u001b[0;31m---------------------------------------------------------------------------\u001b[0m",
      "\u001b[0;31mKeyboardInterrupt\u001b[0m                         Traceback (most recent call last)",
      "Input \u001b[0;32mIn [4]\u001b[0m, in \u001b[0;36m<cell line: 5>\u001b[0;34m()\u001b[0m\n\u001b[1;32m      2\u001b[0m \u001b[38;5;28;01mimport\u001b[39;00m \u001b[38;5;21;01mpandas\u001b[39;00m \u001b[38;5;28;01mas\u001b[39;00m \u001b[38;5;21;01mpd\u001b[39;00m\n\u001b[1;32m      3\u001b[0m db \u001b[38;5;241m=\u001b[39m Database()\n\u001b[0;32m----> 5\u001b[0m connection \u001b[38;5;241m=\u001b[39m \u001b[43mdb\u001b[49m\u001b[38;5;241;43m.\u001b[39;49m\u001b[43mcreate_db_connection\u001b[49m\u001b[43m(\u001b[49m\u001b[38;5;124;43m\"\u001b[39;49m\u001b[38;5;124;43m140.233.175.120\u001b[39;49m\u001b[38;5;124;43m\"\u001b[39;49m\u001b[43m,\u001b[49m\u001b[43m \u001b[49m\u001b[38;5;124;43m\"\u001b[39;49m\u001b[38;5;124;43magironda\u001b[39;49m\u001b[38;5;124;43m\"\u001b[39;49m\u001b[43m,\u001b[49m\u001b[43m \u001b[49m\u001b[38;5;124;43m\"\u001b[39;49m\u001b[38;5;124;43mphys_research1\u001b[39;49m\u001b[38;5;124;43m\"\u001b[39;49m\u001b[43m,\u001b[49m\u001b[43m \u001b[49m\u001b[38;5;124;43m\"\u001b[39;49m\u001b[38;5;124;43mmnist_db\u001b[39;49m\u001b[38;5;124;43m\"\u001b[39;49m\u001b[43m)\u001b[49m\n",
      "File \u001b[0;32m~/Desktop/phys_research/Bose-Einstein-Condensate-NN/NN_database.py:25\u001b[0m, in \u001b[0;36mDatabase.create_db_connection\u001b[0;34m(self, host_name, user_name, user_password, db_name)\u001b[0m\n\u001b[1;32m     23\u001b[0m connection \u001b[38;5;241m=\u001b[39m \u001b[38;5;28;01mNone\u001b[39;00m\n\u001b[1;32m     24\u001b[0m \u001b[38;5;28;01mtry\u001b[39;00m:\n\u001b[0;32m---> 25\u001b[0m     connection \u001b[38;5;241m=\u001b[39m \u001b[43mmysql\u001b[49m\u001b[38;5;241;43m.\u001b[39;49m\u001b[43mconnector\u001b[49m\u001b[38;5;241;43m.\u001b[39;49m\u001b[43mconnect\u001b[49m\u001b[43m(\u001b[49m\n\u001b[1;32m     26\u001b[0m \u001b[43m        \u001b[49m\u001b[43mhost\u001b[49m\u001b[38;5;241;43m=\u001b[39;49m\u001b[43mhost_name\u001b[49m\u001b[43m,\u001b[49m\n\u001b[1;32m     27\u001b[0m \u001b[43m        \u001b[49m\u001b[43muser\u001b[49m\u001b[38;5;241;43m=\u001b[39;49m\u001b[43muser_name\u001b[49m\u001b[43m,\u001b[49m\n\u001b[1;32m     28\u001b[0m \u001b[43m        \u001b[49m\u001b[43mpasswd\u001b[49m\u001b[38;5;241;43m=\u001b[39;49m\u001b[43muser_password\u001b[49m\u001b[43m,\u001b[49m\n\u001b[1;32m     29\u001b[0m \u001b[43m        \u001b[49m\u001b[43mdatabase\u001b[49m\u001b[43m \u001b[49m\u001b[38;5;241;43m=\u001b[39;49m\u001b[43m \u001b[49m\u001b[43mdb_name\u001b[49m\n\u001b[1;32m     30\u001b[0m \u001b[43m    \u001b[49m\u001b[43m)\u001b[49m\n\u001b[1;32m     31\u001b[0m     \u001b[38;5;28mprint\u001b[39m(\u001b[38;5;124m\"\u001b[39m\u001b[38;5;124mMySQL Database connection successful\u001b[39m\u001b[38;5;124m\"\u001b[39m)\n\u001b[1;32m     32\u001b[0m \u001b[38;5;28;01mexcept\u001b[39;00m Error \u001b[38;5;28;01mas\u001b[39;00m err:\n",
      "File \u001b[0;32m~/opt/anaconda3/envs/tf/lib/python3.10/site-packages/mysql/connector/__init__.py:273\u001b[0m, in \u001b[0;36mconnect\u001b[0;34m(*args, **kwargs)\u001b[0m\n\u001b[1;32m    271\u001b[0m \u001b[38;5;28;01mif\u001b[39;00m HAVE_CEXT \u001b[38;5;129;01mand\u001b[39;00m \u001b[38;5;129;01mnot\u001b[39;00m use_pure:\n\u001b[1;32m    272\u001b[0m     \u001b[38;5;28;01mreturn\u001b[39;00m CMySQLConnection(\u001b[38;5;241m*\u001b[39margs, \u001b[38;5;241m*\u001b[39m\u001b[38;5;241m*\u001b[39mkwargs)\n\u001b[0;32m--> 273\u001b[0m \u001b[38;5;28;01mreturn\u001b[39;00m \u001b[43mMySQLConnection\u001b[49m\u001b[43m(\u001b[49m\u001b[38;5;241;43m*\u001b[39;49m\u001b[43margs\u001b[49m\u001b[43m,\u001b[49m\u001b[43m \u001b[49m\u001b[38;5;241;43m*\u001b[39;49m\u001b[38;5;241;43m*\u001b[39;49m\u001b[43mkwargs\u001b[49m\u001b[43m)\u001b[49m\n",
      "File \u001b[0;32m~/opt/anaconda3/envs/tf/lib/python3.10/site-packages/mysql/connector/connection.py:116\u001b[0m, in \u001b[0;36mMySQLConnection.__init__\u001b[0;34m(self, *args, **kwargs)\u001b[0m\n\u001b[1;32m    114\u001b[0m \u001b[38;5;28;01mif\u001b[39;00m kwargs:\n\u001b[1;32m    115\u001b[0m     \u001b[38;5;28;01mtry\u001b[39;00m:\n\u001b[0;32m--> 116\u001b[0m         \u001b[38;5;28;43mself\u001b[39;49m\u001b[38;5;241;43m.\u001b[39;49m\u001b[43mconnect\u001b[49m\u001b[43m(\u001b[49m\u001b[38;5;241;43m*\u001b[39;49m\u001b[38;5;241;43m*\u001b[39;49m\u001b[43mkwargs\u001b[49m\u001b[43m)\u001b[49m\n\u001b[1;32m    117\u001b[0m     \u001b[38;5;28;01mexcept\u001b[39;00m:\n\u001b[1;32m    118\u001b[0m         \u001b[38;5;66;03m# Tidy-up underlying socket on failure\u001b[39;00m\n\u001b[1;32m    119\u001b[0m         \u001b[38;5;28mself\u001b[39m\u001b[38;5;241m.\u001b[39mclose()\n",
      "File \u001b[0;32m~/opt/anaconda3/envs/tf/lib/python3.10/site-packages/mysql/connector/abstracts.py:1052\u001b[0m, in \u001b[0;36mMySQLConnectionAbstract.connect\u001b[0;34m(self, **kwargs)\u001b[0m\n\u001b[1;32m   1049\u001b[0m     \u001b[38;5;28mself\u001b[39m\u001b[38;5;241m.\u001b[39mconfig(\u001b[38;5;241m*\u001b[39m\u001b[38;5;241m*\u001b[39mkwargs)\n\u001b[1;32m   1051\u001b[0m \u001b[38;5;28mself\u001b[39m\u001b[38;5;241m.\u001b[39mdisconnect()\n\u001b[0;32m-> 1052\u001b[0m \u001b[38;5;28;43mself\u001b[39;49m\u001b[38;5;241;43m.\u001b[39;49m\u001b[43m_open_connection\u001b[49m\u001b[43m(\u001b[49m\u001b[43m)\u001b[49m\n\u001b[1;32m   1053\u001b[0m \u001b[38;5;66;03m# Server does not allow to run any other statement different from ALTER\u001b[39;00m\n\u001b[1;32m   1054\u001b[0m \u001b[38;5;66;03m# when user's password has been expired.\u001b[39;00m\n\u001b[1;32m   1055\u001b[0m \u001b[38;5;28;01mif\u001b[39;00m \u001b[38;5;129;01mnot\u001b[39;00m \u001b[38;5;28mself\u001b[39m\u001b[38;5;241m.\u001b[39m_client_flags \u001b[38;5;241m&\u001b[39m ClientFlag\u001b[38;5;241m.\u001b[39mCAN_HANDLE_EXPIRED_PASSWORDS:\n",
      "File \u001b[0;32m~/opt/anaconda3/envs/tf/lib/python3.10/site-packages/mysql/connector/connection.py:494\u001b[0m, in \u001b[0;36mMySQLConnection._open_connection\u001b[0;34m(self)\u001b[0m\n\u001b[1;32m    492\u001b[0m \u001b[38;5;28mself\u001b[39m\u001b[38;5;241m.\u001b[39m_socket \u001b[38;5;241m=\u001b[39m \u001b[38;5;28mself\u001b[39m\u001b[38;5;241m.\u001b[39m_get_connection()\n\u001b[1;32m    493\u001b[0m \u001b[38;5;28;01mtry\u001b[39;00m:\n\u001b[0;32m--> 494\u001b[0m     \u001b[38;5;28;43mself\u001b[39;49m\u001b[38;5;241;43m.\u001b[39;49m\u001b[43m_socket\u001b[49m\u001b[38;5;241;43m.\u001b[39;49m\u001b[43mopen_connection\u001b[49m\u001b[43m(\u001b[49m\u001b[43m)\u001b[49m\n\u001b[1;32m    495\u001b[0m     \u001b[38;5;28mself\u001b[39m\u001b[38;5;241m.\u001b[39m_do_handshake()\n\u001b[1;32m    496\u001b[0m     \u001b[38;5;28mself\u001b[39m\u001b[38;5;241m.\u001b[39m_do_auth(\u001b[38;5;28mself\u001b[39m\u001b[38;5;241m.\u001b[39m_user, \u001b[38;5;28mself\u001b[39m\u001b[38;5;241m.\u001b[39m_password,\n\u001b[1;32m    497\u001b[0m                   \u001b[38;5;28mself\u001b[39m\u001b[38;5;241m.\u001b[39m_database, \u001b[38;5;28mself\u001b[39m\u001b[38;5;241m.\u001b[39m_client_flags, \u001b[38;5;28mself\u001b[39m\u001b[38;5;241m.\u001b[39m_charset_id,\n\u001b[1;32m    498\u001b[0m                   \u001b[38;5;28mself\u001b[39m\u001b[38;5;241m.\u001b[39m_ssl, \u001b[38;5;28mself\u001b[39m\u001b[38;5;241m.\u001b[39m_conn_attrs)\n",
      "File \u001b[0;32m~/opt/anaconda3/envs/tf/lib/python3.10/site-packages/mysql/connector/network.py:574\u001b[0m, in \u001b[0;36mMySQLTCPSocket.open_connection\u001b[0;34m(self)\u001b[0m\n\u001b[1;32m    572\u001b[0m     \u001b[38;5;28mself\u001b[39m\u001b[38;5;241m.\u001b[39msock \u001b[38;5;241m=\u001b[39m socket\u001b[38;5;241m.\u001b[39msocket(\u001b[38;5;28mself\u001b[39m\u001b[38;5;241m.\u001b[39m_family, socktype, proto)\n\u001b[1;32m    573\u001b[0m     \u001b[38;5;28mself\u001b[39m\u001b[38;5;241m.\u001b[39msock\u001b[38;5;241m.\u001b[39msettimeout(\u001b[38;5;28mself\u001b[39m\u001b[38;5;241m.\u001b[39m_connection_timeout)\n\u001b[0;32m--> 574\u001b[0m     \u001b[38;5;28;43mself\u001b[39;49m\u001b[38;5;241;43m.\u001b[39;49m\u001b[43msock\u001b[49m\u001b[38;5;241;43m.\u001b[39;49m\u001b[43mconnect\u001b[49m\u001b[43m(\u001b[49m\u001b[43msockaddr\u001b[49m\u001b[43m)\u001b[49m\n\u001b[1;32m    575\u001b[0m \u001b[38;5;28;01mexcept\u001b[39;00m \u001b[38;5;167;01mIOError\u001b[39;00m \u001b[38;5;28;01mas\u001b[39;00m err:\n\u001b[1;32m    576\u001b[0m     \u001b[38;5;28;01mraise\u001b[39;00m errors\u001b[38;5;241m.\u001b[39mInterfaceError(\n\u001b[1;32m    577\u001b[0m         errno\u001b[38;5;241m=\u001b[39m\u001b[38;5;241m2003\u001b[39m, values\u001b[38;5;241m=\u001b[39m(\n\u001b[1;32m    578\u001b[0m             \u001b[38;5;28mself\u001b[39m\u001b[38;5;241m.\u001b[39mserver_host,\n\u001b[0;32m   (...)\u001b[0m\n\u001b[1;32m    581\u001b[0m         )\n\u001b[1;32m    582\u001b[0m     )\n",
      "\u001b[0;31mKeyboardInterrupt\u001b[0m: "
     ]
    }
   ],
   "source": [
    "from NN_database import Database\n",
    "import pandas as pd\n",
    "db = Database()\n",
    "\n",
    "connection = db.create_db_connection(\"140.233.160.216\", \"agironda\", \"phys_research1\", \"mnist_db\")\n",
    "\n",
    "# select_all_query = \"SELECT * FROM mnist\"\n",
    "\n",
    "# results = db.read_query(connection,select_all_query)\n",
    "\n",
    "# from_db = []\n",
    "\n",
    "# for result in results:\n",
    "#     result = list(result)\n",
    "#     from_db.append(result)\n",
    "\n",
    "# columns = [\"nn_id\", \"hidden_units\", \"layers\", \"training_size\", \"learning_rate\",\n",
    "#             \"decay_lr\",\"dropout\",\"dropout_size\",\"epochs\",\"batch_size\",\"loss\",\n",
    "#             \"metrics\",\"activation\",\"convolutional\",\"accuracy\"]\n",
    "\n",
    "# df = pd.DataFrame(from_db, columns=columns)\n",
    "# df = df[df[\"layers\"]==3]\n",
    "\n",
    "# display(df)"
   ]
  },
  {
   "cell_type": "code",
   "execution_count": null,
   "id": "0577f343-46fd-495a-b330-dc82d0a76bcb",
   "metadata": {},
   "outputs": [],
   "source": []
  }
 ],
 "metadata": {
  "kernelspec": {
   "display_name": "Python 3 (ipykernel)",
   "language": "python",
   "name": "python3"
  },
  "language_info": {
   "codemirror_mode": {
    "name": "ipython",
    "version": 3
   },
   "file_extension": ".py",
   "mimetype": "text/x-python",
   "name": "python",
   "nbconvert_exporter": "python",
   "pygments_lexer": "ipython3",
   "version": "3.10.4"
  }
 },
 "nbformat": 4,
 "nbformat_minor": 5
}
