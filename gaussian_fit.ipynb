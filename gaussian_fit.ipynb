{
 "cells": [
  {
   "cell_type": "markdown",
   "id": "7a27fab4-7ec1-4e23-941c-58a00c880688",
   "metadata": {},
   "source": [
    "# Imports and Functions"
   ]
  },
  {
   "cell_type": "code",
   "execution_count": 2,
   "id": "8c25e1a6-e9e8-4331-8976-1e8511f4344f",
   "metadata": {},
   "outputs": [],
   "source": [
    "import os\n",
    "#only print error messages from tensorflow\n",
    "import tensorflow as tf\n",
    "import numpy as np\n",
    "import math\n",
    "import time\n",
    "import pickle\n",
    "import bz2\n",
    "import matplotlib.pyplot as plt\n",
    "from sklearn.preprocessing import MinMaxScaler,StandardScaler,MaxAbsScaler\n",
    "import copy\n",
    "from sklearn.metrics import mean_squared_error,mean_absolute_error\n",
    "import scipy.optimize as opt\n",
    "from itertools import chain"
   ]
  },
  {
   "cell_type": "code",
   "execution_count": 3,
   "id": "2180e454-e1d8-441b-91bd-26d01433dd3c",
   "metadata": {},
   "outputs": [],
   "source": [
    "#https://stackoverflow.com/questions/21566379/fitting-a-2d-gaussian-function-using-scipy-optimize-curve-fit-valueerror-and-m"
   ]
  },
  {
   "cell_type": "markdown",
   "id": "af68f855-0161-4e8b-89d7-ee959cb04c81",
   "metadata": {
    "jp-MarkdownHeadingCollapsed": true,
    "tags": []
   },
   "source": [
    "### Check Actual Data"
   ]
  },
  {
   "cell_type": "code",
   "execution_count": 91,
   "id": "8d922bc7-4370-4332-92d5-ba70a697ec9b",
   "metadata": {},
   "outputs": [
    {
     "name": "stdout",
     "output_type": "stream",
     "text": [
      "loading data...\n",
      "data loaded.\n"
     ]
    }
   ],
   "source": [
    " print(\"loading data...\")\n",
    "in_file = bz2.BZ2File(\"./generated_data/full_generated_data.bz2\",'rb')\n",
    "data = pickle.load(in_file)\n",
    "in_file.close()\n",
    "\n",
    "print(\"data loaded.\")\n",
    "\n",
    "x_train = np.asarray(data[0])\n",
    "y_train = np.asarray(data[1])\n",
    "x_test = np.asarray(data[2])\n",
    "y_test = np.asarray(data[3])"
   ]
  },
  {
   "cell_type": "code",
   "execution_count": 92,
   "id": "e2760c5a-f17e-457d-9196-537efb09a8a5",
   "metadata": {},
   "outputs": [],
   "source": [
    "indx = 4"
   ]
  },
  {
   "cell_type": "code",
   "execution_count": 93,
   "id": "0842e32e-c031-44d8-88e0-4ab61b8af739",
   "metadata": {},
   "outputs": [
    {
     "data": {
      "image/png": "[encoded data removed]",
      "text/plain": [
       "<Figure size 432x288 with 1 Axes>"
      ]
     },
     "metadata": {
      "needs_background": "light"
     },
     "output_type": "display_data"
    }
   ],
   "source": [
    "fig, ax = plt.subplots(1, 1)\n",
    "ax.imshow(x_train[indx].reshape(100, 100), cmap=plt.cm.jet, origin='lower')\n",
    "plt.show()"
   ]
  },
  {
   "cell_type": "code",
   "execution_count": 94,
   "id": "07121926-c2a3-453e-8078-bd83b5c9ae88",
   "metadata": {},
   "outputs": [
    {
     "data": {
      "text/plain": [
       "array([   92.71517578, 71718.81843113])"
      ]
     },
     "execution_count": 94,
     "metadata": {},
     "output_type": "execute_result"
    }
   ],
   "source": [
    "y_train[indx]"
   ]
  },
  {
   "cell_type": "code",
   "execution_count": 95,
   "id": "c2113ef8-9984-4f64-bb02-9b5427328d84",
   "metadata": {},
   "outputs": [
    {
     "data": {
      "text/plain": [
       "<matplotlib.legend.Legend at 0x2a40c4460>"
      ]
     },
     "execution_count": 95,
     "metadata": {},
     "output_type": "execute_result"
    },
    {
     "data": {
      "image/png": "[encoded data removed]",
      "text/plain": [
       "<Figure size 432x288 with 1 Axes>"
      ]
     },
     "metadata": {
      "needs_background": "light"
     },
     "output_type": "display_data"
    }
   ],
   "source": [
    "x = np.linspace(-49, 50, 100)\n",
    "y = np.linspace(-49, 50, 100)\n",
    "x, y = np.meshgrid(x, y)\n",
    "length = 100\n",
    "\n",
    "analytical_for_x_train_im = analytical_eq((x,y),0,0,y_train[indx][1],y_train[indx][0])\n",
    "analytical_for_x_train_im = np.reshape(analytical_for_x_train_im,(length,length))\n",
    "\n",
    "plt.plot(np.arange(len(x_train[indx])),x_train[indx,row],label = \"x_train\")\n",
    "plt.plot(np.arange(len(x_train[indx])),analytical_for_x_train_im[row],label = \"analytical\")\n",
    "plt.legend()"
   ]
  },
  {
   "cell_type": "code",
   "execution_count": null,
   "id": "e484755a-f18a-423b-89ed-a47fc116ba70",
   "metadata": {},
   "outputs": [],
   "source": [
    "# temp mse: 10.220974809607364\n",
    "# atoms mse: 235086.60269962501\n",
    "# temp rmse: 3.197025931957288\n",
    "# atoms rmse: 484.8573013780704\n",
    "# temp mae: 2.272125123170204\n",
    "# atoms mae: 267.91944761821696"
   ]
  },
  {
   "cell_type": "markdown",
   "id": "ed2d4a75-eb13-4393-bedd-974d032f1493",
   "metadata": {},
   "source": [
    "### Functions"
   ]
  },
  {
   "cell_type": "code",
   "execution_count": 62,
   "id": "ec1b32db-e98c-43bb-8d34-09ccf9a53c5f",
   "metadata": {},
   "outputs": [],
   "source": [
    "def analytical_eq(xy,xo,yo,No,T):   \n",
    "    x, y = xy\n",
    "    \n",
    "    Nex = 100000-No\n",
    "    \n",
    "    out = (No/math.pi)*np.exp(-(x-xo)**2)*np.exp(-(y-yo)**2) + (Nex/(2*math.pi*T))*np.exp((-(x-xo)**2)/(2*T))*np.exp((-(y-yo)**2)/(2*T))\n",
    "    # out = (Nex/(2*math.pi*T))*np.exp((-(x-xo)**2)/(2*T))*np.exp((-(y-yo)**2)/(2*T))\n",
    "\n",
    "    # out = (out - np.min(out)) / np.max(out)\n",
    "    return out.ravel()"
   ]
  },
  {
   "cell_type": "code",
   "execution_count": 5,
   "id": "43f55044-46ef-4910-a04a-b7ab2114f4a9",
   "metadata": {},
   "outputs": [],
   "source": [
    "num_atoms = 100000\n",
    "length = 100\n",
    "dimensions = 2\n",
    "        \n",
    "        \n",
    "def generate_image(length,num_atoms,dimensions,temp):\n",
    "    '''\n",
    "    generate image using sampling\n",
    "    '''\n",
    "\n",
    "    x_list = []\n",
    "    y_list = []\n",
    "    \n",
    "    trans_temp = (num_atoms/(2*1*1.645))**(1/dimensions)\n",
    "    # temp = np.random.uniform(trans_temp//2,int(trans_temp*2))  \n",
    "    temp_ratio = temp/trans_temp\n",
    "\n",
    "    num_BEC_atoms = 0\n",
    "    if temp < trans_temp:\n",
    "        num_BEC_atoms = num_atoms*(1-(temp/trans_temp)**dimensions)\n",
    "        \n",
    "    count = 0\n",
    "    \n",
    "    for i in range(num_atoms):\n",
    "        probability = np.random.rand()\n",
    "        if temp_ratio >1 :\n",
    "            temp_ratio = 1\n",
    "        BEC_probability = (1-(temp_ratio)**dimensions)\n",
    "        if probability <= BEC_probability:\n",
    "            count += 1\n",
    "            x_list.append(np.random.normal(0,math.sqrt(1/2)))\n",
    "            y_list.append(np.random.normal(0,math.sqrt(1/2)))\n",
    "\n",
    "        else:\n",
    "            x_list.append(np.random.normal(0,math.sqrt(temp)))\n",
    "            y_list.append(np.random.normal(0,math.sqrt(temp)))\n",
    "\n",
    "\n",
    "\n",
    "    hist = np.histogram2d(x_list,y_list,length,range = [(-49,50),(-49,50)])[0]\n",
    "    hist = hist.tolist()\n",
    "    return hist,temp,num_BEC_atoms,count"
   ]
  },
  {
   "cell_type": "markdown",
   "id": "ecc464e0-e817-4f30-a9c6-b4a7803cd175",
   "metadata": {
    "jp-MarkdownHeadingCollapsed": true,
    "tags": []
   },
   "source": [
    "### Low Temp"
   ]
  },
  {
   "cell_type": "code",
   "execution_count": 59,
   "id": "95c7af6b-27d8-4754-a066-799f0cbcad7e",
   "metadata": {},
   "outputs": [],
   "source": [
    "test_im_count = 100\n",
    "test_ims = []\n",
    "labs = []\n",
    "\n",
    "temp = 50\n",
    "\n",
    "\n",
    "for i in range(test_im_count):\n",
    "    curr_im, t, n, count = generate_image(length,num_atoms,dimensions,temp)\n",
    "    \n",
    "    test_ims.append(np.asarray(curr_im))\n",
    "    labs.append((t,n,count))\n",
    "\n",
    "test_ims = np.stack(test_ims)\n",
    "labs = np.stack(labs)"
   ]
  },
  {
   "cell_type": "code",
   "execution_count": 60,
   "id": "6a00714e-fb88-4125-b00f-e4d34c013b0f",
   "metadata": {},
   "outputs": [],
   "source": [
    "mean_test_im = np.mean(test_ims,axis = 0)"
   ]
  },
  {
   "cell_type": "code",
   "execution_count": 66,
   "id": "a8bbc04d-f0f0-4313-a37d-540d960e8105",
   "metadata": {},
   "outputs": [],
   "source": [
    "std_err = np.std(test_ims,axis = 0)/np.sqrt(test_im_count)"
   ]
  },
  {
   "cell_type": "code",
   "execution_count": 67,
   "id": "235deaf3-6226-496d-abc8-72f9107f125e",
   "metadata": {},
   "outputs": [],
   "source": [
    "num_atoms = 100000\n",
    "dimensions = 2\n",
    "\n",
    "x = np.linspace(-49, 50, 100)\n",
    "y = np.linspace(-49, 50, 100)\n",
    "x, y = np.meshgrid(x, y)\n",
    "\n",
    "\n",
    "trans_temp = (num_atoms/(2*1*1.645))**(1/dimensions)\n",
    "num_BEC_atoms = 0\n",
    "if temp < trans_temp:\n",
    "    num_BEC_atoms = num_atoms*(1-(temp/trans_temp)**dimensions)\n",
    "\n",
    "analytical = analytical_eq((x,y),0,0,num_BEC_atoms,temp)"
   ]
  },
  {
   "cell_type": "code",
   "execution_count": 68,
   "id": "c1091a8e-e875-4a02-a6ac-c8966235e93c",
   "metadata": {},
   "outputs": [],
   "source": [
    "analytical = np.reshape(analytical,(length,length))"
   ]
  },
  {
   "cell_type": "code",
   "execution_count": 69,
   "id": "dd8b728f-3897-4b49-a697-33f65db326fc",
   "metadata": {},
   "outputs": [
    {
     "data": {
      "text/plain": [
       "Text(0.5, 1.0, 'Low Temp')"
      ]
     },
     "execution_count": 69,
     "metadata": {},
     "output_type": "execute_result"
    },
    {
     "data": {
      "image/png": "[encoded data removed]",
      "text/plain": [
       "<Figure size 432x288 with 1 Axes>"
      ]
     },
     "metadata": {
      "needs_background": "light"
     },
     "output_type": "display_data"
    }
   ],
   "source": [
    "#mean gaussian\n",
    "\n",
    "row = 50\n",
    "\n",
    "plt.plot(np.arange(len(mean_test_im[0])),mean_test_im[row],label = \"mean\")\n",
    "plt.errorbar(np.arange(len(mean_test_im[0])),mean_test_im[row],yerr = std_err[row])\n",
    "plt.plot(np.arange(len(mean_test_im[0])),analytical[row],label = \"analytical\")\n",
    "plt.legend()\n",
    "plt.title(\"Low Temp\")"
   ]
  },
  {
   "cell_type": "markdown",
   "id": "aae4db30-1307-469c-92e8-4dce2e9a55c5",
   "metadata": {
    "jp-MarkdownHeadingCollapsed": true,
    "tags": []
   },
   "source": [
    "### Medium Temp"
   ]
  },
  {
   "cell_type": "code",
   "execution_count": 12,
   "id": "9f57e08b-7c00-4568-8494-dbf8e20c1c69",
   "metadata": {},
   "outputs": [],
   "source": [
    "test_im_count = 100\n",
    "test_ims = []\n",
    "labs = []\n",
    "\n",
    "temp = 170\n",
    "\n",
    "\n",
    "for i in range(test_im_count):\n",
    "    curr_im, t, n, count = generate_image(length,num_atoms,dimensions,temp)\n",
    "    \n",
    "    test_ims.append(np.asarray(curr_im))\n",
    "    labs.append((t,n,count))\n",
    "\n",
    "test_ims = np.stack(test_ims)\n",
    "labs = np.stack(labs)"
   ]
  },
  {
   "cell_type": "code",
   "execution_count": 13,
   "id": "e5fb273d-eaed-4d35-a081-7f1d72f02898",
   "metadata": {},
   "outputs": [],
   "source": [
    "mean_test_im = np.mean(test_ims,axis = 0)"
   ]
  },
  {
   "cell_type": "code",
   "execution_count": 14,
   "id": "1d7921d3-3d46-4a7e-873d-9dc20c426d52",
   "metadata": {},
   "outputs": [],
   "source": [
    "std_err = np.std(test_ims,axis = 0)/np.sqrt(test_im_count)"
   ]
  },
  {
   "cell_type": "code",
   "execution_count": 15,
   "id": "85f9fa89-930a-4547-b7ef-1afffe98092a",
   "metadata": {},
   "outputs": [],
   "source": [
    "num_atoms = 100000\n",
    "dimensions = 2\n",
    "\n",
    "x = np.linspace(-49, 50, 100)\n",
    "y = np.linspace(-49, 50, 100)\n",
    "x, y = np.meshgrid(x, y)\n",
    "\n",
    "\n",
    "trans_temp = (num_atoms/(2*1*1.645))**(1/dimensions)\n",
    "num_BEC_atoms = 0\n",
    "if temp < trans_temp:\n",
    "    num_BEC_atoms = num_atoms*(1-(temp/trans_temp)**dimensions)\n",
    "\n",
    "analytical = analytical_eq((x,y),0,0,num_BEC_atoms,temp)"
   ]
  },
  {
   "cell_type": "code",
   "execution_count": 16,
   "id": "9495d788-3113-49ce-bd24-f09c570e68ad",
   "metadata": {},
   "outputs": [],
   "source": [
    "analytical = np.reshape(analytical,(length,length))"
   ]
  },
  {
   "cell_type": "code",
   "execution_count": 17,
   "id": "161d2c0a-59a9-425c-a108-a494d5f63c4b",
   "metadata": {},
   "outputs": [
    {
     "data": {
      "text/plain": [
       "<matplotlib.legend.Legend at 0x16c6e2d40>"
      ]
     },
     "execution_count": 17,
     "metadata": {},
     "output_type": "execute_result"
    },
    {
     "data": {
      "image/png": "[encoded data removed]",
      "text/plain": [
       "<Figure size 432x288 with 1 Axes>"
      ]
     },
     "metadata": {
      "needs_background": "light"
     },
     "output_type": "display_data"
    }
   ],
   "source": [
    "#mean gaussian\n",
    "\n",
    "row = 50\n",
    "\n",
    "plt.plot(np.arange(len(mean_test_im[0])),mean_test_im[row],label = \"mean\")\n",
    "plt.errorbar(np.arange(len(mean_test_im[0])),mean_test_im[row],yerr = std_err[row])\n",
    "plt.plot(np.arange(len(mean_test_im[0])),analytical[row],label = \"analytical\")\n",
    "plt.title(\"Medium Temp\")\n",
    "plt.legend()"
   ]
  },
  {
   "cell_type": "markdown",
   "id": "6199a1e2-5d62-42f2-9805-30be18e3dcc8",
   "metadata": {
    "jp-MarkdownHeadingCollapsed": true,
    "tags": []
   },
   "source": [
    "### High temp"
   ]
  },
  {
   "cell_type": "code",
   "execution_count": 77,
   "id": "0fbc5c97-929f-4d7c-a82f-3c19840ccf76",
   "metadata": {},
   "outputs": [],
   "source": [
    "test_im_count = 100\n",
    "test_ims = []\n",
    "labs = []\n",
    "\n",
    "temp = 200\n",
    "\n",
    "\n",
    "for i in range(test_im_count):\n",
    "    curr_im, t, n, count = generate_image(length,num_atoms,dimensions,temp)\n",
    "    \n",
    "    test_ims.append(np.asarray(curr_im))\n",
    "    labs.append((t,n,count))\n",
    "\n",
    "test_ims = np.stack(test_ims)\n",
    "labs = np.stack(labs)"
   ]
  },
  {
   "cell_type": "code",
   "execution_count": 78,
   "id": "3b4f9d82-0f4c-40e7-bef4-04e658333ec7",
   "metadata": {},
   "outputs": [],
   "source": [
    "mean_test_im = np.mean(test_ims,axis = 0)"
   ]
  },
  {
   "cell_type": "code",
   "execution_count": 79,
   "id": "c39ab6f5-1b1e-454f-8f7a-1d5b6abf2ae0",
   "metadata": {
    "tags": []
   },
   "outputs": [],
   "source": [
    "std_err = np.std(test_ims,axis = 0)/np.sqrt(test_im_count)"
   ]
  },
  {
   "cell_type": "code",
   "execution_count": 80,
   "id": "c6be9325-2ab4-4569-8b01-744142c8cf45",
   "metadata": {},
   "outputs": [],
   "source": [
    "num_atoms = 100000\n",
    "dimensions = 2\n",
    "\n",
    "x = np.linspace(-49, 50, 100)\n",
    "y = np.linspace(-49, 50, 100)\n",
    "x, y = np.meshgrid(x, y)\n",
    "\n",
    "\n",
    "trans_temp = (num_atoms/(2*1*1.645))**(1/dimensions)\n",
    "num_BEC_atoms = 0\n",
    "if temp < trans_temp:\n",
    "    num_BEC_atoms = num_atoms*(1-(temp/trans_temp)**dimensions)\n",
    "\n",
    "analytical = analytical_eq((x,y),0,0,num_BEC_atoms,temp)"
   ]
  },
  {
   "cell_type": "code",
   "execution_count": 81,
   "id": "9c8c32dd-6a85-4b54-9d6a-10c7e8f22536",
   "metadata": {},
   "outputs": [],
   "source": [
    "analytical = np.reshape(analytical,(length,length))"
   ]
  },
  {
   "cell_type": "code",
   "execution_count": 83,
   "id": "a9e16161-1f8f-412c-9f98-25ca57891816",
   "metadata": {},
   "outputs": [
    {
     "data": {
      "text/plain": [
       "<matplotlib.legend.Legend at 0x2a74db9d0>"
      ]
     },
     "execution_count": 83,
     "metadata": {},
     "output_type": "execute_result"
    },
    {
     "data": {
      "image/png": "[encoded data removed]",
      "text/plain": [
       "<Figure size 432x288 with 1 Axes>"
      ]
     },
     "metadata": {
      "needs_background": "light"
     },
     "output_type": "display_data"
    }
   ],
   "source": [
    "#mean gaussian\n",
    "\n",
    "row = 50\n",
    "\n",
    "plt.plot(np.arange(len(mean_test_im[0])),mean_test_im[row],label = \"mean\")\n",
    "plt.errorbar(np.arange(len(mean_test_im[0])),mean_test_im[row],yerr = std_err[row])\n",
    "plt.plot(np.arange(len(mean_test_im[0])),analytical[row],label = \"analytical\")\n",
    "plt.title(\"High Temp\")\n",
    "plt.legend()"
   ]
  },
  {
   "cell_type": "markdown",
   "id": "98149ea5-0b94-4165-a477-aac73f5e6b78",
   "metadata": {
    "jp-MarkdownHeadingCollapsed": true,
    "tags": []
   },
   "source": [
    "# Checking Variances"
   ]
  },
  {
   "cell_type": "markdown",
   "id": "bc05f555-d686-4928-85e0-1d190b622731",
   "metadata": {},
   "source": [
    "If you want to run these cells to make sure that the variance of the Gaussians these functions produce are correct, you need to change the generate image function so that it only produces images with one temperature."
   ]
  },
  {
   "cell_type": "code",
   "execution_count": null,
   "id": "0b469399-e73b-4282-b203-695659ecac30",
   "metadata": {},
   "outputs": [],
   "source": [
    "test_ims.shape"
   ]
  },
  {
   "cell_type": "code",
   "execution_count": null,
   "id": "ec93fc28-c9fd-44fd-909d-ce9199e78de5",
   "metadata": {},
   "outputs": [],
   "source": [
    "mean_test_im = np.mean(test_ims,axis = 0)"
   ]
  },
  {
   "cell_type": "code",
   "execution_count": null,
   "id": "db863cfe-b074-4e28-92a7-b3b947d1b0de",
   "metadata": {},
   "outputs": [],
   "source": [
    "summ_all_mean = np.sum(mean_test_im)\n",
    "summ_all_mean"
   ]
  },
  {
   "cell_type": "code",
   "execution_count": null,
   "id": "87b7fd62-b93c-4cf9-8d17-1823db875c65",
   "metadata": {},
   "outputs": [],
   "source": [
    "pxy = mean_test_im/summ_all_mean\n",
    "px = np.sum(pxy,axis = 1)\n",
    "res = px * np.linspace(-49, 50, 100)\n",
    "expected_val_x = np.sum(res)\n",
    "expected_val_x2 = np.sum(px * np.linspace(-49, 50, 100) ** 2)"
   ]
  },
  {
   "cell_type": "code",
   "execution_count": null,
   "id": "a7887003-58b2-4ae9-9bb5-07066e78636d",
   "metadata": {},
   "outputs": [],
   "source": [
    "np.sum(px)"
   ]
  },
  {
   "cell_type": "code",
   "execution_count": null,
   "id": "cd13194b-d1aa-4fcf-810d-66faecd97957",
   "metadata": {},
   "outputs": [],
   "source": [
    "expected_val_x"
   ]
  },
  {
   "cell_type": "code",
   "execution_count": null,
   "id": "a5bb90aa-4f49-4a85-99a1-9d70a6fecfb0",
   "metadata": {},
   "outputs": [],
   "source": [
    "expected_val_x2"
   ]
  },
  {
   "cell_type": "code",
   "execution_count": null,
   "id": "7c487dc5-ee98-4cda-b773-992b9ae4cc19",
   "metadata": {},
   "outputs": [],
   "source": [
    "var_sampling = expected_val_x2 - expected_val_x**2"
   ]
  },
  {
   "cell_type": "code",
   "execution_count": null,
   "id": "42987690-28ee-4c27-97b0-2e9914eef481",
   "metadata": {},
   "outputs": [],
   "source": [
    "num_atoms = 100000\n",
    "dimensions = 2\n",
    "# temp = 300\n",
    "\n",
    "trans_temp = (num_atoms/(2*1*1.645))**(1/dimensions)\n",
    "num_BEC_atoms = num_atoms*(1-(temp/trans_temp)**dimensions)\n",
    "\n",
    "actual = analytical_eq((x,y),0,0,num_BEC_atoms,temp)"
   ]
  },
  {
   "cell_type": "code",
   "execution_count": null,
   "id": "04fcc355-eddb-43e5-a8d6-cca68ca6fa43",
   "metadata": {},
   "outputs": [],
   "source": [
    "summ_actual = np.sum(actual)\n",
    "summ_actual"
   ]
  },
  {
   "cell_type": "code",
   "execution_count": null,
   "id": "c5cfcf39-a83b-43a5-b2c2-ae38e44e59ec",
   "metadata": {},
   "outputs": [],
   "source": [
    "pxy_actual = actual/summ_actual\n",
    "px_actual = np.sum(pxy_actual,axis = 1)\n",
    "res = px_actual * np.linspace(-49, 50, 100)\n",
    "expected_val_x_actual = np.sum(res)\n",
    "expected_val_x2_actual = np.sum(px_actual * np.linspace(-49, 50, 100) ** 2)"
   ]
  },
  {
   "cell_type": "code",
   "execution_count": null,
   "id": "8b85687f-048c-4a6c-9208-4f29e3b82747",
   "metadata": {},
   "outputs": [],
   "source": [
    "expected_val_x_actual"
   ]
  },
  {
   "cell_type": "code",
   "execution_count": null,
   "id": "a3a4ccdb-4711-4ca1-aea1-6d04e7900e27",
   "metadata": {},
   "outputs": [],
   "source": [
    "expected_val_x2_actual"
   ]
  },
  {
   "cell_type": "code",
   "execution_count": null,
   "id": "d9df5ec5-a982-4927-a6d6-66e72d513636",
   "metadata": {},
   "outputs": [],
   "source": [
    "var_actual = expected_val_x2_actual - expected_val_x_actual**2\n",
    "var_actual"
   ]
  },
  {
   "cell_type": "code",
   "execution_count": null,
   "id": "2ac22dc6-5b19-4ea8-adc3-766065d87033",
   "metadata": {},
   "outputs": [],
   "source": [
    "# length = 100\n",
    "# actual = np.reshape(actual,(length,length))\n",
    "# actual.shape"
   ]
  },
  {
   "cell_type": "code",
   "execution_count": null,
   "id": "2249185c-31d7-4cdc-b2a4-72462c001381",
   "metadata": {},
   "outputs": [],
   "source": [
    "print(var_sampling,var_actual)"
   ]
  },
  {
   "cell_type": "code",
   "execution_count": 395,
   "id": "4ab791b5-630e-4932-8659-0e11c437c6be",
   "metadata": {},
   "outputs": [
    {
     "data": {
      "text/plain": [
       "<matplotlib.legend.Legend at 0x29a9ddba0>"
      ]
     },
     "execution_count": 395,
     "metadata": {},
     "output_type": "execute_result"
    },
    {
     "data": {
      "image/png": "[encoded data removed]",
      "text/plain": [
       "<Figure size 432x288 with 1 Axes>"
      ]
     },
     "metadata": {
      "needs_background": "light"
     },
     "output_type": "display_data"
    }
   ],
   "source": [
    "#mean gaussian\n",
    "\n",
    "row = 50\n",
    "\n",
    "plt.plot(np.arange(len(mean_test_im[0])),mean_test_im[row],label = \"mean\")\n",
    "# plt.errorbar(np.arange(len(mean_test_im[0])),mean_test_im[row],yerr = std_err[row])\n",
    "plt.plot(np.arange(len(mean_test_im[0])),actual[row],label = \"analytical\")\n",
    "plt.legend()"
   ]
  },
  {
   "cell_type": "markdown",
   "id": "2af3547e-7ac6-4e44-845e-02ecd60adda8",
   "metadata": {},
   "source": [
    "# Curve Fitting"
   ]
  },
  {
   "cell_type": "code",
   "execution_count": 73,
   "id": "2efd6e4e-4234-41a7-b751-4f9aacd41738",
   "metadata": {},
   "outputs": [
    {
     "name": "stdout",
     "output_type": "stream",
     "text": [
      "loading data...\n",
      "data loaded.\n"
     ]
    }
   ],
   "source": [
    "#reload data\n",
    "\n",
    "print(\"loading data...\")\n",
    "in_file = bz2.BZ2File(\"./generated_data/full_generated_data.bz2\",'rb')\n",
    "data = pickle.load(in_file)\n",
    "in_file.close()\n",
    "\n",
    "print(\"data loaded.\")\n",
    "\n",
    "x_train = np.asarray(data[0])\n",
    "y_train = np.asarray(data[1])\n",
    "x_test = np.asarray(data[2])\n",
    "y_test = np.asarray(data[3])"
   ]
  },
  {
   "cell_type": "code",
   "execution_count": 74,
   "id": "5866ce66-f709-4220-aa86-bd1ff19ab302",
   "metadata": {},
   "outputs": [],
   "source": [
    "x = np.linspace(-49, 50, 100)\n",
    "y = np.linspace(-49, 50, 100)\n",
    "x, y = np.meshgrid(x, y)\n",
    "\n",
    "initial_guess = (0,0,100000,100)\n",
    "preds = []\n",
    "origins = []\n",
    "for i,im in enumerate(x_test):\n",
    "    popt, _ = opt.curve_fit(analytical_eq, (x, y), im.ravel(), p0=initial_guess,maxfev = 5000)\n",
    "    xo,yo = popt[:2]\n",
    "    pred_No = popt[2]\n",
    "    pred_T = popt[3]\n",
    "    if pred_No < 0:\n",
    "        pred_No = 0\n",
    "    if pred_T < 0:\n",
    "        pred_T = 0\n",
    "    preds.append((pred_T,pred_No))\n",
    "    origins.append((xo,yo))\n",
    "        \n",
    "preds = np.asarray(preds)"
   ]
  },
  {
   "cell_type": "code",
   "execution_count": 75,
   "id": "36b0468a-64bd-4b35-9794-ab8222050300",
   "metadata": {},
   "outputs": [],
   "source": [
    "x_scaler = MinMaxScaler(feature_range = (0,1))\n",
    "\n",
    "tmp_x_test = copy.copy(x_test)\n",
    "\n",
    "x_train = [x_scaler.fit_transform(x_train[i]) for i in range(len(x_train))]\n",
    "x_test = [x_scaler.fit_transform(x_test[i]) for i in range(len(x_test))]\n",
    "\n",
    "tmp_y_test = copy.copy(y_test)\n",
    "\n",
    "#scale labels to be between 0 and 1\n",
    "y_scaler = MinMaxScaler(feature_range = (0,1))\n",
    "y_train = y_scaler.fit_transform(y_train)\n",
    "y_test = y_scaler.fit_transform(y_test)\n",
    "\n",
    "\n",
    "\n",
    "ml_model = tf.keras.models.load_model('../../big_models/BEC_model_conv')"
   ]
  },
  {
   "cell_type": "code",
   "execution_count": 76,
   "id": "d4b676d4-c900-417e-a953-eb72b7fa6722",
   "metadata": {},
   "outputs": [],
   "source": [
    "x_train = np.asarray(x_train)\n",
    "x_test = np.asarray(x_test)\n",
    "\n",
    "y_train = np.asarray(y_train)\n",
    "y_test = np.asarray(y_test)"
   ]
  },
  {
   "cell_type": "code",
   "execution_count": 77,
   "id": "62e99c28-cd09-4193-b345-6dfbad611120",
   "metadata": {},
   "outputs": [
    {
     "data": {
      "text/plain": [
       "(4000, 100, 100)"
      ]
     },
     "execution_count": 77,
     "metadata": {},
     "output_type": "execute_result"
    }
   ],
   "source": [
    "x_test.shape"
   ]
  },
  {
   "cell_type": "code",
   "execution_count": 78,
   "id": "f8053ef3-7569-4e80-aab7-adeb37f66a52",
   "metadata": {},
   "outputs": [
    {
     "name": "stdout",
     "output_type": "stream",
     "text": [
      " 13/125 [==>...........................] - ETA: 1s"
     ]
    },
    {
     "name": "stderr",
     "output_type": "stream",
     "text": [
      "2023-03-13 14:03:10.725702: I tensorflow/core/grappler/optimizers/custom_graph_optimizer_registry.cc:113] Plugin optimizer for device_type GPU is enabled.\n"
     ]
    },
    {
     "name": "stdout",
     "output_type": "stream",
     "text": [
      "125/125 [==============================] - 1s 8ms/step\n"
     ]
    }
   ],
   "source": [
    "ml_preds = ml_model.predict(x_test)\n",
    "ml_preds = y_scaler.inverse_transform(ml_preds)"
   ]
  },
  {
   "cell_type": "code",
   "execution_count": 79,
   "id": "dc5ff2e0-9bd2-4a29-9b62-f3426b65c5e3",
   "metadata": {},
   "outputs": [],
   "source": [
    "# for i,im in enumerate(tmp_y_test):\n",
    "#     if im[0] < 100:\n",
    "#         print(i)\n"
   ]
  },
  {
   "cell_type": "code",
   "execution_count": 80,
   "id": "5114cfb2-ad0a-4058-9236-23f81e356d45",
   "metadata": {},
   "outputs": [
    {
     "data": {
      "image/png": "[encoded data removed]",
      "text/plain": [
       "<Figure size 432x288 with 1 Axes>"
      ]
     },
     "metadata": {
      "needs_background": "light"
     },
     "output_type": "display_data"
    }
   ],
   "source": [
    "check_indx = 9\n",
    "\n",
    "data_fitted = analytical_eq((x, y), *origins[check_indx],*preds[check_indx][::-1])\n",
    "\n",
    "fig, ax = plt.subplots(1, 1)\n",
    "ax.imshow(tmp_x_test[check_indx].reshape(100, 100), cmap=plt.cm.jet, origin='lower',\n",
    "    extent=(x.min(), x.max(), y.min(), y.max()))\n",
    "# ax.contour(x, y, data_fitted.reshape(100, 100),10, colors='w')\n",
    "plt.show()"
   ]
  },
  {
   "cell_type": "code",
   "execution_count": 84,
   "id": "a513a72e-255c-477a-af0e-f9765dd0844e",
   "metadata": {},
   "outputs": [
    {
     "data": {
      "text/plain": [
       "<matplotlib.legend.Legend at 0x3ca616590>"
      ]
     },
     "execution_count": 84,
     "metadata": {},
     "output_type": "execute_result"
    },
    {
     "data": {
      "image/png": "[encoded data removed]",
      "text/plain": [
       "<Figure size 432x288 with 1 Axes>"
      ]
     },
     "metadata": {
      "needs_background": "light"
     },
     "output_type": "display_data"
    }
   ],
   "source": [
    "check = data_fitted.reshape(100,100)\n",
    "row = 47\n",
    "\n",
    "# analytical solution used curve fitting for origin\n",
    "\n",
    "analytical_soln = analytical_eq((x,y),*origins[check_indx],*tmp_y_test[check_indx][::-1])\n",
    "analytical_soln_im = np.reshape(analytical_soln,(length,length))\n",
    "fit_im = analytical_eq((x, y), *origins[check_indx],*preds[check_indx][::-1])\n",
    "fit_im = np.reshape(fit_im,(length,length))\n",
    "ml_im = analytical_eq((x, y), *origins[check_indx],*ml_preds[check_indx][::-1])\n",
    "ml_im = np.reshape(ml_im,(length,length))\n",
    "\n",
    "plt.plot(np.arange(len(check[0])),fit_im[row],label = \"fit\")\n",
    "plt.plot(np.arange(len(check[0])),tmp_x_test[check_indx,row],label = \"noisy\")\n",
    "plt.plot(np.arange(len(check[0])),analytical_soln_im[row],label = \"analytical\")\n",
    "# plt.plot(np.arange(len(check[0])),ml_im[row],label = \"ml\")\n",
    "plt.legend()"
   ]
  },
  {
   "cell_type": "code",
   "execution_count": 82,
   "id": "c5097a74-fb2c-433c-8d01-18cc411ef6b8",
   "metadata": {},
   "outputs": [
    {
     "data": {
      "text/plain": [
       "array([3.63461533e+01, 6.38105215e+04])"
      ]
     },
     "execution_count": 82,
     "metadata": {},
     "output_type": "execute_result"
    }
   ],
   "source": [
    "preds[check_indx]"
   ]
  },
  {
   "cell_type": "code",
   "execution_count": 83,
   "id": "8c93f663-85c7-4e48-88c7-0d2824272777",
   "metadata": {},
   "outputs": [
    {
     "data": {
      "text/plain": [
       "array([   93.65594371, 71141.97624607])"
      ]
     },
     "execution_count": 83,
     "metadata": {},
     "output_type": "execute_result"
    }
   ],
   "source": [
    "tmp_y_test[check_indx]"
   ]
  },
  {
   "cell_type": "code",
   "execution_count": 49,
   "id": "4159c236-9dd3-49c3-a640-593f0908d5b9",
   "metadata": {},
   "outputs": [
    {
     "data": {
      "text/plain": [
       "array([   93.55852, 71083.49   ], dtype=float32)"
      ]
     },
     "execution_count": 57,
     "metadata": {},
     "output_type": "execute_result"
    }
   ],
   "source": [
    "ml_preds[check_indx]"
   ]
  },
  {
   "cell_type": "code",
   "execution_count": 17,
   "id": "8eb0ff27-09bc-46f4-87da-96e355805f7b",
   "metadata": {},
   "outputs": [
    {
     "data": {
      "text/plain": [
       "20.168541264344764"
      ]
     },
     "execution_count": 17,
     "metadata": {},
     "output_type": "execute_result"
    }
   ],
   "source": [
    "fit_T_rmse = mean_squared_error(preds[:,0],tmp_y_test[:,0],squared = False)\n",
    "fit_T_rmse"
   ]
  },
  {
   "cell_type": "code",
   "execution_count": 18,
   "id": "4f1154fb-36c7-4d90-bb7b-02e8ccd3e84c",
   "metadata": {},
   "outputs": [
    {
     "data": {
      "text/plain": [
       "2827.408005559926"
      ]
     },
     "execution_count": 18,
     "metadata": {},
     "output_type": "execute_result"
    }
   ],
   "source": [
    "fit_N_rmse = mean_squared_error(preds[:,1],tmp_y_test[:,1],squared = False)\n",
    "fit_N_rmse"
   ]
  },
  {
   "cell_type": "code",
   "execution_count": 19,
   "id": "42a2db92-e2da-46ce-b4a5-2a0304829c77",
   "metadata": {},
   "outputs": [
    {
     "data": {
      "text/plain": [
       "0.2520388658002403"
      ]
     },
     "execution_count": 19,
     "metadata": {},
     "output_type": "execute_result"
    }
   ],
   "source": [
    "ml_T_rmse = mean_squared_error(ml_preds[:,0],tmp_y_test[:,0],squared = False)\n",
    "ml_T_rmse"
   ]
  },
  {
   "cell_type": "code",
   "execution_count": 20,
   "id": "ea94314e-d2da-4e88-9929-3733f2e9e881",
   "metadata": {},
   "outputs": [
    {
     "data": {
      "text/plain": [
       "57.79771140746977"
      ]
     },
     "execution_count": 20,
     "metadata": {},
     "output_type": "execute_result"
    }
   ],
   "source": [
    "ml_N_rmse = mean_squared_error(ml_preds[:,1],tmp_y_test[:,1],squared = False)\n",
    "ml_N_rmse"
   ]
  },
  {
   "cell_type": "markdown",
   "id": "98721dea-a005-43d0-8e08-e494cca8a194",
   "metadata": {},
   "source": [
    "### Checking Residuals"
   ]
  },
  {
   "cell_type": "code",
   "execution_count": 21,
   "id": "0a562ee6-150c-4a53-a08c-08d570afd582",
   "metadata": {},
   "outputs": [],
   "source": [
    "#maybe break up resiudal graphs into based on temp"
   ]
  },
  {
   "cell_type": "code",
   "execution_count": 22,
   "id": "725dd107-d7c5-4b7a-93bf-80b2e8e5b979",
   "metadata": {},
   "outputs": [],
   "source": [
    "fit_residuals = preds - tmp_y_test"
   ]
  },
  {
   "cell_type": "code",
   "execution_count": 23,
   "id": "26164994-4ebc-4a70-a758-67c10ad3bc48",
   "metadata": {},
   "outputs": [
    {
     "data": {
      "text/plain": [
       "Text(0.5, 1.0, 'Fit Temperature Residuals')"
      ]
     },
     "execution_count": 23,
     "metadata": {},
     "output_type": "execute_result"
    },
    {
     "data": {
      "image/png": "[encoded data removed]",
      "text/plain": [
       "<Figure size 432x288 with 1 Axes>"
      ]
     },
     "metadata": {
      "needs_background": "light"
     },
     "output_type": "display_data"
    }
   ],
   "source": [
    "#fit temperature residuals\n",
    "plt.scatter(tmp_y_test[:,0],fit_residuals[:,0])\n",
    "plt.xlabel(\"True Temperature\")\n",
    "plt.ylabel(\"Residual\")\n",
    "plt.title(\"Fit Temperature Residuals\")"
   ]
  },
  {
   "cell_type": "code",
   "execution_count": 24,
   "id": "dc65552b-fa56-4d4b-b01a-2b66594d2f4b",
   "metadata": {},
   "outputs": [
    {
     "data": {
      "text/plain": [
       "Text(0.5, 1.0, 'Fit Nc Residuals')"
      ]
     },
     "execution_count": 24,
     "metadata": {},
     "output_type": "execute_result"
    },
    {
     "data": {
      "image/png": "[encoded data removed]",
      "text/plain": [
       "<Figure size 432x288 with 1 Axes>"
      ]
     },
     "metadata": {
      "needs_background": "light"
     },
     "output_type": "display_data"
    }
   ],
   "source": [
    "#fit Nc residuals\n",
    "plt.scatter(tmp_y_test[:,1],fit_residuals[:,1])\n",
    "plt.xlabel(\"True Nc\")\n",
    "plt.ylabel(\"Residual\")\n",
    "plt.title(\"Fit Nc Residuals\")"
   ]
  },
  {
   "cell_type": "code",
   "execution_count": 25,
   "id": "a01f732f-27aa-4cdc-ba5e-08f022bdcb11",
   "metadata": {},
   "outputs": [],
   "source": [
    "ml_residuals = ml_preds - tmp_y_test"
   ]
  },
  {
   "cell_type": "code",
   "execution_count": 26,
   "id": "e5245985-2544-44a8-a43b-b2bfcef2abf7",
   "metadata": {},
   "outputs": [
    {
     "data": {
      "text/plain": [
       "Text(0.5, 1.0, 'ML Temperature Residuals')"
      ]
     },
     "execution_count": 26,
     "metadata": {},
     "output_type": "execute_result"
    },
    {
     "data": {
      "image/png": "[encoded data removed]",
      "text/plain": [
       "<Figure size 432x288 with 1 Axes>"
      ]
     },
     "metadata": {
      "needs_background": "light"
     },
     "output_type": "display_data"
    }
   ],
   "source": [
    "#ml temperature residuals\n",
    "plt.scatter(tmp_y_test[:,0],ml_residuals[:,0])\n",
    "plt.xlabel(\"True Temperature\")\n",
    "plt.ylabel(\"Residual\")\n",
    "plt.title(\"ML Temperature Residuals\")"
   ]
  },
  {
   "cell_type": "code",
   "execution_count": 27,
   "id": "ece6d7a0-30d1-4f1d-b9c6-6040624d4e9b",
   "metadata": {},
   "outputs": [
    {
     "data": {
      "text/plain": [
       "Text(0.5, 1.0, 'ML Nc Residuals')"
      ]
     },
     "execution_count": 27,
     "metadata": {},
     "output_type": "execute_result"
    },
    {
     "data": {
      "image/png": "[encoded data removed]",
      "text/plain": [
       "<Figure size 432x288 with 1 Axes>"
      ]
     },
     "metadata": {
      "needs_background": "light"
     },
     "output_type": "display_data"
    }
   ],
   "source": [
    "#ML Nc residuals\n",
    "plt.scatter(tmp_y_test[:,1],ml_residuals[:,1])\n",
    "plt.xlabel(\"True Nc\")\n",
    "plt.ylabel(\"Residual\")\n",
    "plt.title(\"ML Nc Residuals\")"
   ]
  },
  {
   "cell_type": "code",
   "execution_count": null,
   "id": "ced86862-1aa8-45a0-8f50-7607ba15e9b9",
   "metadata": {},
   "outputs": [],
   "source": []
  },
  {
   "cell_type": "markdown",
   "id": "8c55ab63-eb4b-4d3d-aa34-9f700c5992d2",
   "metadata": {
    "jp-MarkdownHeadingCollapsed": true,
    "tags": []
   },
   "source": [
    "# Testing numpy.random.normal"
   ]
  },
  {
   "cell_type": "code",
   "execution_count": 284,
   "id": "370ac95f-d6ca-4b27-a5ed-d5eb7b1c3bc2",
   "metadata": {},
   "outputs": [],
   "source": [
    "xl_coord = -49\n",
    "xr_coord = 50\n",
    "x = np.linspace(xl_coord, xr_coord, 100)"
   ]
  },
  {
   "cell_type": "code",
   "execution_count": 285,
   "id": "edb3a861-54bd-45ab-b0d1-49f54943c67f",
   "metadata": {},
   "outputs": [],
   "source": [
    "def simpleGaussian(x,mu,var):\n",
    "    return (1/np.sqrt(2*math.pi*var))*np.exp(-(x-mu)**2/(2*var))"
   ]
  },
  {
   "cell_type": "code",
   "execution_count": 286,
   "id": "4ed059f8-0c8d-4aeb-8418-7cfe6f349e57",
   "metadata": {},
   "outputs": [
    {
     "data": {
      "text/plain": [
       "0.023032943298089033"
      ]
     },
     "execution_count": 286,
     "metadata": {},
     "output_type": "execute_result"
    }
   ],
   "source": [
    "T = 300\n",
    "simpleGaussian(0,0,T)"
   ]
  },
  {
   "cell_type": "code",
   "execution_count": 287,
   "id": "af9f1950-fc9f-46bf-9b49-06b50a239418",
   "metadata": {},
   "outputs": [],
   "source": [
    "analytical_xs = list(map(simpleGaussian,x,np.zeros(bins),[T for _ in range(bins)]))"
   ]
  },
  {
   "cell_type": "code",
   "execution_count": 288,
   "id": "460beb51-98dd-42b1-ad82-4ddc0302696e",
   "metadata": {},
   "outputs": [],
   "source": [
    "analytical_xs = (analytical_xs - np.min(analytical_xs))/np.max(analytical_xs)"
   ]
  },
  {
   "cell_type": "code",
   "execution_count": 289,
   "id": "a92500f7-0bf7-43b2-835e-2b61b3372340",
   "metadata": {},
   "outputs": [
    {
     "data": {
      "text/plain": [
       "(100,)"
      ]
     },
     "execution_count": 289,
     "metadata": {},
     "output_type": "execute_result"
    }
   ],
   "source": [
    "analytical_xs.shape"
   ]
  },
  {
   "cell_type": "code",
   "execution_count": 290,
   "id": "5cf1cbdd-3942-4cf5-ba91-be228d588d1e",
   "metadata": {},
   "outputs": [],
   "source": [
    "bins = 100\n",
    "samples = 100000\n",
    "xs = []\n",
    "for _ in range(samples):\n",
    "    xs.append(np.random.normal(0,np.sqrt(T)))\n",
    "xs = np.array(xs)\n",
    "xs = np.histogram(xs,bins)#range = (xl_coord,xr_coord)) # HERE IS THE ISSUE\n",
    "xs = xs[0]"
   ]
  },
  {
   "cell_type": "code",
   "execution_count": 291,
   "id": "bd631afc-25e0-4c59-91e1-e63e4adc51d3",
   "metadata": {},
   "outputs": [],
   "source": [
    "xs = (xs - np.min(xs))/np.max(xs)"
   ]
  },
  {
   "cell_type": "code",
   "execution_count": 292,
   "id": "7db397c9-b5ae-4c54-8060-121f73c4b4ba",
   "metadata": {},
   "outputs": [
    {
     "data": {
      "text/plain": [
       "<matplotlib.legend.Legend at 0x2998e2b30>"
      ]
     },
     "execution_count": 292,
     "metadata": {},
     "output_type": "execute_result"
    },
    {
     "data": {
      "image/png": "[encoded data removed]",
      "text/plain": [
       "<Figure size 432x288 with 1 Axes>"
      ]
     },
     "metadata": {
      "needs_background": "light"
     },
     "output_type": "display_data"
    }
   ],
   "source": [
    "plt.plot(x,xs,label = \"sampled\")\n",
    "plt.plot(x,analytical_xs,label = \"analytical\")\n",
    "plt.legend()"
   ]
  }
 ],
 "metadata": {
  "kernelspec": {
   "display_name": "Python 3 (ipykernel)",
   "language": "python",
   "name": "python3"
  },
  "language_info": {
   "codemirror_mode": {
    "name": "ipython",
    "version": 3
   },
   "file_extension": ".py",
   "mimetype": "text/x-python",
   "name": "python",
   "nbconvert_exporter": "python",
   "pygments_lexer": "ipython3",
   "version": "3.10.5"
  }
 },
 "nbformat": 4,
 "nbformat_minor": 5
}
