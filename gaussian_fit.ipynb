{
 "cells": [
  {
   "cell_type": "markdown",
   "id": "7a27fab4-7ec1-4e23-941c-58a00c880688",
   "metadata": {},
   "source": [
    "imports"
   ]
  },
  {
   "cell_type": "code",
   "execution_count": 1,
   "id": "8c25e1a6-e9e8-4331-8976-1e8511f4344f",
   "metadata": {},
   "outputs": [],
   "source": [
    "import os\n",
    "#only print error messages from tensorflow\n",
    "import tensorflow as tf\n",
    "import numpy as np\n",
    "import math\n",
    "import time\n",
    "import pickle\n",
    "import bz2\n",
    "import matplotlib.pyplot as plt\n",
    "from sklearn.preprocessing import MinMaxScaler,StandardScaler,MaxAbsScaler\n",
    "import copy\n",
    "from sklearn.metrics import mean_squared_error,mean_absolute_error\n",
    "import scipy.optimize as opt\n",
    "from itertools import chain"
   ]
  },
  {
   "cell_type": "markdown",
   "id": "17d4ae0b-ecb2-4651-94e6-bf2dba6e35ae",
   "metadata": {},
   "source": [
    "load data"
   ]
  },
  {
   "cell_type": "code",
   "execution_count": null,
   "id": "1e3edc14-e1f5-4f73-a91d-e4e99179580c",
   "metadata": {},
   "outputs": [],
   "source": [
    "in_file = bz2.BZ2File(\"generated_data/full_generated_data.bz2\",'rb')\n",
    "data = pickle.load(in_file)\n",
    "in_file.close()\n",
    "\n",
    "print(\"data loaded\")"
   ]
  },
  {
   "cell_type": "code",
   "execution_count": null,
   "id": "7ee989db-99ba-43d2-bb01-d9e7f72f1eba",
   "metadata": {},
   "outputs": [],
   "source": [
    "y_train = np.asarray(data[1])\n",
    "x_test = np.asarray(data[2])\n",
    "y_test = np.asarray(data[3])\n",
    "\n",
    "y_scaler = MinMaxScaler(feature_range = (0,1))\n",
    "\n",
    "scaled_x_test = np.asarray([x_scaler.fit_transform(x_test[i]) for i in range(len(x_test))])\n",
    "# scaled_x_test = (x_test - np.min(x_test)) / np.max(x_test)\n",
    "scaled_y_test = y_scaler.fit_transform(y_test)"
   ]
  },
  {
   "cell_type": "code",
   "execution_count": null,
   "id": "2180e454-e1d8-441b-91bd-26d01433dd3c",
   "metadata": {},
   "outputs": [],
   "source": [
    "#https://stackoverflow.com/questions/21566379/fitting-a-2d-gaussian-function-using-scipy-optimize-curve-fit-valueerror-and-m"
   ]
  },
  {
   "cell_type": "code",
   "execution_count": 24,
   "id": "ec1b32db-e98c-43bb-8d34-09ccf9a53c5f",
   "metadata": {},
   "outputs": [],
   "source": [
    "def analytical_eq(xy,xo,yo,No,T):   \n",
    "    x, y = xy\n",
    "    \n",
    "    Nex = 100000-No\n",
    "    \n",
    "    out = (No/math.pi)*np.exp(-(x-xo)**2)*np.exp(-(y-yo)**2) + (Nex/(2*math.pi*T))*np.exp((-(x-xo)**2)/(2*T))*np.exp((-(y-yo)**2)/(2*T))\n",
    "    out = (out - np.min(out)) / np.max(out)\n",
    "    # out = No*np.exp(-(x-xo)**2)*np.exp(-(y-yo)**2) + (100000-No)*np.exp((-(x-xo)**2)/(2*T))*np.exp((-(y-yo)**2)/(2*T))\n",
    "    return out.ravel()"
   ]
  },
  {
   "cell_type": "code",
   "execution_count": 305,
   "id": "82cfe4d2-f1ab-4f3c-81c0-d3ccae20ffbb",
   "metadata": {},
   "outputs": [
    {
     "data": {
      "text/plain": [
       "0.0"
      ]
     },
     "execution_count": 305,
     "metadata": {},
     "output_type": "execute_result"
    }
   ],
   "source": [
    "x = np.linspace(-49, 50, 100)\n",
    "y = np.linspace(-49, 50, 100)\n",
    "x, y = np.meshgrid(x, y)\n",
    "np.min(analytical_eq((x,y),0,0,1000,150))"
   ]
  },
  {
   "cell_type": "code",
   "execution_count": null,
   "id": "2ec0336f-126b-4425-9ad8-6a561e8c56ec",
   "metadata": {},
   "outputs": [],
   "source": [
    "x = np.linspace(-49, 50, 100)\n",
    "y = np.linspace(-49, 50, 100)\n",
    "x, y = np.meshgrid(x, y)\n",
    "\n",
    "test_im_indx = 100\n",
    "\n",
    "initial_guess = (0,0,1000,1)\n",
    "\n",
    "new_im = x_test[test_im_indx].ravel()\n",
    "\n",
    "popt, _ = opt.curve_fit(analytical_eq, (x, y), new_im, p0=initial_guess)"
   ]
  },
  {
   "cell_type": "code",
   "execution_count": null,
   "id": "29dc82d8-18af-49d8-8e50-8bf4d2066cff",
   "metadata": {},
   "outputs": [],
   "source": [
    "print(f\"x_0: {popt[0]}, y_0: {popt[1]} , No: {popt[2]}, T: {popt[3]} \")"
   ]
  },
  {
   "cell_type": "code",
   "execution_count": null,
   "id": "1dd21524-8dca-43c1-afcd-649886f3aac0",
   "metadata": {},
   "outputs": [],
   "source": [
    "data_fitted = analytical_eq((x, y), *popt)\n",
    "\n",
    "fig, ax = plt.subplots(1, 1)\n",
    "ax.imshow(new_im.reshape(100, 100), cmap=plt.cm.jet, origin='lower',\n",
    "    extent=(x.min(), x.max(), y.min(), y.max()))\n",
    "ax.contour(x, y, data_fitted.reshape(100, 100), 12, colors='w')\n",
    "plt.show()"
   ]
  },
  {
   "cell_type": "code",
   "execution_count": null,
   "id": "5b8b0597-4551-4db6-a151-3da46e698f03",
   "metadata": {},
   "outputs": [],
   "source": [
    "trained_model = tf.keras.models.load_model('BEC_model_conv')\n",
    "ml_preds = trained_model.predict(scaled_x_test)\n",
    "ml_preds = y_scaler.inverse_transform(ml_preds)"
   ]
  },
  {
   "cell_type": "code",
   "execution_count": null,
   "id": "5e8f52b5-ada5-4c78-8b5c-4c6af936afea",
   "metadata": {},
   "outputs": [],
   "source": [
    "initial_guess = (0,0,50000,175)\n",
    "preds = []\n",
    "for i,im in enumerate(x_test):\n",
    "    popt, _ = opt.curve_fit(analytical_eq, (x, y), im.ravel(), p0=initial_guess)\n",
    "    pred_No = popt[2]\n",
    "    pred_T = popt[3]\n",
    "    preds.append((pred_T,pred_No))"
   ]
  },
  {
   "cell_type": "code",
   "execution_count": null,
   "id": "1578a79a-6467-4367-8ab2-0df673790cf0",
   "metadata": {},
   "outputs": [],
   "source": [
    "ml_preds.shape\n",
    "print(f\" ml model num BEC atoms: {ml_preds[test_im_indx][1]}, ml model temp:{ml_preds[test_im_indx][0]}\")\n",
    "pred_gauss = analytical_eq((x,y),0,0,preds[test_im_indx][1],preds[test_im_indx][0])\n",
    "pred_gauss = pred_gauss.reshape(100,100)"
   ]
  },
  {
   "cell_type": "code",
   "execution_count": null,
   "id": "705782a3-1207-44ae-8300-efc6b6e0391b",
   "metadata": {},
   "outputs": [],
   "source": [
    "print(f\" fit model num BEC atoms: {popt[2]}, fit model temp:{popt[3]}\")"
   ]
  },
  {
   "cell_type": "code",
   "execution_count": null,
   "id": "d46eb851-fe57-4b3f-be6b-35a5a0ab5ea4",
   "metadata": {},
   "outputs": [],
   "source": [
    "print(f\" actual num atoms : {y_test[test_im_indx][1]}, actual temp : {y_test[test_im_indx][0]}\")"
   ]
  },
  {
   "cell_type": "code",
   "execution_count": null,
   "id": "55e52513-c8b9-4316-8787-b129145083a4",
   "metadata": {},
   "outputs": [],
   "source": [
    "#fit gaussian vs noisy gaussian\n",
    "\n",
    "row = 17\n",
    "\n",
    "check = data_fitted.reshape(100,100)\n",
    "plt.plot(np.arange(len(check[0])),check[row],label = \"fit\")\n",
    "plt.plot(np.arange(len(check[0])),x_test[check_indx,row],label = \"actual\")\n",
    "plt.plot(np.arange(len(check[0])),pred_gauss[row],label = \"ml\")\n",
    "plt.legend()"
   ]
  },
  {
   "cell_type": "code",
   "execution_count": null,
   "id": "24344d3a-72f9-4c07-b784-a9a4bf79da03",
   "metadata": {},
   "outputs": [],
   "source": [
    "y_test[test_im_indx]"
   ]
  },
  {
   "cell_type": "code",
   "execution_count": null,
   "id": "0c5b4efd-5cd9-4ceb-b59e-3acaf7256968",
   "metadata": {},
   "outputs": [],
   "source": [
    "preds = np.asarray(preds)\n",
    "preds.shape"
   ]
  },
  {
   "cell_type": "code",
   "execution_count": null,
   "id": "b245246a-a54d-4bf5-b6f2-54225abaa93d",
   "metadata": {},
   "outputs": [],
   "source": [
    "fit_T_rmse = mean_squared_error(preds[:,0],y_test[:,0],squared = False)"
   ]
  },
  {
   "cell_type": "code",
   "execution_count": null,
   "id": "884b2184-88bb-45f2-92bc-3ad3587a968c",
   "metadata": {},
   "outputs": [],
   "source": [
    "fit_N_rmse = mean_squared_error(preds[:,1],y_test[:,1],squared = False)"
   ]
  },
  {
   "cell_type": "code",
   "execution_count": null,
   "id": "57cd5184-ca4d-4ea8-95ad-41001424f391",
   "metadata": {},
   "outputs": [],
   "source": [
    "fit_T_rmse"
   ]
  },
  {
   "cell_type": "code",
   "execution_count": null,
   "id": "441b3e0d-45a9-4b20-b3be-41f459aed327",
   "metadata": {},
   "outputs": [],
   "source": [
    "fit_N_rmse"
   ]
  },
  {
   "cell_type": "code",
   "execution_count": null,
   "id": "d0a6fa9b-e511-4720-93c2-6703f7907534",
   "metadata": {},
   "outputs": [],
   "source": [
    "ml_T_rmse = mean_squared_error(ml_preds[:,0],y_test[:,0],squared = False)"
   ]
  },
  {
   "cell_type": "code",
   "execution_count": null,
   "id": "a557e9e6-9906-42de-8eea-8239b975fc1a",
   "metadata": {},
   "outputs": [],
   "source": [
    "ml_N_rmse = mean_squared_error(ml_preds[:,1],y_test[:,1],squared = False)"
   ]
  },
  {
   "cell_type": "code",
   "execution_count": null,
   "id": "f66d268a-8631-4ccf-a901-a6224d274096",
   "metadata": {},
   "outputs": [],
   "source": [
    "ml_T_rmse"
   ]
  },
  {
   "cell_type": "code",
   "execution_count": null,
   "id": "94e6fc6c-23a0-46ff-9456-02081d6094d2",
   "metadata": {},
   "outputs": [],
   "source": [
    "ml_N_rmse"
   ]
  },
  {
   "cell_type": "markdown",
   "id": "4c8d0aac-4870-4ba8-876b-16f5db071280",
   "metadata": {},
   "source": [
    "### see if scipy beats ml at different temperatures"
   ]
  },
  {
   "cell_type": "code",
   "execution_count": null,
   "id": "75da370b-4516-4ab6-88ef-e86272645e7a",
   "metadata": {},
   "outputs": [],
   "source": [
    "def filter_by_temperature(floor,ceil, x, y):\n",
    "    xy_combos = list(zip(x,y))\n",
    "    xy_combos = np.asarray(list(filter(lambda tup: ceil > tup[1][0] > floor ,xy_combos)),dtype = object)\n",
    "    high_temp_x_test, high_temp_y_test = xy_combos.T\n",
    "    high_temp_x_test = np.asarray(list(chain(*zip(high_temp_x_test))))\n",
    "    high_temp_y_test = np.asarray(list(chain(*zip(high_temp_y_test))))\n",
    "    \n",
    "    return high_temp_x_test, high_temp_y_test"
   ]
  },
  {
   "cell_type": "code",
   "execution_count": null,
   "id": "0af12e32-66eb-4a98-bdcb-76fbc3090e14",
   "metadata": {},
   "outputs": [],
   "source": [
    "high_temp_x_test, high_temp_y_test = filter_by_temperature(0,150,x_test,y_test)"
   ]
  },
  {
   "cell_type": "markdown",
   "id": "7d1ae40f-35c3-4e46-b206-39839b5b18a0",
   "metadata": {},
   "source": [
    "#### Scipy"
   ]
  },
  {
   "cell_type": "code",
   "execution_count": null,
   "id": "39e8f636-458d-4d9a-8d1e-e734dbbb6ab0",
   "metadata": {},
   "outputs": [],
   "source": [
    "initial_guess = (0,0,50000,175)\n",
    "high_temp_preds = []\n",
    "for i,im in enumerate(high_temp_x_test):\n",
    "    popt, _ = opt.curve_fit(analytical_eq, (x, y), im.ravel(), p0=initial_guess)\n",
    "    pred_No = popt[2]\n",
    "    pred_T = popt[3]\n",
    "    if pred_No < 0:\n",
    "        pred_No = 0\n",
    "    if pred_T < 0:\n",
    "        pred_T = 0\n",
    "    high_temp_preds.append((pred_T,pred_No))\n",
    "        \n",
    "high_temp_preds = np.asarray(high_temp_preds)"
   ]
  },
  {
   "cell_type": "code",
   "execution_count": null,
   "id": "96b09c9e-9d0b-4bb2-8595-13eff6bf38b6",
   "metadata": {},
   "outputs": [],
   "source": [
    "fit_high_temp_T_rmse = mean_squared_error(high_temp_preds[:,0],high_temp_y_test[:,0],squared = False)"
   ]
  },
  {
   "cell_type": "code",
   "execution_count": null,
   "id": "a61549ad-c587-4771-a6f2-94a3897607ab",
   "metadata": {},
   "outputs": [],
   "source": [
    "fit_high_temp_N_rmse = mean_squared_error(high_temp_preds[:,1],high_temp_y_test[:,1],squared = False)"
   ]
  },
  {
   "cell_type": "code",
   "execution_count": null,
   "id": "db589572-a794-4b81-b2c0-c27042ab6a42",
   "metadata": {},
   "outputs": [],
   "source": [
    "fit_high_temp_T_rmse"
   ]
  },
  {
   "cell_type": "code",
   "execution_count": null,
   "id": "ac6e84cd-12b4-41d8-8c63-c28cf255fb84",
   "metadata": {},
   "outputs": [],
   "source": [
    "fit_high_temp_N_rmse"
   ]
  },
  {
   "cell_type": "markdown",
   "id": "0851aeb2-61a6-4dd4-9d99-10432cc757e6",
   "metadata": {},
   "source": [
    "#### ML"
   ]
  },
  {
   "cell_type": "code",
   "execution_count": null,
   "id": "bfd40e51-d4a9-46b6-b8ca-cb8d00a9ef9b",
   "metadata": {},
   "outputs": [],
   "source": [
    "trained_model = tf.keras.models.load_model('BEC_model_conv')\n",
    "\n",
    "x_scaler = MinMaxScaler(feature_range = (0,1))\n",
    "y_scaler = MinMaxScaler(feature_range = (0,1))\n",
    "\n",
    "scaled_ht_x_test = np.asarray([x_scaler.fit_transform(high_temp_x_test[i]) for i in range(len(high_temp_x_test))])\n",
    "scaled_ht_y_test = y_scaler.fit_transform(high_temp_y_test)"
   ]
  },
  {
   "cell_type": "code",
   "execution_count": null,
   "id": "5c5c8899-8d0e-4d15-b9cc-e25322f00f2d",
   "metadata": {},
   "outputs": [],
   "source": [
    "ht_ml_preds = trained_model.predict(scaled_ht_x_test)\n",
    "ht_ml_preds = y_scaler.inverse_transform(ht_ml_preds)"
   ]
  },
  {
   "cell_type": "code",
   "execution_count": null,
   "id": "fe18c675-3a14-4a62-8eda-1d1cc6a690a3",
   "metadata": {},
   "outputs": [],
   "source": [
    "ht_ml_T_rmse = mean_squared_error(ht_ml_preds[:,0],high_temp_y_test[:,0],squared = False)"
   ]
  },
  {
   "cell_type": "code",
   "execution_count": null,
   "id": "d97aa2db-e0a8-4d59-b5cc-3fef15416aef",
   "metadata": {},
   "outputs": [],
   "source": [
    "ht_ml_N_rmse = mean_squared_error(ht_ml_preds[:,1],high_temp_y_test[:,1],squared = False)"
   ]
  },
  {
   "cell_type": "code",
   "execution_count": null,
   "id": "45ee654a-306f-452a-b87b-1ca667f58569",
   "metadata": {},
   "outputs": [],
   "source": [
    "print(high_temp_preds[0])\n",
    "print(ht_ml_preds[0])\n",
    "print(high_temp_y_test[0])"
   ]
  },
  {
   "cell_type": "code",
   "execution_count": null,
   "id": "b88c7ee9-2e09-46df-8035-b1d8c7d08dc4",
   "metadata": {},
   "outputs": [],
   "source": [
    "ht_ml_T_rmse"
   ]
  },
  {
   "cell_type": "code",
   "execution_count": null,
   "id": "6539bf8b-3967-4f93-8ae5-53288e60ac48",
   "metadata": {},
   "outputs": [],
   "source": [
    "ht_ml_N_rmse"
   ]
  },
  {
   "cell_type": "code",
   "execution_count": null,
   "id": "be42d46d-3cf8-4790-a175-35f0e2bb04eb",
   "metadata": {},
   "outputs": [],
   "source": [
    "#see if scipy works better at higher resolution image"
   ]
  },
  {
   "cell_type": "code",
   "execution_count": 254,
   "id": "13c2cf8a-8af6-46d1-8cfb-404d008a238d",
   "metadata": {},
   "outputs": [],
   "source": [
    "num_atoms = 100000\n",
    "temp_ratio = (num_atoms/(2*1*1.645))**0.5\n",
    "length = 1000\n",
    "dimensions = 2\n",
    "        \n",
    "        \n",
    "def generate_image(temp_ratio,length,num_atoms,dimensions):\n",
    "    '''\n",
    "    generate image using sampling\n",
    "    '''\n",
    "\n",
    "    x_list = []\n",
    "    y_list = []\n",
    "    \n",
    "    trans_temp = (num_atoms/(2*1*1.645))**(1/dimensions)\n",
    "    \n",
    "    temp = np.random.uniform(trans_temp//2,int(trans_temp*2))\n",
    "\n",
    "    num_BEC_atoms = 0\n",
    "    if temp < trans_temp:\n",
    "        num_BEC_atoms = num_atoms*(1-(temp/trans_temp)**dimensions)\n",
    "    \n",
    "    for i in range(num_atoms):\n",
    "        probability = np.random.rand()\n",
    "        if temp_ratio >1 :\n",
    "            temp_ratio = 1\n",
    "        BEC_probability = (1-(temp_ratio)**dimensions)\n",
    "        if probability <= BEC_probability:\n",
    "            x_list.append((1/(math.sqrt(math.pi)))*np.random.normal(0,math.sqrt(1/2)))\n",
    "            y_list.append((1/(math.sqrt(math.pi)))*np.random.normal(0,math.sqrt(1/2)))\n",
    "\n",
    "        else:\n",
    "            x_list.append((1/(math.sqrt(2 * math.pi)))*np.random.normal(0,math.sqrt(temp)))\n",
    "            y_list.append((1/(math.sqrt(2 * math.pi)))*np.random.normal(0,math.sqrt(temp)))\n",
    "\n",
    "\n",
    "\n",
    "    hist = np.histogram2d(x_list,y_list,length)[0]\n",
    "    hist = hist.tolist()\n",
    "    return hist,temp,num_BEC_atoms\n",
    "\n",
    "test_im_count = 1\n",
    "test_ims = []\n",
    "labs = []\n",
    "for i in range(test_im_count):\n",
    "    curr_im, t, n = generate_image(temp_ratio,length,num_atoms,dimensions)\n",
    "    \n",
    "    test_ims.append(np.asarray(curr_im))\n",
    "    labs.append((t,n))\n",
    "\n",
    "test_ims = np.stack(test_ims)"
   ]
  },
  {
   "cell_type": "code",
   "execution_count": 258,
   "id": "d7b9da4d-9fe6-4634-a3fc-a8384c979476",
   "metadata": {},
   "outputs": [],
   "source": [
    "test_ims[0] = (test_ims[0] - np.min(test_ims[0])) / np.max(test_ims[0])"
   ]
  },
  {
   "cell_type": "code",
   "execution_count": 259,
   "id": "62443673-c905-45c3-a513-41a0d8633dc8",
   "metadata": {},
   "outputs": [],
   "source": [
    "indx = 0\n",
    "\n",
    "x = np.linspace(-length//2+1, length//2, length)\n",
    "y = np.linspace(-length//2+1, length//2, length)\n",
    "x, y = np.meshgrid(x, y)\n",
    "\n",
    "initial_guess = (0,0,1000,1)\n",
    "\n",
    "check_im = test_ims[indx]\n",
    "\n",
    "new_im = check_im.ravel()\n",
    "\n",
    "popt, _ = opt.curve_fit(analytical_eq, (x, y), new_im, p0=initial_guess)"
   ]
  },
  {
   "cell_type": "code",
   "execution_count": 260,
   "id": "b49a9319-b3d3-41e9-8f74-47021087b32c",
   "metadata": {},
   "outputs": [
    {
     "data": {
      "text/plain": [
       "(1, 2)"
      ]
     },
     "execution_count": 260,
     "metadata": {},
     "output_type": "execute_result"
    }
   ],
   "source": [
    "labs = np.stack(labs)\n",
    "labs.shape"
   ]
  },
  {
   "cell_type": "code",
   "execution_count": 265,
   "id": "b8212ddd-a45e-4105-b4b9-dd312044a91d",
   "metadata": {},
   "outputs": [
    {
     "data": {
      "image/png": "[encoded data removed]",
      "text/plain": [
       "<Figure size 432x288 with 1 Axes>"
      ]
     },
     "metadata": {
      "needs_background": "light"
     },
     "output_type": "display_data"
    }
   ],
   "source": [
    "data_fitted = analytical_eq((x, y), *popt)\n",
    "\n",
    "fig, ax = plt.subplots(1, 1)\n",
    "ax.imshow(new_im.reshape(length, length), cmap=plt.cm.jet, origin='lower',\n",
    "    extent=(x.min(), x.max(), y.min(), y.max()))\n",
    "ax.contour(x, y, data_fitted.reshape(length, length), 30, colors='w')\n",
    "plt.show()"
   ]
  },
  {
   "cell_type": "code",
   "execution_count": 266,
   "id": "135a91e3-f390-4d04-a348-a7c298d241b2",
   "metadata": {},
   "outputs": [
    {
     "data": {
      "text/plain": [
       "array([-4.26316432e+01,  9.80271658e-01,  1.38977089e+00,  8.67216911e+05])"
      ]
     },
     "execution_count": 266,
     "metadata": {},
     "output_type": "execute_result"
    }
   ],
   "source": [
    "popt"
   ]
  },
  {
   "cell_type": "code",
   "execution_count": 267,
   "id": "bcafe142-2045-4492-8a44-c5cd0b11a4e0",
   "metadata": {},
   "outputs": [
    {
     "data": {
      "text/plain": [
       "array([238.75456254,   0.        ])"
      ]
     },
     "execution_count": 267,
     "metadata": {},
     "output_type": "execute_result"
    }
   ],
   "source": [
    "labs[indx]"
   ]
  },
  {
   "cell_type": "code",
   "execution_count": null,
   "id": "571b65ec-5f17-4c41-879d-aaa4be0ab9f9",
   "metadata": {},
   "outputs": [],
   "source": [
    "initial_guess = (0,0,50000,175)\n",
    "ng_preds = []\n",
    "for i,im in enumerate(test_ims):\n",
    "    popt, _ = opt.curve_fit(analytical_eq, (x, y), im.ravel(), p0=initial_guess)\n",
    "    pred_No = popt[2]\n",
    "    pred_T = popt[3]\n",
    "    if pred_No < 0:\n",
    "        pred_No = 0\n",
    "    if pred_T < 0:\n",
    "        pred_T = 0\n",
    "    ng_preds.append((pred_T,pred_No))\n",
    "        \n",
    "ng_preds = np.asarray(ng_preds)"
   ]
  },
  {
   "cell_type": "code",
   "execution_count": null,
   "id": "336e4475-a8e9-40c1-81b1-7a55ede4c1e5",
   "metadata": {},
   "outputs": [],
   "source": [
    "ng_preds[indx]"
   ]
  },
  {
   "cell_type": "code",
   "execution_count": null,
   "id": "557c8054-01b9-4868-8f0d-66c6fb6d4528",
   "metadata": {},
   "outputs": [],
   "source": [
    "labs[indx]"
   ]
  },
  {
   "cell_type": "code",
   "execution_count": null,
   "id": "4923faf6-f140-4893-acf1-90ae85a2aed7",
   "metadata": {},
   "outputs": [],
   "source": [
    "print(labs.shape)"
   ]
  },
  {
   "cell_type": "code",
   "execution_count": null,
   "id": "2aa70350-8dd2-4919-9a89-b30043fc1f25",
   "metadata": {},
   "outputs": [],
   "source": [
    "ng_fit_T_rmse"
   ]
  },
  {
   "cell_type": "code",
   "execution_count": null,
   "id": "18e22ea1-8909-4a7d-bbbd-630aff107e53",
   "metadata": {},
   "outputs": [],
   "source": [
    "ng_fit_N_rmse = mean_squared_error(ng_preds[:,1],labs[:,1],squared = False)"
   ]
  },
  {
   "cell_type": "code",
   "execution_count": null,
   "id": "0e5471c2-aa60-4cae-8c8d-ed50b7135714",
   "metadata": {},
   "outputs": [],
   "source": [
    "ng_fit_N_rmse"
   ]
  },
  {
   "cell_type": "code",
   "execution_count": null,
   "id": "b7b06e73-64ef-417f-a3f8-bc6c94da710b",
   "metadata": {},
   "outputs": [],
   "source": [
    "### figure out how to get scipy working well\n",
    "#goal is ~1 temp rmse ~150 n rmse"
   ]
  },
  {
   "cell_type": "code",
   "execution_count": 5,
   "id": "43f55044-46ef-4910-a04a-b7ab2114f4a9",
   "metadata": {},
   "outputs": [],
   "source": [
    "num_atoms = 100000\n",
    "length = 100\n",
    "dimensions = 2\n",
    "        \n",
    "        \n",
    "def generate_image(length,num_atoms,dimensions):\n",
    "    '''\n",
    "    generate image using sampling\n",
    "    '''\n",
    "\n",
    "    x_list = []\n",
    "    y_list = []\n",
    "    \n",
    "    trans_temp = (num_atoms/(2*1*1.645))**(1/dimensions)\n",
    "    \n",
    "    # temp = np.random.uniform(trans_temp//2,int(trans_temp*2))\n",
    "    temp = 150\n",
    "    \n",
    "    temp_ratio = temp/trans_temp\n",
    "\n",
    "    num_BEC_atoms = 0\n",
    "    if temp < trans_temp:\n",
    "        num_BEC_atoms = num_atoms*(1-(temp/trans_temp)**dimensions)\n",
    "        \n",
    "    count = 0\n",
    "    \n",
    "    for i in range(num_atoms):\n",
    "        probability = np.random.rand()\n",
    "        if temp_ratio >1 :\n",
    "            temp_ratio = 1\n",
    "        BEC_probability = (1-(temp_ratio)**dimensions)\n",
    "        if probability <= BEC_probability:\n",
    "            count += 1\n",
    "            x_list.append((1/(math.sqrt(math.pi)))*np.random.normal(0,math.sqrt(1/2)))\n",
    "            y_list.append((1/(math.sqrt(math.pi)))*np.random.normal(0,math.sqrt(1/2)))\n",
    "\n",
    "        else:\n",
    "            x_list.append((1/(math.sqrt(2 * math.pi)))*np.random.normal(0,math.sqrt(temp)))\n",
    "            y_list.append((1/(math.sqrt(2 * math.pi)))*np.random.normal(0,math.sqrt(temp)))\n",
    "\n",
    "\n",
    "\n",
    "    hist = np.histogram2d(x_list,y_list,length)[0]\n",
    "    hist = hist.tolist()\n",
    "    return hist,temp,num_BEC_atoms,count\n",
    "\n",
    "test_im_count = 100\n",
    "test_ims = []\n",
    "labs = []\n",
    "for i in range(test_im_count):\n",
    "    curr_im, t, n, count = generate_image(length,num_atoms,dimensions)\n",
    "    \n",
    "    test_ims.append(np.asarray(curr_im))\n",
    "    labs.append((t,n,count))\n",
    "\n",
    "test_ims = np.stack(test_ims)\n",
    "labs = np.stack(labs)"
   ]
  },
  {
   "cell_type": "code",
   "execution_count": 16,
   "id": "0b469399-e73b-4282-b203-695659ecac30",
   "metadata": {},
   "outputs": [
    {
     "data": {
      "text/plain": [
       "(100, 100, 100)"
      ]
     },
     "execution_count": 16,
     "metadata": {},
     "output_type": "execute_result"
    }
   ],
   "source": [
    "test_ims.shape"
   ]
  },
  {
   "cell_type": "code",
   "execution_count": 17,
   "id": "ec93fc28-c9fd-44fd-909d-ce9199e78de5",
   "metadata": {},
   "outputs": [],
   "source": [
    "mean_test_im = np.mean(test_ims,axis = 0)"
   ]
  },
  {
   "cell_type": "code",
   "execution_count": 18,
   "id": "08f7b8d2-49e2-440e-b4d7-69b2732e46b3",
   "metadata": {},
   "outputs": [],
   "source": [
    "mean_test_im = (mean_test_im - np.min(mean_test_im)) / np.max(mean_test_im)"
   ]
  },
  {
   "cell_type": "code",
   "execution_count": 19,
   "id": "15578c08-fbb5-4f01-a0ab-afdaf1891a6c",
   "metadata": {},
   "outputs": [
    {
     "data": {
      "text/plain": [
       "0.0"
      ]
     },
     "execution_count": 19,
     "metadata": {},
     "output_type": "execute_result"
    }
   ],
   "source": [
    "np.min(mean_test_im)"
   ]
  },
  {
   "cell_type": "code",
   "execution_count": 27,
   "id": "42987690-28ee-4c27-97b0-2e9914eef481",
   "metadata": {},
   "outputs": [],
   "source": [
    "x = np.linspace(-49, 50, 100)\n",
    "y = np.linspace(-49, 50, 100)\n",
    "x, y = np.meshgrid(x, y)\n",
    "\n",
    "num_atoms = 100000\n",
    "dimensions = 2\n",
    "temp = 150\n",
    "\n",
    "trans_temp = (num_atoms/(2*1*1.645))**(1/dimensions)\n",
    "num_BEC_atoms = num_atoms*(1-(temp/trans_temp)**dimensions)\n",
    "\n",
    "actual = analytical_eq((x,y),0,0,num_BEC_atoms,temp)"
   ]
  },
  {
   "cell_type": "code",
   "execution_count": 37,
   "id": "2ac22dc6-5b19-4ea8-adc3-766065d87033",
   "metadata": {},
   "outputs": [
    {
     "data": {
      "text/plain": [
       "(100, 100)"
      ]
     },
     "execution_count": 37,
     "metadata": {},
     "output_type": "execute_result"
    }
   ],
   "source": [
    "length = 100\n",
    "actual = np.reshape(actual,(length,length))\n",
    "actual.shape"
   ]
  },
  {
   "cell_type": "code",
   "execution_count": 45,
   "id": "4ab791b5-630e-4932-8659-0e11c437c6be",
   "metadata": {},
   "outputs": [
    {
     "data": {
      "text/plain": [
       "<matplotlib.legend.Legend at 0x29e54c490>"
      ]
     },
     "execution_count": 45,
     "metadata": {},
     "output_type": "execute_result"
    },
    {
     "data": {
      "image/png": "[encoded data removed]",
      "text/plain": [
       "<Figure size 432x288 with 1 Axes>"
      ]
     },
     "metadata": {
      "needs_background": "light"
     },
     "output_type": "display_data"
    }
   ],
   "source": [
    "#mean gaussian\n",
    "\n",
    "row = 0\n",
    "\n",
    "plt.plot(np.arange(len(mean_test_im[0])),mean_test_im[row],label = \"mean\")\n",
    "plt.plot(np.arange(len(mean_test_im[0])),actual[row],label = \"actual\")\n",
    "plt.legend()"
   ]
  },
  {
   "cell_type": "code",
   "execution_count": 306,
   "id": "ceb136f8-d144-4a3c-9e60-f122b0a268e4",
   "metadata": {},
   "outputs": [],
   "source": [
    "indx = 0\n",
    "\n",
    "x = np.linspace(-length//2+1, length//2, length)\n",
    "y = np.linspace(-length//2+1, length//2, length)\n",
    "x, y = np.meshgrid(x, y)\n",
    "\n",
    "initial_guess = (5,0,40000,150)\n",
    "\n",
    "check_im = test_ims[indx]\n",
    "\n",
    "new_im = check_im.ravel()\n",
    "\n",
    "popt, _ = opt.curve_fit(analytical_eq, (x, y), new_im, p0=initial_guess,bounds = ([-np.inf,-np.inf,0,0],[np.inf,np.inf,100000,360]))"
   ]
  },
  {
   "cell_type": "code",
   "execution_count": 307,
   "id": "dc57f56c-5966-43c8-85d9-d0bbf6784e5a",
   "metadata": {},
   "outputs": [
    {
     "data": {
      "text/plain": [
       "array([ 4.97005080e+00, -4.09634622e-01,  2.69244241e+04,  6.44691250e+00])"
      ]
     },
     "execution_count": 307,
     "metadata": {},
     "output_type": "execute_result"
    }
   ],
   "source": [
    "popt"
   ]
  },
  {
   "cell_type": "code",
   "execution_count": 308,
   "id": "8d5d0109-c35d-4611-b18b-ee593c657c23",
   "metadata": {},
   "outputs": [
    {
     "data": {
      "text/plain": [
       "array([  138.05248881, 37297.56899456, 37459.        ])"
      ]
     },
     "execution_count": 308,
     "metadata": {},
     "output_type": "execute_result"
    }
   ],
   "source": [
    "labs[indx]"
   ]
  },
  {
   "cell_type": "code",
   "execution_count": 310,
   "id": "35c6121e-df26-4cd6-b341-752e7ad66e1a",
   "metadata": {},
   "outputs": [
    {
     "data": {
      "image/png": "[encoded data removed]",
      "text/plain": [
       "<Figure size 432x288 with 1 Axes>"
      ]
     },
     "metadata": {
      "needs_background": "light"
     },
     "output_type": "display_data"
    }
   ],
   "source": [
    "data_fitted = analytical_eq((x, y), *popt)\n",
    "\n",
    "fig, ax = plt.subplots(1, 1)\n",
    "ax.imshow(new_im.reshape(length, length), cmap=plt.cm.jet, origin='lower',\n",
    "    extent=(x.min(), x.max(), y.min(), y.max()))\n",
    "ax.contour(x, y, data_fitted.reshape(length, length), 5, colors='w')\n",
    "plt.show()"
   ]
  },
  {
   "cell_type": "code",
   "execution_count": 340,
   "id": "d03add14-d70c-412d-9c52-d1a0c7b22d40",
   "metadata": {},
   "outputs": [
    {
     "data": {
      "text/plain": [
       "<matplotlib.legend.Legend at 0x2bc4d0eb0>"
      ]
     },
     "execution_count": 340,
     "metadata": {},
     "output_type": "execute_result"
    },
    {
     "data": {
      "image/png": "[encoded data removed]",
      "text/plain": [
       "<Figure size 432x288 with 1 Axes>"
      ]
     },
     "metadata": {
      "needs_background": "light"
     },
     "output_type": "display_data"
    }
   ],
   "source": [
    "#fit gaussian vs noisy gaussian\n",
    "\n",
    "row = 70\n",
    "\n",
    "analytical_gaussian_image = analytical_eq((x,y),popt[0],popt[1],labs[indx][1],labs[indx][0]).reshape(length,length)\n",
    "\n",
    "check = data_fitted.reshape(length,length)\n",
    "# plt.plot(np.arange(len(check[0])),check[row],label = \"fit\")\n",
    "plt.plot(np.arange(len(check[0])),test_ims[indx,row],label = \"actual\")\n",
    "plt.plot(np.arange(len(check[0])),analytical_gaussian_image[row],label = \"analytical\")\n",
    "plt.legend()"
   ]
  },
  {
   "cell_type": "code",
   "execution_count": 252,
   "id": "17f0254a-b7e9-459c-8941-99515f1173bc",
   "metadata": {},
   "outputs": [
    {
     "data": {
      "image/png": "[encoded data removed]",
      "text/plain": [
       "<Figure size 432x288 with 1 Axes>"
      ]
     },
     "metadata": {
      "needs_background": "light"
     },
     "output_type": "display_data"
    }
   ],
   "source": [
    "fig, ax = plt.subplots(1, 1)\n",
    "ax.imshow(analytical_gaussian_image, cmap=plt.cm.jet, origin='lower',\n",
    "    extent=(x.min(), x.max(), y.min(), y.max()))\n",
    "plt.show()"
   ]
  },
  {
   "cell_type": "code",
   "execution_count": null,
   "id": "f2d79a04-9162-49ad-906d-cf935bb0f458",
   "metadata": {},
   "outputs": [],
   "source": [
    "initial_guess = (0,0,50000,175)\n",
    "ng_preds = []\n",
    "origins = []\n",
    "for i,im in enumerate(test_ims):\n",
    "    popt, _ = opt.curve_fit(analytical_eq, (x, y), im.ravel(), p0=initial_guess)\n",
    "    xo,yo = popt[:2]\n",
    "    pred_No = popt[2]\n",
    "    pred_T = popt[3]\n",
    "    if pred_No < 0:\n",
    "        pred_No = 0\n",
    "    if pred_T < 0:\n",
    "        pred_T = 0\n",
    "    ng_preds.append((pred_T,pred_No))\n",
    "    origins.append((xo,yo))\n",
    "        \n",
    "ng_preds = np.asarray(ng_preds)"
   ]
  },
  {
   "cell_type": "code",
   "execution_count": null,
   "id": "20c3fec4-71d5-43fa-89d7-6972dee962af",
   "metadata": {},
   "outputs": [],
   "source": [
    "ng_preds[0]"
   ]
  },
  {
   "cell_type": "code",
   "execution_count": null,
   "id": "ff1ae1f7-0cae-4369-a6c9-24b7e7fa6d06",
   "metadata": {},
   "outputs": [],
   "source": [
    "labs[5]"
   ]
  },
  {
   "cell_type": "code",
   "execution_count": null,
   "id": "caf03340-a1ca-47c0-90b0-e20688c07268",
   "metadata": {},
   "outputs": [],
   "source": [
    "ng_fit_N_rmse = mean_squared_error(ng_preds[:,-1],labs[:,1],squared = False)"
   ]
  },
  {
   "cell_type": "code",
   "execution_count": null,
   "id": "2eb8fcd9-4ac6-4dae-b55b-763042d400f1",
   "metadata": {},
   "outputs": [],
   "source": [
    "ng_fit_N_rmse"
   ]
  },
  {
   "cell_type": "code",
   "execution_count": null,
   "id": "55588bb1-6ff3-4605-a576-4a7ba08e6612",
   "metadata": {},
   "outputs": [],
   "source": [
    "ng_preds[5]"
   ]
  },
  {
   "cell_type": "code",
   "execution_count": null,
   "id": "85fc76fc-176a-4de5-9628-8bdd0789e267",
   "metadata": {},
   "outputs": [],
   "source": [
    "labs[0]"
   ]
  },
  {
   "cell_type": "code",
   "execution_count": null,
   "id": "f76a1a6d-b4d0-46da-9601-eb6636d5beda",
   "metadata": {},
   "outputs": [],
   "source": []
  },
  {
   "cell_type": "code",
   "execution_count": null,
   "id": "5363f8de-f0d2-4ca5-b861-a04abd87de55",
   "metadata": {},
   "outputs": [],
   "source": [
    "origins[indx]"
   ]
  },
  {
   "cell_type": "code",
   "execution_count": null,
   "id": "ed8fab56-6490-489d-a020-d0c4eb698ad8",
   "metadata": {},
   "outputs": [],
   "source": [
    "#fit gaussian vs noisy gaussian\n",
    "\n",
    "row = 50\n",
    "\n",
    "\n",
    "check = data_fitted.reshape(100,100)\n",
    "plt.plot(np.arange(len(check[0])),check[row],label = \"fit\")\n",
    "plt.plot(np.arange(len(check[0])),test_ims[indx,row],label = \"actual\")\n",
    "plt.legend()"
   ]
  },
  {
   "cell_type": "code",
   "execution_count": null,
   "id": "72896eb4-cb7e-4e6c-962e-b8bf99d6003d",
   "metadata": {},
   "outputs": [],
   "source": [
    "labs[indx]"
   ]
  },
  {
   "cell_type": "code",
   "execution_count": null,
   "id": "c7b36478-4dd5-4d9f-9ec0-15b4674e8f6a",
   "metadata": {},
   "outputs": [],
   "source": [
    "test_ims[indx,:,col]"
   ]
  },
  {
   "cell_type": "code",
   "execution_count": null,
   "id": "3f4f557c-8d74-4c3c-b767-4f118527960e",
   "metadata": {},
   "outputs": [],
   "source": [
    "np.max(test_ims[indx])"
   ]
  },
  {
   "cell_type": "code",
   "execution_count": null,
   "id": "a4584fd3-b99f-44cc-a478-c16ecb3f78de",
   "metadata": {},
   "outputs": [],
   "source": [
    "num_atoms = 100000\n",
    "temp_ratio = (num_atoms/(2*1*1.645))**0.5\n",
    "length = 100\n",
    "dimensions = 2\n",
    "\n",
    "x = np.linspace(-length//2+1, length//2, length)\n",
    "y = np.linspace(-length//2+1, length//2, length)\n",
    "x, y = np.meshgrid(x, y)\n",
    "\n",
    "        \n",
    "        \n",
    "def generate_image_without_sampling(temp_ratio,length,num_atoms,dimensions,x,y):\n",
    "\n",
    "    res = np.zeros((length,length))\n",
    "    \n",
    "    trans_temp = (num_atoms/(2*1*1.645))**(1/dimensions)\n",
    "    \n",
    "    temp = np.random.uniform(trans_temp//2,int(trans_temp*2))\n",
    "\n",
    "    num_BEC_atoms = 0\n",
    "    if temp < trans_temp:\n",
    "        num_BEC_atoms = num_atoms*(1-(temp/trans_temp)**dimensions)\n",
    "        \n",
    "    for i in range(length):\n",
    "        for j in range(length):\n",
    "\n",
    "            res[i,j] = (num_BEC_atoms/math.pi)*np.exp(-(x[i,j])**2)*np.exp(-(y[i,j])**2) + ((100000-num_BEC_atoms)/(2*math.pi*temp))*np.exp((-(x[i,j])**2)/(2*temp))*np.exp((-(y[i,j])**2)/(2*temp)) + np.random.normal()\n",
    "\n",
    "    return res,temp,num_BEC_atoms\n",
    "\n",
    "test_im_count = 100\n",
    "test_ims = []\n",
    "labs = []\n",
    "for i in range(test_im_count):\n",
    "    curr_im, t, n = generate_image_without_sampling(temp_ratio,length,num_atoms,dimensions,x,y)\n",
    "    \n",
    "    test_ims.append(np.asarray(curr_im))\n",
    "    labs.append((t,n))\n",
    "\n",
    "test_ims = np.stack(test_ims)\n",
    "labs = np.stack(labs)"
   ]
  },
  {
   "cell_type": "code",
   "execution_count": null,
   "id": "160aa3ed-dcc6-4454-b8c0-6e1b7bc92219",
   "metadata": {},
   "outputs": [],
   "source": [
    "initial_guess = (0,0,50000,175)\n",
    "ng_preds = []\n",
    "origins = []\n",
    "for i,im in enumerate(test_ims):\n",
    "    popt, _ = opt.curve_fit(analytical_eq, (x, y), im.ravel(), p0=initial_guess)\n",
    "    xo,yo = popt[:2]\n",
    "    pred_No = popt[2]\n",
    "    pred_T = popt[3]\n",
    "    if pred_No < 0:\n",
    "        pred_No = 0\n",
    "    if pred_T < 0:\n",
    "        pred_T = 0\n",
    "    ng_preds.append((pred_T,pred_No))\n",
    "    origins.append((xo,yo))\n",
    "        \n",
    "ng_preds = np.asarray(ng_preds)"
   ]
  },
  {
   "cell_type": "code",
   "execution_count": null,
   "id": "23e14735-2d43-4308-9fd7-00f88d9fa9ce",
   "metadata": {},
   "outputs": [],
   "source": [
    "check_indx = 5"
   ]
  },
  {
   "cell_type": "code",
   "execution_count": null,
   "id": "3836065c-99f1-442a-97e2-3c99a04a239f",
   "metadata": {},
   "outputs": [],
   "source": [
    "data_fitted = analytical_eq((x, y), *origins[check_indx],*ng_preds[check_indx][::-1])\n",
    "\n",
    "fig, ax = plt.subplots(1, 1)\n",
    "ax.imshow(test_ims[0].reshape(100, 100), cmap=plt.cm.jet, origin='lower',\n",
    "    extent=(x.min(), x.max(), y.min(), y.max()))\n",
    "ax.contour(x, y, data_fitted.reshape(100, 100),10, colors='w')\n",
    "plt.show()"
   ]
  },
  {
   "cell_type": "code",
   "execution_count": null,
   "id": "d4abcd62-61ff-4c83-b1dc-c1a2c522f200",
   "metadata": {},
   "outputs": [],
   "source": [
    "#fit gaussian vs noisy gaussian\n",
    "\n",
    "col = 49\n",
    "\n",
    "check = data_fitted.reshape(100,100)\n",
    "plt.plot(np.arange(len(check[0])),check[:,col],label = \"fit\")\n",
    "plt.plot(np.arange(len(check[0])),test_ims[check_indx,:,col],label = \"actual\")\n",
    "plt.legend()"
   ]
  },
  {
   "cell_type": "code",
   "execution_count": null,
   "id": "69a65f6c-41cb-4274-8221-e2637d4b8707",
   "metadata": {},
   "outputs": [],
   "source": [
    "labs[check_indx]"
   ]
  },
  {
   "cell_type": "code",
   "execution_count": null,
   "id": "964a3c5b-3500-4f61-8ba2-912a51998dd9",
   "metadata": {},
   "outputs": [],
   "source": [
    "ng_preds[check_indx]"
   ]
  },
  {
   "cell_type": "code",
   "execution_count": null,
   "id": "e3a24008-c2db-465d-86b5-44eadcc238d8",
   "metadata": {},
   "outputs": [],
   "source": [
    "ng_fit_T_rmse = mean_squared_error(ng_preds[:,0],labs[:,0],squared = False)"
   ]
  },
  {
   "cell_type": "code",
   "execution_count": null,
   "id": "2e05b2e5-ac1a-4e5a-8291-8eb0b7b1c1ed",
   "metadata": {},
   "outputs": [],
   "source": [
    "ng_fit_T_rmse"
   ]
  },
  {
   "cell_type": "code",
   "execution_count": null,
   "id": "43840951-0821-4b77-9340-246cd3c33660",
   "metadata": {},
   "outputs": [],
   "source": [
    "ng_fit_N_rmse = mean_squared_error(ng_preds[:,1],labs[:,1],squared = False)"
   ]
  },
  {
   "cell_type": "code",
   "execution_count": null,
   "id": "b74f0800-b3f5-4472-83e1-d164837b2705",
   "metadata": {},
   "outputs": [],
   "source": [
    "ng_fit_N_rmse"
   ]
  }
 ],
 "metadata": {
  "kernelspec": {
   "display_name": "Python 3 (ipykernel)",
   "language": "python",
   "name": "python3"
  },
  "language_info": {
   "codemirror_mode": {
    "name": "ipython",
    "version": 3
   },
   "file_extension": ".py",
   "mimetype": "text/x-python",
   "name": "python",
   "nbconvert_exporter": "python",
   "pygments_lexer": "ipython3",
   "version": "3.10.5"
  }
 },
 "nbformat": 4,
 "nbformat_minor": 5
}
