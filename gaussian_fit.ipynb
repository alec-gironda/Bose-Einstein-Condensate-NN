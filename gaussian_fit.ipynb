{
 "cells": [
  {
   "cell_type": "markdown",
   "id": "7a27fab4-7ec1-4e23-941c-58a00c880688",
   "metadata": {},
   "source": [
    "imports"
   ]
  },
  {
   "cell_type": "code",
   "execution_count": 8,
   "id": "8c25e1a6-e9e8-4331-8976-1e8511f4344f",
   "metadata": {},
   "outputs": [],
   "source": [
    "import os\n",
    "#only print error messages from tensorflow\n",
    "import tensorflow as tf\n",
    "import numpy as np\n",
    "import math\n",
    "import time\n",
    "import pickle\n",
    "import bz2\n",
    "import matplotlib.pyplot as plt\n",
    "from sklearn.preprocessing import MinMaxScaler,StandardScaler,MaxAbsScaler\n",
    "import copy\n",
    "from sklearn.metrics import mean_squared_error,mean_absolute_error\n",
    "import scipy.optimize as opt\n",
    "from itertools import chain"
   ]
  },
  {
   "cell_type": "code",
   "execution_count": 9,
   "id": "2180e454-e1d8-441b-91bd-26d01433dd3c",
   "metadata": {},
   "outputs": [],
   "source": [
    "#https://stackoverflow.com/questions/21566379/fitting-a-2d-gaussian-function-using-scipy-optimize-curve-fit-valueerror-and-m"
   ]
  },
  {
   "cell_type": "code",
   "execution_count": 70,
   "id": "ec1b32db-e98c-43bb-8d34-09ccf9a53c5f",
   "metadata": {},
   "outputs": [],
   "source": [
    "def analytical_eq(xy,xo,yo,No,T):   \n",
    "    x, y = xy\n",
    "    \n",
    "    Nex = 100000-No\n",
    "    \n",
    "    # out = (No/math.pi)*np.exp(-(x-xo)**2)*np.exp(-(y-yo)**2) + (Nex/(2*math.pi*T))*np.exp((-(x-xo)**2)/(2*T))*np.exp((-(y-yo)**2)/(2*T))\n",
    "    out = (Nex/(2*math.pi*T))*np.exp((-(x-xo)**2)/(2*T))*np.exp((-(y-yo)**2)/(2*T))\n",
    "\n",
    "    # out = (out - np.min(out)) / np.max(out)\n",
    "    return out"
   ]
  },
  {
   "cell_type": "code",
   "execution_count": 130,
   "id": "43f55044-46ef-4910-a04a-b7ab2114f4a9",
   "metadata": {},
   "outputs": [],
   "source": [
    "num_atoms = 100000\n",
    "length = 100\n",
    "dimensions = 2\n",
    "        \n",
    "        \n",
    "def generate_image(length,num_atoms,dimensions,temp):\n",
    "    '''\n",
    "    generate image using sampling\n",
    "    '''\n",
    "\n",
    "    x_list = []\n",
    "    y_list = []\n",
    "    \n",
    "    trans_temp = (num_atoms/(2*1*1.645))**(1/dimensions)\n",
    "    # trans_temp = 174\n",
    "    # temp = np.random.uniform(trans_temp//2,int(trans_temp*2))\n",
    "    # temp = 300\n",
    "    \n",
    "    temp_ratio = temp/trans_temp\n",
    "\n",
    "    num_BEC_atoms = 0\n",
    "    if temp < trans_temp:\n",
    "        num_BEC_atoms = num_atoms*(1-(temp/trans_temp)**dimensions)\n",
    "        \n",
    "    count = 0\n",
    "    \n",
    "    for i in range(num_atoms):\n",
    "        probability = np.random.rand()\n",
    "        if temp_ratio >1 :\n",
    "            temp_ratio = 1\n",
    "        BEC_probability = (1-(temp_ratio)**dimensions)\n",
    "        if probability <= BEC_probability:\n",
    "            count += 1\n",
    "            x_list.append(np.random.normal(0,math.sqrt(1/2)))\n",
    "            y_list.append(np.random.normal(0,math.sqrt(1/2)))\n",
    "\n",
    "        else:\n",
    "            x_list.append(np.random.normal(0,math.sqrt(temp)))\n",
    "            y_list.append(np.random.normal(0,math.sqrt(temp)))\n",
    "\n",
    "\n",
    "\n",
    "    hist = np.histogram2d(x_list,y_list,length)[0]\n",
    "    hist = hist.tolist()\n",
    "    return hist,temp,num_BEC_atoms,count\n",
    "\n",
    "test_im_count = 10\n",
    "test_ims = []\n",
    "labs = []\n",
    "temp = 150\n",
    "for i in range(test_im_count):\n",
    "    curr_im, t, n, count = generate_image(length,num_atoms,dimensions,temp)\n",
    "    \n",
    "    test_ims.append(np.asarray(curr_im))\n",
    "    labs.append((t,n,count))\n",
    "\n",
    "test_ims = np.stack(test_ims)\n",
    "labs = np.stack(labs)"
   ]
  },
  {
   "cell_type": "code",
   "execution_count": 131,
   "id": "0b469399-e73b-4282-b203-695659ecac30",
   "metadata": {},
   "outputs": [
    {
     "data": {
      "text/plain": [
       "(10, 100, 100)"
      ]
     },
     "execution_count": 131,
     "metadata": {},
     "output_type": "execute_result"
    }
   ],
   "source": [
    "test_ims.shape"
   ]
  },
  {
   "cell_type": "code",
   "execution_count": 132,
   "id": "7659cf99-cd1c-454c-aab0-49698d96744c",
   "metadata": {},
   "outputs": [],
   "source": [
    "stdev_test_ims = np.std(test_ims,axis = 0)"
   ]
  },
  {
   "cell_type": "code",
   "execution_count": 133,
   "id": "29412a38-dcf4-4d08-8978-ad4e18bcd248",
   "metadata": {},
   "outputs": [],
   "source": [
    "std_err = stdev_test_ims / np.sqrt(test_ims.shape[0])"
   ]
  },
  {
   "cell_type": "code",
   "execution_count": 134,
   "id": "349ff1e4-66d0-4d19-89a5-ef25cd5da79a",
   "metadata": {},
   "outputs": [],
   "source": [
    "# std_err = (std_err - np.min(std_err)) / np.max(std_err)"
   ]
  },
  {
   "cell_type": "code",
   "execution_count": 135,
   "id": "ec93fc28-c9fd-44fd-909d-ce9199e78de5",
   "metadata": {},
   "outputs": [],
   "source": [
    "mean_test_im = np.mean(test_ims,axis = 0)"
   ]
  },
  {
   "cell_type": "code",
   "execution_count": 136,
   "id": "08f7b8d2-49e2-440e-b4d7-69b2732e46b3",
   "metadata": {},
   "outputs": [],
   "source": [
    "# mean_test_im = (mean_test_im - np.min(mean_test_im)) / np.max(mean_test_im)"
   ]
  },
  {
   "cell_type": "code",
   "execution_count": 137,
   "id": "db863cfe-b074-4e28-92a7-b3b947d1b0de",
   "metadata": {},
   "outputs": [
    {
     "data": {
      "text/plain": [
       "100000.0"
      ]
     },
     "execution_count": 137,
     "metadata": {},
     "output_type": "execute_result"
    }
   ],
   "source": [
    "summ_all_mean = np.sum(mean_test_im)\n",
    "summ_all_mean"
   ]
  },
  {
   "cell_type": "code",
   "execution_count": 138,
   "id": "87b7fd62-b93c-4cf9-8d17-1823db875c65",
   "metadata": {},
   "outputs": [],
   "source": [
    "pxy = mean_test_im/summ_all_mean\n",
    "px = np.sum(pxy,axis = 1)\n",
    "res = px * np.linspace(-49, 50, 100)\n",
    "expected_val_x = np.sum(res)\n",
    "expected_val_x2 = np.sum(px * np.linspace(-49, 50, 100) ** 2)"
   ]
  },
  {
   "cell_type": "code",
   "execution_count": 139,
   "id": "a7887003-58b2-4ae9-9bb5-07066e78636d",
   "metadata": {},
   "outputs": [
    {
     "data": {
      "text/plain": [
       "1.0"
      ]
     },
     "execution_count": 139,
     "metadata": {},
     "output_type": "execute_result"
    }
   ],
   "source": [
    "np.sum(px)"
   ]
  },
  {
   "cell_type": "code",
   "execution_count": 140,
   "id": "cd13194b-d1aa-4fcf-810d-66faecd97957",
   "metadata": {},
   "outputs": [
    {
     "data": {
      "text/plain": [
       "-0.5465019999999999"
      ]
     },
     "execution_count": 140,
     "metadata": {},
     "output_type": "execute_result"
    }
   ],
   "source": [
    "expected_val_x"
   ]
  },
  {
   "cell_type": "code",
   "execution_count": 141,
   "id": "a5bb90aa-4f49-4a85-99a1-9d70a6fecfb0",
   "metadata": {},
   "outputs": [
    {
     "data": {
      "text/plain": [
       "98.817826"
      ]
     },
     "execution_count": 141,
     "metadata": {},
     "output_type": "execute_result"
    }
   ],
   "source": [
    "expected_val_x2"
   ]
  },
  {
   "cell_type": "code",
   "execution_count": 142,
   "id": "7c487dc5-ee98-4cda-b773-992b9ae4cc19",
   "metadata": {},
   "outputs": [],
   "source": [
    "var_sampling = expected_val_x2 - expected_val_x**2"
   ]
  },
  {
   "cell_type": "code",
   "execution_count": 143,
   "id": "42987690-28ee-4c27-97b0-2e9914eef481",
   "metadata": {},
   "outputs": [],
   "source": [
    "x = np.linspace(-49, 50, 100)\n",
    "y = np.linspace(-49, 50, 100)\n",
    "x, y = np.meshgrid(x, y)\n",
    "\n",
    "num_atoms = 100000\n",
    "dimensions = 2\n",
    "# temp = 300\n",
    "\n",
    "trans_temp = (num_atoms/(2*1*1.645))**(1/dimensions)\n",
    "# num_BEC_atoms = num_atoms*(1-(temp/trans_temp)**dimensions)\n",
    "num_BEC_atoms = 0\n",
    "\n",
    "actual = analytical_eq((x,y),0,0,num_BEC_atoms,temp)"
   ]
  },
  {
   "cell_type": "code",
   "execution_count": 144,
   "id": "04fcc355-eddb-43e5-a8d6-cca68ca6fa43",
   "metadata": {},
   "outputs": [
    {
     "data": {
      "text/plain": [
       "99991.0019198216"
      ]
     },
     "execution_count": 144,
     "metadata": {},
     "output_type": "execute_result"
    }
   ],
   "source": [
    "summ_actual = np.sum(actual)\n",
    "summ_actual"
   ]
  },
  {
   "cell_type": "code",
   "execution_count": 145,
   "id": "c5cfcf39-a83b-43a5-b2c2-ae38e44e59ec",
   "metadata": {},
   "outputs": [],
   "source": [
    "pxy_actual = actual/summ_actual\n",
    "px_actual = np.sum(pxy_actual,axis = 1)\n",
    "res = px_actual * np.linspace(-49, 50, 100)\n",
    "expected_val_x_actual = np.sum(res)\n",
    "expected_val_x2_actual = np.sum(px_actual * np.linspace(-49, 50, 100) ** 2)"
   ]
  },
  {
   "cell_type": "code",
   "execution_count": 146,
   "id": "8b85687f-048c-4a6c-9208-4f29e3b82747",
   "metadata": {},
   "outputs": [
    {
     "data": {
      "text/plain": [
       "0.00039150138074510655"
      ]
     },
     "execution_count": 146,
     "metadata": {},
     "output_type": "execute_result"
    }
   ],
   "source": [
    "expected_val_x_actual"
   ]
  },
  {
   "cell_type": "code",
   "execution_count": 147,
   "id": "a3a4ccdb-4711-4ca1-aea1-6d04e7900e27",
   "metadata": {},
   "outputs": [
    {
     "data": {
      "text/plain": [
       "149.88165874643158"
      ]
     },
     "execution_count": 147,
     "metadata": {},
     "output_type": "execute_result"
    }
   ],
   "source": [
    "expected_val_x2_actual"
   ]
  },
  {
   "cell_type": "code",
   "execution_count": 148,
   "id": "d9df5ec5-a982-4927-a6d6-66e72d513636",
   "metadata": {},
   "outputs": [
    {
     "data": {
      "text/plain": [
       "149.88165859315825"
      ]
     },
     "execution_count": 148,
     "metadata": {},
     "output_type": "execute_result"
    }
   ],
   "source": [
    "var_actual = expected_val_x2_actual - expected_val_x_actual**2\n",
    "var_actual"
   ]
  },
  {
   "cell_type": "code",
   "execution_count": 149,
   "id": "2ac22dc6-5b19-4ea8-adc3-766065d87033",
   "metadata": {},
   "outputs": [],
   "source": [
    "# length = 100\n",
    "# actual = np.reshape(actual,(length,length))\n",
    "# actual.shape"
   ]
  },
  {
   "cell_type": "code",
   "execution_count": 150,
   "id": "2249185c-31d7-4cdc-b2a4-72462c001381",
   "metadata": {},
   "outputs": [
    {
     "name": "stdout",
     "output_type": "stream",
     "text": [
      "98.519161563996 149.88165859315825\n"
     ]
    }
   ],
   "source": [
    "print(var_sampling,var_actual)"
   ]
  },
  {
   "cell_type": "code",
   "execution_count": 113,
   "id": "4ab791b5-630e-4932-8659-0e11c437c6be",
   "metadata": {},
   "outputs": [
    {
     "data": {
      "text/plain": [
       "<matplotlib.legend.Legend at 0x280de7670>"
      ]
     },
     "execution_count": 113,
     "metadata": {},
     "output_type": "execute_result"
    },
    {
     "data": {
      "image/png": "[encoded data removed]",
      "text/plain": [
       "<Figure size 432x288 with 1 Axes>"
      ]
     },
     "metadata": {
      "needs_background": "light"
     },
     "output_type": "display_data"
    }
   ],
   "source": [
    "#mean gaussian\n",
    "\n",
    "row = 50\n",
    "\n",
    "plt.plot(np.arange(len(mean_test_im[0])),mean_test_im[row],label = \"mean\")\n",
    "plt.errorbar(np.arange(len(mean_test_im[0])),mean_test_im[row],yerr = std_err[row])\n",
    "plt.plot(np.arange(len(mean_test_im[0])),actual[row],label = \"analytical\")\n",
    "plt.legend()"
   ]
  },
  {
   "cell_type": "code",
   "execution_count": 114,
   "id": "a4584fd3-b99f-44cc-a478-c16ecb3f78de",
   "metadata": {},
   "outputs": [],
   "source": [
    "num_atoms = 100000\n",
    "temp_ratio = (num_atoms/(2*1*1.645))**0.5\n",
    "length = 100\n",
    "dimensions = 2\n",
    "\n",
    "x = np.linspace(-length//2+1, length//2, length)\n",
    "y = np.linspace(-length//2+1, length//2, length)\n",
    "x, y = np.meshgrid(x, y)\n",
    "\n",
    "        \n",
    "        \n",
    "def generate_image_without_sampling(temp_ratio,length,num_atoms,dimensions,x,y):\n",
    "\n",
    "    res = np.zeros((length,length))\n",
    "    \n",
    "    trans_temp = (num_atoms/(2*1*1.645))**(1/dimensions)\n",
    "    \n",
    "    temp = np.random.uniform(trans_temp//2,int(trans_temp*2))\n",
    "\n",
    "    num_BEC_atoms = 0\n",
    "    if temp < trans_temp:\n",
    "        num_BEC_atoms = num_atoms*(1-(temp/trans_temp)**dimensions)\n",
    "        \n",
    "    for i in range(length):\n",
    "        for j in range(length):\n",
    "\n",
    "            res[i,j] = (num_BEC_atoms/math.pi)*np.exp(-(x[i,j])**2)*np.exp(-(y[i,j])**2) + ((100000-num_BEC_atoms)/(2*math.pi*temp))*np.exp((-(x[i,j])**2)/(2*temp))*np.exp((-(y[i,j])**2)/(2*temp)) + np.random.normal()\n",
    "\n",
    "    return res,temp,num_BEC_atoms\n",
    "\n",
    "noisy_ims = []\n",
    "noisy_labs = []\n",
    "\n",
    "test_im_count = 1\n",
    "for i in range(test_im_count):\n",
    "    curr_im, t, n = generate_image_without_sampling(temp_ratio,length,num_atoms,dimensions,x,y)\n",
    "    \n",
    "    noisy_ims.append(np.asarray(curr_im))\n",
    "    noisy_labs.append((t,n))\n",
    "\n",
    "noisy_ims = np.stack(noisy_ims)\n",
    "noisy_labs = np.stack(noisy_labs)"
   ]
  },
  {
   "cell_type": "code",
   "execution_count": 115,
   "id": "86dba673-fed9-4f93-8ce1-1aaf9a1ae3df",
   "metadata": {},
   "outputs": [],
   "source": [
    "normalized_noisy_ims = []\n",
    "for im in noisy_ims:\n",
    "    normalized_noisy_ims.append((im - np.min(im))/np.max(im))\n",
    "normalized_noisy_ims = np.stack(normalized_noisy_ims)"
   ]
  },
  {
   "cell_type": "code",
   "execution_count": 116,
   "id": "160aa3ed-dcc6-4454-b8c0-6e1b7bc92219",
   "metadata": {},
   "outputs": [
    {
     "ename": "ValueError",
     "evalue": "operands could not be broadcast together with shapes (100,100) (10000,) ",
     "output_type": "error",
     "traceback": [
      "\u001b[0;31m---------------------------------------------------------------------------\u001b[0m",
      "\u001b[0;31mValueError\u001b[0m                                Traceback (most recent call last)",
      "Input \u001b[0;32mIn [116]\u001b[0m, in \u001b[0;36m<cell line: 4>\u001b[0;34m()\u001b[0m\n\u001b[1;32m      3\u001b[0m noisy_origins \u001b[38;5;241m=\u001b[39m []\n\u001b[1;32m      4\u001b[0m \u001b[38;5;28;01mfor\u001b[39;00m i,im \u001b[38;5;129;01min\u001b[39;00m \u001b[38;5;28menumerate\u001b[39m(normalized_noisy_ims):\n\u001b[0;32m----> 5\u001b[0m     popt, _ \u001b[38;5;241m=\u001b[39m \u001b[43mopt\u001b[49m\u001b[38;5;241;43m.\u001b[39;49m\u001b[43mcurve_fit\u001b[49m\u001b[43m(\u001b[49m\u001b[43manalytical_eq\u001b[49m\u001b[43m,\u001b[49m\u001b[43m \u001b[49m\u001b[43m(\u001b[49m\u001b[43mx\u001b[49m\u001b[43m,\u001b[49m\u001b[43m \u001b[49m\u001b[43my\u001b[49m\u001b[43m)\u001b[49m\u001b[43m,\u001b[49m\u001b[43m \u001b[49m\u001b[43mim\u001b[49m\u001b[38;5;241;43m.\u001b[39;49m\u001b[43mravel\u001b[49m\u001b[43m(\u001b[49m\u001b[43m)\u001b[49m\u001b[43m,\u001b[49m\u001b[43m \u001b[49m\u001b[43mp0\u001b[49m\u001b[38;5;241;43m=\u001b[39;49m\u001b[43minitial_guess\u001b[49m\u001b[43m)\u001b[49m\n\u001b[1;32m      6\u001b[0m     xo,yo \u001b[38;5;241m=\u001b[39m popt[:\u001b[38;5;241m2\u001b[39m]\n\u001b[1;32m      7\u001b[0m     pred_No \u001b[38;5;241m=\u001b[39m popt[\u001b[38;5;241m2\u001b[39m]\n",
      "File \u001b[0;32m~/miniforge3/envs/tf/lib/python3.10/site-packages/scipy/optimize/_minpack_py.py:789\u001b[0m, in \u001b[0;36mcurve_fit\u001b[0;34m(f, xdata, ydata, p0, sigma, absolute_sigma, check_finite, bounds, method, jac, **kwargs)\u001b[0m\n\u001b[1;32m    787\u001b[0m \u001b[38;5;66;03m# Remove full_output from kwargs, otherwise we're passing it in twice.\u001b[39;00m\n\u001b[1;32m    788\u001b[0m return_full \u001b[38;5;241m=\u001b[39m kwargs\u001b[38;5;241m.\u001b[39mpop(\u001b[38;5;124m'\u001b[39m\u001b[38;5;124mfull_output\u001b[39m\u001b[38;5;124m'\u001b[39m, \u001b[38;5;28;01mFalse\u001b[39;00m)\n\u001b[0;32m--> 789\u001b[0m res \u001b[38;5;241m=\u001b[39m \u001b[43mleastsq\u001b[49m\u001b[43m(\u001b[49m\u001b[43mfunc\u001b[49m\u001b[43m,\u001b[49m\u001b[43m \u001b[49m\u001b[43mp0\u001b[49m\u001b[43m,\u001b[49m\u001b[43m \u001b[49m\u001b[43mDfun\u001b[49m\u001b[38;5;241;43m=\u001b[39;49m\u001b[43mjac\u001b[49m\u001b[43m,\u001b[49m\u001b[43m \u001b[49m\u001b[43mfull_output\u001b[49m\u001b[38;5;241;43m=\u001b[39;49m\u001b[38;5;241;43m1\u001b[39;49m\u001b[43m,\u001b[49m\u001b[43m \u001b[49m\u001b[38;5;241;43m*\u001b[39;49m\u001b[38;5;241;43m*\u001b[39;49m\u001b[43mkwargs\u001b[49m\u001b[43m)\u001b[49m\n\u001b[1;32m    790\u001b[0m popt, pcov, infodict, errmsg, ier \u001b[38;5;241m=\u001b[39m res\n\u001b[1;32m    791\u001b[0m ysize \u001b[38;5;241m=\u001b[39m \u001b[38;5;28mlen\u001b[39m(infodict[\u001b[38;5;124m'\u001b[39m\u001b[38;5;124mfvec\u001b[39m\u001b[38;5;124m'\u001b[39m])\n",
      "File \u001b[0;32m~/miniforge3/envs/tf/lib/python3.10/site-packages/scipy/optimize/_minpack_py.py:410\u001b[0m, in \u001b[0;36mleastsq\u001b[0;34m(func, x0, args, Dfun, full_output, col_deriv, ftol, xtol, gtol, maxfev, epsfcn, factor, diag)\u001b[0m\n\u001b[1;32m    408\u001b[0m \u001b[38;5;28;01mif\u001b[39;00m \u001b[38;5;129;01mnot\u001b[39;00m \u001b[38;5;28misinstance\u001b[39m(args, \u001b[38;5;28mtuple\u001b[39m):\n\u001b[1;32m    409\u001b[0m     args \u001b[38;5;241m=\u001b[39m (args,)\n\u001b[0;32m--> 410\u001b[0m shape, dtype \u001b[38;5;241m=\u001b[39m \u001b[43m_check_func\u001b[49m\u001b[43m(\u001b[49m\u001b[38;5;124;43m'\u001b[39;49m\u001b[38;5;124;43mleastsq\u001b[39;49m\u001b[38;5;124;43m'\u001b[39;49m\u001b[43m,\u001b[49m\u001b[43m \u001b[49m\u001b[38;5;124;43m'\u001b[39;49m\u001b[38;5;124;43mfunc\u001b[39;49m\u001b[38;5;124;43m'\u001b[39;49m\u001b[43m,\u001b[49m\u001b[43m \u001b[49m\u001b[43mfunc\u001b[49m\u001b[43m,\u001b[49m\u001b[43m \u001b[49m\u001b[43mx0\u001b[49m\u001b[43m,\u001b[49m\u001b[43m \u001b[49m\u001b[43margs\u001b[49m\u001b[43m,\u001b[49m\u001b[43m \u001b[49m\u001b[43mn\u001b[49m\u001b[43m)\u001b[49m\n\u001b[1;32m    411\u001b[0m m \u001b[38;5;241m=\u001b[39m shape[\u001b[38;5;241m0\u001b[39m]\n\u001b[1;32m    413\u001b[0m \u001b[38;5;28;01mif\u001b[39;00m n \u001b[38;5;241m>\u001b[39m m:\n",
      "File \u001b[0;32m~/miniforge3/envs/tf/lib/python3.10/site-packages/scipy/optimize/_minpack_py.py:24\u001b[0m, in \u001b[0;36m_check_func\u001b[0;34m(checker, argname, thefunc, x0, args, numinputs, output_shape)\u001b[0m\n\u001b[1;32m     22\u001b[0m \u001b[38;5;28;01mdef\u001b[39;00m \u001b[38;5;21m_check_func\u001b[39m(checker, argname, thefunc, x0, args, numinputs,\n\u001b[1;32m     23\u001b[0m                 output_shape\u001b[38;5;241m=\u001b[39m\u001b[38;5;28;01mNone\u001b[39;00m):\n\u001b[0;32m---> 24\u001b[0m     res \u001b[38;5;241m=\u001b[39m atleast_1d(\u001b[43mthefunc\u001b[49m\u001b[43m(\u001b[49m\u001b[38;5;241;43m*\u001b[39;49m\u001b[43m(\u001b[49m\u001b[43m(\u001b[49m\u001b[43mx0\u001b[49m\u001b[43m[\u001b[49m\u001b[43m:\u001b[49m\u001b[43mnuminputs\u001b[49m\u001b[43m]\u001b[49m\u001b[43m,\u001b[49m\u001b[43m)\u001b[49m\u001b[43m \u001b[49m\u001b[38;5;241;43m+\u001b[39;49m\u001b[43m \u001b[49m\u001b[43margs\u001b[49m\u001b[43m)\u001b[49m\u001b[43m)\u001b[49m)\n\u001b[1;32m     25\u001b[0m     \u001b[38;5;28;01mif\u001b[39;00m (output_shape \u001b[38;5;129;01mis\u001b[39;00m \u001b[38;5;129;01mnot\u001b[39;00m \u001b[38;5;28;01mNone\u001b[39;00m) \u001b[38;5;129;01mand\u001b[39;00m (shape(res) \u001b[38;5;241m!=\u001b[39m output_shape):\n\u001b[1;32m     26\u001b[0m         \u001b[38;5;28;01mif\u001b[39;00m (output_shape[\u001b[38;5;241m0\u001b[39m] \u001b[38;5;241m!=\u001b[39m \u001b[38;5;241m1\u001b[39m):\n",
      "File \u001b[0;32m~/miniforge3/envs/tf/lib/python3.10/site-packages/scipy/optimize/_minpack_py.py:485\u001b[0m, in \u001b[0;36m_wrap_func.<locals>.func_wrapped\u001b[0;34m(params)\u001b[0m\n\u001b[1;32m    484\u001b[0m \u001b[38;5;28;01mdef\u001b[39;00m \u001b[38;5;21mfunc_wrapped\u001b[39m(params):\n\u001b[0;32m--> 485\u001b[0m     \u001b[38;5;28;01mreturn\u001b[39;00m \u001b[43mfunc\u001b[49m\u001b[43m(\u001b[49m\u001b[43mxdata\u001b[49m\u001b[43m,\u001b[49m\u001b[43m \u001b[49m\u001b[38;5;241;43m*\u001b[39;49m\u001b[43mparams\u001b[49m\u001b[43m)\u001b[49m\u001b[43m \u001b[49m\u001b[38;5;241;43m-\u001b[39;49m\u001b[43m \u001b[49m\u001b[43mydata\u001b[49m\n",
      "\u001b[0;31mValueError\u001b[0m: operands could not be broadcast together with shapes (100,100) (10000,) "
     ]
    }
   ],
   "source": [
    "initial_guess = (0,0,50000,175)\n",
    "noisy_preds = []\n",
    "noisy_origins = []\n",
    "for i,im in enumerate(normalized_noisy_ims):\n",
    "    popt, _ = opt.curve_fit(analytical_eq, (x, y), im.ravel(), p0=initial_guess)\n",
    "    xo,yo = popt[:2]\n",
    "    pred_No = popt[2]\n",
    "    pred_T = popt[3]\n",
    "    if pred_No < 0:\n",
    "        pred_No = 0\n",
    "    if pred_T < 0:\n",
    "        pred_T = 0\n",
    "    noisy_preds.append((pred_T,pred_No))\n",
    "    noisy_origins.append((xo,yo))\n",
    "        \n",
    "noisy_preds = np.asarray(noisy_preds)"
   ]
  },
  {
   "cell_type": "code",
   "execution_count": null,
   "id": "23e14735-2d43-4308-9fd7-00f88d9fa9ce",
   "metadata": {},
   "outputs": [],
   "source": [
    "check_indx = 0"
   ]
  },
  {
   "cell_type": "code",
   "execution_count": 393,
   "id": "3836065c-99f1-442a-97e2-3c99a04a239f",
   "metadata": {},
   "outputs": [
    {
     "data": {
      "image/png": "[encoded data removed]",
      "text/plain": [
       "<Figure size 432x288 with 1 Axes>"
      ]
     },
     "metadata": {
      "needs_background": "light"
     },
     "output_type": "display_data"
    }
   ],
   "source": [
    "data_fitted = analytical_eq((x, y), *noisy_origins[check_indx],*noisy_preds[check_indx][::-1])\n",
    "\n",
    "fig, ax = plt.subplots(1, 1)\n",
    "ax.imshow(normalized_noisy_ims[0].reshape(100, 100), cmap=plt.cm.jet, origin='lower',\n",
    "    extent=(x.min(), x.max(), y.min(), y.max()))\n",
    "ax.contour(x, y, data_fitted.reshape(100, 100),10, colors='w')\n",
    "plt.show()"
   ]
  },
  {
   "cell_type": "code",
   "execution_count": 394,
   "id": "9f3b6d34-7007-4c68-b479-236eb3948b14",
   "metadata": {},
   "outputs": [],
   "source": [
    "noisy_analytical_solns = []\n",
    "for t,n in noisy_labs:\n",
    "    noisy_analytical_solns.append(analytical_eq((x,y),0,0,n,t))\n",
    "noisy_analytical_solns = np.array(noisy_analytical_solns)"
   ]
  },
  {
   "cell_type": "code",
   "execution_count": 395,
   "id": "aaeeba46-d691-4933-903a-12c6cf7a03cc",
   "metadata": {},
   "outputs": [],
   "source": [
    "length = 100\n",
    "noisy_analytical_solns = np.reshape(noisy_analytical_solns,(test_im_count,length,length))"
   ]
  },
  {
   "cell_type": "code",
   "execution_count": 397,
   "id": "d4abcd62-61ff-4c83-b1dc-c1a2c522f200",
   "metadata": {},
   "outputs": [
    {
     "data": {
      "text/plain": [
       "<matplotlib.legend.Legend at 0x29ade04c0>"
      ]
     },
     "execution_count": 397,
     "metadata": {},
     "output_type": "execute_result"
    },
    {
     "data": {
      "image/png": "[encoded data removed]",
      "text/plain": [
       "<Figure size 432x288 with 1 Axes>"
      ]
     },
     "metadata": {
      "needs_background": "light"
     },
     "output_type": "display_data"
    }
   ],
   "source": [
    "#fit gaussian vs noisy gaussian\n",
    "\n",
    "row = 50\n",
    "\n",
    "check = data_fitted.reshape(100,100)\n",
    "plt.plot(np.arange(len(check[0])),check[row],label = \"fit\")\n",
    "plt.plot(np.arange(len(check[0])),normalized_noisy_ims[check_indx,row],label = \"noisy\")\n",
    "plt.plot(np.arange(len(check[0])),noisy_analytical_solns[check_indx,row],label = \"analytical\")\n",
    "plt.legend()"
   ]
  },
  {
   "cell_type": "code",
   "execution_count": 232,
   "id": "69a65f6c-41cb-4274-8221-e2637d4b8707",
   "metadata": {},
   "outputs": [
    {
     "data": {
      "text/plain": [
       "array([  139.43210503, 36038.08380333])"
      ]
     },
     "execution_count": 232,
     "metadata": {},
     "output_type": "execute_result"
    }
   ],
   "source": [
    "noisy_labs[check_indx]"
   ]
  },
  {
   "cell_type": "code",
   "execution_count": 233,
   "id": "964a3c5b-3500-4f61-8ba2-912a51998dd9",
   "metadata": {},
   "outputs": [
    {
     "data": {
      "text/plain": [
       "array([  178.59729931, 30877.22892256])"
      ]
     },
     "execution_count": 233,
     "metadata": {},
     "output_type": "execute_result"
    }
   ],
   "source": [
    "noisy_preds[check_indx]"
   ]
  },
  {
   "cell_type": "code",
   "execution_count": 234,
   "id": "e3a24008-c2db-465d-86b5-44eadcc238d8",
   "metadata": {},
   "outputs": [],
   "source": [
    "noisy_fit_T_rmse = mean_squared_error(noisy_preds[:,0],noisy_labs[:,0],squared = False)"
   ]
  },
  {
   "cell_type": "code",
   "execution_count": 235,
   "id": "2e05b2e5-ac1a-4e5a-8291-8eb0b7b1c1ed",
   "metadata": {},
   "outputs": [
    {
     "data": {
      "text/plain": [
       "56.99156515921587"
      ]
     },
     "execution_count": 235,
     "metadata": {},
     "output_type": "execute_result"
    }
   ],
   "source": [
    "noisy_fit_T_rmse"
   ]
  },
  {
   "cell_type": "code",
   "execution_count": 236,
   "id": "43840951-0821-4b77-9340-246cd3c33660",
   "metadata": {},
   "outputs": [],
   "source": [
    "noisy_fit_N_rmse = mean_squared_error(noisy_preds[:,1],noisy_labs[:,1],squared = False)"
   ]
  },
  {
   "cell_type": "code",
   "execution_count": 237,
   "id": "b74f0800-b3f5-4472-83e1-d164837b2705",
   "metadata": {},
   "outputs": [
    {
     "data": {
      "text/plain": [
       "3361.3204227242472"
      ]
     },
     "execution_count": 237,
     "metadata": {},
     "output_type": "execute_result"
    }
   ],
   "source": [
    "noisy_fit_N_rmse"
   ]
  },
  {
   "cell_type": "code",
   "execution_count": null,
   "id": "7f3dae4e-3190-463f-bf58-2b75f473b101",
   "metadata": {},
   "outputs": [],
   "source": []
  },
  {
   "cell_type": "code",
   "execution_count": null,
   "id": "403b747c-0506-4a87-8329-4062e724388b",
   "metadata": {},
   "outputs": [],
   "source": []
  }
 ],
 "metadata": {
  "kernelspec": {
   "display_name": "Python 3 (ipykernel)",
   "language": "python",
   "name": "python3"
  },
  "language_info": {
   "codemirror_mode": {
    "name": "ipython",
    "version": 3
   },
   "file_extension": ".py",
   "mimetype": "text/x-python",
   "name": "python",
   "nbconvert_exporter": "python",
   "pygments_lexer": "ipython3",
   "version": "3.10.5"
  }
 },
 "nbformat": 4,
 "nbformat_minor": 5
}
