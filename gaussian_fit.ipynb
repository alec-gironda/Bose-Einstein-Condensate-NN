{
 "cells": [
  {
   "cell_type": "markdown",
   "id": "7a27fab4-7ec1-4e23-941c-58a00c880688",
   "metadata": {},
   "source": [
    "imports"
   ]
  },
  {
   "cell_type": "code",
   "execution_count": 16,
   "id": "8c25e1a6-e9e8-4331-8976-1e8511f4344f",
   "metadata": {},
   "outputs": [],
   "source": [
    "import os\n",
    "#only print error messages from tensorflow\n",
    "import tensorflow as tf\n",
    "import numpy as np\n",
    "import math\n",
    "import time\n",
    "import pickle\n",
    "import bz2\n",
    "import matplotlib.pyplot as plt\n",
    "from sklearn.preprocessing import MinMaxScaler,StandardScaler,MaxAbsScaler\n",
    "import copy\n",
    "from sklearn.metrics import mean_squared_error,mean_absolute_error\n",
    "import scipy.optimize as opt"
   ]
  },
  {
   "cell_type": "markdown",
   "id": "17d4ae0b-ecb2-4651-94e6-bf2dba6e35ae",
   "metadata": {},
   "source": [
    "load data"
   ]
  },
  {
   "cell_type": "code",
   "execution_count": null,
   "id": "1e3edc14-e1f5-4f73-a91d-e4e99179580c",
   "metadata": {},
   "outputs": [],
   "source": [
    "in_file = bz2.BZ2File(\"generated_data/full_generated_data.bz2\",'rb')\n",
    "data = pickle.load(in_file)\n",
    "in_file.close()\n",
    "\n",
    "print(\"data loaded\")"
   ]
  },
  {
   "cell_type": "code",
   "execution_count": 238,
   "id": "7ee989db-99ba-43d2-bb01-d9e7f72f1eba",
   "metadata": {},
   "outputs": [],
   "source": [
    "x_test = np.asarray(data[2])\n",
    "y_test = np.asarray(data[3])"
   ]
  },
  {
   "cell_type": "code",
   "execution_count": 239,
   "id": "2180e454-e1d8-441b-91bd-26d01433dd3c",
   "metadata": {},
   "outputs": [],
   "source": [
    "#https://stackoverflow.com/questions/21566379/fitting-a-2d-gaussian-function-using-scipy-optimize-curve-fit-valueerror-and-m"
   ]
  },
  {
   "cell_type": "code",
   "execution_count": 243,
   "id": "ec1b32db-e98c-43bb-8d34-09ccf9a53c5f",
   "metadata": {},
   "outputs": [],
   "source": [
    "def analytical_eq(xy,xo,yo,No,T):   \n",
    "    x, y = xy\n",
    "    out = (No/math.pi)*np.exp(-(x-xo)**2)*np.exp(-(y-yo)**2) + ((100000-No)/(2*math.pi*T))*np.exp((-(x-xo)**2)/(2*T))*np.exp((-(y-yo)**2)/(2*T))\n",
    "    return out.ravel()"
   ]
  },
  {
   "cell_type": "code",
   "execution_count": 244,
   "id": "2ec0336f-126b-4425-9ad8-6a561e8c56ec",
   "metadata": {},
   "outputs": [],
   "source": [
    "x = np.linspace(-49, 50, 100)\n",
    "y = np.linspace(-49, 50, 100)\n",
    "x, y = np.meshgrid(x, y)\n",
    "\n",
    "test_im_indx = 5\n",
    "\n",
    "initial_guess = (0,0,1000,175)\n",
    "\n",
    "new_im = x_test[test_im_indx].ravel()\n",
    "\n",
    "popt, _ = opt.curve_fit(analytical_eq, (x, y), new_im, p0=initial_guess)"
   ]
  },
  {
   "cell_type": "code",
   "execution_count": 245,
   "id": "29dc82d8-18af-49d8-8e50-8bf4d2066cff",
   "metadata": {},
   "outputs": [
    {
     "name": "stdout",
     "output_type": "stream",
     "text": [
      "x_0: 0.9842135226765646, y_0: 2.2359943039779915 , No: 34881.00064092953, T: 117.60037165056207 \n"
     ]
    }
   ],
   "source": [
    "print(f\"x_0: {popt[0]}, y_0: {popt[1]} , No: {popt[2]}, T: {popt[3]} \")"
   ]
  },
  {
   "cell_type": "code",
   "execution_count": 246,
   "id": "1dd21524-8dca-43c1-afcd-649886f3aac0",
   "metadata": {},
   "outputs": [
    {
     "data": {
      "image/png": "[encoded data removed]",
      "text/plain": [
       "<Figure size 432x288 with 1 Axes>"
      ]
     },
     "metadata": {
      "needs_background": "light"
     },
     "output_type": "display_data"
    }
   ],
   "source": [
    "data_fitted = analytical_eq((x, y), *popt)\n",
    "\n",
    "fig, ax = plt.subplots(1, 1)\n",
    "ax.imshow(new_im.reshape(100, 100), cmap=plt.cm.jet, origin='lower',\n",
    "    extent=(x.min(), x.max(), y.min(), y.max()))\n",
    "ax.contour(x, y, data_fitted.reshape(100, 100), 12, colors='w')\n",
    "plt.show()"
   ]
  },
  {
   "cell_type": "code",
   "execution_count": 247,
   "id": "24344d3a-72f9-4c07-b784-a9a4bf79da03",
   "metadata": {},
   "outputs": [
    {
     "data": {
      "text/plain": [
       "array([  137.23553805, 38037.47934635])"
      ]
     },
     "execution_count": 247,
     "metadata": {},
     "output_type": "execute_result"
    }
   ],
   "source": [
    "y_test[test_im_indx]"
   ]
  },
  {
   "cell_type": "code",
   "execution_count": 254,
   "id": "3b6cbd82-56b1-4e99-88f4-4672bee6470e",
   "metadata": {},
   "outputs": [
    {
     "name": "stdout",
     "output_type": "stream",
     "text": [
      "0\n",
      "50\n"
     ]
    },
    {
     "name": "stderr",
     "output_type": "stream",
     "text": [
      "/var/folders/mv/_qj5ptxn15lgd6mszpsm5t000000gn/T/ipykernel_22613/117065190.py:3: RuntimeWarning: overflow encountered in multiply\n",
      "  out = (No/math.pi)*np.exp(-(x-xo)**2)*np.exp(-(y-yo)**2) + ((100000-No)/(2*math.pi*T))*np.exp((-(x-xo)**2)/(2*T))*np.exp((-(y-yo)**2)/(2*T))\n",
      "/var/folders/mv/_qj5ptxn15lgd6mszpsm5t000000gn/T/ipykernel_22613/117065190.py:3: RuntimeWarning: overflow encountered in exp\n",
      "  out = (No/math.pi)*np.exp(-(x-xo)**2)*np.exp(-(y-yo)**2) + ((100000-No)/(2*math.pi*T))*np.exp((-(x-xo)**2)/(2*T))*np.exp((-(y-yo)**2)/(2*T))\n"
     ]
    },
    {
     "name": "stdout",
     "output_type": "stream",
     "text": [
      "100\n",
      "150\n",
      "200\n",
      "250\n",
      "300\n",
      "350\n",
      "400\n",
      "450\n",
      "500\n",
      "550\n",
      "600\n",
      "650\n",
      "700\n",
      "750\n",
      "800\n",
      "850\n",
      "900\n",
      "950\n",
      "1000\n",
      "1050\n",
      "1100\n",
      "1150\n",
      "1200\n",
      "1250\n",
      "1300\n",
      "1350\n",
      "1400\n",
      "1450\n",
      "1500\n",
      "1550\n",
      "1600\n",
      "1650\n",
      "1700\n",
      "1750\n",
      "1800\n",
      "1850\n",
      "1900\n",
      "1950\n",
      "2000\n",
      "2050\n",
      "2100\n",
      "2150\n",
      "2200\n",
      "2250\n",
      "2300\n",
      "2350\n",
      "2400\n",
      "2450\n",
      "2500\n",
      "2550\n",
      "2600\n",
      "2650\n",
      "2700\n",
      "2750\n",
      "2800\n",
      "2850\n",
      "2900\n",
      "2950\n",
      "3000\n",
      "3050\n",
      "3100\n",
      "3150\n",
      "3200\n",
      "3250\n",
      "3300\n",
      "3350\n",
      "3400\n",
      "3450\n",
      "3500\n",
      "3550\n",
      "3600\n",
      "3650\n",
      "3700\n",
      "3750\n",
      "3800\n",
      "3850\n",
      "3900\n",
      "3950\n"
     ]
    }
   ],
   "source": [
    "initial_guess = (0,0,50000,175)\n",
    "preds = []\n",
    "for i,im in enumerate(x_test):\n",
    "    popt, _ = opt.curve_fit(analytical_eq, (x, y), im.ravel(), p0=initial_guess)\n",
    "    pred_No = popt[2]\n",
    "    pred_T = popt[3]\n",
    "    preds.append((pred_T,pred_No))\n",
    "    if i % 50 == 0:\n",
    "        print(i)"
   ]
  },
  {
   "cell_type": "code",
   "execution_count": 255,
   "id": "0c5b4efd-5cd9-4ceb-b59e-3acaf7256968",
   "metadata": {},
   "outputs": [
    {
     "data": {
      "text/plain": [
       "(4000, 2)"
      ]
     },
     "execution_count": 255,
     "metadata": {},
     "output_type": "execute_result"
    }
   ],
   "source": [
    "preds = np.asarray(preds)\n",
    "preds.shape"
   ]
  },
  {
   "cell_type": "code",
   "execution_count": 256,
   "id": "b245246a-a54d-4bf5-b6f2-54225abaa93d",
   "metadata": {},
   "outputs": [],
   "source": [
    "T_mse = mean_squared_error(preds[:,0],y_test[:,0],squared = False)"
   ]
  },
  {
   "cell_type": "code",
   "execution_count": 257,
   "id": "884b2184-88bb-45f2-92bc-3ad3587a968c",
   "metadata": {},
   "outputs": [],
   "source": [
    "N_mse = mean_squared_error(preds[:,1],y_test[:,1],squared = False)"
   ]
  },
  {
   "cell_type": "code",
   "execution_count": 258,
   "id": "57cd5184-ca4d-4ea8-95ad-41001424f391",
   "metadata": {},
   "outputs": [
    {
     "data": {
      "text/plain": [
       "118.40386378664346"
      ]
     },
     "execution_count": 258,
     "metadata": {},
     "output_type": "execute_result"
    }
   ],
   "source": [
    "T_mse"
   ]
  },
  {
   "cell_type": "code",
   "execution_count": 259,
   "id": "441b3e0d-45a9-4b20-b3be-41f459aed327",
   "metadata": {},
   "outputs": [
    {
     "data": {
      "text/plain": [
       "9568.305332064203"
      ]
     },
     "execution_count": 259,
     "metadata": {},
     "output_type": "execute_result"
    }
   ],
   "source": [
    "N_mse"
   ]
  },
  {
   "cell_type": "code",
   "execution_count": null,
   "id": "2d563b42-55d6-4af6-89d2-38f1b3d35183",
   "metadata": {},
   "outputs": [],
   "source": []
  }
 ],
 "metadata": {
  "kernelspec": {
   "display_name": "Python 3 (ipykernel)",
   "language": "python",
   "name": "python3"
  },
  "language_info": {
   "codemirror_mode": {
    "name": "ipython",
    "version": 3
   },
   "file_extension": ".py",
   "mimetype": "text/x-python",
   "name": "python",
   "nbconvert_exporter": "python",
   "pygments_lexer": "ipython3",
   "version": "3.10.5"
  }
 },
 "nbformat": 4,
 "nbformat_minor": 5
}
