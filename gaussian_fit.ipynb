{
 "cells": [
  {
   "cell_type": "markdown",
   "id": "7a27fab4-7ec1-4e23-941c-58a00c880688",
   "metadata": {},
   "source": [
    "imports"
   ]
  },
  {
   "cell_type": "code",
   "execution_count": 69,
   "id": "8c25e1a6-e9e8-4331-8976-1e8511f4344f",
   "metadata": {},
   "outputs": [],
   "source": [
    "import os\n",
    "#only print error messages from tensorflow\n",
    "import tensorflow as tf\n",
    "import numpy as np\n",
    "import math\n",
    "import time\n",
    "import pickle\n",
    "import bz2\n",
    "import matplotlib.pyplot as plt\n",
    "from sklearn.preprocessing import MinMaxScaler,StandardScaler,MaxAbsScaler\n",
    "import copy\n",
    "from sklearn.metrics import mean_squared_error,mean_absolute_error\n",
    "import scipy.optimize as opt\n",
    "from itertools import chain"
   ]
  },
  {
   "cell_type": "code",
   "execution_count": 70,
   "id": "2180e454-e1d8-441b-91bd-26d01433dd3c",
   "metadata": {},
   "outputs": [],
   "source": [
    "#https://stackoverflow.com/questions/21566379/fitting-a-2d-gaussian-function-using-scipy-optimize-curve-fit-valueerror-and-m"
   ]
  },
  {
   "cell_type": "code",
   "execution_count": 500,
   "id": "ec1b32db-e98c-43bb-8d34-09ccf9a53c5f",
   "metadata": {},
   "outputs": [],
   "source": [
    "def analytical_eq(xy,xo,yo,No,T):   \n",
    "    x, y = xy\n",
    "    \n",
    "    Nex = 100000-No\n",
    "    \n",
    "    # out = (No/math.pi)*np.exp(-(x-xo)**2)*np.exp(-(y-yo)**2) + (Nex/(2*math.pi*T))*np.exp((-(x-xo)**2)/(2*T))*np.exp((-(y-yo)**2)/(2*T))\n",
    "    out = (Nex/(2*math.pi*T))*np.exp((-(x-xo)**2)/(2*T))*np.exp((-(y-yo)**2)/(2*T))\n",
    "\n",
    "    # out = (out - np.min(out)) / np.max(out)\n",
    "    return out"
   ]
  },
  {
   "cell_type": "code",
   "execution_count": 490,
   "id": "43f55044-46ef-4910-a04a-b7ab2114f4a9",
   "metadata": {},
   "outputs": [],
   "source": [
    "num_atoms = 100000\n",
    "length = 100\n",
    "dimensions = 2\n",
    "        \n",
    "        \n",
    "def generate_image(length,num_atoms,dimensions,temp):\n",
    "    '''\n",
    "    generate image using sampling\n",
    "    '''\n",
    "\n",
    "    x_list = []\n",
    "    y_list = []\n",
    "    \n",
    "    trans_temp = (num_atoms/(2*1*1.645))**(1/dimensions)\n",
    "    \n",
    "    # temp = np.random.uniform(trans_temp//2,int(trans_temp*2))\n",
    "    # temp = 300\n",
    "    \n",
    "    temp_ratio = temp/trans_temp\n",
    "\n",
    "    num_BEC_atoms = 0\n",
    "    if temp < trans_temp:\n",
    "        num_BEC_atoms = num_atoms*(1-(temp/trans_temp)**dimensions)\n",
    "        \n",
    "    count = 0\n",
    "    \n",
    "    for i in range(num_atoms):\n",
    "        probability = np.random.rand()\n",
    "        if temp_ratio >1 :\n",
    "            temp_ratio = 1\n",
    "        BEC_probability = (1-(temp_ratio)**dimensions)\n",
    "        if probability <= BEC_probability:\n",
    "            count += 1\n",
    "            x_list.append(np.random.normal(0,math.sqrt(1/2)))\n",
    "            y_list.append(np.random.normal(0,math.sqrt(1/2)))\n",
    "\n",
    "        else:\n",
    "            x_list.append(np.random.normal(0,math.sqrt(temp)))\n",
    "            y_list.append(np.random.normal(0,math.sqrt(temp)))\n",
    "\n",
    "\n",
    "\n",
    "    hist = np.histogram2d(x_list,y_list,length)[0]\n",
    "    hist = hist.tolist()\n",
    "    return hist,temp,num_BEC_atoms,count\n",
    "\n",
    "test_im_count = 10\n",
    "test_ims = []\n",
    "labs = []\n",
    "temp = 300\n",
    "for i in range(test_im_count):\n",
    "    curr_im, t, n, count = generate_image(length,num_atoms,dimensions,temp)\n",
    "    \n",
    "    test_ims.append(np.asarray(curr_im))\n",
    "    labs.append((t,n,count))\n",
    "\n",
    "test_ims = np.stack(test_ims)\n",
    "labs = np.stack(labs)"
   ]
  },
  {
   "cell_type": "code",
   "execution_count": 491,
   "id": "0b469399-e73b-4282-b203-695659ecac30",
   "metadata": {},
   "outputs": [
    {
     "data": {
      "text/plain": [
       "(10, 100, 100)"
      ]
     },
     "execution_count": 491,
     "metadata": {},
     "output_type": "execute_result"
    }
   ],
   "source": [
    "test_ims.shape"
   ]
  },
  {
   "cell_type": "code",
   "execution_count": 492,
   "id": "7659cf99-cd1c-454c-aab0-49698d96744c",
   "metadata": {},
   "outputs": [],
   "source": [
    "stdev_test_ims = np.std(test_ims,axis = 0)"
   ]
  },
  {
   "cell_type": "code",
   "execution_count": 493,
   "id": "29412a38-dcf4-4d08-8978-ad4e18bcd248",
   "metadata": {},
   "outputs": [],
   "source": [
    "std_err = stdev_test_ims / np.sqrt(test_ims.shape[0])"
   ]
  },
  {
   "cell_type": "code",
   "execution_count": 494,
   "id": "349ff1e4-66d0-4d19-89a5-ef25cd5da79a",
   "metadata": {},
   "outputs": [],
   "source": [
    "# std_err = (std_err - np.min(std_err)) / np.max(std_err)"
   ]
  },
  {
   "cell_type": "code",
   "execution_count": 495,
   "id": "ec93fc28-c9fd-44fd-909d-ce9199e78de5",
   "metadata": {},
   "outputs": [],
   "source": [
    "mean_test_im = np.mean(test_ims,axis = 0)"
   ]
  },
  {
   "cell_type": "code",
   "execution_count": 496,
   "id": "08f7b8d2-49e2-440e-b4d7-69b2732e46b3",
   "metadata": {},
   "outputs": [],
   "source": [
    "# mean_test_im = (mean_test_im - np.min(mean_test_im)) / np.max(mean_test_im)"
   ]
  },
  {
   "cell_type": "code",
   "execution_count": 513,
   "id": "db863cfe-b074-4e28-92a7-b3b947d1b0de",
   "metadata": {},
   "outputs": [
    {
     "data": {
      "text/plain": [
       "99999.99999999999"
      ]
     },
     "execution_count": 513,
     "metadata": {},
     "output_type": "execute_result"
    }
   ],
   "source": [
    "summ_all_mean = np.sum(mean_test_im)\n",
    "summ_all_mean"
   ]
  },
  {
   "cell_type": "code",
   "execution_count": 523,
   "id": "87b7fd62-b93c-4cf9-8d17-1823db875c65",
   "metadata": {},
   "outputs": [],
   "source": [
    "pxy = mean_test_im/summ_all_mean\n",
    "px = np.sum(pxy,axis = 1)\n",
    "res = px * np.linspace(-49, 50, 100)\n",
    "# stdev_mean_cols = np.std(summ_mean)\n",
    "# stdev_mean_cols\n",
    "expected_val_x = np.sum(res)\n",
    "expected_val_x2 = np.sum(px * np.linspace(-49, 50, 100) ** 2)\n"
   ]
  },
  {
   "cell_type": "code",
   "execution_count": 524,
   "id": "a7887003-58b2-4ae9-9bb5-07066e78636d",
   "metadata": {},
   "outputs": [
    {
     "data": {
      "text/plain": [
       "1.0000000000000002"
      ]
     },
     "execution_count": 524,
     "metadata": {},
     "output_type": "execute_result"
    }
   ],
   "source": [
    "np.sum(px)"
   ]
  },
  {
   "cell_type": "code",
   "execution_count": 525,
   "id": "cd13194b-d1aa-4fcf-810d-66faecd97957",
   "metadata": {},
   "outputs": [
    {
     "data": {
      "text/plain": [
       "1.4756310000000001"
      ]
     },
     "execution_count": 525,
     "metadata": {},
     "output_type": "execute_result"
    }
   ],
   "source": [
    "expected_val_x"
   ]
  },
  {
   "cell_type": "code",
   "execution_count": 526,
   "id": "a5bb90aa-4f49-4a85-99a1-9d70a6fecfb0",
   "metadata": {},
   "outputs": [
    {
     "data": {
      "text/plain": [
       "131.464557"
      ]
     },
     "execution_count": 526,
     "metadata": {},
     "output_type": "execute_result"
    }
   ],
   "source": [
    "expected_val_x2"
   ]
  },
  {
   "cell_type": "code",
   "execution_count": 506,
   "id": "42987690-28ee-4c27-97b0-2e9914eef481",
   "metadata": {},
   "outputs": [],
   "source": [
    "x = np.linspace(-49, 50, 100)\n",
    "y = np.linspace(-49, 50, 100)\n",
    "x, y = np.meshgrid(x, y)\n",
    "\n",
    "num_atoms = 100000\n",
    "dimensions = 2\n",
    "# temp = 300\n",
    "\n",
    "trans_temp = (num_atoms/(2*1*1.645))**(1/dimensions)\n",
    "# num_BEC_atoms = num_atoms*(1-(temp/trans_temp)**dimensions)\n",
    "num_BEC_atoms = 0\n",
    "\n",
    "actual = analytical_eq((x,y),0,0,num_BEC_atoms,temp)"
   ]
  },
  {
   "cell_type": "code",
   "execution_count": 512,
   "id": "65568ffe-0ebe-4f5b-8d33-d807c058d60b",
   "metadata": {},
   "outputs": [
    {
     "data": {
      "text/plain": [
       "794.6282601567918"
      ]
     },
     "execution_count": 512,
     "metadata": {},
     "output_type": "execute_result"
    }
   ],
   "source": [
    "summ = np.sum(actual,axis = 1)\n",
    "stdev_cols = np.std(summ)\n",
    "stdev_cols"
   ]
  },
  {
   "cell_type": "code",
   "execution_count": 516,
   "id": "d9456d37-75be-4193-8dbb-6f66b672d62a",
   "metadata": {},
   "outputs": [
    {
     "data": {
      "text/plain": [
       "99221.05609856438"
      ]
     },
     "execution_count": 516,
     "metadata": {},
     "output_type": "execute_result"
    }
   ],
   "source": [
    "np.sum(actual)"
   ]
  },
  {
   "cell_type": "code",
   "execution_count": 504,
   "id": "2ac22dc6-5b19-4ea8-adc3-766065d87033",
   "metadata": {},
   "outputs": [],
   "source": [
    "# length = 100\n",
    "# actual = np.reshape(actual,(length,length))\n",
    "# actual.shape"
   ]
  },
  {
   "cell_type": "code",
   "execution_count": 505,
   "id": "4ab791b5-630e-4932-8659-0e11c437c6be",
   "metadata": {},
   "outputs": [
    {
     "data": {
      "text/plain": [
       "<matplotlib.legend.Legend at 0x2be0d3a30>"
      ]
     },
     "execution_count": 505,
     "metadata": {},
     "output_type": "execute_result"
    },
    {
     "data": {
      "image/png": "[encoded data removed]",
      "text/plain": [
       "<Figure size 432x288 with 1 Axes>"
      ]
     },
     "metadata": {
      "needs_background": "light"
     },
     "output_type": "display_data"
    }
   ],
   "source": [
    "#mean gaussian\n",
    "\n",
    "row = 50\n",
    "\n",
    "plt.plot(np.arange(len(mean_test_im[0])),mean_test_im[row],label = \"mean\")\n",
    "plt.errorbar(np.arange(len(mean_test_im[0])),mean_test_im[row],yerr = std_err[row])\n",
    "plt.plot(np.arange(len(mean_test_im[0])),actual[row],label = \"analytical\")\n",
    "plt.legend()"
   ]
  },
  {
   "cell_type": "code",
   "execution_count": 389,
   "id": "a4584fd3-b99f-44cc-a478-c16ecb3f78de",
   "metadata": {},
   "outputs": [],
   "source": [
    "num_atoms = 100000\n",
    "temp_ratio = (num_atoms/(2*1*1.645))**0.5\n",
    "length = 100\n",
    "dimensions = 2\n",
    "\n",
    "x = np.linspace(-length//2+1, length//2, length)\n",
    "y = np.linspace(-length//2+1, length//2, length)\n",
    "x, y = np.meshgrid(x, y)\n",
    "\n",
    "        \n",
    "        \n",
    "def generate_image_without_sampling(temp_ratio,length,num_atoms,dimensions,x,y):\n",
    "\n",
    "    res = np.zeros((length,length))\n",
    "    \n",
    "    trans_temp = (num_atoms/(2*1*1.645))**(1/dimensions)\n",
    "    \n",
    "    temp = np.random.uniform(trans_temp//2,int(trans_temp*2))\n",
    "\n",
    "    num_BEC_atoms = 0\n",
    "    if temp < trans_temp:\n",
    "        num_BEC_atoms = num_atoms*(1-(temp/trans_temp)**dimensions)\n",
    "        \n",
    "    for i in range(length):\n",
    "        for j in range(length):\n",
    "\n",
    "            res[i,j] = (num_BEC_atoms/math.pi)*np.exp(-(x[i,j])**2)*np.exp(-(y[i,j])**2) + ((100000-num_BEC_atoms)/(2*math.pi*temp))*np.exp((-(x[i,j])**2)/(2*temp))*np.exp((-(y[i,j])**2)/(2*temp)) + np.random.normal()\n",
    "\n",
    "    return res,temp,num_BEC_atoms\n",
    "\n",
    "noisy_ims = []\n",
    "noisy_labs = []\n",
    "\n",
    "test_im_count = 1\n",
    "for i in range(test_im_count):\n",
    "    curr_im, t, n = generate_image_without_sampling(temp_ratio,length,num_atoms,dimensions,x,y)\n",
    "    \n",
    "    noisy_ims.append(np.asarray(curr_im))\n",
    "    noisy_labs.append((t,n))\n",
    "\n",
    "noisy_ims = np.stack(noisy_ims)\n",
    "noisy_labs = np.stack(noisy_labs)"
   ]
  },
  {
   "cell_type": "code",
   "execution_count": 390,
   "id": "86dba673-fed9-4f93-8ce1-1aaf9a1ae3df",
   "metadata": {},
   "outputs": [],
   "source": [
    "normalized_noisy_ims = []\n",
    "for im in noisy_ims:\n",
    "    normalized_noisy_ims.append((im - np.min(im))/np.max(im))\n",
    "normalized_noisy_ims = np.stack(normalized_noisy_ims)"
   ]
  },
  {
   "cell_type": "code",
   "execution_count": 391,
   "id": "160aa3ed-dcc6-4454-b8c0-6e1b7bc92219",
   "metadata": {},
   "outputs": [],
   "source": [
    "initial_guess = (0,0,50000,175)\n",
    "noisy_preds = []\n",
    "noisy_origins = []\n",
    "for i,im in enumerate(normalized_noisy_ims):\n",
    "    popt, _ = opt.curve_fit(analytical_eq, (x, y), im.ravel(), p0=initial_guess)\n",
    "    xo,yo = popt[:2]\n",
    "    pred_No = popt[2]\n",
    "    pred_T = popt[3]\n",
    "    if pred_No < 0:\n",
    "        pred_No = 0\n",
    "    if pred_T < 0:\n",
    "        pred_T = 0\n",
    "    noisy_preds.append((pred_T,pred_No))\n",
    "    noisy_origins.append((xo,yo))\n",
    "        \n",
    "noisy_preds = np.asarray(noisy_preds)"
   ]
  },
  {
   "cell_type": "code",
   "execution_count": 392,
   "id": "23e14735-2d43-4308-9fd7-00f88d9fa9ce",
   "metadata": {},
   "outputs": [],
   "source": [
    "check_indx = 0"
   ]
  },
  {
   "cell_type": "code",
   "execution_count": 393,
   "id": "3836065c-99f1-442a-97e2-3c99a04a239f",
   "metadata": {},
   "outputs": [
    {
     "data": {
      "image/png": "[encoded data removed]",
      "text/plain": [
       "<Figure size 432x288 with 1 Axes>"
      ]
     },
     "metadata": {
      "needs_background": "light"
     },
     "output_type": "display_data"
    }
   ],
   "source": [
    "data_fitted = analytical_eq((x, y), *noisy_origins[check_indx],*noisy_preds[check_indx][::-1])\n",
    "\n",
    "fig, ax = plt.subplots(1, 1)\n",
    "ax.imshow(normalized_noisy_ims[0].reshape(100, 100), cmap=plt.cm.jet, origin='lower',\n",
    "    extent=(x.min(), x.max(), y.min(), y.max()))\n",
    "ax.contour(x, y, data_fitted.reshape(100, 100),10, colors='w')\n",
    "plt.show()"
   ]
  },
  {
   "cell_type": "code",
   "execution_count": 394,
   "id": "9f3b6d34-7007-4c68-b479-236eb3948b14",
   "metadata": {},
   "outputs": [],
   "source": [
    "noisy_analytical_solns = []\n",
    "for t,n in noisy_labs:\n",
    "    noisy_analytical_solns.append(analytical_eq((x,y),0,0,n,t))\n",
    "noisy_analytical_solns = np.array(noisy_analytical_solns)"
   ]
  },
  {
   "cell_type": "code",
   "execution_count": 395,
   "id": "aaeeba46-d691-4933-903a-12c6cf7a03cc",
   "metadata": {},
   "outputs": [],
   "source": [
    "length = 100\n",
    "noisy_analytical_solns = np.reshape(noisy_analytical_solns,(test_im_count,length,length))"
   ]
  },
  {
   "cell_type": "code",
   "execution_count": 397,
   "id": "d4abcd62-61ff-4c83-b1dc-c1a2c522f200",
   "metadata": {},
   "outputs": [
    {
     "data": {
      "text/plain": [
       "<matplotlib.legend.Legend at 0x29ade04c0>"
      ]
     },
     "execution_count": 397,
     "metadata": {},
     "output_type": "execute_result"
    },
    {
     "data": {
      "image/png": "[encoded data removed]",
      "text/plain": [
       "<Figure size 432x288 with 1 Axes>"
      ]
     },
     "metadata": {
      "needs_background": "light"
     },
     "output_type": "display_data"
    }
   ],
   "source": [
    "#fit gaussian vs noisy gaussian\n",
    "\n",
    "row = 50\n",
    "\n",
    "check = data_fitted.reshape(100,100)\n",
    "plt.plot(np.arange(len(check[0])),check[row],label = \"fit\")\n",
    "plt.plot(np.arange(len(check[0])),normalized_noisy_ims[check_indx,row],label = \"noisy\")\n",
    "plt.plot(np.arange(len(check[0])),noisy_analytical_solns[check_indx,row],label = \"analytical\")\n",
    "plt.legend()"
   ]
  },
  {
   "cell_type": "code",
   "execution_count": 232,
   "id": "69a65f6c-41cb-4274-8221-e2637d4b8707",
   "metadata": {},
   "outputs": [
    {
     "data": {
      "text/plain": [
       "array([  139.43210503, 36038.08380333])"
      ]
     },
     "execution_count": 232,
     "metadata": {},
     "output_type": "execute_result"
    }
   ],
   "source": [
    "noisy_labs[check_indx]"
   ]
  },
  {
   "cell_type": "code",
   "execution_count": 233,
   "id": "964a3c5b-3500-4f61-8ba2-912a51998dd9",
   "metadata": {},
   "outputs": [
    {
     "data": {
      "text/plain": [
       "array([  178.59729931, 30877.22892256])"
      ]
     },
     "execution_count": 233,
     "metadata": {},
     "output_type": "execute_result"
    }
   ],
   "source": [
    "noisy_preds[check_indx]"
   ]
  },
  {
   "cell_type": "code",
   "execution_count": 234,
   "id": "e3a24008-c2db-465d-86b5-44eadcc238d8",
   "metadata": {},
   "outputs": [],
   "source": [
    "noisy_fit_T_rmse = mean_squared_error(noisy_preds[:,0],noisy_labs[:,0],squared = False)"
   ]
  },
  {
   "cell_type": "code",
   "execution_count": 235,
   "id": "2e05b2e5-ac1a-4e5a-8291-8eb0b7b1c1ed",
   "metadata": {},
   "outputs": [
    {
     "data": {
      "text/plain": [
       "56.99156515921587"
      ]
     },
     "execution_count": 235,
     "metadata": {},
     "output_type": "execute_result"
    }
   ],
   "source": [
    "noisy_fit_T_rmse"
   ]
  },
  {
   "cell_type": "code",
   "execution_count": 236,
   "id": "43840951-0821-4b77-9340-246cd3c33660",
   "metadata": {},
   "outputs": [],
   "source": [
    "noisy_fit_N_rmse = mean_squared_error(noisy_preds[:,1],noisy_labs[:,1],squared = False)"
   ]
  },
  {
   "cell_type": "code",
   "execution_count": 237,
   "id": "b74f0800-b3f5-4472-83e1-d164837b2705",
   "metadata": {},
   "outputs": [
    {
     "data": {
      "text/plain": [
       "3361.3204227242472"
      ]
     },
     "execution_count": 237,
     "metadata": {},
     "output_type": "execute_result"
    }
   ],
   "source": [
    "noisy_fit_N_rmse"
   ]
  },
  {
   "cell_type": "code",
   "execution_count": null,
   "id": "7f3dae4e-3190-463f-bf58-2b75f473b101",
   "metadata": {},
   "outputs": [],
   "source": []
  },
  {
   "cell_type": "code",
   "execution_count": null,
   "id": "403b747c-0506-4a87-8329-4062e724388b",
   "metadata": {},
   "outputs": [],
   "source": []
  }
 ],
 "metadata": {
  "kernelspec": {
   "display_name": "Python 3 (ipykernel)",
   "language": "python",
   "name": "python3"
  },
  "language_info": {
   "codemirror_mode": {
    "name": "ipython",
    "version": 3
   },
   "file_extension": ".py",
   "mimetype": "text/x-python",
   "name": "python",
   "nbconvert_exporter": "python",
   "pygments_lexer": "ipython3",
   "version": "3.10.5"
  }
 },
 "nbformat": 4,
 "nbformat_minor": 5
}
