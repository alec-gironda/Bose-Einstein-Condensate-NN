{
 "cells": [
  {
   "cell_type": "markdown",
   "id": "7a27fab4-7ec1-4e23-941c-58a00c880688",
   "metadata": {},
   "source": [
    "# Imports and Functions"
   ]
  },
  {
   "cell_type": "code",
   "execution_count": 8,
   "id": "8c25e1a6-e9e8-4331-8976-1e8511f4344f",
   "metadata": {},
   "outputs": [],
   "source": [
    "import os\n",
    "#only print error messages from tensorflow\n",
    "import tensorflow as tf\n",
    "import numpy as np\n",
    "import math\n",
    "import time\n",
    "import pickle\n",
    "import bz2\n",
    "import matplotlib.pyplot as plt\n",
    "from sklearn.preprocessing import MinMaxScaler,StandardScaler,MaxAbsScaler\n",
    "import copy\n",
    "from sklearn.metrics import mean_squared_error,mean_absolute_error\n",
    "import scipy.optimize as opt\n",
    "from itertools import chain"
   ]
  },
  {
   "cell_type": "code",
   "execution_count": 6,
   "id": "2180e454-e1d8-441b-91bd-26d01433dd3c",
   "metadata": {},
   "outputs": [],
   "source": [
    "#https://stackoverflow.com/questions/21566379/fitting-a-2d-gaussian-function-using-scipy-optimize-curve-fit-valueerror-and-m"
   ]
  },
  {
   "cell_type": "code",
   "execution_count": 22,
   "id": "f8cdfc67-af8d-4378-a576-e4fb0c1174c9",
   "metadata": {},
   "outputs": [],
   "source": [
    "def analytical_eq(xy,xo,yo,No,T):   \n",
    "    x, y = xy\n",
    "    \n",
    "    Nex = 100000-No\n",
    "    \n",
    "    out = (No/math.pi)*np.exp(-(x-xo)**2)*np.exp(-(y-yo)**2) + (Nex/(2*math.pi*T))*np.exp((-(x-xo)**2)/(2*T))*np.exp((-(y-yo)**2)/(2*T))\n",
    "    # out = (Nex/(2*math.pi*T))*np.exp((-(x-xo)**2)/(2*T))*np.exp((-(y-yo)**2)/(2*T))\n",
    "\n",
    "    # out = (out - np.min(out)) / np.max(out)\n",
    "    return out.ravel()"
   ]
  },
  {
   "cell_type": "markdown",
   "id": "af68f855-0161-4e8b-89d7-ee959cb04c81",
   "metadata": {
    "jp-MarkdownHeadingCollapsed": true,
    "tags": []
   },
   "source": [
    "### Check Actual Data"
   ]
  },
  {
   "cell_type": "code",
   "execution_count": 91,
   "id": "8d922bc7-4370-4332-92d5-ba70a697ec9b",
   "metadata": {},
   "outputs": [
    {
     "name": "stdout",
     "output_type": "stream",
     "text": [
      "loading data...\n",
      "data loaded.\n"
     ]
    }
   ],
   "source": [
    " print(\"loading data...\")\n",
    "in_file = bz2.BZ2File(\"./generated_data/full_generated_data.bz2\",'rb')\n",
    "data = pickle.load(in_file)\n",
    "in_file.close()\n",
    "\n",
    "print(\"data loaded.\")\n",
    "\n",
    "x_train = np.asarray(data[0])\n",
    "y_train = np.asarray(data[1])\n",
    "x_test = np.asarray(data[2])\n",
    "y_test = np.asarray(data[3])"
   ]
  },
  {
   "cell_type": "code",
   "execution_count": 92,
   "id": "e2760c5a-f17e-457d-9196-537efb09a8a5",
   "metadata": {},
   "outputs": [],
   "source": [
    "indx = 4"
   ]
  },
  {
   "cell_type": "code",
   "execution_count": 93,
   "id": "0842e32e-c031-44d8-88e0-4ab61b8af739",
   "metadata": {},
   "outputs": [
    {
     "data": {
      "image/png": "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\n",
      "text/plain": [
       "<Figure size 432x288 with 1 Axes>"
      ]
     },
     "metadata": {
      "needs_background": "light"
     },
     "output_type": "display_data"
    }
   ],
   "source": [
    "fig, ax = plt.subplots(1, 1)\n",
    "ax.imshow(x_train[indx].reshape(100, 100), cmap=plt.cm.jet, origin='lower')\n",
    "plt.show()"
   ]
  },
  {
   "cell_type": "code",
   "execution_count": 94,
   "id": "07121926-c2a3-453e-8078-bd83b5c9ae88",
   "metadata": {},
   "outputs": [
    {
     "data": {
      "text/plain": [
       "array([   92.71517578, 71718.81843113])"
      ]
     },
     "execution_count": 94,
     "metadata": {},
     "output_type": "execute_result"
    }
   ],
   "source": [
    "y_train[indx]"
   ]
  },
  {
   "cell_type": "code",
   "execution_count": 95,
   "id": "c2113ef8-9984-4f64-bb02-9b5427328d84",
   "metadata": {},
   "outputs": [
    {
     "data": {
      "text/plain": [
       "<matplotlib.legend.Legend at 0x2a40c4460>"
      ]
     },
     "execution_count": 95,
     "metadata": {},
     "output_type": "execute_result"
    },
    {
     "data": {
      "image/png": "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\n",
      "text/plain": [
       "<Figure size 432x288 with 1 Axes>"
      ]
     },
     "metadata": {
      "needs_background": "light"
     },
     "output_type": "display_data"
    }
   ],
   "source": [
    "x = np.linspace(-49, 50, 100)\n",
    "y = np.linspace(-49, 50, 100)\n",
    "x, y = np.meshgrid(x, y)\n",
    "length = 100\n",
    "\n",
    "analytical_for_x_train_im = analytical_eq((x,y),0,0,y_train[indx][1],y_train[indx][0])\n",
    "analytical_for_x_train_im = np.reshape(analytical_for_x_train_im,(length,length))\n",
    "\n",
    "plt.plot(np.arange(len(x_train[indx])),x_train[indx,row],label = \"x_train\")\n",
    "plt.plot(np.arange(len(x_train[indx])),analytical_for_x_train_im[row],label = \"analytical\")\n",
    "plt.legend()"
   ]
  },
  {
   "cell_type": "markdown",
   "id": "ed2d4a75-eb13-4393-bedd-974d032f1493",
   "metadata": {},
   "source": [
    "### Functions"
   ]
  },
  {
   "cell_type": "code",
   "execution_count": 73,
   "id": "ec1b32db-e98c-43bb-8d34-09ccf9a53c5f",
   "metadata": {},
   "outputs": [],
   "source": [
    "def analytical_eq(xy,xo,yo,No,T):   \n",
    "    x, y = xy\n",
    "    \n",
    "    Nex = 100000-No\n",
    "    \n",
    "    out = (No/math.pi)*np.exp(-(x-xo)**2)*np.exp(-(y-yo)**2) + (Nex/(2*math.pi*T))*np.exp((-(x-xo)**2)/(2*T))*np.exp((-(y-yo)**2)/(2*T))\n",
    "    # out = (Nex/(2*math.pi*T))*np.exp((-(x-xo)**2)/(2*T))*np.exp((-(y-yo)**2)/(2*T))\n",
    "\n",
    "    # out = (out - np.min(out)) / np.max(out)\n",
    "    return out.ravel()"
   ]
  },
  {
   "cell_type": "code",
   "execution_count": 27,
   "id": "43f55044-46ef-4910-a04a-b7ab2114f4a9",
   "metadata": {},
   "outputs": [],
   "source": [
    "num_atoms = 100000\n",
    "length = 100\n",
    "dimensions = 2\n",
    "        \n",
    "        \n",
    "def generate_image(length,num_atoms,dimensions,temp):\n",
    "    '''\n",
    "    generate image using sampling\n",
    "    '''\n",
    "\n",
    "    x_list = []\n",
    "    y_list = []\n",
    "    \n",
    "    trans_temp = (num_atoms/(2*1*1.645))**(1/dimensions)\n",
    "    # temp = np.random.uniform(trans_temp//2,int(trans_temp*2))  \n",
    "    temp_ratio = temp/trans_temp\n",
    "\n",
    "    num_BEC_atoms = 0\n",
    "    if temp < trans_temp:\n",
    "        num_BEC_atoms = num_atoms*(1-(temp/trans_temp)**dimensions)\n",
    "        \n",
    "    count = 0\n",
    "    \n",
    "    for i in range(num_atoms):\n",
    "        probability = np.random.rand()\n",
    "        if temp_ratio >1 :\n",
    "            temp_ratio = 1\n",
    "        BEC_probability = (1-(temp_ratio)**dimensions)\n",
    "        if probability <= BEC_probability:\n",
    "            count += 1\n",
    "            x_list.append(np.random.normal(0,math.sqrt(1/2)))\n",
    "            y_list.append(np.random.normal(0,math.sqrt(1/2)))\n",
    "\n",
    "        else:\n",
    "            x_list.append(np.random.normal(0,math.sqrt(temp)))\n",
    "            y_list.append(np.random.normal(0,math.sqrt(temp)))\n",
    "\n",
    "\n",
    "\n",
    "    hist = np.histogram2d(x_list,y_list,length,range = [(-49,50),(-49,50)])[0]\n",
    "    hist = hist.tolist()\n",
    "    return hist,temp,num_BEC_atoms,count"
   ]
  },
  {
   "cell_type": "markdown",
   "id": "ecc464e0-e817-4f30-a9c6-b4a7803cd175",
   "metadata": {
    "jp-MarkdownHeadingCollapsed": true,
    "tags": []
   },
   "source": [
    "### Low Temp"
   ]
  },
  {
   "cell_type": "code",
   "execution_count": 59,
   "id": "95c7af6b-27d8-4754-a066-799f0cbcad7e",
   "metadata": {},
   "outputs": [],
   "source": [
    "test_im_count = 100\n",
    "test_ims = []\n",
    "labs = []\n",
    "\n",
    "temp = 50\n",
    "\n",
    "\n",
    "for i in range(test_im_count):\n",
    "    curr_im, t, n, count = generate_image(length,num_atoms,dimensions,temp)\n",
    "    \n",
    "    test_ims.append(np.asarray(curr_im))\n",
    "    labs.append((t,n,count))\n",
    "\n",
    "test_ims = np.stack(test_ims)\n",
    "labs = np.stack(labs)"
   ]
  },
  {
   "cell_type": "code",
   "execution_count": 60,
   "id": "6a00714e-fb88-4125-b00f-e4d34c013b0f",
   "metadata": {},
   "outputs": [],
   "source": [
    "mean_test_im = np.mean(test_ims,axis = 0)"
   ]
  },
  {
   "cell_type": "code",
   "execution_count": 66,
   "id": "a8bbc04d-f0f0-4313-a37d-540d960e8105",
   "metadata": {},
   "outputs": [],
   "source": [
    "std_err = np.std(test_ims,axis = 0)/np.sqrt(test_im_count)"
   ]
  },
  {
   "cell_type": "code",
   "execution_count": 67,
   "id": "235deaf3-6226-496d-abc8-72f9107f125e",
   "metadata": {},
   "outputs": [],
   "source": [
    "num_atoms = 100000\n",
    "dimensions = 2\n",
    "\n",
    "x = np.linspace(-49, 50, 100)\n",
    "y = np.linspace(-49, 50, 100)\n",
    "x, y = np.meshgrid(x, y)\n",
    "\n",
    "\n",
    "trans_temp = (num_atoms/(2*1*1.645))**(1/dimensions)\n",
    "num_BEC_atoms = 0\n",
    "if temp < trans_temp:\n",
    "    num_BEC_atoms = num_atoms*(1-(temp/trans_temp)**dimensions)\n",
    "\n",
    "analytical = analytical_eq((x,y),0,0,num_BEC_atoms,temp)"
   ]
  },
  {
   "cell_type": "code",
   "execution_count": 68,
   "id": "c1091a8e-e875-4a02-a6ac-c8966235e93c",
   "metadata": {},
   "outputs": [],
   "source": [
    "analytical = np.reshape(analytical,(length,length))"
   ]
  },
  {
   "cell_type": "code",
   "execution_count": 69,
   "id": "dd8b728f-3897-4b49-a697-33f65db326fc",
   "metadata": {},
   "outputs": [
    {
     "data": {
      "text/plain": [
       "Text(0.5, 1.0, 'Low Temp')"
      ]
     },
     "execution_count": 69,
     "metadata": {},
     "output_type": "execute_result"
    },
    {
     "data": {
      "image/png": "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\n",
      "text/plain": [
       "<Figure size 432x288 with 1 Axes>"
      ]
     },
     "metadata": {
      "needs_background": "light"
     },
     "output_type": "display_data"
    }
   ],
   "source": [
    "#mean gaussian\n",
    "\n",
    "row = 50\n",
    "\n",
    "plt.plot(np.arange(len(mean_test_im[0])),mean_test_im[row],label = \"mean\")\n",
    "plt.errorbar(np.arange(len(mean_test_im[0])),mean_test_im[row],yerr = std_err[row])\n",
    "plt.plot(np.arange(len(mean_test_im[0])),analytical[row],label = \"analytical\")\n",
    "plt.legend()\n",
    "plt.title(\"Low Temp\")"
   ]
  },
  {
   "cell_type": "markdown",
   "id": "aae4db30-1307-469c-92e8-4dce2e9a55c5",
   "metadata": {
    "jp-MarkdownHeadingCollapsed": true,
    "tags": []
   },
   "source": [
    "### Medium Temp"
   ]
  },
  {
   "cell_type": "code",
   "execution_count": 70,
   "id": "9f57e08b-7c00-4568-8494-dbf8e20c1c69",
   "metadata": {},
   "outputs": [],
   "source": [
    "test_im_count = 100\n",
    "test_ims = []\n",
    "labs = []\n",
    "\n",
    "temp = 125\n",
    "\n",
    "\n",
    "for i in range(test_im_count):\n",
    "    curr_im, t, n, count = generate_image(length,num_atoms,dimensions,temp)\n",
    "    \n",
    "    test_ims.append(np.asarray(curr_im))\n",
    "    labs.append((t,n,count))\n",
    "\n",
    "test_ims = np.stack(test_ims)\n",
    "labs = np.stack(labs)"
   ]
  },
  {
   "cell_type": "code",
   "execution_count": 72,
   "id": "e5fb273d-eaed-4d35-a081-7f1d72f02898",
   "metadata": {},
   "outputs": [],
   "source": [
    "mean_test_im = np.mean(test_ims,axis = 0)"
   ]
  },
  {
   "cell_type": "code",
   "execution_count": 73,
   "id": "1d7921d3-3d46-4a7e-873d-9dc20c426d52",
   "metadata": {},
   "outputs": [],
   "source": [
    "std_err = np.std(test_ims,axis = 0)/np.sqrt(test_im_count)"
   ]
  },
  {
   "cell_type": "code",
   "execution_count": 74,
   "id": "85f9fa89-930a-4547-b7ef-1afffe98092a",
   "metadata": {},
   "outputs": [],
   "source": [
    "num_atoms = 100000\n",
    "dimensions = 2\n",
    "\n",
    "x = np.linspace(-49, 50, 100)\n",
    "y = np.linspace(-49, 50, 100)\n",
    "x, y = np.meshgrid(x, y)\n",
    "\n",
    "\n",
    "trans_temp = (num_atoms/(2*1*1.645))**(1/dimensions)\n",
    "num_BEC_atoms = 0\n",
    "if temp < trans_temp:\n",
    "    num_BEC_atoms = num_atoms*(1-(temp/trans_temp)**dimensions)\n",
    "\n",
    "analytical = analytical_eq((x,y),0,0,num_BEC_atoms,temp)"
   ]
  },
  {
   "cell_type": "code",
   "execution_count": 75,
   "id": "9495d788-3113-49ce-bd24-f09c570e68ad",
   "metadata": {},
   "outputs": [],
   "source": [
    "analytical = np.reshape(analytical,(length,length))"
   ]
  },
  {
   "cell_type": "code",
   "execution_count": 76,
   "id": "161d2c0a-59a9-425c-a108-a494d5f63c4b",
   "metadata": {},
   "outputs": [
    {
     "data": {
      "text/plain": [
       "<matplotlib.legend.Legend at 0x2a70573d0>"
      ]
     },
     "execution_count": 76,
     "metadata": {},
     "output_type": "execute_result"
    },
    {
     "data": {
      "image/png": "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\n",
      "text/plain": [
       "<Figure size 432x288 with 1 Axes>"
      ]
     },
     "metadata": {
      "needs_background": "light"
     },
     "output_type": "display_data"
    }
   ],
   "source": [
    "#mean gaussian\n",
    "\n",
    "row = 50\n",
    "\n",
    "plt.plot(np.arange(len(mean_test_im[0])),mean_test_im[row],label = \"mean\")\n",
    "plt.errorbar(np.arange(len(mean_test_im[0])),mean_test_im[row],yerr = std_err[row])\n",
    "plt.plot(np.arange(len(mean_test_im[0])),analytical[row],label = \"analytical\")\n",
    "plt.title(\"Medium Temp\")\n",
    "plt.legend()"
   ]
  },
  {
   "cell_type": "markdown",
   "id": "6199a1e2-5d62-42f2-9805-30be18e3dcc8",
   "metadata": {
    "jp-MarkdownHeadingCollapsed": true,
    "tags": []
   },
   "source": [
    "### High temp"
   ]
  },
  {
   "cell_type": "code",
   "execution_count": 77,
   "id": "0fbc5c97-929f-4d7c-a82f-3c19840ccf76",
   "metadata": {},
   "outputs": [],
   "source": [
    "test_im_count = 100\n",
    "test_ims = []\n",
    "labs = []\n",
    "\n",
    "temp = 200\n",
    "\n",
    "\n",
    "for i in range(test_im_count):\n",
    "    curr_im, t, n, count = generate_image(length,num_atoms,dimensions,temp)\n",
    "    \n",
    "    test_ims.append(np.asarray(curr_im))\n",
    "    labs.append((t,n,count))\n",
    "\n",
    "test_ims = np.stack(test_ims)\n",
    "labs = np.stack(labs)"
   ]
  },
  {
   "cell_type": "code",
   "execution_count": 78,
   "id": "3b4f9d82-0f4c-40e7-bef4-04e658333ec7",
   "metadata": {},
   "outputs": [],
   "source": [
    "mean_test_im = np.mean(test_ims,axis = 0)"
   ]
  },
  {
   "cell_type": "code",
   "execution_count": 79,
   "id": "c39ab6f5-1b1e-454f-8f7a-1d5b6abf2ae0",
   "metadata": {
    "tags": []
   },
   "outputs": [],
   "source": [
    "std_err = np.std(test_ims,axis = 0)/np.sqrt(test_im_count)"
   ]
  },
  {
   "cell_type": "code",
   "execution_count": 80,
   "id": "c6be9325-2ab4-4569-8b01-744142c8cf45",
   "metadata": {},
   "outputs": [],
   "source": [
    "num_atoms = 100000\n",
    "dimensions = 2\n",
    "\n",
    "x = np.linspace(-49, 50, 100)\n",
    "y = np.linspace(-49, 50, 100)\n",
    "x, y = np.meshgrid(x, y)\n",
    "\n",
    "\n",
    "trans_temp = (num_atoms/(2*1*1.645))**(1/dimensions)\n",
    "num_BEC_atoms = 0\n",
    "if temp < trans_temp:\n",
    "    num_BEC_atoms = num_atoms*(1-(temp/trans_temp)**dimensions)\n",
    "\n",
    "analytical = analytical_eq((x,y),0,0,num_BEC_atoms,temp)"
   ]
  },
  {
   "cell_type": "code",
   "execution_count": 81,
   "id": "9c8c32dd-6a85-4b54-9d6a-10c7e8f22536",
   "metadata": {},
   "outputs": [],
   "source": [
    "analytical = np.reshape(analytical,(length,length))"
   ]
  },
  {
   "cell_type": "code",
   "execution_count": 83,
   "id": "a9e16161-1f8f-412c-9f98-25ca57891816",
   "metadata": {},
   "outputs": [
    {
     "data": {
      "text/plain": [
       "<matplotlib.legend.Legend at 0x2a74db9d0>"
      ]
     },
     "execution_count": 83,
     "metadata": {},
     "output_type": "execute_result"
    },
    {
     "data": {
      "image/png": "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\n",
      "text/plain": [
       "<Figure size 432x288 with 1 Axes>"
      ]
     },
     "metadata": {
      "needs_background": "light"
     },
     "output_type": "display_data"
    }
   ],
   "source": [
    "#mean gaussian\n",
    "\n",
    "row = 50\n",
    "\n",
    "plt.plot(np.arange(len(mean_test_im[0])),mean_test_im[row],label = \"mean\")\n",
    "plt.errorbar(np.arange(len(mean_test_im[0])),mean_test_im[row],yerr = std_err[row])\n",
    "plt.plot(np.arange(len(mean_test_im[0])),analytical[row],label = \"analytical\")\n",
    "plt.title(\"High Temp\")\n",
    "plt.legend()"
   ]
  },
  {
   "cell_type": "markdown",
   "id": "98149ea5-0b94-4165-a477-aac73f5e6b78",
   "metadata": {
    "jp-MarkdownHeadingCollapsed": true,
    "tags": []
   },
   "source": [
    "# Checking Variances"
   ]
  },
  {
   "cell_type": "markdown",
   "id": "bc05f555-d686-4928-85e0-1d190b622731",
   "metadata": {},
   "source": [
    "If you want to run these cells to make sure that the variance of the Gaussians these functions produce are correct, you need to change the generate image function so that it only produces images with one temperature."
   ]
  },
  {
   "cell_type": "code",
   "execution_count": null,
   "id": "0b469399-e73b-4282-b203-695659ecac30",
   "metadata": {},
   "outputs": [],
   "source": [
    "test_ims.shape"
   ]
  },
  {
   "cell_type": "code",
   "execution_count": null,
   "id": "ec93fc28-c9fd-44fd-909d-ce9199e78de5",
   "metadata": {},
   "outputs": [],
   "source": [
    "mean_test_im = np.mean(test_ims,axis = 0)"
   ]
  },
  {
   "cell_type": "code",
   "execution_count": null,
   "id": "db863cfe-b074-4e28-92a7-b3b947d1b0de",
   "metadata": {},
   "outputs": [],
   "source": [
    "summ_all_mean = np.sum(mean_test_im)\n",
    "summ_all_mean"
   ]
  },
  {
   "cell_type": "code",
   "execution_count": null,
   "id": "87b7fd62-b93c-4cf9-8d17-1823db875c65",
   "metadata": {},
   "outputs": [],
   "source": [
    "pxy = mean_test_im/summ_all_mean\n",
    "px = np.sum(pxy,axis = 1)\n",
    "res = px * np.linspace(-49, 50, 100)\n",
    "expected_val_x = np.sum(res)\n",
    "expected_val_x2 = np.sum(px * np.linspace(-49, 50, 100) ** 2)"
   ]
  },
  {
   "cell_type": "code",
   "execution_count": null,
   "id": "a7887003-58b2-4ae9-9bb5-07066e78636d",
   "metadata": {},
   "outputs": [],
   "source": [
    "np.sum(px)"
   ]
  },
  {
   "cell_type": "code",
   "execution_count": null,
   "id": "cd13194b-d1aa-4fcf-810d-66faecd97957",
   "metadata": {},
   "outputs": [],
   "source": [
    "expected_val_x"
   ]
  },
  {
   "cell_type": "code",
   "execution_count": null,
   "id": "a5bb90aa-4f49-4a85-99a1-9d70a6fecfb0",
   "metadata": {},
   "outputs": [],
   "source": [
    "expected_val_x2"
   ]
  },
  {
   "cell_type": "code",
   "execution_count": null,
   "id": "7c487dc5-ee98-4cda-b773-992b9ae4cc19",
   "metadata": {},
   "outputs": [],
   "source": [
    "var_sampling = expected_val_x2 - expected_val_x**2"
   ]
  },
  {
   "cell_type": "code",
   "execution_count": null,
   "id": "42987690-28ee-4c27-97b0-2e9914eef481",
   "metadata": {},
   "outputs": [],
   "source": [
    "num_atoms = 100000\n",
    "dimensions = 2\n",
    "# temp = 300\n",
    "\n",
    "trans_temp = (num_atoms/(2*1*1.645))**(1/dimensions)\n",
    "num_BEC_atoms = num_atoms*(1-(temp/trans_temp)**dimensions)\n",
    "\n",
    "actual = analytical_eq((x,y),0,0,num_BEC_atoms,temp)"
   ]
  },
  {
   "cell_type": "code",
   "execution_count": null,
   "id": "04fcc355-eddb-43e5-a8d6-cca68ca6fa43",
   "metadata": {},
   "outputs": [],
   "source": [
    "summ_actual = np.sum(actual)\n",
    "summ_actual"
   ]
  },
  {
   "cell_type": "code",
   "execution_count": null,
   "id": "c5cfcf39-a83b-43a5-b2c2-ae38e44e59ec",
   "metadata": {},
   "outputs": [],
   "source": [
    "pxy_actual = actual/summ_actual\n",
    "px_actual = np.sum(pxy_actual,axis = 1)\n",
    "res = px_actual * np.linspace(-49, 50, 100)\n",
    "expected_val_x_actual = np.sum(res)\n",
    "expected_val_x2_actual = np.sum(px_actual * np.linspace(-49, 50, 100) ** 2)"
   ]
  },
  {
   "cell_type": "code",
   "execution_count": null,
   "id": "8b85687f-048c-4a6c-9208-4f29e3b82747",
   "metadata": {},
   "outputs": [],
   "source": [
    "expected_val_x_actual"
   ]
  },
  {
   "cell_type": "code",
   "execution_count": null,
   "id": "a3a4ccdb-4711-4ca1-aea1-6d04e7900e27",
   "metadata": {},
   "outputs": [],
   "source": [
    "expected_val_x2_actual"
   ]
  },
  {
   "cell_type": "code",
   "execution_count": null,
   "id": "d9df5ec5-a982-4927-a6d6-66e72d513636",
   "metadata": {},
   "outputs": [],
   "source": [
    "var_actual = expected_val_x2_actual - expected_val_x_actual**2\n",
    "var_actual"
   ]
  },
  {
   "cell_type": "code",
   "execution_count": null,
   "id": "2ac22dc6-5b19-4ea8-adc3-766065d87033",
   "metadata": {},
   "outputs": [],
   "source": [
    "# length = 100\n",
    "# actual = np.reshape(actual,(length,length))\n",
    "# actual.shape"
   ]
  },
  {
   "cell_type": "code",
   "execution_count": null,
   "id": "2249185c-31d7-4cdc-b2a4-72462c001381",
   "metadata": {},
   "outputs": [],
   "source": [
    "print(var_sampling,var_actual)"
   ]
  },
  {
   "cell_type": "code",
   "execution_count": 395,
   "id": "4ab791b5-630e-4932-8659-0e11c437c6be",
   "metadata": {},
   "outputs": [
    {
     "data": {
      "text/plain": [
       "<matplotlib.legend.Legend at 0x29a9ddba0>"
      ]
     },
     "execution_count": 395,
     "metadata": {},
     "output_type": "execute_result"
    },
    {
     "data": {
      "image/png": "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\n",
      "text/plain": [
       "<Figure size 432x288 with 1 Axes>"
      ]
     },
     "metadata": {
      "needs_background": "light"
     },
     "output_type": "display_data"
    }
   ],
   "source": [
    "#mean gaussian\n",
    "\n",
    "row = 50\n",
    "\n",
    "plt.plot(np.arange(len(mean_test_im[0])),mean_test_im[row],label = \"mean\")\n",
    "# plt.errorbar(np.arange(len(mean_test_im[0])),mean_test_im[row],yerr = std_err[row])\n",
    "plt.plot(np.arange(len(mean_test_im[0])),actual[row],label = \"analytical\")\n",
    "plt.legend()"
   ]
  },
  {
   "cell_type": "markdown",
   "id": "2af3547e-7ac6-4e44-845e-02ecd60adda8",
   "metadata": {},
   "source": [
    "# Curve Fitting"
   ]
  },
  {
   "cell_type": "code",
<<<<<<< HEAD
   "execution_count": 96,
   "id": "5866ce66-f709-4220-aa86-bd1ff19ab302",
=======
   "execution_count": 6,
   "id": "2efd6e4e-4234-41a7-b751-4f9aacd41738",
>>>>>>> 2c3726b (relocated model to google drive and updated notebook with working models)
   "metadata": {},
   "outputs": [
    {
     "name": "stderr",
     "output_type": "stream",
     "text": [
      "/var/folders/mv/_qj5ptxn15lgd6mszpsm5t000000gn/T/ipykernel_49465/1356333467.py:6: RuntimeWarning: overflow encountered in multiply\n",
      "  out = (No/math.pi)*np.exp(-(x-xo)**2)*np.exp(-(y-yo)**2) + (Nex/(2*math.pi*T))*np.exp((-(x-xo)**2)/(2*T))*np.exp((-(y-yo)**2)/(2*T))\n",
      "/var/folders/mv/_qj5ptxn15lgd6mszpsm5t000000gn/T/ipykernel_49465/1356333467.py:6: RuntimeWarning: overflow encountered in exp\n",
      "  out = (No/math.pi)*np.exp(-(x-xo)**2)*np.exp(-(y-yo)**2) + (Nex/(2*math.pi*T))*np.exp((-(x-xo)**2)/(2*T))*np.exp((-(y-yo)**2)/(2*T))\n"
     ]
    }
   ],
   "source": [
<<<<<<< HEAD
=======
    "#reload data\n",
    "\n",
    "print(\"loading data...\")\n",
    "in_file = bz2.BZ2File(\"./generated_data/full_generated_data.bz2\",'rb')\n",
    "data = pickle.load(in_file)\n",
    "in_file.close()\n",
    "\n",
    "print(\"data loaded.\")\n",
    "\n",
    "x_train = np.asarray(data[0])\n",
    "y_train = np.asarray(data[1])\n",
    "x_test = np.asarray(data[2])\n",
    "y_test = np.asarray(data[3])"
   ]
  },
  {
   "cell_type": "code",
   "execution_count": 7,
   "id": "5866ce66-f709-4220-aa86-bd1ff19ab302",
   "metadata": {},
   "outputs": [],
   "source": [
>>>>>>> 2c3726b (relocated model to google drive and updated notebook with working models)
    "x = np.linspace(-49, 50, 100)\n",
    "y = np.linspace(-49, 50, 100)\n",
    "x, y = np.meshgrid(x, y)\n",
    "\n",
    "initial_guess = (0,0,50000,175)\n",
    "preds = []\n",
    "origins = []\n",
    "for i,im in enumerate(x_test):\n",
    "    popt, _ = opt.curve_fit(analytical_eq, (x, y), im.ravel(), p0=initial_guess)\n",
    "    xo,yo = popt[:2]\n",
    "    pred_No = popt[2]\n",
    "    pred_T = popt[3]\n",
    "    if pred_No < 0:\n",
    "        pred_No = 0\n",
    "    if pred_T < 0:\n",
    "        pred_T = 0\n",
    "    preds.append((pred_T,pred_No))\n",
    "    origins.append((xo,yo))\n",
    "        \n",
    "preds = np.asarray(preds)"
   ]
  },
  {
   "cell_type": "code",
<<<<<<< HEAD
   "execution_count": 103,
=======
   "execution_count": 8,
>>>>>>> 2c3726b (relocated model to google drive and updated notebook with working models)
   "id": "ccb1d510-258f-4cc6-92a6-bf2ac034f288",
   "metadata": {},
   "outputs": [
    {
     "data": {
<<<<<<< HEAD
      "image/png": "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\n",
=======
      "image/png": "iVBORw0KGgoAAAANSUhEUgAAAQMAAAD4CAYAAADo84OlAAAAOXRFWHRTb2Z0d2FyZQBNYXRwbG90bGliIHZlcnNpb24zLjUuMiwgaHR0cHM6Ly9tYXRwbG90bGliLm9yZy8qNh9FAAAACXBIWXMAAAsTAAALEwEAmpwYAAAlG0lEQVR4nO2df6xtR1XHv8veK7ymraWW/nyNxVgTCoIY0pDUREJBCzaUf0wKShohaTCQQAKBFv7RP0gaMcofSswLEmtobIiCNI0KbZVEEws8flMKtOFn4dFaCBTTivfi+MfZ41tvvbVmZv+6Z59zv5/k5p6z9+yZOfvMWrNmrTX7SEoJhBDyM+vuACFkGVAZEEIAUBkQQjqoDAghAKgMCCEdO+vugEbkzAScu+5uELLlnHgspfR0e3RRymClCG5adycI2XL+6JveUS4TCCEAqAwIIR1UBoQQAFQGhJAOKgNCCAAqA0JIB5UBIQQAlQEhpIPKgBACgMqAENJBZUAIAUBlQAjpoDIghACgMiCEdFAZEEIAUBkQQjqoDAghACZUBiJyhoh8RkTu6t6fJyJ3i8iD3f+nTdUWIWR6prQM3gjgAfX+ZgD3ppSuAHBv954QslAmUQYichTAbwN4rzp8PYDbute3AXjFFG0RQuZhKsvg3QDeCuB/1bELU0onAKD7f4F3oYjcJCLHReQ48MRE3SGE9GW0MhCR6wA8mlL61JDrU0rHUkrPTyk9HzhzbHcIIQOZ4lHpVwN4uYi8DMBTAZwjIu8H8IiIXJxSOiEiFwN4dIK2CCEzMdoySCndklI6mlK6HMANAP4lpfR7AO4EcGNX7EYAHx7bFiFkPubMM7gVwEtE5EEAL+neE0IWyqS/qJRS+hiAj3Wvvw/gminrJ4TMBzMQCSEAqAwIIR1UBoQQAFQGhJAOKgNCCAAqA0JIB5UBIQQAlQEhpIPKgBACgMrgELDb/U1d1l7XWveQ+slBQGVADgAqgE1g0r0JZInsDbhmt+d1LWWH9IMcJLQMSEBtNp/a5Kf1sG6oDLaGqYWzNpPvNZRprau1jIUKZEqoDLaOkoC0Cs86TXqr1Oh0PCjoM9gqSkK8q/7vOce9si1KoaVsJMz0NSwJKoOtIRKaMZaCd76mSPLxPfV6B8C+KaOHnu17HwXQ19lJIrhM2Hq8tf1UprcnhC312jlIX0PfwbqgZbARtM5+pZl8r1DGYoeFntWPdO9r9eo+W6tAtxOds/XVPj8thLHQMtgINnWQ1xRPpAjIOqBlsDVEjkFrgntLhghPWPOxfN1OoWyfeq0j0locnPnnhpbBVtBn78FBwDlmE+G3thHYWbPkxS+x11BGo9f0pfX9FO3ZoVhyTvb9HKQFWgaLJxr0B6nHd8z/odd77AXnSxGPuXdhHk5oGSyeaBbcV+eBtjW8V0/LECjlCJSO5fb2g3L7XZn9xn70hT6GPlAZbDR75nXfJUBmSIZgLfOwlmhky2SFMHQ5QsZCZbBIxnrOpxSmaIi09M8KtvY/eAwNNbamRFNplKAyWBvR4LShNLtpxyursQKl62gNA1qhLWUI1pKDopm+Jpy2ry1JUzWlMFYh9NmzsXnQgbg4WnL/+2AVgX09JZGiyOa/V9Y75zGFM3AKId5ORQDQMlgjdqbrs/63TrhSmZojsSXN1ytbS1byrIoS2YKYK2xIRVCDymAxDDFhPUH3nHR9GTos8meoXR+Z2zvq2JhUZW+J5bVHNFQGa2fIsiAKxe2gfV1bS+rx3utjEZ4l4aVGZ/JnmdrBN/Y5DYcP+gwOBS0zZItjrqYIprBCDiJJiIlIHrQMFkOrjyA6vq/+9Ho9v96Db1GM3dfg9S2b6LU0as+cjz6rrmvMEoJWQQQtg62hxak4pu4xs36pPy3KyIuI5PdD+0Yso5WBiFwmIv8qIg+IyP0i8sbu+HkicreIPNj9f9r47m4Tu+bPQw/0FgHXwuHNwtpiyH976s/2zWt/B6e3Y2d2m4Z8NlYPRakJbi0T0qY1RxYFFcQQprAM9gG8OaX0TAAvAPB6EbkSwM0A7k0pXQHg3u79IWCq9agnVHop0NKH0n6BVoZ8Hm8pMiTluaV+qxA8pUDl0MLoO5RSOgHgRPf6xyLyAIBLAVwP4IVdsdsAfAzA28a2t3y8xJuhiUT6uppge2E6W8azMlq2Pdv6Wh2Q2kcRhQxbowhemVZF0vIwFTKpuhSRywE8D8DHAVzYKQqklE6IyAXBNTcBuGn17uem7M4CaPHCtywDSgk8rRt7SrH9LJCta3stwC3pzlPkDngM2e0YpXRTKUymDETkLAB/D+BNKaXHRaTpupTSMQDHVnVckqbqz3Kx3vOx23ftY8i04LVEIVqOl2L2Xl/seft5S+3VHvnuWUvWuqhtiCIek9wtEdnFShHcnlL6YHf4ERG5uLMKLgbw6BRtzcccu9qs4HuzaWaMCa+dg5o+M7EO8+m+6GXCvlOm1I62GDwBtZ9vH77QW8tD90Erw9LyhQ9frTFFNEEA/BWAB1JKf6pO3Qngxu71jQA+PLateVmnmVibLSPGbt6x17dYAJ4At1CLIlgFU4u02Laj74+/w9DKFJbB1QBeDeALIvLZ7tjbAdwK4AMi8loA3wLwOxO0tYH0yfar5faXnmqUBeNIY1+sBeBRmv1LDy7p+1sIuS81wbXCH1kDfYZ1n9+T2G6miCb8O4DIQXDN2Pq3hyGOqtrzDCylNbjOK+hzfe1czTIYklegryvV33Ivaw90pRLI0MMyK62Ot0wUPmuJItgQXlTP0I1GpS3G0dOMrAL0BLI2BFujJZpS5CQzVslsH0xH3khK25RbkpLGECkm77VHVLYltNqXOercXnhHRlEy/fuYn/ZriB4OYo95m3dKyUl2lvWEpbaMaIkc7AJ4Eqevx20Ck1dH/uzZ96EjGl57mj3zX/c70xp2bF3WzRGFWg+0DGZhjCLoU09Lmq2Xmjxm8NZ2Pdo9DaWy3rGW6/RnitryMh0jWu9HS/Rlc6FlMIpaOKvFQdbnXGlWbhmYXhQiym60uQGeEGSLRNfrZRuWhM3LfNQWQu5fn+WHjshEeRu1fI7tmO37QGWwWEoD1PvaautvG8fXAhNtbNJhSm8pk4XWnreC5D1tubRXQV8XKSv9fIZIyOGcn9Ksn+t5jeuBymAW+gyQPiHHkolqtxh7eOtvrSQiBaSFvrQe1/0AVsqkNUXZy3708NKRn0S7BdF6n1s3Rm2PBUFlMJiaaVlytkXRgGhgWQHxwn/5uFUurU7O2po6+ixHVBld3lu6HHHq0v3LjsPWiEgWWmsxRT4E3XZtVo8SpLYXKoNJ8AZKlGJsH02Wj5Vy8b16bFl7PnK6efsZov0A3ixc8lvopYeu2wqtrVMvGex+CF02L02iZKyalTXUpN9+RQBQGQykj2lfMtm9FNxIEehzXt1W4KySiJKJ8nk9G9t+1awGLYxaaeRz+SlHP3DK2TaeVH2w2GNaaejEKIu1REop39H26xqbH2JkaHEwYx6sAdTzAVraj5xvpfCeFpzW5wxES4zWKIanoFqe2hTVb5VgLlPLoRhCn6XUZkPLYBDRbG7L6EFqTd6S2Z6JnklgQ3oeJSHSs5j2ypeWDdZS0L4C3U9vZo2sDG8Z4vW9NuvqVGmvD7atvkTRiD4W4vKhMtgKhiTCeAJWUy6RT6F1/0DJETqE7QnrLQEqgyot3njPDC6Z/KVEGO1R99rKr7MlofugrQs9S3prbT27l9bp+fiZAJ5QZe398GZ/65OwRNaLdah626dLeRV9hnVWatEmLEtkLW0+9BkMpmVWGqJrh+QoeNTW41FWYX5tow22fNSm147+r+tvKVtqg5bBlNAyqNKySabm5PLORSFBLwRn+2GtAa9M5HkHTs8NsA44zzmoH56iz3llSr4HjV026NnZRhe0FRNZArV2vDJ9Z/fofm8+tAx6YweDNyBKS4OW3IF9509Ty/XP/WxNnClFHjzFoaMV1jG6A1+ZtLBn/lu0crGKq4aXZWnv7+G2NGgZzELkXffW75HnuxSLtzPdEZzM7rNr+tLsXHsKUL5uxylj058jj79OOtLWBcwx4NQ6vMSjkiXU6sDUiUslv0MLm59boKFlMIpSdh1Qf5pOy3LASzSyx3cBnAN/5vSwdUYKyQpqtJwpzajZutCbnvpYDV4eQd/rbX+8OvrMi/azD7WElgUtg954HmdvEEQ5Avaaln0H0SDTwv+EKe85/PZxcs0f1RMpCp2LYHMctAI7E6d+JrtxyWvXK9OyUSlCfx5bvuZU9cq0KD1dbjOhMhhESwgqwiqBLLjZMWZNV7smz+3ruoCTywOrCGyqcWn5kUOapbV7JKy6jiPwHX3e04u0o/AIVsrEE2CtlDK1ZZRNiPJo9avYa1oto82ByuDAqJnmU6XPesojm+o69yAPZi8aEA1uzwmniWZkK5AtORu2T7Wwo+f3aBHSkkC3JlNtB1QGB4I30Dzn1xRfh535dQgwKwSbtuslLu3i1GSkaGlhQ3/aiektgSKrIwoPRsLqJQl51kMpFKjvQxSu9JRY5B/Y7LAjHYgHQsnLXmKocmjd/NOSSDQUz0KJiO5FbVYuCV/LvdP3obV8H2tjs6BlUCX68qPNNxEt5e162Asl6uu9JKP81J9ops0WQnYk2pi97q9nJkfhPD1rat9DtjRsinEuaxVTtly0D8Ti9cnzJUQOQY1OZorCwS1spgLQ0DKYlSm21EaKYCi75n9L+1NaD54J35Kq7NFifQy579bpejigZfD/RAkkUfJOi4mfB5ROzCmVz+TQnXb6eW16kYnIUaktBe1l1zN2niX1bB59ntzWk6pMzTdi+9oStbCfQ9cROTw9KySilhR2eKBl0EwfM7BlQHkx8JpTqrXt1vajnYQtKdMlas8TsMuY6F70sRC0su1rskf3Yojpv7lhxsOrBk+j9sX3Na+jWdKrx67v+2y8sfkDLQlRnsDrsjbnQdd7RL3PqdBR3oX2AXj+EJ0a7PU3X6ev7+MY9PIMWkOQQ0Vjc30HtAxmQQt8a8TAW6O25tvbtncr7718AatgvNnSKhxPAelZXgs91HFveWP7o+vTeRFROdvHVrRVMXRW31wFoKFlcCDk2W+Iya+JLIt8bgf+OtwOdD1bRrNiFhD9P3Kq6dnWrvV31LFouNX2abQufTKefyHyCQ1JT7ZEdW8WVAazoENqwOm5/B6tX4XebWcHqza7baJPKRXYrrWPmON6hrdrf6tktOLI4bqz4Tvn8o+zRmt2fd9KghkJ69iQb7531tFaWhJF/Vi+sqAyaKbvzO5lu0Ux82j2sgLkec3tDG/9DrqsPV9Lt/VyCs5rKJvf20zHKMsPiC2dIY69PmnEXlQj39coU7Mvy1cEAJVBT1oTjWws3Q42T6jPxukCrbFr4axctELIs3EOS3p917O/ndX1a8+XcTaAC1U92rdgr9fHSg7RFqWk691zXkdJWF5SlIf+jrTiKn3f3rnNsAAiqAwOHDuoSuZvaV0P+AqhNntp/0HLwNVD5CiwcyFwPoBfAvDfAI4DQALwAFY/kqItIC/qYa2d1pm/RVm0mOpaQdX8HzVH5eYKvsfs0QQRuVZEviIiD4nIzXO3Ny+e1zyKk+ty+Vo9u9vjwOle/MjDrWfeJ9U1O+ovitvrVGQ7g9vPqMsfAc66EHgDgL8EXvRvd+G5n7wP+EMA1wmAy3GqktEe+h93/dR9zX/e8kK/jvpn8wr0/SxlD1rrwVvOZKdnDqPaP90XOyZaWGYuwqzKQETOAPAXAF4K4EoArxSRK+dscz765hnUjK45BoSXs98Hb0bPx48AFwF4PnDedd/B7+Ov8SrcDrwYwK8CJx9q4oUrvQzJFktmjntUysM43Iby3J/+KgAPpZS+BgAicgeA6wF8aeZ2Z0abiK0JK9qk12U8z74147XloMkzl55h9TXWQrCzppfu7Anp2QDOAV4BvPR3P4i34E/wol/8D+DZwJN3nonbr34VHrznucB9RwE8oj5rrsf+PoNur+aky9aEtVjycXuNVYC1Ia5ne+8+ajwfRMuyzNa3zOXF3MuESwF8W71/uDv2/4jITSJyXESOrx7dtSkMmbWmHAQtetyzFLRZXFpfO8fOAs7FD3EJvosHvw7gi8AFeATn4/vAWcBJ5dSnr9F9LF0zlzC15hVYwV6mcPdlbstAnGPplDcpHQNwDABELklO+YUQrcFrRGVqFoIXOYA5V8rK8wZ2nqWjvAKLiVL88zn4219/Db50zZW4I92Af8EluOUnt+JHd10EfBEAHlftRbkDJbzPY6MNXiKSPafpk5dgy9QcnRr7HdUU7vKYWxk8DOAy9f4ogO/O3OZIpvQSR0uIKIxXoiVPQbdR6pN+RmFr208A3wBwD/C5nRfg1t94G36Ic/Gjv7toFVF4LJfzQn9ROyVlqpWC/T5yfbXvqmTKt4Ql+yqzzWZuZfBJAFeIyDMAfAfADQBeNXObI6kpgimcWlohRF9BaSDaHzbR6+1ISHad4zqz0Foium9dJOB7Pw+89xzgHuC26/4A+C8A/wDgewD2v47VVwxVp+2vrt9aLPm+5qzF3NfHcTr2NyIspbTnUgg3ylMo+YD0dZtjBXjMqgxSSvsi8gYAHwFwBoD3pZTun7PN6fBmjCjxpNUjXZvNavVrobXOwZy6axNgokxE217JSshhwQeAx84GHtsFjp/XXZMdhj/oyujfb9DhTlufVTglpagFL/slSkskL6lLY4Xe0mIdWofmZisC4ABiKSmlfwTwj3O3Mz0tX24fKyGqT88+ntdco0N3++a4bcezBKKlhu1LJmcz5vr2sMoZsO1pRaSVlA01em14vgCNVib2s0efxbMYrFL37sUy4/8HxeEOrPaiFEKs+QA8RWCvtbO+PmeFwVsC2HXumU6buS5djw4n5mv1041txl5WEFaI84ytfy+hpAi0otIKLP9uQsm5qZWPXSq1pClHfbJEvoOSLyL6jpYPlUEztVl17DV9vgotoJ5C8jIQ7bUZbymhFcaOOR7VZ/0EXjk9+2eBjvICvKxAW4/tQy7nreFbnaWW1nCjZvMUAUBl0BMr3N5Azf89p5RHlImn645mG88HESUs6dd6VveU1Tmmb7ZPun5vSeBFTPT/nO5bSsQpLSdqM7VN69ZlvGcres5Ai/5MLVGQzYPKYJH0DWnpNbC3RCmF1nR7JUsmitd7sfWW/vcVmqh8qR6tpK0/I+rj5pr5Y6Ey6I0nMHZglW5rFK7yHFz6PZz3WvhtfXpQ18KM9rz33sb27VZpnXDUOqys30H/t9ZFLq+TkFo9/vpeeNfpe+FZfplSktPmRxSoDKoMmSmGrk9b8NbyHkMHpjb7vQQiK2Aetc9/EMk8Uf82W2DnhMqgijd4vJnFYgWiNS25JGz60WWt+fM6Pm/Pef3Ir23fbVKQF5XIs6Ptm815eFwdL+FZO1EIsmRVlHwq+XWL0i/d881XMnw68qzUBLY1j98OZk8QvOVAX3QdkTDlc1Z4vOQijVYouY6SA9HiOVqtwqolE0X19CXfJ/uZNhtaBqOwM2Mf8uyrBctTCFbo7Lo5Sj6yv3eY69IDWT/41FMykeNRC57e45DDi3s41XLI13mZh9aqiBx8kcNT97Pvkm7oOt9rhz4DUiULSuQQ9MKSFhumrDkfrQm/h9NDanpWsxmFXuaj17echORhIw3AqclMES1KIB9v9c1YB2KtbF+htsp2aD3rhcpgMiLroOQ3iAazvSaKudt6takeRQjs2jpf53nZ7TVagVirw15jX++j/pDWmmUUDdcoEtBHGGt5DrVrrfBvliIAqAxmpsWBqLEmvT2nlwity5JSCFEvVaD+l8Jr9qlF2moo+RlsvbZcLYwX1aNne2+5FQm197n7ikMpfBuVX66SoDJowvsSh6Qme9fZfH1dvmau7zrHIuGxgl9Cr+1tvzSeSW+XQCUF4SmCSAlYwbMzf5SCXVri2DJDGGN9LAsqgyotQh8JbT7XMkj1NV5yjVUUnuDp87nes1WdXrKMtwR4XNXved+tgEd9sTO1FX7PV1G7X9663xvGpTp0H0rUHMPLFu6+UBnMjo0C9E1eAuIMxJZQWmmfRC1N2VuOeHn/pQQfTwF5fatFAkqORa+Mp1T6WEe6T4cDKoMq0eAcGk60eOtcK7xHnDL5fS25SfsLdAjQm/HzA2k9v0S2APSThyL/xr4q75UrJThFgtqiWFqWYq3Kaccpu93KgcrgwBiyFTYzZ/qu5wkHylEC79ox5nRpxrZLixbLarvM94OCyqBK30QWwA8Z2pRcOwvpa/MmIGshtEYk9CypLQBv3b+P09OD7TMWPaL74sX0S4Kul0+t+QC1eq2V1aqIbX36feneDxkjy4PpyEWmNguH1jeXZeCt//vgOSK9Y1FEwUZA+grTnBbTEDZ7GUHLIKSPto+SXkqU1sneoLIzlL2+5DuofQbPP6Dr1p/PWisl097zdeh29ANOrGJ4UpXx+uW1F1kJNmrhUQqB1sZCtNTaLKgMigz9cr0YvQ2nRfntMOU8SqG0Wk6Ad21LHkFLYo41sVsExCsT+Sdajk2Jvqe1tjZbEQBUBgX6fLlWsEtpyVGIsZSq3Cf/Pjoe+RGA0/vdYn7n/mn/gjb3S32uKa6SVTNkSVH6PJ415/WrphA23zKgz2AUrV++FQybuttabyQ81gy213sONG3ye+1rxWEzHbVJbx2TUOcich014SqFCGtteLQsl2pbsS26n/QZHHJa8g2i0Jk2vWtxb+86TbSTcSd4rctp4Y6GhPZVaEF+AqfP5NbbX1un14S6plisBRWVry1JojyDlus33zKgMpiU0nKhNVQWXadnLP3bBID/Y6pQZXOdecA+WbjGpiHXFJLtSxZ+6+D0lkXZAon8J1GkI8os7EOLVeFZdJHQb7YiAKgMJmJshlrL12CXFrVNQKVsx1w+1+EJoz7ekgoc9ddbtnhm9VAnYh/09Z6gR5Tu8/ZAZTALXlQgGmxecpK9JhrE2gy3M3qNUnKTxZuhS1ERPYOWwqb5V5h+7JSzyy+7/LB4ywX94JUoqmPb1NQUrmbzlwl0IB4IfR1dJQdjq6ffozTbeoO+NcfCLjNaIgn5dV9Hams24RQJSX0sgs1WBAAtg4HU1o0tvoKWW59nx9awY2lAer6HyLGZ68rCGuVC6HpLbUZWwh5WVkEJzyrSFpNnSVlaox2l3ZfbDy2DxWFn5ZaMuanxLJOpw3hRnSUl2SerMuoL578I3plBtOQBlGZToGwxlMJXrbSEPG0asucwjCwgb3lhh5P3a872mqhfuR0bfo2cmbUkrj6JVS33Tte1HZYDLYNZaPGMT1FvVKZmVezCX36MDc9FAu857Vo+iw4/eudKdW2HgB4ktAwWRy1mrmetffW+lE2Y2UW8mafWF7ut2UY6ShaGFwFp2Q9hP6uHV09JEbQqiVbFuz1QGUzKFHHwLLDersYoy1DTuqGoNEtbAcvKprZ8qA2nWvit7/3b7PTfpUFlsChsFCLaqFRSAt57vQb3Ni6VhNRTAN7M7u1dsETRiSglONdbC5WW1u66vpqvYrtm+r6M8hmIyLtE5Msi8nkR+ZCInKvO3SIiD4nIV0Tkt0b3dJG0zkxzzWA6xThaWwOnC7QOG+rwX4mobm9jj+3LPk5tS79uUWx9Eqk8X4Vtz7tfnnUUbcLaTsY6EO8G8OyU0nMAfBXALQAgIlcCuAHAswBcC+A9InLGyLYWyCbNJLXoRUkwPKFC4ZjFE0AvMlATZFunfd/3GRC6b1H9m/Qdj2OUMkgpfTSllL+p+wAc7V5fD+COlNJPUkpfB/AQgKvGtLVZjJ1V8mxrZ9RdnF53FLnwZmxvf0PpvD23h5M/sOLN/hYbgtT7FSKisKUto+v0lFfJ8iAeU4YWXwPgn7rXlwL4tjr3cHfsNETkJhE5LiLHTz6qe5spmfOZ0mwYmbklxRPN9LVj3rW2bM2q8OpuUZQt98nD2+tBWqguxkTkHgAXOafekVL6cFfmHVh947fny5zyyas/pXQMwLFVPZe4ZTaLvo/x0s8JANr2JNSeOVATpGxSt24TbhXw/eBcJup3pJx0ApaOaHhOR12/vZe63VoyUu1zby9VZZBSenHpvIjcCOA6ANeklLIwPwzgMlXsKIDvDu3kZjF0ANXyC6amFOsfQmvWXh+iEGvrtVE9wHyJYZvL2GjCtQDeBuDlKSVt498J4AYReYqIPAPAFQA+Maat7cGayLV1t6Xv8xB1e3bb8eM4KSits3aUn7CPU59oXOun9YeU2s9+ARsJsf6Rkl+ilLTEpQQwfir6cwBPAXC3iADAfSml16WU7heRDwD4ElbfwutTSj8d2RYZTS1pqFR+zn60CGOtL30/G7GMUgYppV8qnHsngHeOqf9w0HdW8kzn6BmKKBwvnfcEy0v+0b9poDcl5Tps3dEzEb0wXkuiUJSq7N1T3f/D6xcowY1Ka6FFcEumOzCPadsSGdDKwUMLe5QEFLUdlaklVVGgp4DpyAdOq+OqJDi1XAF9vGWvgtenlic+187Zh6gMXRK0Kr6SNTHXkmd7oDJYNFZ4dBjM85DXBNSLwQ+Zbb1ztb39JYUwZmbXSwwdWuyTN0EAKoOFM2R2zsLWkt8/pWCU6iqF9cYud7JCi7Zn6zZLmZuEyuDAaB2EYwRFz5I2nHiQ1LYq62WE5yvom1vQmkg0Ry7E9kBlcGBMYQrXBrKeJWuUfAktfoYSLRmLpXNj1vec8YdCZbAo7IzaMrDHxulrgl969Jh3vTfD65BeyxOI+5bp4/egsoigMlgcU/8YR+ssG6VDj+2Lbr/PY9ZL/dj8HyxZIlQGa0UPau8ZghYrAFFqs56BvWu8+lo9/LUhoz35LanGUfsRu+p/tHyiohgCk47WypSZcFMIQMuDSmz5dUGBnxpaBoui7wAvmc6lrblwztn1fMvTi73jetNQ7Zrcdh8P/9R5CiRDy+DQEOXrrxMK8ZJY92ggvSjNiH0sgcx+cLxEbSa3VkApLDplBqRug0pmCLQMFoe3v37Innv75GTNUGHxdhf2vXboY8nG3APSAi2DxVFaE/edwUvHvTpL7QxVIK3hRN320PyAqZTe4YTKYCPpO8j7muMtS44pU3tLURWa/gcFlcEiGbNvf46su1JMv9SHKZQFlcBBQWWwNbRk5XlC3SpsfR7FHh23bXoJRGRdUBkcKqZMchpST/QQFSqCJUBlsDWMEag+6c8t7fVJCqIiWAoMLZIejAktkqVDy4BgnKnfpwwjA0uGlsGhggk4JIaWwaFi3TPyutsnJWgZkIEw1XfboGVABsJZftugZUAWBq2NdUFlQBYGLY51QWVACAFAZUAI6aAyIIQAoDIghHRQGRBCAFAZEEI6qAwIIQAmUgYi8hYRSSJyvjp2i4g8JCJfEZHfmqIdQsh8jE5HFpHLALwEwLfUsSsB3ADgWQAuAXCPiPxySumnY9sjhMzDFJbBnwF4K4Ckjl0P4I6U0k9SSl8H8BCAqyZoixAyE6OUgYi8HMB3UkqfM6cuBfBt9f7h7phXx00iclxEjgNPjOkOIWQE1WWCiNwD4CLn1DsAvB3Ab3qXOceScwwppWMAjq3ausQtQwiZn6oySCm92DsuIr8C4BkAPiciAHAUwKdF5CqsLIHLVPGjAL47ureEkNkYvExIKX0hpXRBSunylNLlWCmAX0spfQ/AnQBuEJGniMgzAFwB4BOT9JgQMguzPNwkpXS/iHwAwJew+nG91zOSQMiymUwZdNaBfv9OAO+cqn5CyLwwA5EQAoDKgBDSQWVACAFAZUAI6aAyIIQAoDIghHRQGRBCAFAZEEI6qAwIIQCoDAghHVQGhBAAVAaEkA4qA0IIACoDQkiHpLScJ42JyH8C+OaEVZ4P4LEJ65sb9nde2N8Vv5BSero9uChlMDUicjyl9Px196MV9nde2N8yXCYQQgBQGRBCOrZdGRxbdwd6wv7OC/tbYKt9BoSQdrbdMiCENEJlQAgBsOXKYFN+Kl5E3iUiXxaRz4vIh0TkXHVuif29tuvPQyJy87r7YxGRy0TkX0XkARG5X0Te2B0/T0TuFpEHu/9PW3dfNSJyhoh8RkTu6t4faH+3Vhk0/FT8tQDeIyJnrKeHp3A3gGenlJ4D4KsAbgGW2d+u/b8A8FIAVwJ4ZdfPJbEP4M0ppWcCeAGA13d9vBnAvSmlKwDc271fEm8E8IB6f6D93VplgA36qfiU0kdTSvvd2/uw+m1KYJn9vQrAQymlr6WU/gfAHVj1czGklE6klD7dvf4xVgJ2KVb9vK0rdhuAV6ylgw4ichTAbwN4rzp8oP3dSmUwxU/Fr5HXAPin7vUS+7vEPoWIyOUAngfg4wAuTCmdAFYKA8AFa+ya5d1YTV7/q44daH9n+a3Fg2Dun4qfmlJ/U0of7sq8AysT9/Z8mVN+3bHgJfbJRUTOAvD3AN6UUnq8+7XwxSEi1wF4NKX0KRF54br6sbHKYNN+Kj7qb0ZEbgRwHYBr0snkjyX+tP0S+3QaIrKLlSK4PaX0we7wIyJycUrphIhcDODR9fXwFK4G8HIReRmApwI4R0Tej4Pub0ppq/8AfAPA+d3rZwH4HICnYKUwvgbgjAX08VqsfrH66eb44vqL1QTyta4/P9v171nrvoemjwLgbwC82xx/F4Cbu9c3A/jjdffV6fsLAdy1jv5urGUwhLTcn4r/c6wE/u7OmrkvpfS6JfY3pbQvIm8A8BEAZwB4X0rp/nX2yeFqAK8G8AUR+Wx37O0AbgXwARF5LVZRpt9ZT/eaOdD+Mh2ZEAJgS6MJhJD+UBkQQgBQGRBCOqgMCCEAqAwIIR1UBoQQAFQGhJCO/wNFs7a8zvnoJAAAAABJRU5ErkJggg==\n",
>>>>>>> 2c3726b (relocated model to google drive and updated notebook with working models)
      "text/plain": [
       "<Figure size 432x288 with 1 Axes>"
      ]
     },
     "metadata": {
      "needs_background": "light"
     },
     "output_type": "display_data"
    }
   ],
   "source": [
    "check_indx = 5\n",
    "\n",
    "data_fitted = analytical_eq((x, y), *origins[check_indx],*preds[check_indx][::-1])\n",
    "\n",
    "fig, ax = plt.subplots(1, 1)\n",
    "ax.imshow(x_test[check_indx].reshape(100, 100), cmap=plt.cm.jet, origin='lower',\n",
    "    extent=(x.min(), x.max(), y.min(), y.max()))\n",
    "ax.contour(x, y, data_fitted.reshape(100, 100),10, colors='w')\n",
    "plt.show()"
   ]
  },
  {
   "cell_type": "code",
<<<<<<< HEAD
   "execution_count": 136,
   "id": "05595a82-bf9f-4fd0-a992-5c998b6b1c9e",
=======
   "execution_count": 9,
   "id": "36b0468a-64bd-4b35-9794-ab8222050300",
   "metadata": {},
   "outputs": [
    {
     "name": "stderr",
     "output_type": "stream",
     "text": [
      "2023-03-11 21:44:20.593495: I tensorflow/stream_executor/cuda/cuda_gpu_executor.cc:975] successful NUMA node read from SysFS had negative value (-1), but there must be at least one NUMA node, so returning NUMA node zero\n",
      "2023-03-11 21:44:20.905391: I tensorflow/stream_executor/cuda/cuda_gpu_executor.cc:975] successful NUMA node read from SysFS had negative value (-1), but there must be at least one NUMA node, so returning NUMA node zero\n",
      "2023-03-11 21:44:20.905599: I tensorflow/stream_executor/cuda/cuda_gpu_executor.cc:975] successful NUMA node read from SysFS had negative value (-1), but there must be at least one NUMA node, so returning NUMA node zero\n",
      "2023-03-11 21:44:20.908018: I tensorflow/core/platform/cpu_feature_guard.cc:193] This TensorFlow binary is optimized with oneAPI Deep Neural Network Library (oneDNN) to use the following CPU instructions in performance-critical operations:  AVX2 FMA\n",
      "To enable them in other operations, rebuild TensorFlow with the appropriate compiler flags.\n",
      "2023-03-11 21:44:20.910515: I tensorflow/stream_executor/cuda/cuda_gpu_executor.cc:975] successful NUMA node read from SysFS had negative value (-1), but there must be at least one NUMA node, so returning NUMA node zero\n",
      "2023-03-11 21:44:20.910688: I tensorflow/stream_executor/cuda/cuda_gpu_executor.cc:975] successful NUMA node read from SysFS had negative value (-1), but there must be at least one NUMA node, so returning NUMA node zero\n",
      "2023-03-11 21:44:20.910834: I tensorflow/stream_executor/cuda/cuda_gpu_executor.cc:975] successful NUMA node read from SysFS had negative value (-1), but there must be at least one NUMA node, so returning NUMA node zero\n",
      "2023-03-11 21:44:22.937667: I tensorflow/stream_executor/cuda/cuda_gpu_executor.cc:975] successful NUMA node read from SysFS had negative value (-1), but there must be at least one NUMA node, so returning NUMA node zero\n",
      "2023-03-11 21:44:22.937906: I tensorflow/stream_executor/cuda/cuda_gpu_executor.cc:975] successful NUMA node read from SysFS had negative value (-1), but there must be at least one NUMA node, so returning NUMA node zero\n",
      "2023-03-11 21:44:22.938067: I tensorflow/stream_executor/cuda/cuda_gpu_executor.cc:975] successful NUMA node read from SysFS had negative value (-1), but there must be at least one NUMA node, so returning NUMA node zero\n",
      "2023-03-11 21:44:22.938197: I tensorflow/core/common_runtime/gpu/gpu_device.cc:1532] Created device /job:localhost/replica:0/task:0/device:GPU:0 with 1332 MB memory:  -> device: 0, name: Quadro K620, pci bus id: 0000:01:00.0, compute capability: 5.0\n"
     ]
    }
   ],
   "source": [
    "x_scaler = MinMaxScaler(feature_range = (0,1))\n",
    "\n",
    "tmp_x_test = copy.copy(x_test)\n",
    "\n",
    "x_train = [x_scaler.fit_transform(x_train[i]) for i in range(len(x_train))]\n",
    "x_test = [x_scaler.fit_transform(x_test[i]) for i in range(len(x_test))]\n",
    "\n",
    "tmp_y_test = copy.copy(y_test)\n",
    "\n",
    "#scale labels to be between 0 and 1\n",
    "y_scaler = MinMaxScaler(feature_range = (0,1))\n",
    "y_train = y_scaler.fit_transform(y_train)\n",
    "y_test = y_scaler.fit_transform(y_test)\n",
    "\n",
    "\n",
    "\n",
    "ml_model = tf.keras.models.load_model('BEC_model_conv')"
   ]
  },
  {
   "cell_type": "code",
   "execution_count": 10,
   "id": "d4b676d4-c900-417e-a953-eb72b7fa6722",
   "metadata": {},
   "outputs": [],
   "source": [
    "x_train = np.asarray(x_train)\n",
    "x_test = np.asarray(x_test)\n",
    "\n",
    "y_train = np.asarray(y_train)\n",
    "y_test = np.asarray(y_test)"
   ]
  },
  {
   "cell_type": "code",
   "execution_count": 11,
   "id": "62e99c28-cd09-4193-b345-6dfbad611120",
>>>>>>> 2c3726b (relocated model to google drive and updated notebook with working models)
   "metadata": {},
   "outputs": [
    {
     "data": {
      "text/plain": [
       "<matplotlib.legend.Legend at 0x29c289030>"
      ]
     },
<<<<<<< HEAD
     "execution_count": 136,
     "metadata": {},
     "output_type": "execute_result"
    },
    {
     "data": {
      "image/png": "iVBORw0KGgoAAAANSUhEUgAAAXAAAAD4CAYAAAD1jb0+AAAAOXRFWHRTb2Z0d2FyZQBNYXRwbG90bGliIHZlcnNpb24zLjUuMiwgaHR0cHM6Ly9tYXRwbG90bGliLm9yZy8qNh9FAAAACXBIWXMAAAsTAAALEwEAmpwYAABMC0lEQVR4nO3dd3zU9f3A8dfnRvaeZAAJkIQ9I3vJcLBVXKUVW0dtq7Z1Yltb9WdbbdVarbbirrVqxcFG9t4gMkIgJARIyN771uf3x/eySCIXyOUyPs/Hg8fdfcfd+5tL3nzufZ8hpJQoiqIonY/O1QEoiqIoV0YlcEVRlE5KJXBFUZROSiVwRVGUTkolcEVRlE7K0J4vFhISImNiYtrzJRVFUTq9Q4cO5UspQy/d3q4JPCYmhoMHD7bnSyqKonR6QohzzW1XJRRFUZROSiVwRVGUTkolcEVRlE6qXWvgiqJ0LWazmYyMDKqrq10dSpfg4eFBdHQ0RqPRoeNVAlcU5YplZGTg6+tLTEwMQghXh9OpSSkpKCggIyOD2NhYh85xqIQihPi1EOKEEOK4EOITIYSHECJWCLFPCHFGCPGZEMLtqqJXFKXTqa6uJjg4WCXvNiCEIDg4uFWfZi6bwIUQUcDDQKKUcjCgB+4AXgT+JqXsBxQB91xR1IqidGoqebed1v4sHf0S0wB4CiEMgBeQBUwDltn3fwgsaNUrK0oHYbVJjmWU8O7Os6w5lkVJldnVISmKQy5bA5dSZgohXgLOA1XAeuAQUCyltNgPywCimjtfCHE/cD9Ar1692iJmRWkTBeU1PL/6JJuTcxslbb1OMKJnAPdP7sN1g3q4MELFEa+99hr//Oc/yc7O5sknn2TJkiV8/fXXxMfHM3DgQFeH51SXTeBCiEBgPhALFAOfAzc4+gJSyqXAUoDExES1eoTSIRzPLOGnHx0ir7yGecMimRQXwpjYYDKLK9l6Ko81x7K4/6ND/HJ6HL+cHodOp8oEHdWbb77Jxo0biY6Ortv29ddfM2fOHJXAgRnAWSllHoAQ4ktgAhAghDDYW+HRQKbzwlSUtrP8SCZPfnGUQC83lj0wjqHRAXX7evh7MKp3EL+4th+//eo4f9+UwqnsMl6+bRje7qrTVkfzwAMPkJaWxo033shPfvITUlNT+cEPfsCKFSvYtm0bzz//PF988QV9+/Z1dahO4chv5HlgrBDCC62EMh04CGwBFgKfAouB5c4KUlHayrrj2fzy0yOMjgnijUUjCfV1b/Y4D6Oel24dyoAIX/605iT3/dvMR/eMQa9a4i16duUJki6WtulzDoz04w9zB7W4/1//+hfr1q1jy5YtrFq1CoDx48czb9485syZw8KFC9s0no7msl9iSin3oX1ZeRg4Zj9nKfAk8IgQ4gwQDLzrxDgV5aqdL6jk8WXfMSzan4/uHd1i8q4lhODeSX144eah7E4t4PXNKe0UqaI4xqHPhFLKPwB/uGRzGjC6zSNSFCeoNlv5+X8PIYB//GAk7ga9w+femhjN3rQC/r4phdExQYzvF+K8QDux72spK86h5kJRuoU/rj7J8cxSXr5tOD2DvFp1rhCC/1swmD4h3vzysyPkldU4KUqlrfj6+lJWVubqMJxOJXCly9uRksdHe89x36RYZg4Mv6Ln8HY38MaikZRWmVnyxdE2jlBpa3fccQd//etfGTFiBKmpqa4Ox2mElO3Xsy8xMVGqBR2U9mS1SWa/toNKk5UNj0xuVemkOf/alsoLa5P5+N4xTFClFE6ePMmAAQNcHUaX0tzPVAhxSEqZeOmxqgWudGlfHM4gObuMJ25IuOrkDXD3+BiiAjz505qT2GxqWIPiWiqBK11WpcnCy+tPMbxnALOHRLTJc3oY9Tx2fTwnLpay4ruLbfKcinKlVAJXuqx3d5wlp7SG380e0KYTLs0fFsWgSD/++s0pqs3WNnteRWktlcCVLimvrIZ/bUvlhkE9SIwJatPn1ukEv5k1gMziKv69J71Nn1tRWkMlcKVL+nB3OpVmK4/fkOCU55/QL4TJ8aH8a1uaaoUrLqMSuNLlVJms/GffOWYOCKdvqI/TXueBKX0orDDx9bdqGiDFNVQCV7qcLw5nUFxp5t5JfZz6OuP6BDMwwo93d56lPbvjKlfn97//PRs3bnR1GG1CJXClS7HZJO/tPMvQaH+uiQl06msJIbhnYiwpueVsT8l36mspbee5555jxowZrg6jTagErnQpW07lkpZfwT0TY9tlqa+5wyIJ9XXn3Z1nnf5aSvPS09MZMGAA9913H4MGDeK6666jqqqKI0eOMHbsWIYOHcpNN91EUVERAHfffTfLlmmLiS1ZsoSBAwcydOhQHnvsMcrKyoiNjcVs1hb4KC0tbfS4o1ETHCtdyjs7zhLh78GsNur3fTluBh13je3NyxtOk5JTRly4b7u8boe0dglkH2vb5+wxBG584bKHpaSk8Mknn/D2229z22238cUXX/CXv/yF119/nSlTpvD73/+eZ599lldffbXunIKCAr766iuSk5MRQlBcXIyvry9Tp05l9erVLFiwgE8//ZSbb74Zo9HYttfVRlQLXOkyTlwsYU9aAYvHx2DUt9+v9qKxvXE36Hhvl2qFu0psbCzDhw8HYNSoUaSmplJcXMyUKVMAWLx4Mdu3b290jr+/Px4eHtxzzz18+eWXeHlpk5zde++9vP/++wC8//77/PjHP26/C2kl1QJXuoxP9p/H3aDjzmvad+3VIG83bh4ZxVffZvKbWQPw9eiYrTWnc6Cl7Czu7vVzu+v1eoqLiy97jsFgYP/+/WzatIlly5bxj3/8g82bNzNhwgTS09PZunUrVquVwYMHOzHyq6Na4EqXUG22suLIRa4f1AN/r8sk0JJMaONeI7cl9qTabGP10aw2fV7lyvj7+xMYGMiOHTsA+Oijj+pa47XKy8spKSlh1qxZ/O1vf+O7776r23fXXXfxgx/8oEO3vsGBBC6ESBBCHGnwr1QI8SshRJAQYoMQIsV+69yv/BXle6xPyqG02sJtiT2//8DSLHh1CCR93aavP7xnAP3CfFh2KKNNn1e5ch9++CGPP/44Q4cO5ciRI/z+979vtL+srIw5c+YwdOhQJk6cyCuvvFK3b9GiRRQVFXHnnXe2d9itctkSipTyFDAcQAihR1u8+CtgCbBJSvmCEGKJ/fGTzgtVUVr2+cELRAV4Mr5v8PcfWJQO0grpO2HQTW32+kIIFo6K5oW1yaTlldPHiQOIlMZiYmI4fvx43ePHHnus7v7evXubHP/BBx/U3d+/f3+zz7lz504WLlxIQEBAm8XpDK0toUwHUqWU54D5wIf27R8CC9owLkVx2MXiKnaeyeeWkVHoLrfocHm2dpt5uG2DOL2eH5q/RK8TqhXeyT300EMsWbKEp59+2tWhXFZrE/gdwCf2++FSytqCXzbQ7FInQoj7hRAHhRAH8/LyrjBMRWnZl4czkBIWjrpM+QSgPFe7zTkOFlPbBXH0M3wOvcGU+FC+PJyJVc0V3mm9/vrrnDlzhvj4eFeHclkOJ3AhhBswD/j80n1SG0fc7G+slHKplDJRSpkYGhp6xYEqSnOklCw7lMGY2CB6BTuw1mWZvQVuNWlJvK1Ul0BVMbeOjCC7tJqdZ9TITMX5WtMCvxE4LKXMsT/OEUJEANhvc9s6OEW5nAPpRaQXVHLr5b68rFWeC3p7l7OLbVhGqS4BJNNi3AjwMvL5wQtt99yK0oLWJPA7qS+fAKwAFtvvLwaWt1VQiuKor49k4mnUM2tID8dOKM+GsAHgFQyZ37ZdINUlALjXFLNgeBTrk3Ioq+6Yw6+VrsOhBC6E8AZmAl822PwCMFMIkQLMsD9WlHZjsdpYdzyb6QPC8HJzcExaeQ749oDIkY1b4DYbfPlTOLPpyoKxJ3AqC5g7LAKTxcamk+pDqeJcDiVwKWWFlDJYSlnSYFuBlHK6lDJOSjlDSlnovDAVpak9aQUUVpiYMzTS8ZPKcsAnHKJGQl4y1JRr21M3wdFP4dAHVxZMgwQ+omcgkf4erFKDejqVDz74gAcffPCyx1y8WL8W6r333ktSUlKrX2vr1q3MmTOn1eddSo3EVDqt1Uez8HbTMzXBwS/HbVaozNcSeORIkDbIso++O/COdntuV+tHaVpqwFKl3a8sQKcTzBoSwfbTeZSqMkqXcmkCf+eddxg4cKDL4lEJXOmUzFYb605kM2NgOB5GvWMnVeRpSdvX3gIHrYxSdA5OfwNBfaGyQGuZt0Z1af39ygIAZg+NwGS1seFETgsnKW1pwYIFjBo1ikGDBrF06VIAfHx8+O1vf8uwYcMYO3YsOTnae7Fy5UrGjBnDiBEjmDFjRt32Wi1NKfv5559z8OBBFi1axPDhw6mqqmLq1KkcPHgQgHXr1jFy5EiGDRvG9OnTAW2g0Lhx4xgxYgTjx4/n1KlTbXrdajIrpVPadSaf4kpz68on5fY/VJ9w8AkDv2htQE9lAZU6PWnXPkbA8geJOrsDETbA8eetLqm/b0/gw3sGEBXgyepjWdwyKtrx5+rEXtz/IsmFrfzP7zL6B/XnydGXH+D93nvvERQURFVVFddccw233HILFRUVjB07lj/+8Y888cQTvP322/zud79j4sSJ7N27FyEE77zzDn/5y194+eWX656rpSllb731Vt544w1eeuklEhMTG71+Xl4e9913H9u3byc2NpbCQq2i3L9/f3bs2IHBYGDjxo385je/4Ysvvmizn49K4EqntOpoFr7uBibHhzh+UlltAtd6rJyLGMTSogMcLd3Pud6RyMN/hp5R+Ce/yYCSA8zpM4e5feeiE5f5oNoogWt/uEIIZg+N4P1dZympNF9+gi3lqrz22mt89dVXAFy4cIGUlBTc3Nzq6syjRo1iw4YNAGRkZHD77beTlZWFyWQiNja2yfPde++9/OUvf2HBggW8//77vP3229/7+nv37mXy5Ml1zxUUFARASUkJixcvJiUlBSFEmy8MoRK40umYLDa+OZHNzEHhuBscLJ9AXQu81N2Ltw78lf+aTuFmlIyrqmZWn1uI63MdhXtfJ6nwNIcrc/jdrt/x2anPWDJ6CUNDh7b8vNXF9fftLXCA2UMiWLo9jfVJ2Y73U+/EHGkpO8PWrVvZuHEje/bswcvLi6lTp1JdXY3RaKxblUmv12OxWABtqPwjjzzCvHnz2Lp1K88880yT52yrKWWffvpprr32Wr766ivS09OZOnXqlV5ms1QNXOl0dp7Jo6zawpyhrVx1pzybo+5uzN3ycz5K+oh54WNYnXGRV60B/GzKC8zoPYPb4hbyTM5Fvh73An+a+CeyK7JZtGYRL+5/EZu0Nf+8NfYauG9kowQ+NNqfnkFaGUVxnpKSEgIDA/Hy8iI5ObnZCawuPT4qKgrQZixsSXNTyvr6+lJWVtbk2LFjx7J9+3bOntUW9agtoTR8rYaTaLUVlcCVTmfNsWx8PQxM7Ne6qRn2FZ7k3h7heBu9+WzOZzw79SVCjL4w7kHQ2f8UYiYCoDu3i7l957LyppXcnnA7/zn5H57e9TQWm6XpE9eWUIL6NErgQmi9UXam5FNSqXqjOMsNN9yAxWJhwIABLFmyhLFjx37v8c888wy33noro0aNIiSk5RJcc1PK3n333TzwwAN1X2LWCg0NZenSpdx8880MGzaM22+/HYAnnniCp556ihEjRtR9AmhTUsp2+zdq1CipKFfDbLHK4c9+Ix/+5HCrztt0bpMc+cEQueDdITK3IrfBE9Y0PtBmk/LlgVJ+dleDTTb55pE35eAPBstfb/m1NFlMjc/Z+aqUf/CT8uufS/mnno12HT5XKHs/uUp+dTijVfF2FklJSa4OwWk+//xz+cMf/rDdX7e5nylwUDaTU1UNXOlUDp0roqjSzMyBzU5+2ay9WXt5ZOsjDJQG3tSFE+DVoOVucGt8sBBaKzx1k9YfXAiEEPxs2M/wMnjx0sGXAHh5ysv1q95Xl4DQg39PqCkBqxn02peWw6IDCPN1Z0NSDgtGRF3VtSvt56GHHmLt2rWsWbPG1aF8L1VCUTqVDUk5uOl1TIl3rHySXZHNE9ueIMYvhqUlFgJ8HUiiMRO0PuP5pxttXjxoMY+MeoQN5zbw4YkGtdPqEvDw1+ZXAagqqtul0wmmDwhn66lcaixWh2JWXK+zTCmrErjSaUgp2XAyh3F9gx1aONhsNfPotkepsdbwytRX8CnP0/qAX469Dk76jia77h50NzN7z+TVw69yKOeQtvHSBN6gDg5w3aBwKkxWdqcW0BXJNl5ftDtr7c9SJXCl0zidU865gkquG+RY+eSvB//K0byj/N+E/6OPRwiYKx1L4IGxWjnkzOYmu4QQPDf+OaJ9o3l82+PkV+VfNoGP7xuMt5ueDUldb1Smh4cHBQUFKom3ASklBQUFeHh4OHyOqoErncaGJG0xhhkDLp+EN5/fzCfJn3DXwLu4LuY6yD+j7XAkgQsBCTfC4Y/AVAlujReK8HHz4ZWpr7Bo9SKe2vEUS6uLEd+TwN0NeqYkhLIxKYfn5w++/LJvnUh0dDQZGRmo1bbahoeHB9HRjo/cVQlc6TTWJ+UwvGcA4X4NWihnNsL638P9W8CgLdRQaa7kT3ueI84Cv4pdoB1Xuxamr4NffibMgv1LIW0L9J/dZHd8YDyPJT7G8/ueZ5XFjbk+A1tM4AAzB4az5lg2RzNLGN4zwMEr7viMRmOzIxmV9qFKKEqnkF1SzdGMkqa9T87tgdwT9fOcAG8ceYOc6gJ+n5uNMcm+zkjDeVAcETMR3P0hueVeCLcm3MrQkKG85FZDiZsXeGnDp5tL4NMSwtHrBOtPZDv2+oriAJXAlU5hw0ktAV93aQIvs49ytM9BklyYzMcnP2ZhwGCG15ggebX9uFYmcL0R4q+HU2vA2mAAxtntcGE/ADqh4+lxT1Ms4DVzpvYJwM23LpaG/L2MjIkN6pJ1cMV1HF2RJ0AIsUwIkSyEOCmEGCeECBJCbBBCpNhvA50drNJ9bUzKISbYi35hPo13lNrnZq4qwmqz8tye5/B39+dXPvbZBC8e1o4pzwG9G3i24te0/yyoKoQL+7THxRfgv7fD+qfrD/Hrww9Ky/i86hzf5X2ntcKbaYGDVkZJyS3nXEGF4zEoyvdwtAX+d2CdlLI/MAw4CSwBNkkp44BN9seK0uYqTRb2pBVwbf+w+sEztWpXma8qZEXqCo7lH+Pxax7H31QB2I89tUZL4D7h2heUjuo3Q0v6p+xllLVPaD1ZSjLqj6kp5cGiEkIN3vxx7x+xeQW2mMCn99da/5uT1VJrStu4bAIXQvgDk4F3AaSUJillMTAfqB3N8CGwwDkhKt3d7jMFmCw2pvUPa7qzTGuB15Tn8saRNxgaMpTZsbO1MkZAL22RhuTV9gTezPnfx90X+kyF5FVwcpWWyH0jtLKNzT4op7oEbyn5deQMThaeZL2He4sJvFewF31DvVUCV9qMIy3wWCAPeF8I8a0Q4h37IsfhUsraadaygWaLi0KI+4UQB4UQB1VXI+VKbD6Vi7ebntGxQY13mCrrJpL6X+5+cipzeHjkw1orvapIK2f0n63VrfPP1M0D3ioJs6AoHZb/HMIGwaRHQVrrW/72qWRvjBhPv4B+/IMiLC0kcIBp/cPYl1ZIRY0TJjZSuh1HErgBGAn8U0o5AqjgknKJfbKVZnvySymXSikTpZSJoaGtmz1OUaSUbEnOZWJcSNO5v+1fYFYIwdvFRxkbMZYxEWO0fVWFWr27/xywWaDkfOtb4KAlcIS2bNrcVyGgt7a9NFO7tS+npvcM5KERD3FOVrOClmvc1/YPw2S1setMfutjUZRLOJLAM4AMKaX9mxyWoSX0HCFEBID9Vn0uVNpccnYZWSXVLZRPtFbwR/6+FEkTD494uH5fZSF4BkF0Injbz/W9gha4bzgMuwMmPQI9R4O/fS6V2jp47VSyHv5c2/NahriH8E9fd2pq5wi/xDUxQfi4G9hySv25KFfvsglcSpkNXBBCJNg3TQeSgBXAYvu2xcByp0SodGu19eJrE5pL4FkU63R86O/HdOHDkNAh9fuqCrUSik4PCTdo266kBQ5w079g+u+1+372BF7XAq9P4EIIHu4xhWyDgc9P/KfZpzLqdUyKC2FLcp4afq5cNUd7oTwEfCyEOAoMB/4EvADMFEKkADPsjxWlTW1JzmVwlB9hfs3MD1GWxb/9fakQOh40NZgW1mbVEqunvWbef652698Gy5p5+IObD5RcmsD9ABgbNoIxVdW8fepjqixVzT7Ftf3DyC6tJimr+Va6ojjKoQQupTxir2MPlVIukFIWSSkLpJTTpZRxUsoZUsqmoxcU5SoUVZg4fL6Iac21voGK4gt86ufLDEMg/SobLHNVVazd1vb5jpsJP/wC+k67+qCE0FrhpQ1KKEKnJXUAr2AeKC6h0FTK8jPNfyidmqB9F7RF9UZRrpIaial0WNtT8rBJrcXanGXFxyjT6fiJT4JWMqlVe792aLsQWp9uXSsWQP4+/lGNW+Ae/vX9y72CGVVdw1DvaD488WGzS7CF+XowNNpfdSdUrppK4EqHtTk5l2BvN4ZFBzTZZ7aa+bfpIqOlO4P9YrRWd23f7NoFFTyDmpzXJvyiGtfAPfzr93kFI4CfBAwjozyDjec2NvsU1yaE8e2FYgorTM6JUekWVAJXOiSrTbL9dB5T4kObnX51VdoqcoWNn3jG2Fvasr4eXTsXiZeTZnfwj4byXLCYmiZwe9lmqt6fGL8Y3jv+XrNfVl7bPwwpYUeKGhuhXDmVwJUO6VhmCUWVZqYkNB07YJM23j/xPv1NZsYH9K9vade2vGtLKK2Z96Q1/KIAqY0CvTSB643g7o++qoi7B93NycKT7M3a2+Qphkb5E+TtxrZTKoErV04lcKVD2nYqDyFgUlzTBL71wlbOlpzlx8UlCL/I+kRd2/KuvXVWCaWuL3hm0wQOdRNazek7hxDPEN4//n6Tp9DpBJPiQrQ6v011J1SujErgSoe07XQuQ6MDCPJ2a7Lv45MfE+kRwnUVleAXUf9lZW3Lu6pIWyX+0sTaVvzsK6aUtpTAg6GqEHe9O4sGLGJP1h5SilKaPM2U+FDyy02cuKi6EypXRiVwpcMprjRx5EJxsyvPpxSlsD97P7eHj9WWk/KNaNoCrx1G35qZB1uj4WjM6hLwCGi83yu4bkKrhXELcde780nyJ02eZrL9+radVr1RlCujErjiGpWF2mRUzdiRko9N1veXbujT5E9x17tzs5d9GS/fhi3wovrndlb9G8DNW0vaxefAXNF8C9z+n0mARwCzYmexKm0VpabGLe0QH3eGRPmz7bSqgytXRiVwxTU+mA2bnmt219ZTefh7Gpt0Hyw1lbIybSWzYmcRUDtYx7eHtvSZ0DUuoXg5qf5dyz8ack9q9y9N4N4hWi8V+0o+d/S/gypLVbMDe6YmhHL4fDElVWbnxqt0SSqBK+1PSihIhYKmdWGbTbLtdB6T4kLQX9J9cPmZ5VRZqrij/x3aTIRewdoyZjqd1iJuVEJxcgL3i2o5gYcPBmsN5J8CYGDwQIaHDufT5E+xSVujQ6fEh2K1STU7oXJFVAJX2p+pXEtwZU3XhzyZXUp+eQ1TLxk+bzu9nk8Pv8Hw0OEMDB4IpVla+aSWV1B9C7yyPVrgUVA74+ClCTxqpHabeahu05397+R82Xl2X9zd6NDhPQPw8zCo7oTKFVEJXGl/FfbWZnnTBL7Vnsgmx4U02r7r8Fuct1bwgx4TtA1lFxsncM+gxv3AnVkDh/pZCaFpAg/qC+5+kHm4btPM3jMJ8Qxp8mWmQa9jUlwo206r2QmV1lMJXGl/tQm8Iq/xiu/AttN5DIxoOvvg/6rPE2KxMuPCcW1DWXbj+b09A7USirlaW7fS2QncP7r+/qUJXKeDyOHagsp2Rr2RW+NvZUfGDjLKMhodPiU+lOzSapKzy1CU1lAJXGl/lbX1XtngPpRVmzl8rqjJ6Mvsimy2U82C8nKMx7+AigLtS0K/yPqDvOwt8NpWuLNLKN/XAgeIHAk5J7T/UOxujrsZIQRfpnzZ6NDa7oTbVW8UpZVUAlfaX0WDL+xq15YEdqcWYLFJJl8y+vLrlK+wCbg5aJjWut71KiCbllAqC50/jL5Ww/883P2a7o8aqS3llnO8blMP7x5MjJrI12e+bjRLYQ9/DxLCfdmu5kVRWsmhBC6ESBdCHBNCHBFCHLRvCxJCbBBCpNhvnfwXo3QZDVrdlNcPYtl+Og9vNz2jetf/Ktmkja9SvmBsVRU9+8+H6Gtg/9vazkYJPFDrk137H0J79EKBxnOBNxRZ+0Xm4Uabb4m7hbyqPLYnL4P/3lG3puaUhFAOnC2i0qQWO1Yc15oW+LVSyuFSykT74yXAJillHLCJSxY6VpQWNWyBl2sJV0qt++C4viG4Gep/Lfdc3MPFyhxuKavQhrBfcy/UrnTj17AXij3pF6bZHzs5gRs9wCtEa33rmvkz8o/W1uK82DiBT46eTKhnKF8k/QdOr4WM/dr2uFBMVht701pe0V5RLnU1JZT5wIf2+x8CC646GqV7qMgHn3Dtvr0r4dn8CjKKqpgS37j3ybLTywg0eDGtolIrWwxcUN+6vrSEAlr/8oaPnck/quX5VoTQyiiXtMANOgML+i1gZ8U5svV6yD8DQGJMIB5GHdtPq/7giuMcTeASWC+EOCSEuN++LVxKmWW/nw2EN3eiEOJ+IcRBIcTBvDxV41PQSih+kVrys3clrP0Cb3KD+U/yq/LZemEr833jcAOtVWv0gNH3aa1frwbJvrbFXaAlRKfXwAF6DIXgvi3vjxwJ+afryiS1boq7CRvwla+3th/wMOoZ1ydYDatXWsXRBD5RSjkSuBH4hRBicsOdUuvA2mwnVinlUvt6momhoU3ntlC6oYp8Lfn69KgroWxPyScm2Ivewd51hy0/sxyLtHCzLggMnvVJecoSePjbxqWL2n2FqWDwADcv51/H7Ffgzk9b3h81EpCQdaTR5p7ekYyrNvGlrw9W+2hN0P7zOptfwYXC5ueIUZRLObqocab9Nhf4ChgN5AghIgDst2pKNcUxlQXafCE+YVCeS43Fyp7UgkatbyklX535ipFhI4mtLNbKFbWzC+p0davA16ktmRSda5/yCYDBTRvK35IWvsikKJ1bSkrINhjYU5Jat7l+dkLVClccc9kELoTwFkL41t4HrgOOAyuAxfbDFgPNL8GtKA1JqQ3g8Q7RBuKUZXMwvYgqs7VR98EjeUc4V3qOBf0WaAsnNOx33ZzaEoq0Ov8LTEd5B0NAryZfZJJznGsrq/BHz3KDqW4puD4h3kQHeqoErjjMkRZ4OLBTCPEdsB9YLaVcB7wAzBRCpAAz7I8V5fuZKsBSbS+hhEN5LttP5WLUC8b1Da47bPmZ5XgaPLk+5npt4YSGIx+bY/QCvX3xh/aofzsqciRkftt4W84J3ISOWaEj2ezlRUnWdwAIIZgcH8qe1ALMVlszT6YojV02gUsp06SUw+z/Bkkp/2jfXiClnC6ljJNSzpBSFjo/XKXTq+0D7m1P4JYqDpw+R2LvILzdDdoh5krWpa/jut7X4aUzan27L9cCF6K+dNKREnjP0VByHorP12/LOQFBfViQcBsmnWBd2sq6XZPjQimvsXDoXJELglU6GzUSU2lfFfZ+zl4hdXOZFOdmNBo+v+n8JirMFVr5pCwbkPWr4Hyf2tJJRymhAMTfoN0mr6nflnMCwgcxoPc04kxmlufsr9s1oV8wBp1Qw+oVh6gErrSvCnti8g7VvsQEwkRxff1747N8ve9lon2iGRU+SiufQP06lN+nrgXegRJ4cF8ISYBTq7XHNeVQlA5hgxAGNxbYPDlmLiS1WPsy09fDyMhegWpYveIQlcCV9lVXQgnWuhECfTwrGBDhC0DmsU/Zby5gfp+5CCG0dSfBsRa4Z4D9tgOVUAD6z4b0XdpcLXnJgITwQQDM8YvHIOHrM1/XHT4lIZTjmaXkldW4Jl6l01AJXGlftcPovUKwemst8DEhZi1Zl2axQpQjpGS+bz/tuLoWeCctoQD0n6P1jknZoJVPAMIHAhAU0p/JVdWsTF1ZN8FV7aeRnWdUK1z5fiqBK+2rMt8+0Mabo/lQIw0M9NPmNpGZh1ju48Po6hoicuzLlZVkavONXNrvuzkdsYQCEDlC+7SRvEpL4EZvCIjR9oXEs6CsjILqAnZl7gJgUKQfwd5uapUe5bJUAlfaV0WBVv8Wgu0pBeQTQC+jtpDB4bPryTQamG/zgPSd2vGlDvQBr9VRW+A6HfSfBWc2aX3CwwbUjyINiWdiZRWBBm9W2nuj6HSCSXEh7EjJx2ZTq/QoLVMJXGlfFXnaYsTAttO5lBuDca/WWpor8w7hKWF6z6lwbo+2Wk9JhmP1b6ifG8Ur+PuPc4WE2dp0txkH6urfAIT0wwjM8o5hy/ktlJq0eVMmx4dSUGEiKau0+edTFFQCV9pbZT54h1BSaebIhWL0fuFQnkO1uYpvbCXMdA/HK3YqmMog+7vWtcAHzocF/4Lgfs68gisTOwnctC9qCR9cv90zELzDmGt1x2QzsT59PQCT4tSweuXyVAJX2ldFAXiFsPNMPjYJ/qE9oTyHrcn/o1wnmBcxCXpP1I5N3ay12C83CrOWuw8Mv7N+zpSOxOAOcTO1+/YvMOuExDGwOIu+/n1ZkboCgFBfdwZF+qkErnwvlcCV9mVvgW8/nYefh4Gg8J5QWcCKM1/Rw2Lhmvh54BsOwXFw9H/aOY62wDu6kXdp19VjaOPtIXGI/BTm9p3Lt7nfcqH0AqAtdnz4XBFl1WYXBKt0BiqBK+3HVAHmSqRXCNtO5zExLgS9Xw/y9Tp2l6Yyp7IGXW15IWZC3VzZjdaf7Mz6XgsPHWzaoyYkHqoKmd1jPAJR92Xm5PhQLDbJrjNqlR6leSqBK+3H3gc82+pNdmk1U+JDwSec1d7eWIG5nr1Ab9SOjZlUf56jJZTOKiQegB7l+YyJGMOK1BVIKRnVOxAfd4MqoygtUglcaT/2UZhHCrRJq6bEh4FvOCt9vBlcU0OfyNH1x/aeUH+/q5RQWtJzNOiMkLKeeX3nkVmeyeHcwxj1Oib0C2bbqVy0NVMUpTGVwJX2Y5/IalcW9O/hSw9/D05ZKznl7sbcsgr7CjZ2fhEQ1FfrpdEeq+u4koe/1ksleTXTe07D0+DJylStjDI1IYyLJdWk5Ja7OEilI1IJXGk/9hb4rouCqQnaMPpV2XswSMmNFZUQNarx8aPu1hYx7g76z4bCVLxKMpjeazrr09dTY63RykzA1lNqwSulKZXAlfZjn4kw1+bLlPhQrDYra9K/YaLJSqDRR2txNzThYZj7avvH6QoJs7Tb5FXM7TOXMnMZ2y5sIzLAk/hwH1UHV5rlcAIXQuiFEN8KIVbZH8cKIfYJIc4IIT4TQrg5L0ylS6jIxyzcEO4+JMYEsi97H7lVucwR/lrrW9eN2xN+kdrqPcmrGRMxhlDP0LreKFMTwjhwtoiKGouLg1Q6mtb8xfwSONng8YvA36SU/YAi4J62DEzpemRlPoXSlwn9QjDqdaxKXYWv0Zepc9+Bea+5OjzX6z8bMg+hL89lVuwsdmbspKi6iKnxoZisNnanqu6ESmMOJXAhRDQwG3jH/lgA04Bl9kM+BBY4IT6lC6koyiHP5svUhDAqzZVsPL+R62Kuw73HYG3x3+6u/2zt9tQa5vadi0VaWJe+jsSYILzd9KoOrjThaAv8VeAJoHal1WCgWEpZ+5kuA2i2r5cQ4n4hxEEhxMG8PFXH684qC7MpkH5MiQ9l0/lNVFmqmNNnjqvD6jhC+0NQH0heTUJQAnGBcaxKXYWbQcf4fiFsPZWnuhMqjVw2gQsh5gC5UspDV/ICUsqlUspEKWViaGjo5U9Quq7KfMweQUQGeLIqbRVRPlGMDB95+fO6CyG0VvjZ7VBdwtw+czmaf5T0knSmJoSSWVxFap7qTqjUc6QFPgGYJ4RIBz5FK538HQgQQhjsx0QDmU6JUOkSysuK8bcU4hMcRW5lLnuz9jK7z2x0oht/cdmchNlgM0Pa1rqfz8q0lQ26E6pPsUq9y/71SCmfklJGSyljgDuAzVLKRcAWYKH9sMXAcqdFqXR657Z8gLsw4z38JtakrcEmbcztM9fVYXU8USO1UZkZBwnzCmNMjzGsTltNZIAH8eE+bE5WdXCl3tU0f54EHhFCnEGrib/bNiEpXY6UBCb9m5PE0D9xGivTVjI0ZCgx/jGujqzjMbhDj8Fw8VsA5vadqw2tzznEM95fUJr+rZqdUKnTqgQupdwqpZxjv58mpRwtpewnpbxVSqmW0FaaZTu3l8jqVA6H3UJa6RlOF51mTl/15WWLIkfCxSNgszG913Q8DZ6sSvqY8Rc/ZJbYzY6UfFdHqHQQqgCpOF3pjn9SKr3wHnUHK1NXYtAZuCHmBleH1XFFjdJWJCpIwcvoxczeM/kmcwfVQhBlKFVlFKWOSuCKc5Xn4pu2mmXWyYwbEMXqs6uZFDWJQI9AV0fWcdVO6pV5GNDKKOU2E1u9PInzqmDrqVy12LECqASuONvhf6OXFg6F3cyZsiPkV+Uzr+88V0fVsYXEg9FbW8EeuCYskTCrZKWPN1GGUvLLTRzNLHFxkEpHoBK44jw2G9YD77PTOoj+g0ayInUFfm5+TI6e7OrIOjadHiKHQ6Y29EJfmMacslJ2eXpgshaiE6gyigKoBK44U2UB+rIMNtpGMaafN5vPb+b6mOtx06t5zy4rcgRkHwOLCc7tZG55JVYh+EZfTWJPPzYn57g6QqUDUAlccZ7ybABqPMPIqNlLtbValU8cFTUSrCbIPQHpO+nnEcJAjzBW+HhzYx8DxzNLySmtdnWUioupBK44jblES+C9e8eyIm0Fvf16Myx0mIuj6iRqF7fIPAzpuyBmIvPCRnPS3Y2YQG3V+i2qjNLtqQSuOE3a2VQAesQGcSjnEPP6zkObyFK5rIDe4BkExz7XPsnETGRWr5kYpORgyTaiAjzZeFIl8O5OJXDFac6fO6vdup1GINTQ+dYQQiujnN+jPe49kcCgvkyurGJ13kGm9Q9m55k8qkxW18apuJRK4IpTSCkpyr1ApfBi7YVvGB0xmgifCFeH1blE2vuD+/SA4L7gE8688goKLJVERV6g2mxjR4qa3Ko7UwlccYoTF0vxMhVwyD+EjPIM5ved7+qQOp/aAT0xE7UWudGDyTZ3AoSR0xVb8PUwsCFJ9UbpzlQCV5xiQ1IOYaKY9f5eeBm8mN5ruqtD6nyirwGjF8TXTztg9Alnts6frRlbmBjvzebkXKxqVGa3pRK44hQbknIIcStjg66amb1n4mX0cnVInY93CDx6CoYsrN/mG868GjDbzASHJ1FQYeLw+SLXxai4lErgSpvLKKokKauU7zwrqcDG/H6qfHLFPPy08kktn3AGlOUTFxhHSuUWjHqhyijdmErgSpvbmJSDF9Ws9DbSy+BLYniiq0PqOnzCEeV53NR3AUmFxxnet5oNSTlqrcxuSiVwpc1tOJnDkLAcDnh6sCBkpOr73ZZ8wsFSxeyoyRh0BnxCvuVsfoVaK7ObcmRRYw8hxH4hxHdCiBNCiGft22OFEPuEEGeEEJ8JIdQEFwolVWb2pRXiH34UnZTMjZ7q6pC6Ft8eAARZzFzb81pSKrYCFr45ocoo3ZEjLfAaYJqUchgwHLhBCDEWeBH4m5SyH1AE3OO0KJVOY2NSDhablRR5lPFV1fQI7u/qkLoWnzDttiybBf0WUGIqpl/MedafyHZtXIpLOLKosZRS1n4+M9r/SbTV6ZfZt38ILHBGgErnsvZ4NmFh58i3lnFTWbn2kV9pOz5aC5zyHCZETiDMKwyPoMN8l1FCRlGla2NT2p1DNXAhhF4IcQTIBTYAqUCxlNJiPyQDiGrh3PuFEAeFEAfz8tSosa6srNrM9pQ8QiKOEqBzY2qVCbyCXR1W11LbAi/PQa/TM7/vfC5UHUYYSll3XLXCuxuHEriU0iqlHA5EA6MBhz8XSymXSikTpZSJoaGhVxal0ilsTs7FJMvIMh9kjiEUN58w0KnvyduUZyDo3aBcq3kv6LcAGzYGRO1mzbEsFwentLfWrkpfDGwBxgEBQgiDfVc0kNm2oSmdzdpj2QSFHcUizdxsMajyiTMIof1cy7QE3sszjMQaM2b3HRw+X0hWSZWLA1TakyO9UEKFEAH2+57ATOAkWiKvHSK2GFjupBiVTqCixsKWUzm4Bx1geOhw4iqKVQJ3Fp/wuhY4Z7ezsKSEbL0VX68TqozSzTjSAo8AtgghjgIHgA1SylXAk8AjQogzQDDwrvPCVDq07z5D9+pgerntpNx2kYXxC7UWoq9K4E7h26M+gSevYkZVNQFWK73Ct7H2mErg3YnhcgdIKY8CI5rZnoZWD1e6K6sFNv4B9vwDTyAwdCflRl+u6zUdKvNVC9xZfMK0ecJtNji1Fvf+c5lXcICPPTMoPXOO3NIRhPl5uDpKpR2ob5iUK2Ouhv/cDHv+gSXxPnaKvpzxLmJu3zl41pSDtKkE7iw+PaCyAM7vhopc6D+XWyImYBXg7r+fb1Sf8G5DJXDlyqRtgbPb4IYXWd/7Uf7tHYZZwMKYWfUf71UCd47aroSHPgCdAeJm0mfQ7SRWVeMXtJcVR1V/gu5CJXDlyhSmabdDbuXrbzM4ElDOsOoa4svy63pI1A77VtpY7c81aTnETALPAIidzMIqC5WGMg7nHOBiseqN0h2oBK5cmcKz4O5PifBl2/l9VBlLWFheCek7G7TAw1wbY1dV+3O1mqD/bO2+wZ0ZkRMJsEncAvey8ruLrotPaTcqgStXpugsBMWw7kQ2wn83PgY/bvDvD+m7tFXUQZVQnMWnwSebhFl1d90HzOOm0jKMvkl88d0JFwSmtDeVwJUrU5gGQX1YduQ4Rt8TLEy4GY+YSXDxcF3rHKOnq6PsmrztI5ojR4B/gxks4mZyW0UVIEk3byIlp8wl4SntRyVwpfWsFig+T4V3T46WfgNCcnvC7driuzYLnFqj+oA7k8ENBsyDMQ803u4ZQHSPUUyyueEWsJ8vvz3nmviUdqMSuNJ6JRfAZmFvqS+GgP1cEzaBaN9o6DlG6xVRVaTKJ852+0cw7I6m23sMZlFRPsJQzpen16iVero4lcCV1is6C8AH+VnoDOXcO/RH2nZ3H+1jPagE7irhgxhbVkyosQdlbls5fL7Y1REpTqQSuNJ6hVoCP6o/QYAxkrGRY+v3xUzUblUCd42wQeiAu8JHofe8wAcHt7s6IsWJVAJXWq8wje/cvbB5ZbFowJ3oRINfo9oErmrgrhE2AICFOl/0eLAt+2tqLFYXB6U4i0rgSqvZCs/yll8weunJDwctbLyz13iIux76THVJbN2euw8ExuCTd5oJPW7A5v0tX3530tVRKU6iErjSamm5p9nlLZjQYzY+bj6Nd7p5waL/QcQw1wSnQPhgyE3i8bH3IbDx7tGPXB2R4iQqgSutIyXLRBESeHL8va6ORmlO2EAoOEOMVyi9PUeTLbeQml/g6qgUJ1AJXGmVcxnJfO3rwTDZk15+zS6Dqrha+CBtNsi8Uzw86j6Evoq/7FKt8K7IkRV5egohtgghkoQQJ4QQv7RvDxJCbBBCpNhvA50fruJqb+x5mwqdjnv6znV1KEpLwgdptzknuK7fGLxsfTmS/xmWjc+Bpca1sSltypEWuAV4VEo5EBgL/EIIMRBYAmySUsYBm+yPlS7MZDWxrXwn11RVM3XQda4OR2lJUB8weEBuEgDzY26j0lDOlsNvwgdzoEzNF95VXDaBSymzpJSH7ffL0NbDjALmAx/aD/sQWOCkGJUOYumhr6jUV/Gj0goI6OXqcJSW6PQQ2h9yjgPw62BPos1mXgvujcw5Dm9NgQsHXByk0hZaVQMXQsSgLa+2DwiXUmbZd2UDquNvF2aTNv6T/B49TAYmGYNBb3R1SMr3CR8MOVoL3PPb97m9HNINlWy68S9gcIdP79SWZFM6NYcTuBDCB/gC+JWUsrThPqlNuNDspAtCiPuFEAeFEAfz8vKuKljFdb46tZYKeZHFlXoMwX1dHY5yOeEDteXWzu2Gs9u4Ln4RNrMffzm9GiY9ChV59YtyKJ2WQwlcCGFES94fSym/tG/OEUJE2PdHALnNnSulXCqlTJRSJoaGhrZFzEo7k1Ly+uF/YasJ4bbKPAiKdXVIyuXUfpG55gnQGYmc/FOidTeSVXOC/e72BY8vHnZdfEqbcKQXigDeBU5KKV9psGsFsNh+fzGwvO3DUzqCLee3UmBOJ043E7eaYu1LMqVjC6vtiXIMBi0AnzAeSvwhNosPL55eCwZPyFQJvLNzpAU+AfgRME0IccT+bxbwAjBTCJECzLA/VroCUyXknQK01vfLB97EZgrksfiR2v5A1QLv8HxCwdu+9No12oCrGwf3xrNyGqfLDnEsYoBqgXcBhssdIKXcCYgWdk9v23CUDuHA27DxGbhvM3uo4nxFMl5VtzHeYv+DD01waXiKg3qOhpIMbZ52QK8T3DX4TpambeQf7vBW+lFtcQ79ZdOA0kGpkZhKUwWpIG3Ilb/kr/texWb256G+Y9DtehUG3wIhca6OUHHETW/B4pUg6ttfPxodj7V4Erut+RzTWSFPTXTVmakErjRVmgkGDzaVnOZM6UlshTO5M+c1bXDI9X92dXSKo9x9wMOv0aZAbzdm9boVncWTV4MCkBmHXBSc0hZUAleaKsnE2nc6r4VF0ttk4W8BFRjP74AZf1DzfHcBP5syiKqC6ez39GDP+U2uDke5CiqBK02VZrLSHc4KMz8vKuOGi29B9DUw6seujkxpA/3CfJjaYz7BZsHfi4+pdTM7MZXAlcaqSzHVlPJGZRqyOhqT7w/B6AVz/gY69evSVTw4rT9DC3qSpLeyIW2Nq8NRrpD6i1QaK83kUz9fsq0VVOVez6CbfwuPp0KPIa6OTGlDQ6MDiPGaSl+Tib8f+htmm9nVISlXQCVwpZHC/FP8K8Af38oopvWaQFy4r7bKjtLlTJ5yI78uLOZ8VQ6fJn/q6nCUK6ASuNLI62c+p0onsGZdx8+v7efqcBQnGjVkEINrvEio8uTNI29SUKVW7elsVAJX6pwsOMkXRUe5vbScgb3HMaKXWqOjKxNCYOsxgsfy86kyV/D6+l/AyVWuDktpBZXAFUAbMv/C/hfwtem5pUjw2I0DXR2S0g5Chl3PWEsBPygp4cui45z46m4oyXR1WIqDVAJXAFiXvo7DuYeZX2DE6B7OoEh/V4ektAMx5qd8e8dhPsl+Bi/hxQvBQdiyj7o6LMVBKoErlNSU8ML+FwjQx3JTWRmhUWq+7+5kRP++jEoYjCXveo54uPPFma9dHZLiIJXAFf564K8U15SQnTqX3rpCvEN7uzokpZ09dn0CBQVjGFlj45X8feRU5Lg6JMUBKoF3c7sv7mZ56nIiuZFgiz9usgb8o1wdltLO+vfw46YR0czKDsYsrTy/93k1QrMTUAm8G6s0V/LcnucI9+jJyZNj+NU19v7efiqBd0ePX59AiTWWnxeWsDVjK9+kf+PqkJTLUAm8G/v74b+TWZ5JVdbN9AkO4JZ+9mlH/aNdG5jiEhH+nvQdPIa7SkuIce/Fn/f/WfUN7+AcWVLtPSFErhDieINtQUKIDUKIFPut6jDcUUkJH98Gq37daPO2C9v4b/J/Gewzm8zsCJ6dPwhj+UVtp2qBd1uTJ07BAMSdi6PcVM7vdv0Om1Sr13dUjrTAPwBuuGTbEmCTlDIO2GR/rHRERz6GlG/g+Jdg0/4Q8yrzeHrX0/Txi+PwkQnMHhLBpLhQbR5wnQF8wlwctOIqxrB4bDo34svyGO5zFzszd/LxyY9dHZbSgssmcCnldqDwks3zgQ/t9z8EFrRtWEqbqMiH9b8DN1+oLobcE9ikjad2PkWVpQq3wrvQCyO/mzNAO74kE3wjQad3adiKC+mN6EITmOKfy/aD/bgmbBKvHHqFpIIkV0emNONKa+DhUsos+/1soMVZ/oUQ9wshDgohDubl5V3hyylXZP3TUFMGt36gPU7fyXvH32Nf1j4mB9/LgRQjv5k1gAh/T21/aabqgaJA+CASxHn8Pd25cHoOQe5BPLH9CSrMFa6OTLnEVX+JKbW+Ri32N5JSLpVSJkopE0NDQ6/25RRHnd0B3/0Xxj8McTMgMIbtqWt47fBrTIyYwapdPbk2IZRFY3rVn1OSoerfCoQPRFeezStzo0nJkgx2+xkZZRk8teMpVQ/vYK40gecIISIA7Le5bReS0ia++Q0E9IbJjwOQFj2SJ01niQ+M59yp2Xi7G3lx4VBE7YK3NhuUXlQtcAXCBwEw2S+PH47txYp9niyM/RlbLmzhH9/+w8XBKQ1daQJfASy2318MLG+bcJQ2UZAK2Udh7M/AzYuSmhIeNqXhJm1MrJlPUmYNf7ppCGG+HvXnVOSBzQx+qgthtxemJXByk/jtrIHEBnuzamdf5sQu4O1jb7P27FrXxqfUcaQb4SfAHiBBCJEhhLgHeAGYKYRIAWbYHysdxSn7ElkJszBZTTy67VEyzaX8LSef4iP7uXN0T24Y3KPxOaUZ2q1qgSu+PcAzCHKO4+mm59U7hlNYbubc6RsYETqcp3c8xZELO1wdpYJjvVDulFJGSCmNUspoKeW7UsoCKeV0KWWclHKGlPLSXiqKKyWvhh5DsPhH8eT2J9mXtY/7Bz5JaLU/N/ic4Zl5g5qeUzuFqKqBK0JoZZQcrefJ0OgAnr9pMLvPFDM7uzfhpmp+vuWXnCo85eJAFTUSs6spz4Pze7HFz+KZ3c+w8fxGHhr2KP/ZGMYR/WBGi5O460TT80rtCVyNwlRAS+C5J+vGDtyW2JMfj+/NsPSveTs7Fy+LiZ9u+CnnSs+5ONDuTSXwrub0OiSSF0UBy1OXc9/gB9i4N4G88hqGTZyNrroI8k42PS/zkLb6vFdw+8esdDzhg8FcARf21W367ZBi+usucMw0iqVZWUhLNfetv4+LtSN4lXanEngXYzm5it9H9uK/59ezqP+P2H9kFAfOFfLKbcPoNWKmdlD6zsYnndsNxz6Ha+7VPj4ryqAF2qCuNY+D1QKA4eC72Nz9ed3/UdxMgbxc4UW5uZwfrf0RqcWpro23m1IJvAupqSrk0dJv+dod7h/yAGeSr2VnSgEv3jyUOUMjIbA3BPSCU2vrPhpjMcHKX4F/L5iqZkRQ7Nx94cYXIecY7PsnlOXAyRXoRvyQd++byiq3G0m8eIhn+z6GTdpYvG4xR/PUSj7tTSXwLqKouoifrb2bzV7uPB67kFPJ49h4Mpdn5w3itmt61h844keQtgU+vROqS2D3a5B/Cma/BG7errsApeMZMBfib4Atf4ItfwSbBa65h3A/D+bd/TgmDBSs+YynR76Br9GXe9ffy7YL21wddbeiEngXkFSQxB2r7uC7snT+XFTJ+uQZrDqaxW9m9Wfx+JjGB09+HGa9BGc2wtJrYftfYcA8iL/eJbErHZgQMOuv2v3DH0LfaRCsLbcXGdULU8IC5rKNtz7aymM9fk6MVw8e2vwQ//zun2rEZjtRCbyTW5m6krvW3oVVWvggrwyPiiHsTS/hlduGcf/kZta2FAJG3wd3rdBa4Dqj9lFZUZoT0AumPqXdv+a+Rrt8Jv0Mb6r4TDzF9A0/5N9HtzMHL9488ia/3PJLykxlLgi4exHtuWxSYmKiPHjwYLu9XldWXF3MH/f9kXXp60gMT+TncgjX7HuWH8s/cO+P7mJCv5DLP0lFvpbEg9Uixsr3sNm0XkrRiU2/5E7fRVVJHm9tT6UsO5Ulbp/zv9BwXvIxEOIVynPjn2Nc5DjXxN2FCCEOSSkTm2xXCbzz2XphK8/ueZbimmJ+OuQBynMmMXPXIvwNZqrv20X/CH9Xh6h0M2arjf9blcSRvZt5z/NVMjxqeLpXHOk1BdyecDuPjHoEL6OXq8PstFpK4KqE0omkl6Tz4KYHeWjzQwR5BPHC2HfYuGcI27duZJgujYgZD6rkrbiEUa/jufmD+cUPb+NW2wtYK6L5/NQRfuTVl/+d+h9zv5rLytSVqjbexlQLvBMoqCrg3ePv8snJT3A3uPPjPreSn3ct7+/JxtvdwIqe/6V31np4NBk8/FwdrtLNXSyu4onPDnL9hVf5kWEju6NG83p4AMeLkhkUPIhHEx8lMTyxfiZM5bJUCaUTyq7I5sMTH7Ls9DJqrDXM67uA+Mox3Ln7Lo7aYlkz4EV+MWMQQW8Ng+E/gDl/c3XIigKAlJLlRy5yfNXrPG55m1Sf4eyd+QAfn/4XuVW5jAgbwb1D7mVS1CSVyB2gEngnIaVkf/Z+lp1exsbzG0HCdb1vJNR6I5/vreGeyvf4iWEdwuCO3sMP+k3X1r18YBf0GOzq8BWlkdJqM3v++yeuP/8KD5sfRA6eR58+J1hz4ROyK7LpF9CPhfELmdNnDv7uqvzXEpXAO6rsY8jd/yBl3H2sz97L2rNrOV92Hj+jD9ebvbAYfsKyU8FUmqxMiPHmg8K7MMRNQ0x+HD65E4rPQa9x8JN1rr4SRWmezYr5rWnUFJ5nWvVL5Jo9uKanO9N8lrLNkMUJSzHuenem9ZrG9b2vZ0LUBDwMHk2f59gyOLNJ+6RpbGY/aL1ldv0dZj4HgTFOvaz21FICN7giGAUqzZUczNrHnvWPsVNWkL5+NzqhI95/KGN95nFH0jKmW/ezR1ZTM+RN7hzbm+H5q2F5iTZnSfgguH8rbH4eht3p6stRlJbp9Bjn/x3j29eyY+R2lvkuYuiehxmSd5KfAd/4DGRZvzHsztzN2rNr8TR4MiFyAuMixzEuYhw9vSNg4x9gj301oICecO1vmr7Otx/Dql+DtQaqS+FHX3X5uX06Rws86zvtNmJY2wbUTqw2KxfKLnCy8CRH845yNP8oSQVJWGwW3GySIVYjs0py+aLiYfZVDuZ6wyHeMrxMfsAwQoq/g5vegmF3aCMnzZXw871d/hdT6YLWPQV73wTvMKSpnNTxL3IkPZ855/5MofThz5bbsYWZKQ+8SLruPIXWUgAi0DOsvJSh4aMYYoG4M9vwfmAXhMRpz2s1w/rfwb5/Qexk6D0Rtv4JbnkXhix04QW3HaeUUIQQNwB/B/TAO1LK712Z54oSuJTw3vWQdRTm/6PDviFmq5ncqlyyK7K5WH6R82XnuVB2gbTiNFKL0zDZagDQCzd8iMGtIoSnS1ZTWdmPx00PsdXzcazuARyZ/l+u33EzOg9/rYX9wWwoTIObl8J/btGGwY++7/uDUZSOqKYM3hwPArjjv9BjCAC2zCNYPlmEW3lG3aESSDca2OPhwQFPTw54BVMiKuv2R0o9/aIn0MszlJ6nN9Mz9xQ9Bt1K+PT/w9fNF/HuDG2RkgcPgGdA+16nE7R5AhdC6IHTwEwgAzgA3CmlTGrpnCtugZfnwv8Ww/ndMP4hmP4M6K+8+iOlxCZtWKQFi82C2WrGbDNjspmosdZgspqoNFVRZqqgwlxFaU0FZaZySmvKKKkpo6SmlFJTKSWmYkpMhZSbi6m0lqL92tW+iEBnC8RSHYylOhxrTQ9sNRHImh70DPDhNV5kUM0R9t64lviEgYRnboTPFkFwPyg4Az9ZD73GQPZxeGsy6N1Ap4dHTqqugkrnVV2i/S4bPRtvN1VAfgoANRYbqXkVpOWXcyanjENF7hwqcKfKVoTOI4ORHruJ9fyOA24hlBsqqb5kgRKj8MBP501UxUW8PSPQh4/Gz80ff3c//Nx98HPzwdfdBz83b7zdPPExeuFucMdd746b3g2jzohRb8SoM2LQGTAIg8t7yjijBj4aOCOlTLO/wKfAfKDFBH6lZq94nkxZjX/PfnifX4bl/a+wIZC1C6rbj5MN/tmEtr3hfWvd7ZW/GXop8baBjxX8rBBrBX+rJNAKIVYItUKYVRBlA09dMQZ9CUbdWQzuOoxeOox6gU7aoCAFrnueSdeM1J7Ybw4kzIZTq2HU3VryBq1nybhfaLMGJt6jkrfSuXm00NPEzRsihwPgDgzsBQMb7JZSkl1aTXp+JZlFtzN+2yIi846Srw/lD36/5qDFgwprPjUUYjKUUGmowMtYTXV1NgUZa6nQ0STRt4ZOSvSATmqjH+tu0T5QCGm/veQfDfb9adzrXDPo2iuOoTlXk8CjgAsNHmcAYy49SAhxP3A/QK9eva7ohSK9e1JlqQbAx5xFgCXP/sMRCOzDSWt/gAJ0UtT9AHUIdIDefquTAr39sR4woMOIwAC4ocMNgZsUeKDDXejwQIcPOryEHh+hx0unw6DTodMLDEaBQS8w6HQY9AK9TuDwr0j/WTDmZ423zXkFQuNhwq8ab5+6RKvzjftF6394itIFCCGI8Pckwt8TCIbYD+DAu4RM/DVv+ITWHWe22iitMlNeY6GyvITAPS+gr8jBapFUSxsVNhsVWCmXVqqx1f0zSUmNkJiwYUFiQWJGYkViERKrBKuQ2AAbEisgkVoDEZDC/ljaG5GivjGJ/ThvT9+2/7lcRQllIXCDlPJe++MfAWOklA+2dI7qRqgoitJ6zpgLJRNosFIA0fZtiqIoSju4mgR+AIgTQsQKIdyAO4AVbROWoiiKcjlXXAOXUlqEEA8C36B1I3xPSnmizSJTFEVRvtdVjcSUUq4B1rRRLIqiKEorqPnAFUVROimVwBVFUToplcAVRVE6KZXAFUVROql2nY1QCJEHnLvC00OA/DYMp7PojtfdHa8Zuud1q2t2TG8pZeilG9s1gV8NIcTB5kYidXXd8bq74zVD97xudc1XR5VQFEVROimVwBVFUTqpzpTAl7o6ABfpjtfdHa8Zuud1q2u+Cp2mBq4oiqI01pla4IqiKEoDKoEriqJ0Up0igQshbhBCnBJCnBFCLHF1PM4ghOgphNgihEgSQpwQQvzSvj1ICLFBCJFivw10daxtTQihF0J8K4RYZX8cK4TYZ3+/P7NPV9ylCCEChBDLhBDJQoiTQohxXf29FkL82v67fVwI8YkQwqMrvtdCiPeEELlCiOMNtjX73grNa/brPyqEGNma1+rwCdy+ePIbwI1oy+TdKYQY+P1ndUoW4FEp5UBgLPAL+3UuATZJKeOATfbHXc0vgZMNHr8I/E1K2Q8oAu5xSVTO9XdgnZSyPzAM7fq77HsthIgCHgYSpZSD0aagvoOu+V5/ANxwybaW3tsbgTj7v/uBf7bmhTp8AqfB4slSShNQu3hylyKlzJJSHrbfL0P7g45Cu9YP7Yd9CCxwSYBOIoSIBmYD79gfC2AasMx+SFe8Zn9gMvAugJTSJKUspou/12jTV3sKIQyAF5BFF3yvpZTbgcJLNrf03s4H/i01e4EAIUSEo6/VGRJ4c4snR7kolnYhhIgBRgD7gHApZZZ9VzYQ7qq4nORV4Am0tWEBgoFiKaXF/rgrvt+xQB7wvr109I4Qwpsu/F5LKTOBl4DzaIm7BDhE13+va7X03l5VfusMCbxbEUL4AF8Av5JSljbcJ7U+n12m36cQYg6QK6U85OpY2pkBGAn8U0o5AqjgknJJF3yvA9Fam7FAJOBN0zJDt9CW721nSODdZvFkIYQRLXl/LKX80r45p/Yjlf0211XxOcEEYJ4QIh2tNDYNrTYcYP+YDV3z/c4AMqSU++yPl6El9K78Xs8Azkop86SUZuBLtPe/q7/XtVp6b68qv3WGBN4tFk+2137fBU5KKV9psGsFsNh+fzGwvL1jcxYp5VNSymgpZQza+7pZSrkI2AIstB/Wpa4ZQEqZDVwQQiTYN00HkujC7zVa6WSsEMLL/rtee81d+r1uoKX3dgVwl703yligpEGp5fKklB3+HzALOA2kAr91dTxOusaJaB+rjgJH7P9modWENwEpwEYgyNWxOun6pwKr7Pf7APuBM8DngLur43PC9Q4HDtrf76+BwK7+XgPPAsnAceAjwL0rvtfAJ2h1fjPap617WnpvAYHWyy4VOIbWS8fh11JD6RVFUTqpzlBCURRFUZqhEriiKEonpRK4oihKJ6USuKIoSielEriiKEonpRK4oihKJ6USuKIoSif1/6Tgh16rzVzxAAAAAElFTkSuQmCC\n",
      "text/plain": [
       "<Figure size 432x288 with 1 Axes>"
      ]
     },
     "metadata": {
      "needs_background": "light"
     },
     "output_type": "display_data"
=======
     "execution_count": 11,
     "metadata": {},
     "output_type": "execute_result"
    }
   ],
   "source": [
    "x_test.shape"
   ]
  },
  {
   "cell_type": "code",
   "execution_count": 12,
   "id": "f8053ef3-7569-4e80-aab7-adeb37f66a52",
   "metadata": {},
   "outputs": [
    {
     "name": "stdout",
     "output_type": "stream",
     "text": [
      "125/125 [==============================] - 5s 15ms/step\n"
     ]
    }
   ],
   "source": [
    "ml_preds = ml_model.predict(x_test)\n",
    "ml_preds = y_scaler.inverse_transform(ml_preds)"
   ]
  },
  {
   "cell_type": "code",
   "execution_count": 13,
   "id": "722ae0ad-5d96-43a4-83cb-683978c26cb7",
   "metadata": {},
   "outputs": [
    {
     "name": "stdout",
     "output_type": "stream",
     "text": [
      "temp rmse: 0.25203938842511364\n",
      "atoms rmse: 57.79741867626682\n"
     ]
    }
   ],
   "source": [
    "#ml model stats\n",
    "\n",
    "ml_T_rmse = mean_squared_error(ml_preds[:,0],tmp_y_test[:,0],squared = False)\n",
    "\n",
    "print(f\"temp rmse: {ml_T_rmse}\")\n",
    "\n",
    "ml_N_rmse = mean_squared_error(ml_preds[:,1],tmp_y_test[:,1],squared = False)\n",
    "\n",
    "print(f\"atoms rmse: {ml_N_rmse}\")\n"
   ]
  },
  {
   "cell_type": "code",
   "execution_count": 14,
   "id": "a513a72e-255c-477a-af0e-f9765dd0844e",
   "metadata": {},
   "outputs": [
    {
     "name": "stdout",
     "output_type": "stream",
     "text": [
      "temp rmse: 20.16857552621725\n",
      "atoms rmse: 2827.4082048896735\n"
     ]
>>>>>>> 2c3726b (relocated model to google drive and updated notebook with working models)
    }
   ],
   "source": [
    "check = data_fitted.reshape(100,100)\n",
    "row = 56\n",
    "\n",
    "# analytical solution used curve fitting for origin\n",
    "\n",
    "analytical_soln = analytical_eq((x,y),*origins[check_indx],y_test[check_indx,1],y_test[check_indx,0])\n",
    "analytical_soln_im = np.reshape(analytical_soln,(length,length))\n",
    "\n",
    "plt.plot(np.arange(len(check[0])),check[row],label = \"fit\")\n",
    "plt.plot(np.arange(len(check[0])),x_test[check_indx,row],label = \"noisy\")\n",
    "plt.plot(np.arange(len(check[0])),analytical_soln_im[row],label = \"analytical\")\n",
    "plt.legend()"
   ]
  },
  {
   "cell_type": "code",
<<<<<<< HEAD
   "execution_count": 132,
   "id": "2d3d97be-fa9c-4cd3-aaad-4ba9b9ffa852",
=======
   "execution_count": 15,
   "id": "c5097a74-fb2c-433c-8d01-18cc411ef6b8",
>>>>>>> 2c3726b (relocated model to google drive and updated notebook with working models)
   "metadata": {},
   "outputs": [
    {
     "data": {
      "text/plain": [
<<<<<<< HEAD
       "array([  117.6010159, 34881.0029791])"
      ]
     },
     "execution_count": 132,
=======
       "<matplotlib.legend.Legend at 0x7f9f6ac70400>"
      ]
     },
     "execution_count": 15,
>>>>>>> 2c3726b (relocated model to google drive and updated notebook with working models)
     "metadata": {},
     "output_type": "execute_result"
    }
   ],
   "source": [
    "preds[check_indx]"
   ]
  },
  {
   "cell_type": "code",
<<<<<<< HEAD
   "execution_count": 133,
   "id": "dbc85c6e-6b57-4543-96fd-1694d8014d76",
=======
   "execution_count": 16,
   "id": "8c93f663-85c7-4e48-88c7-0d2824272777",
>>>>>>> 2c3726b (relocated model to google drive and updated notebook with working models)
   "metadata": {},
   "outputs": [
    {
     "data": {
      "text/plain": [
       "array([  137.23553805, 38037.47934635])"
      ]
     },
<<<<<<< HEAD
     "execution_count": 133,
=======
     "execution_count": 16,
>>>>>>> 2c3726b (relocated model to google drive and updated notebook with working models)
     "metadata": {},
     "output_type": "execute_result"
    }
   ],
   "source": [
    "y_test[check_indx]"
   ]
  },
  {
   "cell_type": "code",
<<<<<<< HEAD
   "execution_count": 134,
   "id": "69a752f8-6ff1-460a-97d3-6a50cbef6aac",
=======
   "execution_count": 17,
   "id": "8eb0ff27-09bc-46f4-87da-96e355805f7b",
>>>>>>> 2c3726b (relocated model to google drive and updated notebook with working models)
   "metadata": {},
   "outputs": [
    {
     "data": {
      "text/plain": [
<<<<<<< HEAD
       "118.40386378664346"
      ]
     },
     "execution_count": 134,
=======
       "array([   76.97913439, 51281.48186555])"
      ]
     },
     "execution_count": 17,
>>>>>>> 2c3726b (relocated model to google drive and updated notebook with working models)
     "metadata": {},
     "output_type": "execute_result"
    }
   ],
   "source": [
    "fit_T_rmse = mean_squared_error(preds[:,0],y_test[:,0],squared = False)\n",
    "fit_T_rmse"
   ]
  },
  {
   "cell_type": "code",
<<<<<<< HEAD
   "execution_count": 135,
   "id": "68515838-1bac-46b3-a8cf-240e4e97b398",
=======
   "execution_count": 18,
   "id": "4f1154fb-36c7-4d90-bb7b-02e8ccd3e84c",
>>>>>>> 2c3726b (relocated model to google drive and updated notebook with working models)
   "metadata": {},
   "outputs": [
    {
     "data": {
      "text/plain": [
<<<<<<< HEAD
       "9568.293023094793"
      ]
     },
     "execution_count": 135,
=======
       "array([  113.74524, 57261.45   ], dtype=float32)"
      ]
     },
     "execution_count": 18,
>>>>>>> 2c3726b (relocated model to google drive and updated notebook with working models)
     "metadata": {},
     "output_type": "execute_result"
    }
   ],
   "source": [
    "fit_N_rmse = mean_squared_error(preds[:,1],y_test[:,1],squared = False)\n",
    "fit_N_rmse"
   ]
  },
  {
   "cell_type": "markdown",
   "id": "8c55ab63-eb4b-4d3d-aa34-9f700c5992d2",
   "metadata": {
    "jp-MarkdownHeadingCollapsed": true,
    "tags": []
   },
   "source": [
    "# Testing numpy.random.normal"
   ]
  },
  {
   "cell_type": "code",
   "execution_count": 284,
   "id": "370ac95f-d6ca-4b27-a5ed-d5eb7b1c3bc2",
   "metadata": {},
   "outputs": [],
   "source": [
    "xl_coord = -49\n",
    "xr_coord = 50\n",
    "x = np.linspace(xl_coord, xr_coord, 100)"
   ]
  },
  {
   "cell_type": "code",
   "execution_count": 285,
   "id": "edb3a861-54bd-45ab-b0d1-49f54943c67f",
   "metadata": {},
   "outputs": [],
   "source": [
    "def simpleGaussian(x,mu,var):\n",
    "    return (1/np.sqrt(2*math.pi*var))*np.exp(-(x-mu)**2/(2*var))"
   ]
  },
  {
   "cell_type": "code",
   "execution_count": 286,
   "id": "4ed059f8-0c8d-4aeb-8418-7cfe6f349e57",
   "metadata": {},
   "outputs": [
    {
     "data": {
      "text/plain": [
       "0.023032943298089033"
      ]
     },
     "execution_count": 286,
     "metadata": {},
     "output_type": "execute_result"
    }
   ],
   "source": [
    "T = 300\n",
    "simpleGaussian(0,0,T)"
   ]
  },
  {
   "cell_type": "code",
   "execution_count": 287,
   "id": "af9f1950-fc9f-46bf-9b49-06b50a239418",
   "metadata": {},
   "outputs": [],
   "source": [
    "analytical_xs = list(map(simpleGaussian,x,np.zeros(bins),[T for _ in range(bins)]))"
   ]
  },
  {
   "cell_type": "code",
   "execution_count": 288,
   "id": "460beb51-98dd-42b1-ad82-4ddc0302696e",
   "metadata": {},
   "outputs": [],
   "source": [
    "analytical_xs = (analytical_xs - np.min(analytical_xs))/np.max(analytical_xs)"
   ]
  },
  {
   "cell_type": "code",
   "execution_count": 289,
   "id": "a92500f7-0bf7-43b2-835e-2b61b3372340",
   "metadata": {},
   "outputs": [
    {
     "data": {
      "text/plain": [
       "(100,)"
      ]
     },
     "execution_count": 289,
     "metadata": {},
     "output_type": "execute_result"
    }
   ],
   "source": [
    "analytical_xs.shape"
   ]
  },
  {
   "cell_type": "code",
   "execution_count": 290,
   "id": "5cf1cbdd-3942-4cf5-ba91-be228d588d1e",
   "metadata": {},
   "outputs": [],
   "source": [
    "bins = 100\n",
    "samples = 100000\n",
    "xs = []\n",
    "for _ in range(samples):\n",
    "    xs.append(np.random.normal(0,np.sqrt(T)))\n",
    "xs = np.array(xs)\n",
    "xs = np.histogram(xs,bins)#range = (xl_coord,xr_coord)) # HERE IS THE ISSUE\n",
    "xs = xs[0]"
   ]
  },
  {
   "cell_type": "code",
   "execution_count": 291,
   "id": "bd631afc-25e0-4c59-91e1-e63e4adc51d3",
   "metadata": {},
   "outputs": [],
   "source": [
    "xs = (xs - np.min(xs))/np.max(xs)"
   ]
  },
  {
   "cell_type": "code",
   "execution_count": 292,
   "id": "7db397c9-b5ae-4c54-8060-121f73c4b4ba",
   "metadata": {},
   "outputs": [
    {
     "data": {
      "text/plain": [
       "<matplotlib.legend.Legend at 0x2998e2b30>"
      ]
     },
     "execution_count": 292,
     "metadata": {},
     "output_type": "execute_result"
    },
    {
     "data": {
      "image/png": "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\n",
      "text/plain": [
       "<Figure size 432x288 with 1 Axes>"
      ]
     },
     "metadata": {
      "needs_background": "light"
     },
     "output_type": "display_data"
    }
   ],
   "source": [
    "plt.plot(x,xs,label = \"sampled\")\n",
    "plt.plot(x,analytical_xs,label = \"analytical\")\n",
    "plt.legend()"
   ]
  }
 ],
 "metadata": {
  "kernelspec": {
   "display_name": "Python 3 (ipykernel)",
   "language": "python",
   "name": "python3"
  },
  "language_info": {
   "codemirror_mode": {
    "name": "ipython",
    "version": 3
   },
   "file_extension": ".py",
   "mimetype": "text/x-python",
   "name": "python",
   "nbconvert_exporter": "python",
   "pygments_lexer": "ipython3",
   "version": "3.10.5"
  }
 },
 "nbformat": 4,
 "nbformat_minor": 5
}
