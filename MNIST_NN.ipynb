{
 "cells": [
  {
   "cell_type": "markdown",
   "id": "88c0beeb-9b55-4ae3-8f6b-536c4561c473",
   "metadata": {
    "tags": []
   },
   "source": [
    "# MNIST Neural Network"
   ]
  },
  {
   "cell_type": "markdown",
   "id": "7825882c-bb31-4ac8-bd3d-a7e4c2adcb93",
   "metadata": {},
   "source": [
    "### Imports"
   ]
  },
  {
   "cell_type": "code",
   "execution_count": 1,
   "id": "d5037303-1a1b-46cb-8338-675348f72d45",
   "metadata": {},
   "outputs": [],
   "source": [
    "import tensorflow as tf\n",
    "import numpy as np\n",
    "import math"
   ]
  },
  {
   "cell_type": "markdown",
   "id": "80a0dd20-a204-4f57-a88f-adb99406b141",
   "metadata": {},
   "source": [
    "### Load Data and Create Model"
   ]
  },
  {
   "cell_type": "code",
   "execution_count": 2,
   "id": "4a41ffb2-3cf2-4595-b70e-5b40722b68d7",
   "metadata": {},
   "outputs": [
    {
     "name": "stdout",
     "output_type": "stream",
     "text": [
      "Downloading data from https://storage.googleapis.com/tensorflow/tf-keras-datasets/mnist.npz\n",
      "11490434/11490434 [==============================] - 1s 0us/step\n",
      "Metal device set to: Apple M2\n"
     ]
    },
    {
     "name": "stderr",
     "output_type": "stream",
     "text": [
      "2022-07-21 17:03:00.231356: I tensorflow/core/common_runtime/pluggable_device/pluggable_device_factory.cc:305] Could not identify NUMA node of platform GPU ID 0, defaulting to 0. Your kernel may not have been built with NUMA support.\n",
      "2022-07-21 17:03:00.231489: I tensorflow/core/common_runtime/pluggable_device/pluggable_device_factory.cc:271] Created TensorFlow device (/job:localhost/replica:0/task:0/device:GPU:0 with 0 MB memory) -> physical PluggableDevice (device: 0, name: METAL, pci bus id: <undefined>)\n"
     ]
    }
   ],
   "source": [
    "mnist = tf.keras.datasets.mnist\n",
    "mnist = mnist.load_data()\n",
    "(x_train,y_train),(x_test,y_test)=mnist\n",
    "x_train,x_test = tf.keras.utils.normalize(x_train,axis=1),tf.keras.utils.normalize(x_test,axis=1)\n",
    "\n",
    "\n",
    "#print(np.shape([1,2,3,4]))\n",
    "\n",
    "#print(np.shape(x_train)) #(60000,28,28)\n",
    "\n",
    "#feed forward NN\n",
    "\n",
    "hidden_units = 200\n",
    "\n",
    "model = tf.keras.models.Sequential()\n",
    "model.add(tf.keras.layers.Flatten())\n",
    "model.add(tf.keras.layers.Dense(hidden_units,activation=tf.nn.relu))\n",
    "# #model.add(tf.keras.layers.Dropout(0.25))\n",
    "# model.add(tf.keras.layers.Dense(100,activation=tf.nn.relu))\n",
    "# #model.add(tf.keras.layers.Dropout(0.25))\n",
    "# model.add(tf.keras.layers.Dense(60,activation=tf.nn.relu))\n",
    "# #model.add(tf.keras.layers.Dropout(0.25))\n",
    "model.add(tf.keras.layers.Dense(10,activation=tf.nn.softmax))\n",
    "\n",
    "optim = tf.keras.optimizers.Adam(learning_rate=0.01)\n",
    "\n",
    "#could try sparse\n",
    "model.compile(optimizer=optim,loss='sparse_categorical_crossentropy',metrics=['accuracy'])\n",
    "\n",
    "steps_per_epoch = len(x_train)//100"
   ]
  },
  {
   "cell_type": "code",
   "execution_count": 3,
   "id": "818c0025-981f-492a-a5b1-3b8661258d23",
   "metadata": {},
   "outputs": [],
   "source": [
    "mnist = tf.keras.datasets.mnist\n",
    "mnist = mnist.load_data()\n",
    "(x_train,y_train),(x_test,y_test)=mnist\n",
    "x_train,x_test = tf.keras.utils.normalize(x_train,axis=1),tf.keras.utils.normalize(x_test,axis=1)\n",
    "\n",
    "#print(np.shape([1,2,3,4]))\n",
    "\n",
    "#print(np.shape(x_train)) #(60000,28,28)\n",
    "\n",
    "#feed forward NN\n",
    "\n",
    "hidden_units = 200\n",
    "\n",
    "model = tf.keras.models.Sequential()\n",
    "model.add(tf.keras.layers.Flatten())\n",
    "model.add(tf.keras.layers.Dense(hidden_units,activation=tf.nn.relu))\n",
    "# #model.add(tf.keras.layers.Dropout(0.25))\n",
    "# model.add(tf.keras.layers.Dense(100,activation=tf.nn.relu))\n",
    "# #model.add(tf.keras.layers.Dropout(0.25))\n",
    "# model.add(tf.keras.layers.Dense(60,activation=tf.nn.relu))\n",
    "# #model.add(tf.keras.layers.Dropout(0.25))\n",
    "model.add(tf.keras.layers.Dense(10,activation=tf.nn.softmax))\n",
    "\n",
    "optim = tf.keras.optimizers.Adam(learning_rate=0.01)\n",
    "\n",
    "#could try sparse\n",
    "model.compile(optimizer=optim,loss='sparse_categorical_crossentropy',metrics=['accuracy'])\n",
    "\n",
    "steps_per_epoch = len(x_train)//100"
   ]
  },
  {
   "cell_type": "markdown",
   "id": "f2fad326-1ad9-43ee-bac9-7bba36be1fa1",
   "metadata": {},
   "source": [
    "#### Decaying Learning Rate Function"
   ]
  },
  {
   "cell_type": "code",
   "execution_count": 4,
   "id": "0fa1cf8d-a902-465a-8354-e1ec3137ce42",
   "metadata": {},
   "outputs": [],
   "source": [
    "# lr schedule callback\n",
    "lr_decay_callback = tf.keras.callbacks.LearningRateScheduler(lambda epoch: 0.01 * math.pow(0.6,epoch), verbose=True)\n"
   ]
  },
  {
   "cell_type": "markdown",
   "id": "892b1961-dd29-4474-b582-16a8c6c3d56f",
   "metadata": {
    "tags": []
   },
   "source": [
    "### Train"
   ]
  },
  {
   "cell_type": "code",
   "execution_count": 5,
   "id": "2697238a-a834-403d-bba2-09f573c22521",
   "metadata": {},
   "outputs": [
    {
     "name": "stdout",
     "output_type": "stream",
     "text": [
      "Epoch 1/10\n"
     ]
    },
    {
     "name": "stderr",
     "output_type": "stream",
     "text": [
      "2022-07-21 17:03:27.094752: W tensorflow/core/platform/profile_utils/cpu_utils.cc:128] Failed to get CPU frequency: 0 Hz\n",
      "2022-07-21 17:03:27.524099: I tensorflow/core/grappler/optimizers/custom_graph_optimizer_registry.cc:113] Plugin optimizer for device_type GPU is enabled.\n"
     ]
    },
    {
     "name": "stdout",
     "output_type": "stream",
     "text": [
      "600/600 [==============================] - 4s 4ms/step - loss: 0.2128 - accuracy: 0.9346\n",
      "Epoch 2/10\n",
      "600/600 [==============================] - 2s 4ms/step - loss: 0.1029 - accuracy: 0.9679\n",
      "Epoch 3/10\n",
      "600/600 [==============================] - 2s 4ms/step - loss: 0.0737 - accuracy: 0.9771\n",
      "Epoch 4/10\n",
      "600/600 [==============================] - 2s 4ms/step - loss: 0.0617 - accuracy: 0.9803\n",
      "Epoch 5/10\n",
      "600/600 [==============================] - 2s 4ms/step - loss: 0.0559 - accuracy: 0.9825\n",
      "Epoch 6/10\n",
      "600/600 [==============================] - 2s 4ms/step - loss: 0.0458 - accuracy: 0.9854\n",
      "Epoch 7/10\n",
      "600/600 [==============================] - 2s 4ms/step - loss: 0.0433 - accuracy: 0.9863\n",
      "Epoch 8/10\n",
      "600/600 [==============================] - 2s 4ms/step - loss: 0.0374 - accuracy: 0.9883\n",
      "Epoch 9/10\n",
      "600/600 [==============================] - 2s 4ms/step - loss: 0.0346 - accuracy: 0.9895\n",
      "Epoch 10/10\n",
      "600/600 [==============================] - 2s 4ms/step - loss: 0.0380 - accuracy: 0.9889\n"
     ]
    },
    {
     "data": {
      "text/plain": [
       "<keras.callbacks.History at 0x16be4f820>"
      ]
     },
     "execution_count": 5,
     "metadata": {},
     "output_type": "execute_result"
    }
   ],
   "source": [
    "#tf.keras.models.Sequential().fit()\n",
    "model.fit(x_train,y_train,epochs=10,steps_per_epoch = steps_per_epoch)#callbacks=[lr_decay_callback])"
   ]
  },
  {
   "cell_type": "code",
   "execution_count": 6,
   "id": "9a17ba21-dd06-4808-951d-982a2e3dc3c9",
   "metadata": {
    "tags": []
   },
   "outputs": [
    {
     "name": "stdout",
     "output_type": "stream",
     "text": [
      "Model: \"sequential_1\"\n",
      "_________________________________________________________________\n",
      " Layer (type)                Output Shape              Param #   \n",
      "=================================================================\n",
      " flatten_1 (Flatten)         (100, 784)                0         \n",
      "                                                                 \n",
      " dense_2 (Dense)             (100, 200)                157000    \n",
      "                                                                 \n",
      " dense_3 (Dense)             (100, 10)                 2010      \n",
      "                                                                 \n",
      "=================================================================\n",
      "Total params: 159,010\n",
      "Trainable params: 159,010\n",
      "Non-trainable params: 0\n",
      "_________________________________________________________________\n"
     ]
    }
   ],
   "source": [
    "# print model layers\n",
    "model.summary()"
   ]
  },
  {
   "cell_type": "markdown",
   "id": "f5c2d53a-de1f-4bb7-b832-7466bc910c1b",
   "metadata": {},
   "source": [
    "### Evaluate Loss and Accuracy on Test Set"
   ]
  },
  {
   "cell_type": "code",
   "execution_count": 7,
   "id": "86a34c64-0a37-4fb8-96e8-6459de618646",
   "metadata": {},
   "outputs": [
    {
     "name": "stdout",
     "output_type": "stream",
     "text": [
      "313/313 [==============================] - 0s 1ms/step - loss: 0.2202 - accuracy: 0.9654\n",
      "loss:  0.22018122673034668 \n",
      " accuracy:  0.965399980545044\n"
     ]
    }
   ],
   "source": [
    "val_loss, val_acc = model.evaluate(x_test,y_test)\n",
    "print(\"loss: \",val_loss,\"\\n\",\"accuracy: \",val_acc)"
   ]
  },
  {
   "cell_type": "code",
   "execution_count": 8,
   "id": "dcba98ae-f427-4251-9d53-dd68e4e3c7cb",
   "metadata": {},
   "outputs": [
    {
     "name": "stdout",
     "output_type": "stream",
     "text": [
      "INFO:tensorflow:Assets written to: num_model/assets\n"
     ]
    }
   ],
   "source": [
    "model.save('num_model')"
   ]
  },
  {
   "cell_type": "code",
   "execution_count": 9,
   "id": "ab54eb2c-1cac-4c60-bcd3-378f0f0ea258",
   "metadata": {},
   "outputs": [],
   "source": [
    "new_model = tf.keras.models.load_model('num_model')"
   ]
  },
  {
   "cell_type": "code",
   "execution_count": 10,
   "id": "85f50ee8-d298-4b32-b6f4-322d342b9ffe",
   "metadata": {},
   "outputs": [
    {
     "name": "stdout",
     "output_type": "stream",
     "text": [
      "313/313 [==============================] - 0s 770us/step\n"
     ]
    }
   ],
   "source": [
    "predictions = new_model.predict([x_test])"
   ]
  },
  {
   "cell_type": "code",
   "execution_count": 11,
   "id": "e6b7345d-f4e0-44e5-b382-7dc45f2d6aa0",
   "metadata": {},
   "outputs": [
    {
     "name": "stdout",
     "output_type": "stream",
     "text": [
      "10000\n"
     ]
    }
   ],
   "source": [
    "print(len(x_test))"
   ]
  },
  {
   "cell_type": "code",
   "execution_count": 12,
   "id": "a79807b5-7d27-41ae-9b09-90292db960ff",
   "metadata": {},
   "outputs": [
    {
     "name": "stdout",
     "output_type": "stream",
     "text": [
      "5\n"
     ]
    },
    {
     "data": {
      "image/png": "[encoded data removed]",
      "text/plain": [
       "<Figure size 432x288 with 1 Axes>"
      ]
     },
     "metadata": {
      "needs_background": "light"
     },
     "output_type": "display_data"
    }
   ],
   "source": [
    "for i in range(len(predictions)):\n",
    "    if np.argmax(predictions[i])!=y_test[i]:\n",
    "        print(np.argmax(predictions[i]))\n",
    "        plt.imshow(x_test[i],cmap=plt.cm.binary)\n",
    "        break"
   ]
  },
  {
   "cell_type": "code",
   "execution_count": 13,
   "id": "3b10b6a2-9b2b-4487-897f-51682ea3f643",
   "metadata": {},
   "outputs": [
    {
     "name": "stdout",
     "output_type": "stream",
     "text": [
      "1\n"
     ]
    }
   ],
   "source": [
    "print(np.argmax(predictions[9876]))"
   ]
  },
  {
   "cell_type": "code",
   "execution_count": 14,
   "id": "5c97a3a3-abc5-4602-a4df-ee65fb7e6ee6",
   "metadata": {},
   "outputs": [
    {
     "data": {
      "text/plain": [
       "<matplotlib.image.AxesImage at 0x7f3009ab8820>"
      ]
     },
     "execution_count": 14,
     "metadata": {},
     "output_type": "execute_result"
    },
    {
     "data": {
      "image/png": "[encoded data removed]",
      "text/plain": [
       "<Figure size 432x288 with 1 Axes>"
      ]
     },
     "metadata": {
      "needs_background": "light"
     },
     "output_type": "display_data"
    }
   ],
   "source": [
    "plt.imshow(x_test[9876],cmap=plt.cm.binary)"
   ]
  },
  {
   "cell_type": "code",
   "execution_count": 33,
   "id": "afdca986-06fb-4438-bd7c-51aae6996482",
   "metadata": {},
   "outputs": [
    {
     "name": "stdout",
     "output_type": "stream",
     "text": [
      "MySQL Database connection successful\n"
     ]
    },
    {
     "data": {
      "text/html": [
       "<div>\n",
       "<style scoped>\n",
       "    .dataframe tbody tr th:only-of-type {\n",
       "        vertical-align: middle;\n",
       "    }\n",
       "\n",
       "    .dataframe tbody tr th {\n",
       "        vertical-align: top;\n",
       "    }\n",
       "\n",
       "    .dataframe thead th {\n",
       "        text-align: right;\n",
       "    }\n",
       "</style>\n",
       "<table border=\"1\" class=\"dataframe\">\n",
       "  <thead>\n",
       "    <tr style=\"text-align: right;\">\n",
       "      <th></th>\n",
       "      <th>nn_id</th>\n",
       "      <th>hidden_units</th>\n",
       "      <th>layers</th>\n",
       "      <th>training_size</th>\n",
       "      <th>learning_rate</th>\n",
       "      <th>decay_lr</th>\n",
       "      <th>dropout</th>\n",
       "      <th>dropout_size</th>\n",
       "      <th>epochs</th>\n",
       "      <th>batch_size</th>\n",
       "      <th>loss</th>\n",
       "      <th>metrics</th>\n",
       "      <th>activation</th>\n",
       "      <th>convolutional</th>\n",
       "      <th>accuracy</th>\n",
       "    </tr>\n",
       "  </thead>\n",
       "  <tbody>\n",
       "    <tr>\n",
       "      <th>40</th>\n",
       "      <td>41</td>\n",
       "      <td>300</td>\n",
       "      <td>3</td>\n",
       "      <td>60000</td>\n",
       "      <td>0.01</td>\n",
       "      <td>1</td>\n",
       "      <td>1</td>\n",
       "      <td>0.3</td>\n",
       "      <td>10</td>\n",
       "      <td>100</td>\n",
       "      <td>sparse_categorical_crossentropy</td>\n",
       "      <td>accuracy</td>\n",
       "      <td>relu</td>\n",
       "      <td>1</td>\n",
       "      <td>0.9947</td>\n",
       "    </tr>\n",
       "    <tr>\n",
       "      <th>41</th>\n",
       "      <td>42</td>\n",
       "      <td>300</td>\n",
       "      <td>3</td>\n",
       "      <td>5000</td>\n",
       "      <td>0.01</td>\n",
       "      <td>1</td>\n",
       "      <td>1</td>\n",
       "      <td>0.3</td>\n",
       "      <td>10</td>\n",
       "      <td>100</td>\n",
       "      <td>sparse_categorical_crossentropy</td>\n",
       "      <td>accuracy</td>\n",
       "      <td>relu</td>\n",
       "      <td>1</td>\n",
       "      <td>0.9499</td>\n",
       "    </tr>\n",
       "    <tr>\n",
       "      <th>42</th>\n",
       "      <td>43</td>\n",
       "      <td>300</td>\n",
       "      <td>3</td>\n",
       "      <td>10000</td>\n",
       "      <td>0.01</td>\n",
       "      <td>1</td>\n",
       "      <td>1</td>\n",
       "      <td>0.3</td>\n",
       "      <td>10</td>\n",
       "      <td>100</td>\n",
       "      <td>sparse_categorical_crossentropy</td>\n",
       "      <td>accuracy</td>\n",
       "      <td>relu</td>\n",
       "      <td>1</td>\n",
       "      <td>0.9852</td>\n",
       "    </tr>\n",
       "    <tr>\n",
       "      <th>43</th>\n",
       "      <td>44</td>\n",
       "      <td>300</td>\n",
       "      <td>3</td>\n",
       "      <td>15000</td>\n",
       "      <td>0.01</td>\n",
       "      <td>1</td>\n",
       "      <td>1</td>\n",
       "      <td>0.3</td>\n",
       "      <td>10</td>\n",
       "      <td>100</td>\n",
       "      <td>sparse_categorical_crossentropy</td>\n",
       "      <td>accuracy</td>\n",
       "      <td>relu</td>\n",
       "      <td>1</td>\n",
       "      <td>0.9875</td>\n",
       "    </tr>\n",
       "    <tr>\n",
       "      <th>44</th>\n",
       "      <td>45</td>\n",
       "      <td>300</td>\n",
       "      <td>3</td>\n",
       "      <td>20000</td>\n",
       "      <td>0.01</td>\n",
       "      <td>1</td>\n",
       "      <td>1</td>\n",
       "      <td>0.3</td>\n",
       "      <td>10</td>\n",
       "      <td>100</td>\n",
       "      <td>sparse_categorical_crossentropy</td>\n",
       "      <td>accuracy</td>\n",
       "      <td>relu</td>\n",
       "      <td>1</td>\n",
       "      <td>0.9904</td>\n",
       "    </tr>\n",
       "    <tr>\n",
       "      <th>...</th>\n",
       "      <td>...</td>\n",
       "      <td>...</td>\n",
       "      <td>...</td>\n",
       "      <td>...</td>\n",
       "      <td>...</td>\n",
       "      <td>...</td>\n",
       "      <td>...</td>\n",
       "      <td>...</td>\n",
       "      <td>...</td>\n",
       "      <td>...</td>\n",
       "      <td>...</td>\n",
       "      <td>...</td>\n",
       "      <td>...</td>\n",
       "      <td>...</td>\n",
       "      <td>...</td>\n",
       "    </tr>\n",
       "    <tr>\n",
       "      <th>303</th>\n",
       "      <td>304</td>\n",
       "      <td>300</td>\n",
       "      <td>3</td>\n",
       "      <td>60000</td>\n",
       "      <td>0.01</td>\n",
       "      <td>1</td>\n",
       "      <td>1</td>\n",
       "      <td>0.3</td>\n",
       "      <td>10</td>\n",
       "      <td>560</td>\n",
       "      <td>sparse_categorical_crossentropy</td>\n",
       "      <td>accuracy</td>\n",
       "      <td>relu</td>\n",
       "      <td>0</td>\n",
       "      <td>0.9782</td>\n",
       "    </tr>\n",
       "    <tr>\n",
       "      <th>304</th>\n",
       "      <td>305</td>\n",
       "      <td>300</td>\n",
       "      <td>3</td>\n",
       "      <td>60000</td>\n",
       "      <td>0.01</td>\n",
       "      <td>1</td>\n",
       "      <td>1</td>\n",
       "      <td>0.3</td>\n",
       "      <td>10</td>\n",
       "      <td>570</td>\n",
       "      <td>sparse_categorical_crossentropy</td>\n",
       "      <td>accuracy</td>\n",
       "      <td>relu</td>\n",
       "      <td>0</td>\n",
       "      <td>0.9761</td>\n",
       "    </tr>\n",
       "    <tr>\n",
       "      <th>305</th>\n",
       "      <td>306</td>\n",
       "      <td>300</td>\n",
       "      <td>3</td>\n",
       "      <td>60000</td>\n",
       "      <td>0.01</td>\n",
       "      <td>1</td>\n",
       "      <td>1</td>\n",
       "      <td>0.3</td>\n",
       "      <td>10</td>\n",
       "      <td>580</td>\n",
       "      <td>sparse_categorical_crossentropy</td>\n",
       "      <td>accuracy</td>\n",
       "      <td>relu</td>\n",
       "      <td>0</td>\n",
       "      <td>0.9751</td>\n",
       "    </tr>\n",
       "    <tr>\n",
       "      <th>306</th>\n",
       "      <td>307</td>\n",
       "      <td>300</td>\n",
       "      <td>3</td>\n",
       "      <td>60000</td>\n",
       "      <td>0.01</td>\n",
       "      <td>1</td>\n",
       "      <td>1</td>\n",
       "      <td>0.3</td>\n",
       "      <td>10</td>\n",
       "      <td>590</td>\n",
       "      <td>sparse_categorical_crossentropy</td>\n",
       "      <td>accuracy</td>\n",
       "      <td>relu</td>\n",
       "      <td>0</td>\n",
       "      <td>0.9780</td>\n",
       "    </tr>\n",
       "    <tr>\n",
       "      <th>307</th>\n",
       "      <td>308</td>\n",
       "      <td>300</td>\n",
       "      <td>3</td>\n",
       "      <td>60000</td>\n",
       "      <td>0.01</td>\n",
       "      <td>1</td>\n",
       "      <td>1</td>\n",
       "      <td>0.3</td>\n",
       "      <td>10</td>\n",
       "      <td>600</td>\n",
       "      <td>sparse_categorical_crossentropy</td>\n",
       "      <td>accuracy</td>\n",
       "      <td>relu</td>\n",
       "      <td>0</td>\n",
       "      <td>0.9762</td>\n",
       "    </tr>\n",
       "  </tbody>\n",
       "</table>\n",
       "<p>228 rows × 15 columns</p>\n",
       "</div>"
      ],
      "text/plain": [
       "     nn_id  hidden_units  layers  training_size  learning_rate  decay_lr  \\\n",
       "40      41           300       3          60000           0.01         1   \n",
       "41      42           300       3           5000           0.01         1   \n",
       "42      43           300       3          10000           0.01         1   \n",
       "43      44           300       3          15000           0.01         1   \n",
       "44      45           300       3          20000           0.01         1   \n",
       "..     ...           ...     ...            ...            ...       ...   \n",
       "303    304           300       3          60000           0.01         1   \n",
       "304    305           300       3          60000           0.01         1   \n",
       "305    306           300       3          60000           0.01         1   \n",
       "306    307           300       3          60000           0.01         1   \n",
       "307    308           300       3          60000           0.01         1   \n",
       "\n",
       "     dropout  dropout_size  epochs  batch_size  \\\n",
       "40         1           0.3      10         100   \n",
       "41         1           0.3      10         100   \n",
       "42         1           0.3      10         100   \n",
       "43         1           0.3      10         100   \n",
       "44         1           0.3      10         100   \n",
       "..       ...           ...     ...         ...   \n",
       "303        1           0.3      10         560   \n",
       "304        1           0.3      10         570   \n",
       "305        1           0.3      10         580   \n",
       "306        1           0.3      10         590   \n",
       "307        1           0.3      10         600   \n",
       "\n",
       "                                loss   metrics activation  convolutional  \\\n",
       "40   sparse_categorical_crossentropy  accuracy       relu              1   \n",
       "41   sparse_categorical_crossentropy  accuracy       relu              1   \n",
       "42   sparse_categorical_crossentropy  accuracy       relu              1   \n",
       "43   sparse_categorical_crossentropy  accuracy       relu              1   \n",
       "44   sparse_categorical_crossentropy  accuracy       relu              1   \n",
       "..                               ...       ...        ...            ...   \n",
       "303  sparse_categorical_crossentropy  accuracy       relu              0   \n",
       "304  sparse_categorical_crossentropy  accuracy       relu              0   \n",
       "305  sparse_categorical_crossentropy  accuracy       relu              0   \n",
       "306  sparse_categorical_crossentropy  accuracy       relu              0   \n",
       "307  sparse_categorical_crossentropy  accuracy       relu              0   \n",
       "\n",
       "     accuracy  \n",
       "40     0.9947  \n",
       "41     0.9499  \n",
       "42     0.9852  \n",
       "43     0.9875  \n",
       "44     0.9904  \n",
       "..        ...  \n",
       "303    0.9782  \n",
       "304    0.9761  \n",
       "305    0.9751  \n",
       "306    0.9780  \n",
       "307    0.9762  \n",
       "\n",
       "[228 rows x 15 columns]"
      ]
     },
     "metadata": {},
     "output_type": "display_data"
    }
   ],
   "source": [
    "from NN_database import Database\n",
    "import pandas as pd\n",
    "db = Database()\n",
    "\n",
    "connection = db.create_db_connection(\"140.233.160.216\", \"agironda\", \"phys_research1\", \"mnist_db\")\n",
    "\n",
    "select_all_query = \"SELECT * FROM mnist\"\n",
    "\n",
    "results = db.read_query(connection,select_all_query)\n",
    "\n",
    "from_db = []\n",
    "\n",
    "for result in results:\n",
    "  result = list(result)\n",
    "  from_db.append(result)\n",
    "\n",
    "columns = [\"nn_id\", \"hidden_units\", \"layers\", \"training_size\", \"learning_rate\",\n",
    "            \"decay_lr\",\"dropout\",\"dropout_size\",\"epochs\",\"batch_size\",\"loss\",\n",
    "            \"metrics\",\"activation\",\"convolutional\",\"accuracy\"]\n",
    "\n",
    "df = pd.DataFrame(from_db, columns=columns)\n",
    "df = df[df[\"layers\"]==3]\n",
    "\n",
    "display(df)"
   ]
  },
  {
   "cell_type": "code",
   "execution_count": 34,
   "id": "47d138cf-7c31-4973-8c1b-61054e670226",
   "metadata": {},
   "outputs": [
    {
     "data": {
      "image/png": "[encoded data removed]",
      "text/plain": [
       "<Figure size 432x288 with 1 Axes>"
      ]
     },
     "metadata": {
      "needs_background": "light"
     },
     "output_type": "display_data"
    }
   ],
   "source": [
    "import matplotlib.pyplot as plt\n",
    "x_var = \"hidden_units\"\n",
    "plt.scatter(df[x_var],df[\"accuracy\"])\n",
    "plt.xlabel(x_var)\n",
    "plt.ylabel(\"accuracy\")\n",
    "plt.show()"
   ]
  },
  {
   "cell_type": "code",
   "execution_count": 8,
   "id": "2d0e946e-e02e-4cba-8a71-1734f0562201",
   "metadata": {},
   "outputs": [
    {
     "name": "stdout",
     "output_type": "stream",
     "text": [
      "\n",
      "Epoch 1: LearningRateScheduler setting learning rate to 0.01.\n",
      "Epoch 1/10\n",
      "  1/937 [..............................] - ETA: 5:59 - loss: 2.9777 - accuracy: 0.0769"
     ]
    },
    {
     "name": "stderr",
     "output_type": "stream",
     "text": [
      "2022-07-21 17:08:20.880168: I tensorflow/core/grappler/optimizers/custom_graph_optimizer_registry.cc:113] Plugin optimizer for device_type GPU is enabled.\n"
     ]
    },
    {
     "name": "stdout",
     "output_type": "stream",
     "text": [
      "937/937 [==============================] - 16s 17ms/step - loss: 0.1357 - accuracy: 0.9580 - lr: 0.0100\n",
      "\n",
      "Epoch 2: LearningRateScheduler setting learning rate to 0.006.\n",
      "Epoch 2/10\n",
      "937/937 [==============================] - 16s 17ms/step - loss: 0.0463 - accuracy: 0.9857 - lr: 0.0060\n",
      "\n",
      "Epoch 3: LearningRateScheduler setting learning rate to 0.0036.\n",
      "Epoch 3/10\n",
      "937/937 [==============================] - 16s 17ms/step - loss: 0.0318 - accuracy: 0.9901 - lr: 0.0036\n",
      "\n",
      "Epoch 4: LearningRateScheduler setting learning rate to 0.0021599999999999996.\n",
      "Epoch 4/10\n",
      "937/937 [==============================] - 16s 17ms/step - loss: 0.0196 - accuracy: 0.9938 - lr: 0.0022\n",
      "\n",
      "Epoch 5: LearningRateScheduler setting learning rate to 0.001296.\n",
      "Epoch 5/10\n",
      "937/937 [==============================] - 16s 17ms/step - loss: 0.0138 - accuracy: 0.9957 - lr: 0.0013\n",
      "\n",
      "Epoch 6: LearningRateScheduler setting learning rate to 0.0007775999999999998.\n",
      "Epoch 6/10\n",
      "937/937 [==============================] - 16s 17ms/step - loss: 0.0085 - accuracy: 0.9974 - lr: 7.7760e-04\n",
      "\n",
      "Epoch 7: LearningRateScheduler setting learning rate to 0.0004665599999999999.\n",
      "Epoch 7/10\n",
      "937/937 [==============================] - 16s 17ms/step - loss: 0.0061 - accuracy: 0.9983 - lr: 4.6656e-04\n",
      "\n",
      "Epoch 8: LearningRateScheduler setting learning rate to 0.00027993599999999994.\n",
      "Epoch 8/10\n",
      "937/937 [==============================] - 16s 17ms/step - loss: 0.0046 - accuracy: 0.9989 - lr: 2.7994e-04\n",
      "\n",
      "Epoch 9: LearningRateScheduler setting learning rate to 0.00016796159999999993.\n",
      "Epoch 9/10\n",
      "937/937 [==============================] - 16s 17ms/step - loss: 0.0044 - accuracy: 0.9988 - lr: 1.6796e-04\n",
      "\n",
      "Epoch 10: LearningRateScheduler setting learning rate to 0.00010077695999999997.\n",
      "Epoch 10/10\n",
      "806/937 [========================>.....] - ETA: 2s - loss: 0.0036 - accuracy: 0.9992WARNING:tensorflow:Your input ran out of data; interrupting training. Make sure that your dataset or generator can generate at least `steps_per_epoch * epochs` batches (in this case, 9370 batches). You may need to use the repeat() function when building your dataset.\n",
      "937/937 [==============================] - 13s 14ms/step - loss: 0.0036 - accuracy: 0.9992 - lr: 1.0078e-04\n"
     ]
    },
    {
     "data": {
      "text/plain": [
       "<keras.callbacks.History at 0x2db7d4250>"
      ]
     },
     "execution_count": 8,
     "metadata": {},
     "output_type": "execute_result"
    }
   ],
   "source": [
    "# lr schedule callback\n",
    "lr_decay_callback = tf.keras.callbacks.LearningRateScheduler(lambda epoch: 0.01 * math.pow(0.6,epoch), verbose=True)\n",
    "\n",
    "\n",
    "mnist = tf.keras.datasets.mnist\n",
    "mnist = mnist.load_data()\n",
    "(x_train,y_train),(x_test,y_test)=mnist\n",
    "x_train,x_test = tf.keras.utils.normalize(x_train,axis=1),tf.keras.utils.normalize(x_test,axis=1)\n",
    "\n",
    "x_train = x_train.reshape((x_train.shape[0], 28, 28, 1))\n",
    "x_test = x_test.reshape((x_test.shape[0], 28, 28, 1))\n",
    "\n",
    "model = tf.keras.Sequential()\n",
    "\n",
    "model.add(tf.keras.layers.Conv2D(kernel_size=3,filters=12,use_bias=False,padding='same'))\n",
    "model.add(tf.keras.layers.BatchNormalization(center=True,scale=False))\n",
    "model.add(tf.keras.layers.Activation('relu'))\n",
    "\n",
    "model.add(tf.keras.layers.Conv2D(kernel_size=6,filters=24,use_bias=False,padding='same',strides=2))\n",
    "model.add(tf.keras.layers.BatchNormalization(center=True,scale=False))\n",
    "model.add(tf.keras.layers.Activation('relu'))\n",
    "\n",
    "model.add(tf.keras.layers.Conv2D(kernel_size=6,filters=32,use_bias=False,padding='same',strides=2))\n",
    "model.add(tf.keras.layers.BatchNormalization(center=True,scale=False))\n",
    "model.add(tf.keras.layers.Activation('relu'))\n",
    "\n",
    "model.add(tf.keras.layers.Flatten())\n",
    "\n",
    "model.add(tf.keras.layers.Dense(200,use_bias=False))\n",
    "model.add(tf.keras.layers.BatchNormalization(center=True,scale=False))\n",
    "model.add(tf.keras.layers.Activation('relu'))\n",
    "\n",
    "model.add(tf.keras.layers.Dropout(0.3))\n",
    "model.add(tf.keras.layers.Dense(10,activation='softmax'))\n",
    "\n",
    "optim = tf.keras.optimizers.Adam(learning_rate=0.01)\n",
    "\n",
    "model.compile(optimizer=optim,loss='sparse_categorical_crossentropy',metrics=['accuracy'])\n",
    "\n",
    "steps_per_epoch = len(x_train)//64\n",
    "\n",
    "model.fit(x_train,y_train,epochs=10,steps_per_epoch = steps_per_epoch,callbacks=[lr_decay_callback])"
   ]
  },
  {
   "cell_type": "code",
   "execution_count": 9,
   "id": "575e9c39-9165-4630-afd9-310a9f177622",
   "metadata": {},
   "outputs": [
    {
     "name": "stdout",
     "output_type": "stream",
     "text": [
      " 38/313 [==>...........................] - ETA: 1s - loss: 0.0229 - accuracy: 0.9918"
     ]
    },
    {
     "name": "stderr",
     "output_type": "stream",
     "text": [
      "2022-07-21 17:12:29.352309: I tensorflow/core/grappler/optimizers/custom_graph_optimizer_registry.cc:113] Plugin optimizer for device_type GPU is enabled.\n"
     ]
    },
    {
     "name": "stdout",
     "output_type": "stream",
     "text": [
      "313/313 [==============================] - 2s 5ms/step - loss: 0.0228 - accuracy: 0.9932\n",
      "0.9932000637054443\n"
     ]
    }
   ],
   "source": [
    "val_loss, val_acc = model.evaluate(x_test,y_test)\n",
    "print(val_acc)"
   ]
  },
  {
   "cell_type": "code",
   "execution_count": null,
   "id": "19e8a338-1ca5-4bb7-bf15-ca3ae1b59c24",
   "metadata": {},
   "outputs": [],
   "source": [
    "model.save('num_model')"
   ]
  },
  {
   "cell_type": "code",
   "execution_count": null,
   "id": "42e2104f-57e3-4ecd-b1b4-45368e91b036",
   "metadata": {},
   "outputs": [],
   "source": [
    "new_model = tf.keras.models.load_model('num_model')"
   ]
  },
  {
   "cell_type": "code",
   "execution_count": null,
   "id": "56b49fc8-ee16-43e1-b6e9-32c0e5e520aa",
   "metadata": {},
   "outputs": [],
   "source": [
    "predictions = new_model.predict([x_test])"
   ]
  },
  {
   "cell_type": "code",
   "execution_count": null,
   "id": "f2eddba6-dc7c-4648-bc0d-216510826303",
   "metadata": {},
   "outputs": [],
   "source": [
    "print(np.argmax(predictions[234]))\n",
    "plt.imshow(x_test[234],cmap=plt.cm.binary)"
   ]
  },
  {
   "cell_type": "code",
   "execution_count": null,
   "id": "09351ee1-5b4d-4a4a-880a-723309e2e64e",
   "metadata": {},
   "outputs": [],
   "source": []
  }
 ],
 "metadata": {
  "kernelspec": {
   "display_name": "Python 3 (ipykernel)",
   "language": "python",
   "name": "python3"
  },
  "language_info": {
   "codemirror_mode": {
    "name": "ipython",
    "version": 3
   },
   "file_extension": ".py",
   "mimetype": "text/x-python",
   "name": "python",
   "nbconvert_exporter": "python",
   "pygments_lexer": "ipython3",
   "version": "3.10.5"
  }
 },
 "nbformat": 4,
 "nbformat_minor": 5
}
