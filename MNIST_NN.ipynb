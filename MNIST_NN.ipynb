{
 "cells": [
  {
   "cell_type": "markdown",
   "id": "88c0beeb-9b55-4ae3-8f6b-536c4561c473",
   "metadata": {
    "tags": []
   },
   "source": [
    "# MNIST Neural Network"
   ]
  },
  {
   "cell_type": "markdown",
   "id": "7825882c-bb31-4ac8-bd3d-a7e4c2adcb93",
   "metadata": {},
   "source": [
    "### Imports"
   ]
  },
  {
   "cell_type": "code",
   "execution_count": 16,
   "id": "d5037303-1a1b-46cb-8338-675348f72d45",
   "metadata": {},
   "outputs": [],
   "source": [
    "import tensorflow as tf\n",
    "import matplotlib.pyplot as plt\n",
    "import numpy as np\n",
    "import math"
   ]
  },
  {
   "cell_type": "markdown",
   "id": "80a0dd20-a204-4f57-a88f-adb99406b141",
   "metadata": {},
   "source": [
    "### Load Data and Create Model"
   ]
  },
  {
   "cell_type": "code",
   "execution_count": 51,
   "id": "4a41ffb2-3cf2-4595-b70e-5b40722b68d7",
   "metadata": {},
   "outputs": [],
   "source": [
    "mnist = tf.keras.datasets.mnist\n",
    "mnist = mnist.load_data()\n",
    "(x_train,y_train),(x_test,y_test)=mnist\n",
    "x_train,x_test = tf.keras.utils.normalize(x_train,axis=1),tf.keras.utils.normalize(x_test,axis=1)\n",
    "\n",
    "#print(np.shape([1,2,3,4]))\n",
    "\n",
    "#print(np.shape(x_train)) #(60000,28,28)\n",
    "\n",
    "#feed forward NN\n",
    "\n",
    "hidden_units = 200\n",
    "\n",
    "model = tf.keras.models.Sequential()\n",
    "model.add(tf.keras.layers.Flatten())\n",
    "model.add(tf.keras.layers.Dense(hidden_units,activation=tf.nn.relu))\n",
    "# #model.add(tf.keras.layers.Dropout(0.25))\n",
    "# model.add(tf.keras.layers.Dense(100,activation=tf.nn.relu))\n",
    "# #model.add(tf.keras.layers.Dropout(0.25))\n",
    "# model.add(tf.keras.layers.Dense(60,activation=tf.nn.relu))\n",
    "# #model.add(tf.keras.layers.Dropout(0.25))\n",
    "model.add(tf.keras.layers.Dense(10,activation=tf.nn.softmax))\n",
    "\n",
    "optim = tf.keras.optimizers.Adam(learning_rate=0.01)\n",
    "\n",
    "#could try sparse\n",
    "model.compile(optimizer=optim,loss='sparse_categorical_crossentropy',metrics=['accuracy'])\n",
    "\n",
    "steps_per_epoch = len(x_train)//100"
   ]
  },
  {
   "cell_type": "markdown",
   "id": "f2fad326-1ad9-43ee-bac9-7bba36be1fa1",
   "metadata": {},
   "source": [
    "#### Decaying Learning Rate Function"
   ]
  },
  {
   "cell_type": "code",
   "execution_count": 42,
   "id": "0fa1cf8d-a902-465a-8354-e1ec3137ce42",
   "metadata": {},
   "outputs": [],
   "source": [
    "# lr schedule callback\n",
    "lr_decay_callback = tf.keras.callbacks.LearningRateScheduler(lambda epoch: 0.01 * math.pow(0.6,epoch), verbose=True)\n"
   ]
  },
  {
   "cell_type": "markdown",
   "id": "892b1961-dd29-4474-b582-16a8c6c3d56f",
   "metadata": {},
   "source": [
    "### Train"
   ]
  },
  {
   "cell_type": "code",
   "execution_count": 43,
   "id": "2697238a-a834-403d-bba2-09f573c22521",
   "metadata": {},
   "outputs": [
    {
     "name": "stdout",
     "output_type": "stream",
     "text": [
      "\n",
      "Epoch 1: LearningRateScheduler setting learning rate to 0.01.\n",
      "Epoch 1/10\n",
      "600/600 [==============================] - 1s 1ms/step - loss: 0.2148 - accuracy: 0.9359 - lr: 0.0100\n",
      "\n",
      "Epoch 2: LearningRateScheduler setting learning rate to 0.006.\n",
      "Epoch 2/10\n",
      "600/600 [==============================] - 1s 1ms/step - loss: 0.0744 - accuracy: 0.9762 - lr: 0.0060\n",
      "\n",
      "Epoch 3: LearningRateScheduler setting learning rate to 0.0036.\n",
      "Epoch 3/10\n",
      "600/600 [==============================] - 1s 1ms/step - loss: 0.0395 - accuracy: 0.9879 - lr: 0.0036\n",
      "\n",
      "Epoch 4: LearningRateScheduler setting learning rate to 0.0021599999999999996.\n",
      "Epoch 4/10\n",
      "600/600 [==============================] - 1s 1ms/step - loss: 0.0220 - accuracy: 0.9938 - lr: 0.0022\n",
      "\n",
      "Epoch 5: LearningRateScheduler setting learning rate to 0.001296.\n",
      "Epoch 5/10\n",
      "600/600 [==============================] - 1s 1ms/step - loss: 0.0135 - accuracy: 0.9970 - lr: 0.0013\n",
      "\n",
      "Epoch 6: LearningRateScheduler setting learning rate to 0.0007775999999999998.\n",
      "Epoch 6/10\n",
      "600/600 [==============================] - 1s 1ms/step - loss: 0.0096 - accuracy: 0.9983 - lr: 7.7760e-04\n",
      "\n",
      "Epoch 7: LearningRateScheduler setting learning rate to 0.0004665599999999999.\n",
      "Epoch 7/10\n",
      "600/600 [==============================] - 1s 1ms/step - loss: 0.0076 - accuracy: 0.9990 - lr: 4.6656e-04\n",
      "\n",
      "Epoch 8: LearningRateScheduler setting learning rate to 0.00027993599999999994.\n",
      "Epoch 8/10\n",
      "600/600 [==============================] - 1s 1ms/step - loss: 0.0065 - accuracy: 0.9992 - lr: 2.7994e-04\n",
      "\n",
      "Epoch 9: LearningRateScheduler setting learning rate to 0.00016796159999999993.\n",
      "Epoch 9/10\n",
      "600/600 [==============================] - 1s 1ms/step - loss: 0.0059 - accuracy: 0.9994 - lr: 1.6796e-04\n",
      "\n",
      "Epoch 10: LearningRateScheduler setting learning rate to 0.00010077695999999997.\n",
      "Epoch 10/10\n",
      "600/600 [==============================] - 1s 1ms/step - loss: 0.0055 - accuracy: 0.9995 - lr: 1.0078e-04\n"
     ]
    },
    {
     "data": {
      "text/plain": [
       "<keras.callbacks.History at 0x7feff55d9af0>"
      ]
     },
     "execution_count": 43,
     "metadata": {},
     "output_type": "execute_result"
    }
   ],
   "source": [
    "#tf.keras.models.Sequential().fit()\n",
    "model.fit(x_train,y_train,epochs=10,steps_per_epoch = steps_per_epoch,callbacks=[lr_decay_callback])"
   ]
  },
  {
   "cell_type": "code",
   "execution_count": 20,
   "id": "9a17ba21-dd06-4808-951d-982a2e3dc3c9",
   "metadata": {
    "tags": []
   },
   "outputs": [
    {
     "name": "stdout",
     "output_type": "stream",
     "text": [
      "Model: \"sequential_2\"\n",
      "_________________________________________________________________\n",
      " Layer (type)                Output Shape              Param #   \n",
      "=================================================================\n",
      " flatten_2 (Flatten)         (100, 784)                0         \n",
      "                                                                 \n",
      " dense_8 (Dense)             (100, 200)                157000    \n",
      "                                                                 \n",
      " dense_9 (Dense)             (100, 100)                20100     \n",
      "                                                                 \n",
      " dense_10 (Dense)            (100, 60)                 6060      \n",
      "                                                                 \n",
      " dense_11 (Dense)            (100, 10)                 610       \n",
      "                                                                 \n",
      "=================================================================\n",
      "Total params: 183,770\n",
      "Trainable params: 183,770\n",
      "Non-trainable params: 0\n",
      "_________________________________________________________________\n"
     ]
    }
   ],
   "source": [
    "# print model layers\n",
    "model.summary()"
   ]
  },
  {
   "cell_type": "markdown",
   "id": "f5c2d53a-de1f-4bb7-b832-7466bc910c1b",
   "metadata": {},
   "source": [
    "### Evaluate Loss and Accuracy on Test Set"
   ]
  },
  {
   "cell_type": "code",
   "execution_count": 44,
   "id": "86a34c64-0a37-4fb8-96e8-6459de618646",
   "metadata": {},
   "outputs": [
    {
     "name": "stdout",
     "output_type": "stream",
     "text": [
      "313/313 [==============================] - 0s 760us/step - loss: 0.0766 - accuracy: 0.9787\n",
      "loss:  0.07662101089954376 \n",
      " accuracy:  0.9786999821662903\n"
     ]
    }
   ],
   "source": [
    "val_loss, val_acc = model.evaluate(x_test,y_test)\n",
    "print(\"loss: \",val_loss,\"\\n\",\"accuracy: \",val_acc)"
   ]
  },
  {
   "cell_type": "code",
   "execution_count": 45,
   "id": "dcba98ae-f427-4251-9d53-dd68e4e3c7cb",
   "metadata": {},
   "outputs": [
    {
     "name": "stdout",
     "output_type": "stream",
     "text": [
      "INFO:tensorflow:Assets written to: num_model/assets\n"
     ]
    }
   ],
   "source": [
    "model.save('num_model')"
   ]
  },
  {
   "cell_type": "code",
   "execution_count": 46,
   "id": "ab54eb2c-1cac-4c60-bcd3-378f0f0ea258",
   "metadata": {},
   "outputs": [],
   "source": [
    "new_model = tf.keras.models.load_model('num_model')"
   ]
  },
  {
   "cell_type": "code",
   "execution_count": 47,
   "id": "85f50ee8-d298-4b32-b6f4-322d342b9ffe",
   "metadata": {},
   "outputs": [
    {
     "name": "stdout",
     "output_type": "stream",
     "text": [
      "313/313 [==============================] - 0s 704us/step\n"
     ]
    }
   ],
   "source": [
    "predictions = new_model.predict([x_test])"
   ]
  },
  {
   "cell_type": "code",
   "execution_count": 25,
   "id": "e6b7345d-f4e0-44e5-b382-7dc45f2d6aa0",
   "metadata": {},
   "outputs": [
    {
     "name": "stdout",
     "output_type": "stream",
     "text": [
      "10000\n"
     ]
    }
   ],
   "source": [
    "print(len(x_test))"
   ]
  },
  {
   "cell_type": "code",
   "execution_count": 48,
   "id": "a79807b5-7d27-41ae-9b09-90292db960ff",
   "metadata": {},
   "outputs": [
    {
     "name": "stdout",
     "output_type": "stream",
     "text": [
      "5\n"
     ]
    },
    {
     "data": {
      "image/png": "[encoded data removed]",
      "text/plain": [
       "<Figure size 432x288 with 1 Axes>"
      ]
     },
     "metadata": {
      "needs_background": "light"
     },
     "output_type": "display_data"
    }
   ],
   "source": [
    "for i in range(len(predictions)):\n",
    "    if np.argmax(predictions[i])!=y_test[i]:\n",
    "        print(np.argmax(predictions[i]))\n",
    "        plt.imshow(x_test[i],cmap=plt.cm.binary)\n",
    "        break"
   ]
  },
  {
   "cell_type": "code",
   "execution_count": 49,
   "id": "3b10b6a2-9b2b-4487-897f-51682ea3f643",
   "metadata": {},
   "outputs": [
    {
     "name": "stdout",
     "output_type": "stream",
     "text": [
      "7\n"
     ]
    }
   ],
   "source": [
    "print(np.argmax(predictions[2344]))"
   ]
  },
  {
   "cell_type": "code",
   "execution_count": 50,
   "id": "5c97a3a3-abc5-4602-a4df-ee65fb7e6ee6",
   "metadata": {},
   "outputs": [
    {
     "data": {
      "text/plain": [
       "<matplotlib.image.AxesImage at 0x7ff050379580>"
      ]
     },
     "execution_count": 50,
     "metadata": {},
     "output_type": "execute_result"
    },
    {
     "data": {
      "image/png": "[encoded data removed]",
      "text/plain": [
       "<Figure size 432x288 with 1 Axes>"
      ]
     },
     "metadata": {
      "needs_background": "light"
     },
     "output_type": "display_data"
    }
   ],
   "source": [
    "plt.imshow(x_test[2344],cmap=plt.cm.binary)"
   ]
  },
  {
   "cell_type": "code",
   "execution_count": null,
   "id": "afdca986-06fb-4438-bd7c-51aae6996482",
   "metadata": {},
   "outputs": [],
   "source": []
  }
 ],
 "metadata": {
  "kernelspec": {
   "display_name": "Python 3 (ipykernel)",
   "language": "python",
   "name": "python3"
  },
  "language_info": {
   "codemirror_mode": {
    "name": "ipython",
    "version": 3
   },
   "file_extension": ".py",
   "mimetype": "text/x-python",
   "name": "python",
   "nbconvert_exporter": "python",
   "pygments_lexer": "ipython3",
   "version": "3.9.12"
  }
 },
 "nbformat": 4,
 "nbformat_minor": 5
}
