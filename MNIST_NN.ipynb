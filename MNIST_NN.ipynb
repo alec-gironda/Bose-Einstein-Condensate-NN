{
 "cells": [
  {
   "cell_type": "markdown",
   "id": "88c0beeb-9b55-4ae3-8f6b-536c4561c473",
   "metadata": {
    "tags": []
   },
   "source": [
    "# MNIST Neural Network"
   ]
  },
  {
   "cell_type": "markdown",
   "id": "7825882c-bb31-4ac8-bd3d-a7e4c2adcb93",
   "metadata": {},
   "source": [
    "### Imports"
   ]
  },
  {
   "cell_type": "code",
   "execution_count": 2,
   "id": "d5037303-1a1b-46cb-8338-675348f72d45",
   "metadata": {},
   "outputs": [],
   "source": [
    "import tensorflow as tf\n",
    "import matplotlib.pyplot as plt\n",
    "import numpy as np\n",
    "import math\n",
    "from NN_database import Database\n",
    "import pandas as pd"
   ]
  },
  {
   "cell_type": "markdown",
   "id": "80a0dd20-a204-4f57-a88f-adb99406b141",
   "metadata": {},
   "source": [
    "### Load Data and Create Model"
   ]
  },
  {
   "cell_type": "code",
   "execution_count": 3,
   "id": "4a41ffb2-3cf2-4595-b70e-5b40722b68d7",
   "metadata": {},
   "outputs": [
    {
     "name": "stderr",
     "output_type": "stream",
     "text": [
      "2022-07-15 16:39:24.692494: I tensorflow/core/platform/cpu_feature_guard.cc:193] This TensorFlow binary is optimized with oneAPI Deep Neural Network Library (oneDNN) to use the following CPU instructions in performance-critical operations:  AVX2 FMA\n",
      "To enable them in other operations, rebuild TensorFlow with the appropriate compiler flags.\n"
     ]
    }
   ],
   "source": [
    "mnist = tf.keras.datasets.mnist\n",
    "mnist = mnist.load_data()\n",
    "(x_train,y_train),(x_test,y_test)=mnist\n",
    "x_train,x_test = tf.keras.utils.normalize(x_train,axis=1),tf.keras.utils.normalize(x_test,axis=1)\n",
    "\n",
    "\n",
    "#print(np.shape([1,2,3,4]))\n",
    "\n",
    "#print(np.shape(x_train)) #(60000,28,28)\n",
    "\n",
    "#feed forward NN\n",
    "\n",
    "hidden_units = 200\n",
    "\n",
    "model = tf.keras.models.Sequential()\n",
    "model.add(tf.keras.layers.Flatten())\n",
    "model.add(tf.keras.layers.Dense(hidden_units,activation=tf.nn.relu))\n",
    "# #model.add(tf.keras.layers.Dropout(0.25))\n",
    "# model.add(tf.keras.layers.Dense(100,activation=tf.nn.relu))\n",
    "# #model.add(tf.keras.layers.Dropout(0.25))\n",
    "# model.add(tf.keras.layers.Dense(60,activation=tf.nn.relu))\n",
    "# #model.add(tf.keras.layers.Dropout(0.25))\n",
    "model.add(tf.keras.layers.Dense(10,activation=tf.nn.softmax))\n",
    "\n",
    "optim = tf.keras.optimizers.Adam(learning_rate=0.01)\n",
    "\n",
    "#could try sparse\n",
    "model.compile(optimizer=optim,loss='sparse_categorical_crossentropy',metrics=['accuracy'])\n",
    "\n",
    "steps_per_epoch = len(x_train)//100"
   ]
  },
  {
   "cell_type": "code",
   "execution_count": null,
   "id": "818c0025-981f-492a-a5b1-3b8661258d23",
   "metadata": {},
   "outputs": [],
   "source": [
    "mnist = tf.keras.datasets.mnist\n",
    "mnist = mnist.load_data()\n",
    "(x_train,y_train),(x_test,y_test)=mnist\n",
    "x_train,x_test = tf.keras.utils.normalize(x_train,axis=1),tf.keras.utils.normalize(x_test,axis=1)\n",
    "\n",
    "#print(np.shape([1,2,3,4]))\n",
    "\n",
    "#print(np.shape(x_train)) #(60000,28,28)\n",
    "\n",
    "#feed forward NN\n",
    "\n",
    "hidden_units = 200\n",
    "\n",
    "model = tf.keras.models.Sequential()\n",
    "model.add(tf.keras.layers.Flatten())\n",
    "model.add(tf.keras.layers.Dense(hidden_units,activation=tf.nn.relu))\n",
    "# #model.add(tf.keras.layers.Dropout(0.25))\n",
    "# model.add(tf.keras.layers.Dense(100,activation=tf.nn.relu))\n",
    "# #model.add(tf.keras.layers.Dropout(0.25))\n",
    "# model.add(tf.keras.layers.Dense(60,activation=tf.nn.relu))\n",
    "# #model.add(tf.keras.layers.Dropout(0.25))\n",
    "model.add(tf.keras.layers.Dense(10,activation=tf.nn.softmax))\n",
    "\n",
    "optim = tf.keras.optimizers.Adam(learning_rate=0.01)\n",
    "\n",
    "#could try sparse\n",
    "model.compile(optimizer=optim,loss='sparse_categorical_crossentropy',metrics=['accuracy'])\n",
    "\n",
    "steps_per_epoch = len(x_train)//100"
   ]
  },
  {
   "cell_type": "markdown",
   "id": "f2fad326-1ad9-43ee-bac9-7bba36be1fa1",
   "metadata": {},
   "source": [
    "#### Decaying Learning Rate Function"
   ]
  },
  {
   "cell_type": "code",
   "execution_count": 11,
   "id": "0fa1cf8d-a902-465a-8354-e1ec3137ce42",
   "metadata": {},
   "outputs": [],
   "source": [
    "# lr schedule callback\n",
    "lr_decay_callback = tf.keras.callbacks.LearningRateScheduler(lambda epoch: 0.01 * math.pow(0.6,epoch), verbose=True)\n"
   ]
  },
  {
   "cell_type": "markdown",
   "id": "892b1961-dd29-4474-b582-16a8c6c3d56f",
   "metadata": {},
   "source": [
    "### Train"
   ]
  },
  {
   "cell_type": "code",
   "execution_count": 12,
   "id": "2697238a-a834-403d-bba2-09f573c22521",
   "metadata": {},
   "outputs": [
    {
     "name": "stdout",
     "output_type": "stream",
     "text": [
      "Epoch 1/10\n"
     ]
    },
    {
     "ename": "ValueError",
     "evalue": "in user code:\n\n    File \"/Users/alecgironda/opt/anaconda3/lib/python3.9/site-packages/keras/engine/training.py\", line 1051, in train_function  *\n        return step_function(self, iterator)\n    File \"/Users/alecgironda/opt/anaconda3/lib/python3.9/site-packages/keras/engine/training.py\", line 1040, in step_function  **\n        outputs = model.distribute_strategy.run(run_step, args=(data,))\n    File \"/Users/alecgironda/opt/anaconda3/lib/python3.9/site-packages/keras/engine/training.py\", line 1030, in run_step  **\n        outputs = model.train_step(data)\n    File \"/Users/alecgironda/opt/anaconda3/lib/python3.9/site-packages/keras/engine/training.py\", line 890, in train_step\n        loss = self.compute_loss(x, y, y_pred, sample_weight)\n    File \"/Users/alecgironda/opt/anaconda3/lib/python3.9/site-packages/keras/engine/training.py\", line 948, in compute_loss\n        return self.compiled_loss(\n    File \"/Users/alecgironda/opt/anaconda3/lib/python3.9/site-packages/keras/engine/compile_utils.py\", line 201, in __call__\n        loss_value = loss_obj(y_t, y_p, sample_weight=sw)\n    File \"/Users/alecgironda/opt/anaconda3/lib/python3.9/site-packages/keras/losses.py\", line 139, in __call__\n        losses = call_fn(y_true, y_pred)\n    File \"/Users/alecgironda/opt/anaconda3/lib/python3.9/site-packages/keras/losses.py\", line 243, in call  **\n        return ag_fn(y_true, y_pred, **self._fn_kwargs)\n    File \"/Users/alecgironda/opt/anaconda3/lib/python3.9/site-packages/keras/losses.py\", line 1787, in categorical_crossentropy\n        return backend.categorical_crossentropy(\n    File \"/Users/alecgironda/opt/anaconda3/lib/python3.9/site-packages/keras/backend.py\", line 5119, in categorical_crossentropy\n        target.shape.assert_is_compatible_with(output.shape)\n\n    ValueError: Shapes (100, 1) and (100, 10) are incompatible\n",
     "output_type": "error",
     "traceback": [
      "\u001b[0;31m---------------------------------------------------------------------------\u001b[0m",
      "\u001b[0;31mValueError\u001b[0m                                Traceback (most recent call last)",
      "\u001b[0;32m/var/folders/t2/jy92cy7179l4nr86wtv9ll0r0000gn/T/ipykernel_78285/3921794584.py\u001b[0m in \u001b[0;36m<module>\u001b[0;34m\u001b[0m\n\u001b[1;32m      1\u001b[0m \u001b[0;31m#tf.keras.models.Sequential().fit()\u001b[0m\u001b[0;34m\u001b[0m\u001b[0;34m\u001b[0m\u001b[0m\n\u001b[0;32m----> 2\u001b[0;31m \u001b[0mmodel\u001b[0m\u001b[0;34m.\u001b[0m\u001b[0mfit\u001b[0m\u001b[0;34m(\u001b[0m\u001b[0mx_train\u001b[0m\u001b[0;34m,\u001b[0m\u001b[0my_train\u001b[0m\u001b[0;34m,\u001b[0m\u001b[0mepochs\u001b[0m\u001b[0;34m=\u001b[0m\u001b[0;36m10\u001b[0m\u001b[0;34m,\u001b[0m\u001b[0msteps_per_epoch\u001b[0m \u001b[0;34m=\u001b[0m \u001b[0msteps_per_epoch\u001b[0m\u001b[0;34m)\u001b[0m\u001b[0;31m#callbacks=[lr_decay_callback])\u001b[0m\u001b[0;34m\u001b[0m\u001b[0;34m\u001b[0m\u001b[0m\n\u001b[0m",
      "\u001b[0;32m~/opt/anaconda3/lib/python3.9/site-packages/keras/utils/traceback_utils.py\u001b[0m in \u001b[0;36merror_handler\u001b[0;34m(*args, **kwargs)\u001b[0m\n\u001b[1;32m     65\u001b[0m     \u001b[0;32mexcept\u001b[0m \u001b[0mException\u001b[0m \u001b[0;32mas\u001b[0m \u001b[0me\u001b[0m\u001b[0;34m:\u001b[0m  \u001b[0;31m# pylint: disable=broad-except\u001b[0m\u001b[0;34m\u001b[0m\u001b[0;34m\u001b[0m\u001b[0m\n\u001b[1;32m     66\u001b[0m       \u001b[0mfiltered_tb\u001b[0m \u001b[0;34m=\u001b[0m \u001b[0m_process_traceback_frames\u001b[0m\u001b[0;34m(\u001b[0m\u001b[0me\u001b[0m\u001b[0;34m.\u001b[0m\u001b[0m__traceback__\u001b[0m\u001b[0;34m)\u001b[0m\u001b[0;34m\u001b[0m\u001b[0;34m\u001b[0m\u001b[0m\n\u001b[0;32m---> 67\u001b[0;31m       \u001b[0;32mraise\u001b[0m \u001b[0me\u001b[0m\u001b[0;34m.\u001b[0m\u001b[0mwith_traceback\u001b[0m\u001b[0;34m(\u001b[0m\u001b[0mfiltered_tb\u001b[0m\u001b[0;34m)\u001b[0m \u001b[0;32mfrom\u001b[0m \u001b[0;32mNone\u001b[0m\u001b[0;34m\u001b[0m\u001b[0;34m\u001b[0m\u001b[0m\n\u001b[0m\u001b[1;32m     68\u001b[0m     \u001b[0;32mfinally\u001b[0m\u001b[0;34m:\u001b[0m\u001b[0;34m\u001b[0m\u001b[0;34m\u001b[0m\u001b[0m\n\u001b[1;32m     69\u001b[0m       \u001b[0;32mdel\u001b[0m \u001b[0mfiltered_tb\u001b[0m\u001b[0;34m\u001b[0m\u001b[0;34m\u001b[0m\u001b[0m\n",
      "\u001b[0;32m~/opt/anaconda3/lib/python3.9/site-packages/keras/engine/training.py\u001b[0m in \u001b[0;36mtf__train_function\u001b[0;34m(iterator)\u001b[0m\n\u001b[1;32m     13\u001b[0m                 \u001b[0;32mtry\u001b[0m\u001b[0;34m:\u001b[0m\u001b[0;34m\u001b[0m\u001b[0;34m\u001b[0m\u001b[0m\n\u001b[1;32m     14\u001b[0m                     \u001b[0mdo_return\u001b[0m \u001b[0;34m=\u001b[0m \u001b[0;32mTrue\u001b[0m\u001b[0;34m\u001b[0m\u001b[0;34m\u001b[0m\u001b[0m\n\u001b[0;32m---> 15\u001b[0;31m                     \u001b[0mretval_\u001b[0m \u001b[0;34m=\u001b[0m \u001b[0mag__\u001b[0m\u001b[0;34m.\u001b[0m\u001b[0mconverted_call\u001b[0m\u001b[0;34m(\u001b[0m\u001b[0mag__\u001b[0m\u001b[0;34m.\u001b[0m\u001b[0mld\u001b[0m\u001b[0;34m(\u001b[0m\u001b[0mstep_function\u001b[0m\u001b[0;34m)\u001b[0m\u001b[0;34m,\u001b[0m \u001b[0;34m(\u001b[0m\u001b[0mag__\u001b[0m\u001b[0;34m.\u001b[0m\u001b[0mld\u001b[0m\u001b[0;34m(\u001b[0m\u001b[0mself\u001b[0m\u001b[0;34m)\u001b[0m\u001b[0;34m,\u001b[0m \u001b[0mag__\u001b[0m\u001b[0;34m.\u001b[0m\u001b[0mld\u001b[0m\u001b[0;34m(\u001b[0m\u001b[0miterator\u001b[0m\u001b[0;34m)\u001b[0m\u001b[0;34m)\u001b[0m\u001b[0;34m,\u001b[0m \u001b[0;32mNone\u001b[0m\u001b[0;34m,\u001b[0m \u001b[0mfscope\u001b[0m\u001b[0;34m)\u001b[0m\u001b[0;34m\u001b[0m\u001b[0;34m\u001b[0m\u001b[0m\n\u001b[0m\u001b[1;32m     16\u001b[0m                 \u001b[0;32mexcept\u001b[0m\u001b[0;34m:\u001b[0m\u001b[0;34m\u001b[0m\u001b[0;34m\u001b[0m\u001b[0m\n\u001b[1;32m     17\u001b[0m                     \u001b[0mdo_return\u001b[0m \u001b[0;34m=\u001b[0m \u001b[0;32mFalse\u001b[0m\u001b[0;34m\u001b[0m\u001b[0;34m\u001b[0m\u001b[0m\n",
      "\u001b[0;31mValueError\u001b[0m: in user code:\n\n    File \"/Users/alecgironda/opt/anaconda3/lib/python3.9/site-packages/keras/engine/training.py\", line 1051, in train_function  *\n        return step_function(self, iterator)\n    File \"/Users/alecgironda/opt/anaconda3/lib/python3.9/site-packages/keras/engine/training.py\", line 1040, in step_function  **\n        outputs = model.distribute_strategy.run(run_step, args=(data,))\n    File \"/Users/alecgironda/opt/anaconda3/lib/python3.9/site-packages/keras/engine/training.py\", line 1030, in run_step  **\n        outputs = model.train_step(data)\n    File \"/Users/alecgironda/opt/anaconda3/lib/python3.9/site-packages/keras/engine/training.py\", line 890, in train_step\n        loss = self.compute_loss(x, y, y_pred, sample_weight)\n    File \"/Users/alecgironda/opt/anaconda3/lib/python3.9/site-packages/keras/engine/training.py\", line 948, in compute_loss\n        return self.compiled_loss(\n    File \"/Users/alecgironda/opt/anaconda3/lib/python3.9/site-packages/keras/engine/compile_utils.py\", line 201, in __call__\n        loss_value = loss_obj(y_t, y_p, sample_weight=sw)\n    File \"/Users/alecgironda/opt/anaconda3/lib/python3.9/site-packages/keras/losses.py\", line 139, in __call__\n        losses = call_fn(y_true, y_pred)\n    File \"/Users/alecgironda/opt/anaconda3/lib/python3.9/site-packages/keras/losses.py\", line 243, in call  **\n        return ag_fn(y_true, y_pred, **self._fn_kwargs)\n    File \"/Users/alecgironda/opt/anaconda3/lib/python3.9/site-packages/keras/losses.py\", line 1787, in categorical_crossentropy\n        return backend.categorical_crossentropy(\n    File \"/Users/alecgironda/opt/anaconda3/lib/python3.9/site-packages/keras/backend.py\", line 5119, in categorical_crossentropy\n        target.shape.assert_is_compatible_with(output.shape)\n\n    ValueError: Shapes (100, 1) and (100, 10) are incompatible\n"
     ]
    }
   ],
   "source": [
    "#tf.keras.models.Sequential().fit()\n",
    "model.fit(x_train,y_train,epochs=10,steps_per_epoch = steps_per_epoch)#callbacks=[lr_decay_callback])"
   ]
  },
  {
   "cell_type": "code",
   "execution_count": 5,
   "id": "9a17ba21-dd06-4808-951d-982a2e3dc3c9",
   "metadata": {
    "tags": []
   },
   "outputs": [
    {
     "name": "stdout",
     "output_type": "stream",
     "text": [
      "Model: \"sequential\"\n",
      "_________________________________________________________________\n",
      " Layer (type)                Output Shape              Param #   \n",
      "=================================================================\n",
      " flatten (Flatten)           (100, 784)                0         \n",
      "                                                                 \n",
      " dense (Dense)               (100, 200)                157000    \n",
      "                                                                 \n",
      " dense_1 (Dense)             (100, 10)                 2010      \n",
      "                                                                 \n",
      "=================================================================\n",
      "Total params: 159,010\n",
      "Trainable params: 159,010\n",
      "Non-trainable params: 0\n",
      "_________________________________________________________________\n"
     ]
    }
   ],
   "source": [
    "# print model layers\n",
    "model.summary()"
   ]
  },
  {
   "cell_type": "markdown",
   "id": "f5c2d53a-de1f-4bb7-b832-7466bc910c1b",
   "metadata": {},
   "source": [
    "### Evaluate Loss and Accuracy on Test Set"
   ]
  },
  {
   "cell_type": "code",
   "execution_count": 6,
   "id": "86a34c64-0a37-4fb8-96e8-6459de618646",
   "metadata": {},
   "outputs": [
    {
     "name": "stdout",
     "output_type": "stream",
     "text": [
      "313/313 [==============================] - 1s 2ms/step - loss: 0.0711 - accuracy: 0.9803\n",
      "loss:  0.07105107605457306 \n",
      " accuracy:  0.9803000092506409\n"
     ]
    }
   ],
   "source": [
    "val_loss, val_acc = model.evaluate(x_test,y_test)\n",
    "print(\"loss: \",val_loss,\"\\n\",\"accuracy: \",val_acc)"
   ]
  },
  {
   "cell_type": "code",
   "execution_count": 7,
   "id": "dcba98ae-f427-4251-9d53-dd68e4e3c7cb",
   "metadata": {},
   "outputs": [
    {
     "name": "stdout",
     "output_type": "stream",
     "text": [
      "INFO:tensorflow:Assets written to: num_model/assets\n"
     ]
    }
   ],
   "source": [
    "model.save('num_model')"
   ]
  },
  {
   "cell_type": "code",
   "execution_count": 8,
   "id": "ab54eb2c-1cac-4c60-bcd3-378f0f0ea258",
   "metadata": {},
   "outputs": [],
   "source": [
    "new_model = tf.keras.models.load_model('num_model')"
   ]
  },
  {
   "cell_type": "code",
   "execution_count": 9,
   "id": "85f50ee8-d298-4b32-b6f4-322d342b9ffe",
   "metadata": {},
   "outputs": [
    {
     "name": "stdout",
     "output_type": "stream",
     "text": [
      "313/313 [==============================] - 1s 2ms/step\n"
     ]
    }
   ],
   "source": [
    "predictions = new_model.predict([x_test])"
   ]
  },
  {
   "cell_type": "code",
   "execution_count": 10,
   "id": "e6b7345d-f4e0-44e5-b382-7dc45f2d6aa0",
   "metadata": {},
   "outputs": [
    {
     "name": "stdout",
     "output_type": "stream",
     "text": [
      "10000\n"
     ]
    }
   ],
   "source": [
    "print(len(x_test))"
   ]
  },
  {
   "cell_type": "code",
   "execution_count": 11,
   "id": "a79807b5-7d27-41ae-9b09-90292db960ff",
   "metadata": {},
   "outputs": [
    {
     "name": "stdout",
     "output_type": "stream",
     "text": [
      "8\n"
     ]
    },
    {
     "data": {
      "image/png": "[encoded data removed]",
      "text/plain": [
       "<Figure size 432x288 with 1 Axes>"
      ]
     },
     "metadata": {
      "needs_background": "light"
     },
     "output_type": "display_data"
    }
   ],
   "source": [
    "for i in range(len(predictions)):\n",
    "    if np.argmax(predictions[i])!=y_test[i]:\n",
    "        print(np.argmax(predictions[i]))\n",
    "        plt.imshow(x_test[i],cmap=plt.cm.binary)\n",
    "        break"
   ]
  },
  {
   "cell_type": "code",
   "execution_count": 12,
   "id": "3b10b6a2-9b2b-4487-897f-51682ea3f643",
   "metadata": {},
   "outputs": [
    {
     "name": "stdout",
     "output_type": "stream",
     "text": [
      "1\n"
     ]
    }
   ],
   "source": [
    "print(np.argmax(predictions[9876]))"
   ]
  },
  {
   "cell_type": "code",
   "execution_count": 13,
   "id": "5c97a3a3-abc5-4602-a4df-ee65fb7e6ee6",
   "metadata": {},
   "outputs": [
    {
     "data": {
      "text/plain": [
       "<matplotlib.image.AxesImage at 0x7fe74036a760>"
      ]
     },
     "execution_count": 13,
     "metadata": {},
     "output_type": "execute_result"
    },
    {
     "data": {
      "image/png": "[encoded data removed]",
      "text/plain": [
       "<Figure size 432x288 with 1 Axes>"
      ]
     },
     "metadata": {
      "needs_background": "light"
     },
     "output_type": "display_data"
    }
   ],
   "source": [
    "plt.imshow(x_test[9876],cmap=plt.cm.binary)"
   ]
  },
  {
   "cell_type": "code",
   "execution_count": 3,
   "id": "afdca986-06fb-4438-bd7c-51aae6996482",
   "metadata": {},
   "outputs": [
    {
     "name": "stdout",
     "output_type": "stream",
     "text": [
      "MySQL Database connection successful\n"
     ]
    },
    {
     "data": {
      "text/html": [
       "<div>\n",
       "<style scoped>\n",
       "    .dataframe tbody tr th:only-of-type {\n",
       "        vertical-align: middle;\n",
       "    }\n",
       "\n",
       "    .dataframe tbody tr th {\n",
       "        vertical-align: top;\n",
       "    }\n",
       "\n",
       "    .dataframe thead th {\n",
       "        text-align: right;\n",
       "    }\n",
       "</style>\n",
       "<table border=\"1\" class=\"dataframe\">\n",
       "  <thead>\n",
       "    <tr style=\"text-align: right;\">\n",
       "      <th></th>\n",
       "      <th>nn_id</th>\n",
       "      <th>hidden_units</th>\n",
       "      <th>layers</th>\n",
       "      <th>training_size</th>\n",
       "      <th>learning_rate</th>\n",
       "      <th>decay_lr</th>\n",
       "      <th>dropout</th>\n",
       "      <th>dropout_size</th>\n",
       "      <th>epochs</th>\n",
       "      <th>batch_size</th>\n",
       "      <th>loss</th>\n",
       "      <th>metrics</th>\n",
       "      <th>activation</th>\n",
       "      <th>accuracy</th>\n",
       "    </tr>\n",
       "  </thead>\n",
       "  <tbody>\n",
       "    <tr>\n",
       "      <th>0</th>\n",
       "      <td>1</td>\n",
       "      <td>50</td>\n",
       "      <td>1</td>\n",
       "      <td>60000</td>\n",
       "      <td>0.01</td>\n",
       "      <td>1</td>\n",
       "      <td>1</td>\n",
       "      <td>0.25</td>\n",
       "      <td>10</td>\n",
       "      <td>100</td>\n",
       "      <td>sparse_categorical_crossentropy</td>\n",
       "      <td>accuracy</td>\n",
       "      <td>relu</td>\n",
       "      <td>0.9634</td>\n",
       "    </tr>\n",
       "    <tr>\n",
       "      <th>1</th>\n",
       "      <td>2</td>\n",
       "      <td>100</td>\n",
       "      <td>1</td>\n",
       "      <td>60000</td>\n",
       "      <td>0.01</td>\n",
       "      <td>1</td>\n",
       "      <td>1</td>\n",
       "      <td>0.25</td>\n",
       "      <td>10</td>\n",
       "      <td>100</td>\n",
       "      <td>sparse_categorical_crossentropy</td>\n",
       "      <td>accuracy</td>\n",
       "      <td>relu</td>\n",
       "      <td>0.9756</td>\n",
       "    </tr>\n",
       "    <tr>\n",
       "      <th>2</th>\n",
       "      <td>3</td>\n",
       "      <td>150</td>\n",
       "      <td>1</td>\n",
       "      <td>60000</td>\n",
       "      <td>0.01</td>\n",
       "      <td>1</td>\n",
       "      <td>1</td>\n",
       "      <td>0.25</td>\n",
       "      <td>10</td>\n",
       "      <td>100</td>\n",
       "      <td>sparse_categorical_crossentropy</td>\n",
       "      <td>accuracy</td>\n",
       "      <td>relu</td>\n",
       "      <td>0.9765</td>\n",
       "    </tr>\n",
       "    <tr>\n",
       "      <th>3</th>\n",
       "      <td>4</td>\n",
       "      <td>200</td>\n",
       "      <td>1</td>\n",
       "      <td>60000</td>\n",
       "      <td>0.01</td>\n",
       "      <td>1</td>\n",
       "      <td>1</td>\n",
       "      <td>0.25</td>\n",
       "      <td>10</td>\n",
       "      <td>100</td>\n",
       "      <td>sparse_categorical_crossentropy</td>\n",
       "      <td>accuracy</td>\n",
       "      <td>relu</td>\n",
       "      <td>0.9803</td>\n",
       "    </tr>\n",
       "    <tr>\n",
       "      <th>4</th>\n",
       "      <td>5</td>\n",
       "      <td>250</td>\n",
       "      <td>1</td>\n",
       "      <td>60000</td>\n",
       "      <td>0.01</td>\n",
       "      <td>1</td>\n",
       "      <td>1</td>\n",
       "      <td>0.25</td>\n",
       "      <td>10</td>\n",
       "      <td>100</td>\n",
       "      <td>sparse_categorical_crossentropy</td>\n",
       "      <td>accuracy</td>\n",
       "      <td>relu</td>\n",
       "      <td>0.9807</td>\n",
       "    </tr>\n",
       "    <tr>\n",
       "      <th>5</th>\n",
       "      <td>6</td>\n",
       "      <td>300</td>\n",
       "      <td>1</td>\n",
       "      <td>60000</td>\n",
       "      <td>0.01</td>\n",
       "      <td>1</td>\n",
       "      <td>1</td>\n",
       "      <td>0.25</td>\n",
       "      <td>10</td>\n",
       "      <td>100</td>\n",
       "      <td>sparse_categorical_crossentropy</td>\n",
       "      <td>accuracy</td>\n",
       "      <td>relu</td>\n",
       "      <td>0.9800</td>\n",
       "    </tr>\n",
       "  </tbody>\n",
       "</table>\n",
       "</div>"
      ],
      "text/plain": [
       "   nn_id  hidden_units  layers  training_size  learning_rate  decay_lr  \\\n",
       "0      1            50       1          60000           0.01         1   \n",
       "1      2           100       1          60000           0.01         1   \n",
       "2      3           150       1          60000           0.01         1   \n",
       "3      4           200       1          60000           0.01         1   \n",
       "4      5           250       1          60000           0.01         1   \n",
       "5      6           300       1          60000           0.01         1   \n",
       "\n",
       "   dropout  dropout_size  epochs  batch_size                             loss  \\\n",
       "0        1          0.25      10         100  sparse_categorical_crossentropy   \n",
       "1        1          0.25      10         100  sparse_categorical_crossentropy   \n",
       "2        1          0.25      10         100  sparse_categorical_crossentropy   \n",
       "3        1          0.25      10         100  sparse_categorical_crossentropy   \n",
       "4        1          0.25      10         100  sparse_categorical_crossentropy   \n",
       "5        1          0.25      10         100  sparse_categorical_crossentropy   \n",
       "\n",
       "    metrics activation  accuracy  \n",
       "0  accuracy       relu    0.9634  \n",
       "1  accuracy       relu    0.9756  \n",
       "2  accuracy       relu    0.9765  \n",
       "3  accuracy       relu    0.9803  \n",
       "4  accuracy       relu    0.9807  \n",
       "5  accuracy       relu    0.9800  "
      ]
     },
     "metadata": {},
     "output_type": "display_data"
    }
   ],
   "source": [
    "db = Database()\n",
    "\n",
    "connection = db.create_db_connection(\"localhost\", \"root\", \"Stew2Crew!\", \"mnist_db\")\n",
    "\n",
    "select_all_query = \"SELECT * FROM mnist\"\n",
    "\n",
    "results = db.read_query(connection,select_all_query)\n",
    "\n",
    "from_db = []\n",
    "\n",
    "for result in results:\n",
    "  result = list(result)\n",
    "  from_db.append(result)\n",
    "\n",
    "columns = [\"nn_id\", \"hidden_units\", \"layers\", \"training_size\", \"learning_rate\",\n",
    "            \"decay_lr\",\"dropout\",\"dropout_size\",\"epochs\",\"batch_size\",\"loss\",\n",
    "            \"metrics\",\"activation\",\"accuracy\"]\n",
    "\n",
    "df = pd.DataFrame(from_db, columns=columns)\n",
    "\n",
    "display(df)"
   ]
  },
  {
   "cell_type": "code",
   "execution_count": 4,
   "id": "47d138cf-7c31-4973-8c1b-61054e670226",
   "metadata": {},
   "outputs": [
    {
     "data": {
      "image/png": "[encoded data removed]",
      "text/plain": [
       "<Figure size 432x288 with 1 Axes>"
      ]
     },
     "metadata": {
      "needs_background": "light"
     },
     "output_type": "display_data"
    }
   ],
   "source": [
    "plt.scatter(df[\"hidden_units\"],df[\"accuracy\"])\n",
    "plt.xlabel(\"hidden_units\")\n",
    "plt.ylabel(\"accuracy\")\n",
    "plt.show()"
   ]
  },
  {
   "cell_type": "code",
   "execution_count": 36,
   "id": "2d0e946e-e02e-4cba-8a71-1734f0562201",
   "metadata": {},
   "outputs": [
    {
     "name": "stdout",
     "output_type": "stream",
     "text": [
      "\n",
      "Epoch 1: LearningRateScheduler setting learning rate to 0.01.\n",
      "Epoch 1/10\n",
      "937/937 [==============================] - 76s 81ms/step - loss: 0.1208 - accuracy: 0.9628 - lr: 0.0100\n",
      "\n",
      "Epoch 2: LearningRateScheduler setting learning rate to 0.006.\n",
      "Epoch 2/10\n",
      "937/937 [==============================] - 80s 85ms/step - loss: 0.0520 - accuracy: 0.9842 - lr: 0.0060\n",
      "\n",
      "Epoch 3: LearningRateScheduler setting learning rate to 0.0036.\n",
      "Epoch 3/10\n",
      "937/937 [==============================] - 77s 82ms/step - loss: 0.0322 - accuracy: 0.9899 - lr: 0.0036\n",
      "\n",
      "Epoch 4: LearningRateScheduler setting learning rate to 0.0021599999999999996.\n",
      "Epoch 4/10\n",
      "937/937 [==============================] - 105s 112ms/step - loss: 0.0193 - accuracy: 0.9939 - lr: 0.0022\n",
      "\n",
      "Epoch 5: LearningRateScheduler setting learning rate to 0.001296.\n",
      "Epoch 5/10\n",
      "937/937 [==============================] - 78s 83ms/step - loss: 0.0139 - accuracy: 0.9958 - lr: 0.0013\n",
      "\n",
      "Epoch 6: LearningRateScheduler setting learning rate to 0.0007775999999999998.\n",
      "Epoch 6/10\n",
      "937/937 [==============================] - 76s 81ms/step - loss: 0.0089 - accuracy: 0.9971 - lr: 7.7760e-04\n",
      "\n",
      "Epoch 7: LearningRateScheduler setting learning rate to 0.0004665599999999999.\n",
      "Epoch 7/10\n",
      "937/937 [==============================] - 74s 79ms/step - loss: 0.0071 - accuracy: 0.9979 - lr: 4.6656e-04\n",
      "\n",
      "Epoch 8: LearningRateScheduler setting learning rate to 0.00027993599999999994.\n",
      "Epoch 8/10\n",
      "937/937 [==============================] - 75s 80ms/step - loss: 0.0053 - accuracy: 0.9984 - lr: 2.7994e-04\n",
      "\n",
      "Epoch 9: LearningRateScheduler setting learning rate to 0.00016796159999999993.\n",
      "Epoch 9/10\n",
      "937/937 [==============================] - 75s 80ms/step - loss: 0.0045 - accuracy: 0.9989 - lr: 1.6796e-04\n",
      "\n",
      "Epoch 10: LearningRateScheduler setting learning rate to 0.00010077695999999997.\n",
      "Epoch 10/10\n",
      "806/937 [========================>.....] - ETA: 10s - loss: 0.0045 - accuracy: 0.9986WARNING:tensorflow:Your input ran out of data; interrupting training. Make sure that your dataset or generator can generate at least `steps_per_epoch * epochs` batches (in this case, 9370 batches). You may need to use the repeat() function when building your dataset.\n",
      "937/937 [==============================] - 65s 70ms/step - loss: 0.0045 - accuracy: 0.9986 - lr: 1.0078e-04\n"
     ]
    },
    {
     "data": {
      "text/plain": [
       "<keras.callbacks.History at 0x7f7d15ae0760>"
      ]
     },
     "execution_count": 36,
     "metadata": {},
     "output_type": "execute_result"
    }
   ],
   "source": [
    "mnist = tf.keras.datasets.mnist\n",
    "mnist = mnist.load_data()\n",
    "(x_train,y_train),(x_test,y_test)=mnist\n",
    "x_train,x_test = tf.keras.utils.normalize(x_train,axis=1),tf.keras.utils.normalize(x_test,axis=1)\n",
    "\n",
    "x_train = x_train.reshape((x_train.shape[0], 28, 28, 1))\n",
    "x_test = x_test.reshape((x_test.shape[0], 28, 28, 1))\n",
    "\n",
    "model = tf.keras.Sequential(\n",
    "  [      \n",
    "      tf.keras.layers.Conv2D(kernel_size=3, filters=12, use_bias=False, padding='same'),\n",
    "      tf.keras.layers.BatchNormalization(center=True, scale=False),\n",
    "      tf.keras.layers.Activation('relu'),\n",
    "      \n",
    "      tf.keras.layers.Conv2D(kernel_size=6, filters=24, use_bias=False, padding='same', strides=2),\n",
    "      tf.keras.layers.BatchNormalization(center=True, scale=False),\n",
    "      tf.keras.layers.Activation('relu'),\n",
    "      \n",
    "      tf.keras.layers.Conv2D(kernel_size=6, filters=32, use_bias=False, padding='same', strides=2),\n",
    "      tf.keras.layers.BatchNormalization(center=True, scale=False),\n",
    "      tf.keras.layers.Activation('relu'),\n",
    "      \n",
    "      tf.keras.layers.Flatten(),\n",
    "      \n",
    "      tf.keras.layers.Dense(200, use_bias=False),\n",
    "      tf.keras.layers.BatchNormalization(center=True, scale=False),\n",
    "      tf.keras.layers.Activation('relu'),\n",
    "      \n",
    "      tf.keras.layers.Dropout(0.3),\n",
    "      tf.keras.layers.Dense(10, activation='softmax')\n",
    "  ])\n",
    "\n",
    "model.compile(optimizer=tf.keras.optimizers.Adam(lr=0.01),\n",
    "              loss='categorical_crossentropy',\n",
    "              metrics=['accuracy'])\n",
    "\n",
    "optim = tf.keras.optimizers.Adam(learning_rate=0.01)\n",
    "\n",
    "model.compile(optimizer=optim,loss='sparse_categorical_crossentropy',metrics=['accuracy'])\n",
    "\n",
    "steps_per_epoch = len(x_train)//64\n",
    "\n",
    "model.fit(x_train,y_train,epochs=10,steps_per_epoch = steps_per_epoch,callbacks=[lr_decay_callback])"
   ]
  },
  {
   "cell_type": "code",
   "execution_count": 37,
   "id": "575e9c39-9165-4630-afd9-310a9f177622",
   "metadata": {},
   "outputs": [
    {
     "name": "stdout",
     "output_type": "stream",
     "text": [
      "313/313 [==============================] - 2s 7ms/step - loss: 0.0178 - accuracy: 0.9943\n",
      "0.9943000078201294\n"
     ]
    }
   ],
   "source": [
    "val_loss, val_acc = model.evaluate(x_test,y_test)\n",
    "print(val_acc)"
   ]
  },
  {
   "cell_type": "code",
   "execution_count": 40,
   "id": "19e8a338-1ca5-4bb7-bf15-ca3ae1b59c24",
   "metadata": {},
   "outputs": [
    {
     "name": "stderr",
     "output_type": "stream",
     "text": [
      "WARNING:absl:Found untraced functions such as _jit_compiled_convolution_op, _jit_compiled_convolution_op, _jit_compiled_convolution_op while saving (showing 3 of 3). These functions will not be directly callable after loading.\n"
     ]
    },
    {
     "name": "stdout",
     "output_type": "stream",
     "text": [
      "INFO:tensorflow:Assets written to: num_model/assets\n"
     ]
    },
    {
     "name": "stderr",
     "output_type": "stream",
     "text": [
      "INFO:tensorflow:Assets written to: num_model/assets\n"
     ]
    }
   ],
   "source": [
    "model.save('num_model')"
   ]
  },
  {
   "cell_type": "code",
   "execution_count": 41,
   "id": "42e2104f-57e3-4ecd-b1b4-45368e91b036",
   "metadata": {},
   "outputs": [],
   "source": [
    "new_model = tf.keras.models.load_model('num_model')"
   ]
  },
  {
   "cell_type": "code",
   "execution_count": 42,
   "id": "56b49fc8-ee16-43e1-b6e9-32c0e5e520aa",
   "metadata": {},
   "outputs": [
    {
     "name": "stdout",
     "output_type": "stream",
     "text": [
      "313/313 [==============================] - 2s 6ms/step\n"
     ]
    }
   ],
   "source": [
    "predictions = new_model.predict([x_test])"
   ]
  },
  {
   "cell_type": "code",
   "execution_count": 45,
   "id": "f2eddba6-dc7c-4648-bc0d-216510826303",
   "metadata": {},
   "outputs": [
    {
     "name": "stdout",
     "output_type": "stream",
     "text": [
      "7\n"
     ]
    },
    {
     "data": {
      "text/plain": [
       "<matplotlib.image.AxesImage at 0x7f7d1832b250>"
      ]
     },
     "execution_count": 45,
     "metadata": {},
     "output_type": "execute_result"
    },
    {
     "data": {
      "image/png": "[encoded data removed]",
      "text/plain": [
       "<Figure size 432x288 with 1 Axes>"
      ]
     },
     "metadata": {
      "needs_background": "light"
     },
     "output_type": "display_data"
    }
   ],
   "source": [
    "print(np.argmax(predictions[234]))\n",
    "plt.imshow(x_test[234],cmap=plt.cm.binary)"
   ]
  },
  {
   "cell_type": "code",
   "execution_count": null,
   "id": "09351ee1-5b4d-4a4a-880a-723309e2e64e",
   "metadata": {},
   "outputs": [],
   "source": []
  }
 ],
 "metadata": {
  "kernelspec": {
   "display_name": "Python 3 (ipykernel)",
   "language": "python",
   "name": "python3"
  },
  "language_info": {
   "codemirror_mode": {
    "name": "ipython",
    "version": 3
   },
   "file_extension": ".py",
   "mimetype": "text/x-python",
   "name": "python",
   "nbconvert_exporter": "python",
   "pygments_lexer": "ipython3",
   "version": "3.9.7"
  }
 },
 "nbformat": 4,
 "nbformat_minor": 5
}
