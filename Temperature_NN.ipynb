{
 "cells": [
  {
   "cell_type": "markdown",
   "id": "91ff7721-0cb5-4292-b81b-8fceb567d9e2",
   "metadata": {},
   "source": [
    "# Temperature NN"
   ]
  },
  {
   "cell_type": "markdown",
   "id": "c5350010-a532-4171-a902-69b13536b8f0",
   "metadata": {},
   "source": [
    "### Imports"
   ]
  },
  {
   "cell_type": "code",
   "execution_count": 4,
   "id": "5c7d3066-c2c8-4b1d-8166-45c87fe2974a",
   "metadata": {},
   "outputs": [],
   "source": [
    "import tensorflow as tf\n",
    "import numpy as np\n",
    "import pandas as pd\n",
    "import math\n",
    "import matplotlib.pyplot as plt\n",
    "import random\n",
    "from generate_temp_nn_data import GenerateData"
   ]
  },
  {
   "cell_type": "markdown",
   "id": "acb72a0c-a8a7-4377-be50-fe65b63cf327",
   "metadata": {},
   "source": [
    "### Generate Training Data and Test Data"
   ]
  },
  {
   "cell_type": "code",
   "execution_count": 5,
   "id": "214551a2-4674-42e4-adc6-d96670be6270",
   "metadata": {},
   "outputs": [
    {
     "name": "stdout",
     "output_type": "stream",
     "text": [
      "--- 0.014358997344970703 seconds ---\n"
     ]
    }
   ],
   "source": [
    "generate = GenerateData(50,25)"
   ]
  },
  {
   "cell_type": "markdown",
   "id": "182e0698-9e51-4f09-a9fe-72c23ff0f5de",
   "metadata": {},
   "source": [
    "### Compile Basic Feed Forward NN"
   ]
  },
  {
   "cell_type": "code",
   "execution_count": 6,
   "id": "d0254827-c0e9-4f50-8ea2-627bbd414022",
   "metadata": {},
   "outputs": [
    {
     "name": "stdout",
     "output_type": "stream",
     "text": [
      "Metal device set to: Apple M2\n"
     ]
    },
    {
     "name": "stderr",
     "output_type": "stream",
     "text": [
      "2022-07-25 15:02:31.650987: I tensorflow/core/common_runtime/pluggable_device/pluggable_device_factory.cc:305] Could not identify NUMA node of platform GPU ID 0, defaulting to 0. Your kernel may not have been built with NUMA support.\n",
      "2022-07-25 15:02:31.651825: I tensorflow/core/common_runtime/pluggable_device/pluggable_device_factory.cc:271] Created TensorFlow device (/job:localhost/replica:0/task:0/device:GPU:0 with 0 MB memory) -> physical PluggableDevice (device: 0, name: METAL, pci bus id: <undefined>)\n"
     ]
    }
   ],
   "source": [
    "model = tf.keras.models.Sequential()\n",
    "model.add(tf.keras.layers.Flatten())\n",
    "model.add(tf.keras.layers.Dense(200,activation=tf.nn.relu))\n",
    "model.add(tf.keras.layers.Dense(4,activation=tf.nn.softmax))\n",
    "\n",
    "optim = tf.keras.optimizers.Adam(learning_rate=0.01)\n",
    "model.compile(optimizer=optim,loss='sparse_categorical_crossentropy',metrics=['accuracy'])"
   ]
  },
  {
   "cell_type": "markdown",
   "id": "ae4ff19f-95aa-43a9-adc2-09b76b902b6d",
   "metadata": {},
   "source": [
    "### Train"
   ]
  },
  {
   "cell_type": "code",
   "execution_count": 7,
   "id": "3c7b7e1d-7e21-46f4-ab37-84349703e4a2",
   "metadata": {},
   "outputs": [
    {
     "name": "stdout",
     "output_type": "stream",
     "text": [
      "Epoch 1/10\n"
     ]
    },
    {
     "name": "stderr",
     "output_type": "stream",
     "text": [
      "2022-07-25 15:02:35.981413: W tensorflow/core/platform/profile_utils/cpu_utils.cc:128] Failed to get CPU frequency: 0 Hz\n",
      "2022-07-25 15:02:36.154785: I tensorflow/core/grappler/optimizers/custom_graph_optimizer_registry.cc:113] Plugin optimizer for device_type GPU is enabled.\n"
     ]
    },
    {
     "name": "stdout",
     "output_type": "stream",
     "text": [
      "2/2 [==============================] - 0s 18ms/step - loss: 1.3758 - accuracy: 0.2083\n",
      "Epoch 2/10\n",
      "2/2 [==============================] - 0s 7ms/step - loss: 1.2269 - accuracy: 0.5208\n",
      "Epoch 3/10\n",
      "2/2 [==============================] - 0s 4ms/step - loss: 1.1113 - accuracy: 0.6667\n",
      "Epoch 4/10\n",
      "2/2 [==============================] - 0s 7ms/step - loss: 1.0032 - accuracy: 0.8125\n",
      "Epoch 5/10\n",
      "2/2 [==============================] - 0s 5ms/step - loss: 0.9040 - accuracy: 0.9792\n",
      "Epoch 6/10\n",
      "2/2 [==============================] - 0s 5ms/step - loss: 0.8141 - accuracy: 0.9583\n",
      "Epoch 7/10\n",
      "2/2 [==============================] - 0s 4ms/step - loss: 0.7364 - accuracy: 0.9167\n",
      "Epoch 8/10\n",
      "2/2 [==============================] - 0s 4ms/step - loss: 0.6609 - accuracy: 0.9583\n",
      "Epoch 9/10\n",
      "2/2 [==============================] - 0s 4ms/step - loss: 0.5958 - accuracy: 1.0000\n",
      "Epoch 10/10\n",
      "2/2 [==============================] - 0s 4ms/step - loss: 0.5407 - accuracy: 1.0000\n"
     ]
    },
    {
     "data": {
      "text/plain": [
       "<keras.callbacks.History at 0x169a7fb20>"
      ]
     },
     "execution_count": 7,
     "metadata": {},
     "output_type": "execute_result"
    }
   ],
   "source": [
    "model.fit(generate.x_train,generate.y_train,epochs=10)"
   ]
  },
  {
   "cell_type": "markdown",
   "id": "948676e2-a948-4fef-8deb-4841ae26a08f",
   "metadata": {},
   "source": [
    "### Evaluate Loss and Accuracy on Test Set"
   ]
  },
  {
   "cell_type": "code",
   "execution_count": 8,
   "id": "5b647b8a-952e-43b7-82c5-f9c0d43456dc",
   "metadata": {},
   "outputs": [
    {
     "name": "stdout",
     "output_type": "stream",
     "text": [
      "1/1 [==============================] - 0s 88ms/step - loss: 0.5117 - accuracy: 1.0000\n",
      "loss:  0.5116863250732422 \n",
      " accuracy:  1.0\n"
     ]
    },
    {
     "name": "stderr",
     "output_type": "stream",
     "text": [
      "2022-07-25 15:02:40.625884: I tensorflow/core/grappler/optimizers/custom_graph_optimizer_registry.cc:113] Plugin optimizer for device_type GPU is enabled.\n"
     ]
    }
   ],
   "source": [
    "val_loss, val_acc = model.evaluate(generate.x_test,generate.y_test)\n",
    "print(\"loss: \",val_loss,\"\\n\",\"accuracy: \",val_acc)"
   ]
  },
  {
   "cell_type": "code",
   "execution_count": 9,
   "id": "cd308778-7082-4e3b-8724-cd11bd46dd55",
   "metadata": {},
   "outputs": [
    {
     "name": "stdout",
     "output_type": "stream",
     "text": [
      "INFO:tensorflow:Assets written to: num_model/assets\n",
      "(24, 7, 7)\n",
      "1/1 [==============================] - 0s 32ms/step\n"
     ]
    },
    {
     "name": "stderr",
     "output_type": "stream",
     "text": [
      "2022-07-25 15:02:44.298373: I tensorflow/core/grappler/optimizers/custom_graph_optimizer_registry.cc:113] Plugin optimizer for device_type GPU is enabled.\n"
     ]
    }
   ],
   "source": [
    "model.save('num_model')\n",
    "new_model = tf.keras.models.load_model('num_model')\n",
    "print(np.shape(generate.x_test))\n",
    "predictions = new_model.predict(generate.x_test)"
   ]
  },
  {
   "cell_type": "code",
   "execution_count": 10,
   "id": "d8b9ce9b-21e9-4151-a2d5-14711f8fb7b9",
   "metadata": {},
   "outputs": [
    {
     "name": "stdout",
     "output_type": "stream",
     "text": [
      "3\n"
     ]
    },
    {
     "data": {
      "text/plain": [
       "<matplotlib.image.AxesImage at 0x2936e2590>"
      ]
     },
     "execution_count": 10,
     "metadata": {},
     "output_type": "execute_result"
    },
    {
     "data": {
      "image/png": "[encoded data removed]",
      "text/plain": [
       "<Figure size 432x288 with 1 Axes>"
      ]
     },
     "metadata": {
      "needs_background": "light"
     },
     "output_type": "display_data"
    }
   ],
   "source": [
    "predict_data_point = 13\n",
    "print(np.argmax(predictions[predict_data_point]))\n",
    "plt.imshow(generate.x_test[predict_data_point],cmap=plt.cm.binary)"
   ]
  },
  {
   "cell_type": "code",
   "execution_count": null,
   "id": "0577f343-46fd-495a-b330-dc82d0a76bcb",
   "metadata": {},
   "outputs": [],
   "source": []
  }
 ],
 "metadata": {
  "kernelspec": {
   "display_name": "Python 3 (ipykernel)",
   "language": "python",
   "name": "python3"
  },
  "language_info": {
   "codemirror_mode": {
    "name": "ipython",
    "version": 3
   },
   "file_extension": ".py",
   "mimetype": "text/x-python",
   "name": "python",
   "nbconvert_exporter": "python",
   "pygments_lexer": "ipython3",
   "version": "3.10.5"
  }
 },
 "nbformat": 4,
 "nbformat_minor": 5
}
