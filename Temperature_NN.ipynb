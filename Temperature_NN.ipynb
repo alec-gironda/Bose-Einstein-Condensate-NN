{
 "cells": [
  {
   "cell_type": "markdown",
   "id": "91ff7721-0cb5-4292-b81b-8fceb567d9e2",
   "metadata": {},
   "source": [
    "# Temperature NN"
   ]
  },
  {
   "cell_type": "markdown",
   "id": "c5350010-a532-4171-a902-69b13536b8f0",
   "metadata": {},
   "source": [
    "### Imports"
   ]
  },
  {
   "cell_type": "code",
   "execution_count": 1,
   "id": "5c7d3066-c2c8-4b1d-8166-45c87fe2974a",
   "metadata": {},
   "outputs": [],
   "source": [
    "import tensorflow as tf\n",
    "import numpy as np\n",
    "import pandas as pd\n",
    "import math\n",
    "import matplotlib.pyplot as plt\n",
    "import random\n",
    "from generate_temp_nn_data import GenerateData"
   ]
  },
  {
   "cell_type": "markdown",
   "id": "acb72a0c-a8a7-4377-be50-fe65b63cf327",
   "metadata": {},
   "source": [
    "### Generate Training Data and Test Data"
   ]
  },
  {
   "cell_type": "code",
   "execution_count": 2,
   "id": "214551a2-4674-42e4-adc6-d96670be6270",
   "metadata": {},
   "outputs": [
    {
     "name": "stdout",
     "output_type": "stream",
     "text": [
      "--- 0.16530203819274902 seconds ---\n"
     ]
    }
   ],
   "source": [
    "generate = GenerateData(1000,500,0,7)"
   ]
  },
  {
   "cell_type": "markdown",
   "id": "e3a2d360-0916-4256-a939-be0654f5925a",
   "metadata": {},
   "source": [
    "#### Example Images"
   ]
  },
  {
   "cell_type": "code",
   "execution_count": 35,
   "id": "c8ce274d-9e91-4e32-9e36-05a377a30f58",
   "metadata": {},
   "outputs": [
    {
     "data": {
      "image/png": "[encoded data removed]",
      "text/plain": [
       "<Figure size 432x288 with 1 Axes>"
      ]
     },
     "metadata": {
      "needs_background": "light"
     },
     "output_type": "display_data"
    }
   ],
   "source": [
    "# T = 0.5\n",
    "for i in range(len(generate.y_train)):\n",
    "    if generate.y_train[i]==0:\n",
    "        plt.imshow(generate.x_train[i],cmap=plt.cm.binary)\n",
    "        break"
   ]
  },
  {
   "cell_type": "code",
   "execution_count": 36,
   "id": "620cf24c-1de8-4c85-b012-9d29d2f1d17b",
   "metadata": {},
   "outputs": [
    {
     "data": {
      "image/png": "[encoded data removed]",
      "text/plain": [
       "<Figure size 432x288 with 1 Axes>"
      ]
     },
     "metadata": {
      "needs_background": "light"
     },
     "output_type": "display_data"
    }
   ],
   "source": [
    "# T = 1\n",
    "for i in range(len(generate.y_train)):\n",
    "    if generate.y_train[i]==1:\n",
    "        plt.imshow(generate.x_train[i],cmap=plt.cm.binary)\n",
    "        break"
   ]
  },
  {
   "cell_type": "code",
   "execution_count": 37,
   "id": "3c5aa2f3-717b-48cb-afd4-2d4dda04b729",
   "metadata": {},
   "outputs": [
    {
     "data": {
      "image/png": "[encoded data removed]",
      "text/plain": [
       "<Figure size 432x288 with 1 Axes>"
      ]
     },
     "metadata": {
      "needs_background": "light"
     },
     "output_type": "display_data"
    }
   ],
   "source": [
    "# T = 1.5\n",
    "for i in range(len(generate.y_train)):\n",
    "    if generate.y_train[i]==2:\n",
    "        plt.imshow(generate.x_train[i],cmap=plt.cm.binary)\n",
    "        break"
   ]
  },
  {
   "cell_type": "code",
   "execution_count": 38,
   "id": "d0b1963a-ccf5-4d7d-98c0-502a1183a0e9",
   "metadata": {},
   "outputs": [
    {
     "data": {
      "image/png": "[encoded data removed]",
      "text/plain": [
       "<Figure size 432x288 with 1 Axes>"
      ]
     },
     "metadata": {
      "needs_background": "light"
     },
     "output_type": "display_data"
    }
   ],
   "source": [
    "# T = 2\n",
    "for i in range(len(generate.y_train)):\n",
    "    if generate.y_train[i]==3:\n",
    "        plt.imshow(generate.x_train[i],cmap=plt.cm.binary)\n",
    "        break"
   ]
  },
  {
   "cell_type": "code",
   "execution_count": 39,
   "id": "90908900-42b2-44a0-9a17-141be7aa27b7",
   "metadata": {},
   "outputs": [
    {
     "name": "stdout",
     "output_type": "stream",
     "text": [
      "[[4.096141568885476e-06, 0.00011482150397387345, 0.0008484225342265391, 0.0016525014511109062, 0.0008484225342265391, 0.00011482150397387345, 4.096141568885476e-06], [0.00011482150397387343, 0.003218633329220962, 0.023782662231501606, 0.046322300815201035, 0.023782662231501606, 0.003218633329220962, 0.00011482150397387343], [0.0008484225342265391, 0.023782662231501606, 0.1757314254104845, 0.3422780793550613, 0.1757314254104845, 0.023782662231501606, 0.0008484225342265391], [0.0016525014511109062, 0.046322300815201035, 0.3422780793550613, 0.6666666666666666, 0.3422780793550613, 0.046322300815201035, 0.0016525014511109062], [0.0008484225342265391, 0.023782662231501606, 0.1757314254104845, 0.3422780793550613, 0.1757314254104845, 0.023782662231501606, 0.0008484225342265391], [0.00011482150397387343, 0.003218633329220962, 0.023782662231501606, 0.046322300815201035, 0.023782662231501606, 0.003218633329220962, 0.00011482150397387343], [4.096141568885476e-06, 0.00011482150397387345, 0.0008484225342265391, 0.0016525014511109062, 0.0008484225342265391, 0.00011482150397387345, 4.096141568885476e-06]]\n"
     ]
    }
   ],
   "source": [
    "print(generate.x_train[0])"
   ]
  },
  {
   "cell_type": "markdown",
   "id": "182e0698-9e51-4f09-a9fe-72c23ff0f5de",
   "metadata": {},
   "source": [
    "### Compile Basic Feed Forward NN"
   ]
  },
  {
   "cell_type": "code",
   "execution_count": 26,
   "id": "d0254827-c0e9-4f50-8ea2-627bbd414022",
   "metadata": {},
   "outputs": [],
   "source": [
    "model = tf.keras.models.Sequential()\n",
    "model.add(tf.keras.layers.Flatten())\n",
    "model.add(tf.keras.layers.Dense(200,activation=tf.nn.relu))\n",
    "model.add(tf.keras.layers.Dense(4,activation=tf.nn.softmax))\n",
    "\n",
    "optim = tf.keras.optimizers.Adam(learning_rate=0.01)\n",
    "model.compile(optimizer=optim,loss='sparse_categorical_crossentropy',metrics=['accuracy'])"
   ]
  },
  {
   "cell_type": "code",
   "execution_count": 40,
   "id": "64a2211d-1194-47ce-8f92-285420bc8a2c",
   "metadata": {},
   "outputs": [],
   "source": [
    "model = tf.keras.Sequential()\n",
    "\n",
    "model.add(tf.keras.layers.Conv2D(kernel_size=3,filters=12,use_bias=False,padding='same'))\n",
    "model.add(tf.keras.layers.BatchNormalization(center=True,scale=False))\n",
    "model.add(tf.keras.layers.Activation(\"relu\"))\n",
    "\n",
    "model.add(tf.keras.layers.Conv2D(kernel_size=6,filters=24,use_bias=False,padding='same',strides=2))\n",
    "model.add(tf.keras.layers.BatchNormalization(center=True,scale=False))\n",
    "model.add(tf.keras.layers.Activation(\"relu\"))\n",
    "\n",
    "\n",
    "model.add(tf.keras.layers.Conv2D(kernel_size=6,filters=32,use_bias=False,padding='same',strides=2))\n",
    "model.add(tf.keras.layers.BatchNormalization(center=True,scale=False))\n",
    "model.add(tf.keras.layers.Activation(\"relu\"))\n",
    "\n",
    "model.add(tf.keras.layers.Flatten())\n",
    "model.add(tf.keras.layers.Dense(200,use_bias=False))\n",
    "model.add(tf.keras.layers.BatchNormalization(center=True,scale=False))\n",
    "model.add(tf.keras.layers.Activation(\"relu\"))\n",
    "\n",
    "model.add(tf.keras.layers.Dropout(0.3))\n",
    "model.add(tf.keras.layers.Dense(4,activation=tf.nn.softmax))\n",
    "\n",
    "optimizer = tf.keras.optimizers.Adam(learning_rate=0.01)\n",
    "\n",
    "model.compile(optimizer=optimizer,loss=\"sparse_categorical_crossentropy\",metrics=[\"accuracy\"])\n",
    "\n",
    "x_train = np.asarray(generate.x_train)\n",
    "x_test = np.asarray(generate.x_test)\n",
    "\n",
    "x_test = x_test.reshape((x_test.shape[0], 7, 7, 1)).tolist()\n",
    "x_train = x_train.reshape((x_train.shape[0], 7, 7, 1)).tolist()"
   ]
  },
  {
   "cell_type": "markdown",
   "id": "ae4ff19f-95aa-43a9-adc2-09b76b902b6d",
   "metadata": {},
   "source": [
    "### Train"
   ]
  },
  {
   "cell_type": "code",
   "execution_count": null,
   "id": "3c7b7e1d-7e21-46f4-ab37-84349703e4a2",
   "metadata": {},
   "outputs": [
    {
     "name": "stdout",
     "output_type": "stream",
     "text": [
      "Epoch 1/32\n",
      "32/32 [==============================] - 0s 7ms/step - loss: 0.0513 - accuracy: 0.9820\n",
      "Epoch 2/32\n",
      "32/32 [==============================] - 0s 8ms/step - loss: 0.0060 - accuracy: 0.9990\n",
      "Epoch 3/32\n",
      "32/32 [==============================] - 0s 9ms/step - loss: 0.1551 - accuracy: 0.9760\n",
      "Epoch 4/32\n",
      "32/32 [==============================] - 0s 8ms/step - loss: 0.0717 - accuracy: 0.9690\n",
      "Epoch 5/32\n",
      "32/32 [==============================] - 0s 8ms/step - loss: 0.0943 - accuracy: 0.9660\n",
      "Epoch 6/32\n",
      "32/32 [==============================] - 0s 8ms/step - loss: 0.0079 - accuracy: 1.0000\n",
      "Epoch 7/32\n",
      "32/32 [==============================] - 0s 8ms/step - loss: 0.0186 - accuracy: 0.9970\n",
      "Epoch 8/32\n",
      "32/32 [==============================] - 0s 8ms/step - loss: 0.0499 - accuracy: 0.9830\n",
      "Epoch 9/32\n",
      "32/32 [==============================] - 0s 8ms/step - loss: 0.0487 - accuracy: 0.9790\n",
      "Epoch 10/32\n",
      "32/32 [==============================] - 0s 8ms/step - loss: 0.0109 - accuracy: 0.9980\n",
      "Epoch 11/32\n",
      "32/32 [==============================] - 0s 8ms/step - loss: 0.0011 - accuracy: 1.0000\n",
      "Epoch 12/32\n",
      "32/32 [==============================] - 0s 9ms/step - loss: 8.7406e-04 - accuracy: 1.0000\n",
      "Epoch 13/32\n",
      "32/32 [==============================] - 0s 8ms/step - loss: 7.3838e-04 - accuracy: 1.0000\n",
      "Epoch 14/32\n",
      "32/32 [==============================] - 0s 9ms/step - loss: 0.0047 - accuracy: 0.9980\n",
      "Epoch 15/32\n",
      "32/32 [==============================] - 0s 8ms/step - loss: 0.0766 - accuracy: 0.9710\n",
      "Epoch 16/32\n",
      "32/32 [==============================] - 0s 8ms/step - loss: 0.1450 - accuracy: 0.9730\n",
      "Epoch 17/32\n",
      "32/32 [==============================] - 0s 9ms/step - loss: 0.0118 - accuracy: 0.9980\n",
      "Epoch 18/32\n",
      "32/32 [==============================] - 0s 8ms/step - loss: 0.0017 - accuracy: 1.0000\n",
      "Epoch 19/32\n",
      "32/32 [==============================] - 0s 8ms/step - loss: 0.0014 - accuracy: 1.0000\n",
      "Epoch 20/32\n",
      "32/32 [==============================] - 0s 9ms/step - loss: 0.0038 - accuracy: 1.0000\n",
      "Epoch 21/32\n",
      "19/32 [================>.............] - ETA: 0s - loss: 1.0917e-04 - accuracy: 1.0000"
     ]
    }
   ],
   "source": [
    "model.fit(x_train,generate.y_train,epochs=32)"
   ]
  },
  {
   "cell_type": "markdown",
   "id": "948676e2-a948-4fef-8deb-4841ae26a08f",
   "metadata": {},
   "source": [
    "### Evaluate Loss and Accuracy on Test Set"
   ]
  },
  {
   "cell_type": "code",
   "execution_count": 46,
   "id": "5b647b8a-952e-43b7-82c5-f9c0d43456dc",
   "metadata": {},
   "outputs": [
    {
     "name": "stdout",
     "output_type": "stream",
     "text": [
      "32/32 [==============================] - 0s 4ms/step - loss: 0.7346 - accuracy: 0.7500\n",
      "loss:  0.7345924377441406 \n",
      " accuracy:  0.7500000596046448\n"
     ]
    }
   ],
   "source": [
    "val_loss, val_acc = model.evaluate(x_train,generate.y_train)\n",
    "print(\"loss: \",val_loss,\"\\n\",\"accuracy: \",val_acc)"
   ]
  },
  {
   "cell_type": "code",
   "execution_count": 6,
   "id": "cd308778-7082-4e3b-8724-cd11bd46dd55",
   "metadata": {},
   "outputs": [
    {
     "name": "stderr",
     "output_type": "stream",
     "text": [
      "WARNING:absl:Found untraced functions such as _jit_compiled_convolution_op, _jit_compiled_convolution_op, _jit_compiled_convolution_op while saving (showing 3 of 3). These functions will not be directly callable after loading.\n"
     ]
    },
    {
     "name": "stdout",
     "output_type": "stream",
     "text": [
      "INFO:tensorflow:Assets written to: num_model/assets\n"
     ]
    },
    {
     "name": "stderr",
     "output_type": "stream",
     "text": [
      "INFO:tensorflow:Assets written to: num_model/assets\n"
     ]
    },
    {
     "name": "stdout",
     "output_type": "stream",
     "text": [
      "16/16 [==============================] - 0s 3ms/step\n"
     ]
    },
    {
     "name": "stderr",
     "output_type": "stream",
     "text": [
      "2022-07-28 15:40:08.799893: I tensorflow/core/grappler/optimizers/custom_graph_optimizer_registry.cc:113] Plugin optimizer for device_type GPU is enabled.\n"
     ]
    }
   ],
   "source": [
    "model.save('num_model')\n",
    "new_model = tf.keras.models.load_model('num_model')\n",
    "predictions = new_model.predict(generate.x_test)"
   ]
  },
  {
   "cell_type": "code",
   "execution_count": 23,
   "id": "d8b9ce9b-21e9-4151-a2d5-14711f8fb7b9",
   "metadata": {},
   "outputs": [
    {
     "name": "stdout",
     "output_type": "stream",
     "text": [
      "[4.5305024e-11 1.6749684e-14 1.2087232e-12 1.0000000e+00]\n"
     ]
    },
    {
     "data": {
      "text/plain": [
       "<matplotlib.image.AxesImage at 0x28a282380>"
      ]
     },
     "execution_count": 23,
     "metadata": {},
     "output_type": "execute_result"
    },
    {
     "data": {
      "image/png": "[encoded data removed]",
      "text/plain": [
       "<Figure size 432x288 with 1 Axes>"
      ]
     },
     "metadata": {
      "needs_background": "light"
     },
     "output_type": "display_data"
    }
   ],
   "source": [
    "i=5\n",
    "print(predictions[i])\n",
    "plt.imshow(generate.x_test[i],cmap=plt.cm.binary)"
   ]
  },
  {
   "cell_type": "code",
   "execution_count": null,
   "id": "0577f343-46fd-495a-b330-dc82d0a76bcb",
   "metadata": {},
   "outputs": [],
   "source": [
    "df = pd.read_csv(\"temp_nn_data.csv\")"
   ]
  },
  {
   "cell_type": "code",
   "execution_count": null,
   "id": "5ba9bd9f-f86a-4c97-948f-6cefa7f647df",
   "metadata": {},
   "outputs": [],
   "source": []
  }
 ],
 "metadata": {
  "kernelspec": {
   "display_name": "Python 3 (ipykernel)",
   "language": "python",
   "name": "python3"
  },
  "language_info": {
   "codemirror_mode": {
    "name": "ipython",
    "version": 3
   },
   "file_extension": ".py",
   "mimetype": "text/x-python",
   "name": "python",
   "nbconvert_exporter": "python",
   "pygments_lexer": "ipython3",
   "version": "3.10.5"
  }
 },
 "nbformat": 4,
 "nbformat_minor": 5
}
