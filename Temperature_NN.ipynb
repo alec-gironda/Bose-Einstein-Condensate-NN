{
 "cells": [
  {
   "cell_type": "markdown",
   "id": "91ff7721-0cb5-4292-b81b-8fceb567d9e2",
   "metadata": {},
   "source": [
    "# Temperature NN"
   ]
  },
  {
   "cell_type": "markdown",
   "id": "c5350010-a532-4171-a902-69b13536b8f0",
   "metadata": {},
   "source": [
    "### Imports"
   ]
  },
  {
   "cell_type": "code",
   "execution_count": 27,
   "id": "5c7d3066-c2c8-4b1d-8166-45c87fe2974a",
   "metadata": {},
   "outputs": [],
   "source": [
    "import tensorflow as tf\n",
    "import numpy as np\n",
    "import math\n",
    "import matplotlib.pyplot as plt\n",
    "import random"
   ]
  },
  {
   "cell_type": "markdown",
   "id": "f23b5194-2f26-4a01-99ab-618e7348c16a",
   "metadata": {},
   "source": [
    "### Generate Image Functions"
   ]
  },
  {
   "cell_type": "code",
   "execution_count": 66,
   "id": "c85802c2-bdbe-4125-8fca-6d296035b2fa",
   "metadata": {},
   "outputs": [],
   "source": [
    "#should use odd length to put the peak in the center\n",
    "def generate_standard_image(temp,length):\n",
    "    n_arr = np.zeros((length,length))\n",
    "    n_arr = n_arr.tolist()\n",
    "    for x in range(length):\n",
    "        for y in range(length):\n",
    "            n_arr[x][y] = (1/temp)*math.e**(-(x-length//2)**2/temp)*math.e**(-(y-length//2)**2/temp)\n",
    "    return n_arr\n",
    "def generate_noise_image(temp,length):\n",
    "    n_arr = np.zeros((length,length))\n",
    "    n_arr = n_arr.tolist()\n",
    "    for x in range(length):\n",
    "        for y in range(length):\n",
    "            #use np.random.normal to add noise -- adjust second arg for stdev\n",
    "            n_arr[x][y] = (1/temp)*math.e**(-(x-length//2)**2/temp)*math.e**(-(y-length//2)**2/temp)+np.random.normal(0,0.01)\n",
    "    return n_arr"
   ]
  },
  {
   "cell_type": "markdown",
   "id": "acb72a0c-a8a7-4377-be50-fe65b63cf327",
   "metadata": {},
   "source": [
    "### Generate Training Data and Test Data"
   ]
  },
  {
   "cell_type": "code",
   "execution_count": 76,
   "id": "214551a2-4674-42e4-adc6-d96670be6270",
   "metadata": {},
   "outputs": [
    {
     "ename": "KeyboardInterrupt",
     "evalue": "",
     "output_type": "error",
     "traceback": [
      "\u001b[0;31m---------------------------------------------------------------------------\u001b[0m",
      "\u001b[0;31mKeyboardInterrupt\u001b[0m                         Traceback (most recent call last)",
      "Input \u001b[0;32mIn [76]\u001b[0m, in \u001b[0;36m<cell line: 17>\u001b[0;34m()\u001b[0m\n\u001b[1;32m     16\u001b[0m \u001b[38;5;66;03m#generate test data\u001b[39;00m\n\u001b[1;32m     17\u001b[0m \u001b[38;5;28;01mfor\u001b[39;00m i \u001b[38;5;129;01min\u001b[39;00m \u001b[38;5;28mrange\u001b[39m(\u001b[38;5;241m20000\u001b[39m):\n\u001b[0;32m---> 18\u001b[0m     curr_img \u001b[38;5;241m=\u001b[39m \u001b[43mgenerate_noise_image\u001b[49m\u001b[43m(\u001b[49m\u001b[38;5;241;43m0.5\u001b[39;49m\u001b[43m,\u001b[49m\u001b[38;5;241;43m29\u001b[39;49m\u001b[43m)\u001b[49m\n\u001b[1;32m     19\u001b[0m     x_test\u001b[38;5;241m.\u001b[39mappend(curr_img)\n\u001b[1;32m     20\u001b[0m     y_test\u001b[38;5;241m.\u001b[39mappend(\u001b[38;5;241m0.5\u001b[39m)\n",
      "Input \u001b[0;32mIn [66]\u001b[0m, in \u001b[0;36mgenerate_noise_image\u001b[0;34m(temp, length)\u001b[0m\n\u001b[1;32m     12\u001b[0m \u001b[38;5;28;01mfor\u001b[39;00m x \u001b[38;5;129;01min\u001b[39;00m \u001b[38;5;28mrange\u001b[39m(length):\n\u001b[1;32m     13\u001b[0m     \u001b[38;5;28;01mfor\u001b[39;00m y \u001b[38;5;129;01min\u001b[39;00m \u001b[38;5;28mrange\u001b[39m(length):\n\u001b[1;32m     14\u001b[0m         \u001b[38;5;66;03m#use np.random.normal to add noise -- adjust second arg for stdev\u001b[39;00m\n\u001b[0;32m---> 15\u001b[0m         n_arr[x][y] \u001b[38;5;241m=\u001b[39m (\u001b[38;5;241m1\u001b[39m\u001b[38;5;241m/\u001b[39mtemp)\u001b[38;5;241m*\u001b[39mmath\u001b[38;5;241m.\u001b[39me\u001b[38;5;241m*\u001b[39m\u001b[38;5;241m*\u001b[39m(\u001b[38;5;241m-\u001b[39m(x\u001b[38;5;241m-\u001b[39mlength\u001b[38;5;241m/\u001b[39m\u001b[38;5;241m/\u001b[39m\u001b[38;5;241m2\u001b[39m)\u001b[38;5;241m*\u001b[39m\u001b[38;5;241m*\u001b[39m\u001b[38;5;241m2\u001b[39m\u001b[38;5;241m/\u001b[39mtemp)\u001b[38;5;241m*\u001b[39mmath\u001b[38;5;241m.\u001b[39me\u001b[38;5;241m*\u001b[39m\u001b[38;5;241m*\u001b[39m(\u001b[38;5;241m-\u001b[39m(y\u001b[38;5;241m-\u001b[39mlength\u001b[38;5;241m/\u001b[39m\u001b[38;5;241m/\u001b[39m\u001b[38;5;241m2\u001b[39m)\u001b[38;5;241m*\u001b[39m\u001b[38;5;241m*\u001b[39m\u001b[38;5;241m2\u001b[39m\u001b[38;5;241m/\u001b[39mtemp)\u001b[38;5;241m+\u001b[39m\u001b[43mnp\u001b[49m\u001b[38;5;241;43m.\u001b[39;49m\u001b[43mrandom\u001b[49m\u001b[38;5;241;43m.\u001b[39;49m\u001b[43mnormal\u001b[49m\u001b[43m(\u001b[49m\u001b[38;5;241;43m0\u001b[39;49m\u001b[43m,\u001b[49m\u001b[38;5;241;43m0.01\u001b[39;49m\u001b[43m)\u001b[49m\n\u001b[1;32m     16\u001b[0m \u001b[38;5;28;01mreturn\u001b[39;00m n_arr\n",
      "\u001b[0;31mKeyboardInterrupt\u001b[0m: "
     ]
    }
   ],
   "source": [
    "x_train = []\n",
    "y_train = []\n",
    "x_test = []\n",
    "y_test = []\n",
    "\n",
    "#generate training data\n",
    "for i in range(30000):\n",
    "    curr_img = generate_noise_image(0.5,29)\n",
    "    x_train.append(curr_img)\n",
    "    y_train.append(0.5)\n",
    "for i in range(30000):\n",
    "    curr_img = generate_noise_image(2,29)\n",
    "    x_train.append(curr_img)\n",
    "    y_train.append(2)\n",
    "\n",
    "#generate test data\n",
    "for i in range(5000):\n",
    "    curr_img = generate_noise_image(0.5,29)\n",
    "    x_test.append(curr_img)\n",
    "    y_test.append(0.5)\n",
    "for i in range(5000):\n",
    "    curr_img = generate_noise_image(2,29)\n",
    "    x_test.append(curr_img)\n",
    "    y_test.append(2)\n",
    "\n",
    "#shuffle training data\n",
    "shuffle_list = list(zip(x_train,y_train))\n",
    "random.shuffle(shuffle_list)\n",
    "x_train, y_train = zip(*shuffle_list)\n",
    "x_train, y_train = list(x_train), list(y_train)\n",
    "\n",
    "#shuffle test data\n",
    "shuffle_list = list(zip(x_test,y_test))\n",
    "random.shuffle(shuffle_list)\n",
    "x_test,y_test = zip(*shuffle_list)\n",
    "x_test,y_test = list(x_test), list(y_test)"
   ]
  },
  {
   "cell_type": "markdown",
   "id": "182e0698-9e51-4f09-a9fe-72c23ff0f5de",
   "metadata": {},
   "source": [
    "### Compile Basic Feed Forward NN"
   ]
  },
  {
   "cell_type": "code",
   "execution_count": null,
   "id": "d0254827-c0e9-4f50-8ea2-627bbd414022",
   "metadata": {},
   "outputs": [],
   "source": [
    "model = tf.keras.models.Sequential()\n",
    "model.add(tf.keras.layers.Flatten())\n",
    "model.add(tf.keras.layers.Dense(200,activation=tf.nn.relu))\n",
    "model.add(tf.keras.layers.Dense(2,activation=tf.nn.softmax))\n",
    "\n",
    "optim = tf.keras.optimizers.Adam(learning_rate=0.01)\n",
    "\n",
    "model.compile(optimizer=optim,loss='sparse_categorical_crossentropy',metrics=['accuracy'])"
   ]
  },
  {
   "cell_type": "markdown",
   "id": "ae4ff19f-95aa-43a9-adc2-09b76b902b6d",
   "metadata": {},
   "source": [
    "### Train"
   ]
  },
  {
   "cell_type": "code",
   "execution_count": 75,
   "id": "3c7b7e1d-7e21-46f4-ab37-84349703e4a2",
   "metadata": {},
   "outputs": [
    {
     "name": "stdout",
     "output_type": "stream",
     "text": [
      "Epoch 1/10\n",
      "1/7 [===>..........................] - ETA: 1s - loss: 0.2745 - accuracy: 0.0000e+00"
     ]
    },
    {
     "name": "stderr",
     "output_type": "stream",
     "text": [
      "2022-07-22 11:42:58.159654: I tensorflow/core/grappler/optimizers/custom_graph_optimizer_registry.cc:113] Plugin optimizer for device_type GPU is enabled.\n"
     ]
    },
    {
     "name": "stdout",
     "output_type": "stream",
     "text": [
      "7/7 [==============================] - 0s 29ms/step - loss: 0.1388 - accuracy: 0.0000e+00\n",
      "Epoch 2/10\n",
      "7/7 [==============================] - 0s 7ms/step - loss: 0.0102 - accuracy: 0.0000e+00\n",
      "Epoch 3/10\n",
      "7/7 [==============================] - 0s 4ms/step - loss: 0.0018 - accuracy: 0.0000e+00\n",
      "Epoch 4/10\n",
      "7/7 [==============================] - 0s 4ms/step - loss: 6.8313e-04 - accuracy: 0.0000e+00\n",
      "Epoch 5/10\n",
      "7/7 [==============================] - 0s 4ms/step - loss: 6.6210e-04 - accuracy: 0.0000e+00\n",
      "Epoch 6/10\n",
      "7/7 [==============================] - 0s 4ms/step - loss: 6.0466e-04 - accuracy: 0.0000e+00\n",
      "Epoch 7/10\n",
      "7/7 [==============================] - 0s 4ms/step - loss: 4.2973e-04 - accuracy: 0.0000e+00\n",
      "Epoch 8/10\n",
      "7/7 [==============================] - 0s 4ms/step - loss: 3.8963e-04 - accuracy: 0.0000e+00\n",
      "Epoch 9/10\n",
      "7/7 [==============================] - 0s 4ms/step - loss: 3.0205e-04 - accuracy: 0.0000e+00\n",
      "Epoch 10/10\n",
      "7/7 [==============================] - 0s 4ms/step - loss: 2.6978e-04 - accuracy: 0.0000e+00\n"
     ]
    },
    {
     "data": {
      "text/plain": [
       "<keras.callbacks.History at 0x28b9fb9a0>"
      ]
     },
     "execution_count": 75,
     "metadata": {},
     "output_type": "execute_result"
    }
   ],
   "source": [
    "model.fit(x_train,y_train,epochs=10)"
   ]
  },
  {
   "cell_type": "markdown",
   "id": "948676e2-a948-4fef-8deb-4841ae26a08f",
   "metadata": {},
   "source": [
    "### Evaluate Loss and Accuracy on Test Set"
   ]
  },
  {
   "cell_type": "code",
   "execution_count": 72,
   "id": "5b647b8a-952e-43b7-82c5-f9c0d43456dc",
   "metadata": {},
   "outputs": [
    {
     "name": "stdout",
     "output_type": "stream",
     "text": [
      "1/1 [==============================] - 0s 102ms/step - loss: 0.0013 - accuracy: 0.0000e+00\n",
      "loss:  0.0013370871311053634 \n",
      " accuracy:  0.0\n"
     ]
    },
    {
     "name": "stderr",
     "output_type": "stream",
     "text": [
      "2022-07-22 11:41:51.182715: I tensorflow/core/grappler/optimizers/custom_graph_optimizer_registry.cc:113] Plugin optimizer for device_type GPU is enabled.\n"
     ]
    }
   ],
   "source": [
    "val_loss, val_acc = model.evaluate(x_test,y_test)\n",
    "print(\"loss: \",val_loss,\"\\n\",\"accuracy: \",val_acc)"
   ]
  },
  {
   "cell_type": "code",
   "execution_count": null,
   "id": "cd308778-7082-4e3b-8724-cd11bd46dd55",
   "metadata": {},
   "outputs": [],
   "source": []
  }
 ],
 "metadata": {
  "kernelspec": {
   "display_name": "Python 3 (ipykernel)",
   "language": "python",
   "name": "python3"
  },
  "language_info": {
   "codemirror_mode": {
    "name": "ipython",
    "version": 3
   },
   "file_extension": ".py",
   "mimetype": "text/x-python",
   "name": "python",
   "nbconvert_exporter": "python",
   "pygments_lexer": "ipython3",
   "version": "3.10.5"
  }
 },
 "nbformat": 4,
 "nbformat_minor": 5
}
