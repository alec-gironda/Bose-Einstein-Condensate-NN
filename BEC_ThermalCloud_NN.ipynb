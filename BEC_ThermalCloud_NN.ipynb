{
 "cells": [
  {
   "cell_type": "markdown",
   "id": "19cdd5e3-cf56-4783-a1de-3f97ba9b2d71",
   "metadata": {},
   "source": [
    "# BEC and Thermal Cloud NN"
   ]
  },
  {
   "cell_type": "markdown",
   "id": "08f1e314-aa84-423f-a400-993c77ee0532",
   "metadata": {},
   "source": [
    "## Imports"
   ]
  },
  {
   "cell_type": "code",
   "execution_count": 1,
   "id": "f9880158-1d0a-47ac-af89-ef5a85d50264",
   "metadata": {},
   "outputs": [],
   "source": [
    "import tensorflow as tf\n",
    "import numpy as np\n",
    "import pandas as pd\n",
    "import math\n",
    "import matplotlib.pyplot as plt\n",
    "import random\n",
    "from generate_bec_thermal_cloud_nn_data import GenerateBecThermalCloudData\n",
    "from matplotlib.colors import LogNorm"
   ]
  },
  {
   "cell_type": "markdown",
   "id": "21f2280d-272e-4625-9f4e-94213caf4cd4",
   "metadata": {},
   "source": [
    "## Calculate Transition Temperature"
   ]
  },
  {
   "cell_type": "code",
   "execution_count": 2,
   "id": "6c430bc1-3fe0-449c-8235-48d832f9fba8",
   "metadata": {},
   "outputs": [
    {
     "name": "stdout",
     "output_type": "stream",
     "text": [
      "174.34201093860167\n"
     ]
    }
   ],
   "source": [
    "num_atoms = 100000\n",
    "#calculate transition temperature\n",
    "\n",
    "trans_temp = (num_atoms/(2*1*1.645))**0.5\n",
    "print(trans_temp)"
   ]
  },
  {
   "cell_type": "markdown",
   "id": "49c52b15-3933-46a2-b973-c87c19e7a4ac",
   "metadata": {},
   "source": [
    "## Generate Training and Test Data"
   ]
  },
  {
   "cell_type": "code",
   "execution_count": 60,
   "id": "9f9df071-2de3-4098-a6d4-c7f77d6753c8",
   "metadata": {
    "tags": []
   },
   "outputs": [
    {
     "name": "stdout",
     "output_type": "stream",
     "text": [
      "--- 2.09808349609375e-05 seconds ---\n",
      "--- 7614.545053958893 seconds ---\n"
     ]
    }
   ],
   "source": [
    "#training data size, test data size, noise spread, resolution length, number of atoms, transition temperature \n",
    "\n",
    "#current temps are {0:87,1:125,2:150,3:280}\n",
    "\n",
    "#take seed in as parameter\n",
    "\n",
    "#500 noise spread can get 98% accuracy\n",
    "generate = GenerateBecThermalCloudData(10000,5000,0,100,100000,trans_temp)"
   ]
  },
  {
   "cell_type": "markdown",
   "id": "fcef7a6a-4740-42c1-a5e2-7058e19940ec",
   "metadata": {},
   "source": [
    "#### Split Test Data into Validation Data and Final Test Data"
   ]
  },
  {
   "cell_type": "code",
   "execution_count": 61,
   "id": "34ece1dc-644a-4183-aa89-eb69a1e184f3",
   "metadata": {},
   "outputs": [
    {
     "name": "stdout",
     "output_type": "stream",
     "text": [
      "(2500, 2)\n"
     ]
    }
   ],
   "source": [
    "validation_x = generate.x_test[len(generate.x_test)//2:]\n",
    "x_test = generate.x_test[:len(generate.x_test)//2]\n",
    "\n",
    "validation_y = generate.y_test[len(generate.y_test)//2:]\n",
    "y_test = generate.y_test[:len(generate.y_test)//2]\n",
    "\n",
    "print(np.shape(y_test))"
   ]
  },
  {
   "cell_type": "markdown",
   "id": "a5788b71-bb06-476c-abea-a5b28a14fd9f",
   "metadata": {},
   "source": [
    "#### See What Data Images Look Like"
   ]
  },
  {
   "cell_type": "code",
   "execution_count": 72,
   "id": "45a44430-2aac-40a7-b4c2-780a287860e1",
   "metadata": {
    "tags": []
   },
   "outputs": [
    {
     "name": "stdout",
     "output_type": "stream",
     "text": [
      "(176.33272710758854, 0)\n"
     ]
    },
    {
     "data": {
      "image/png": "[encoded data removed]",
      "text/plain": [
       "<Figure size 432x288 with 1 Axes>"
      ]
     },
     "metadata": {
      "needs_background": "light"
     },
     "output_type": "display_data"
    }
   ],
   "source": [
    "# T = 170\n",
    "plt.imshow(generate.x_train[1],cmap = \"viridis\")\n",
    "print(generate.y_train[100])"
   ]
  },
  {
   "cell_type": "code",
   "execution_count": null,
   "id": "0e4ca1c1-b07a-4449-8309-4719c8119588",
   "metadata": {
    "jupyter": {
     "source_hidden": true
    },
    "tags": []
   },
   "outputs": [],
   "source": [
    "#plt.scatter(generate.x_train[0][0])\n",
    "plt.scatter(np.arange(len(generate.x_train[0][0])),generate.x_train[3][50])"
   ]
  },
  {
   "cell_type": "code",
   "execution_count": null,
   "id": "cf42567d-5c52-4c9a-b4ec-a94c7ad3d145",
   "metadata": {
    "jupyter": {
     "source_hidden": true
    },
    "tags": []
   },
   "outputs": [],
   "source": [
    "plt.plot(np.arange(len(generate.x_train[0][0])),generate.x_train[0][50],label = \"Center of Image\")\n",
    "plt.plot(np.arange(len(generate.x_train[0][0])),generate.x_train[0][45],label = \"Edge of Image\")\n",
    "plt.legend(loc='upper left')\n",
    "plt.xlabel(\"Image Pixel\")\n",
    "plt.ylabel(\"Atom Cloud Density\")"
   ]
  },
  {
   "cell_type": "code",
   "execution_count": null,
   "id": "70dcba17-31d8-4dd4-a84b-f0feb001bb80",
   "metadata": {
    "jupyter": {
     "source_hidden": true
    },
    "tags": []
   },
   "outputs": [],
   "source": [
    "N=100000\n",
    "\n",
    "def getN_ex(temp,trans_temp):\n",
    "    if temp>=trans_temp:\n",
    "        return N\n",
    "    else:\n",
    "        return N*(temp/trans_temp)**2\n",
    "    \n",
    "def getN_o(temp,trans_temp):\n",
    "    if temp>=trans_temp:\n",
    "        return 0\n",
    "    else:\n",
    "        return N*(1-(temp/trans_temp)**2)\n",
    "\n",
    "temps=np.arange(trans_temp+100)\n",
    "\n",
    "N_ex_arr = []\n",
    "N_o_arr = []\n",
    "for temp in temps:\n",
    "    N_ex_arr.append(getN_ex(temp,trans_temp))\n",
    "    N_o_arr.append(getN_o(temp,trans_temp))\n",
    "\n",
    "plt.plot(temps,N_ex_arr,label=\"Thermal Cloud\")\n",
    "plt.plot(temps,N_o_arr,label = \"BEC\")\n",
    "plt.legend(loc='center right')\n",
    "x=[175]\n",
    "labels = ['T_c']\n",
    "plt.xticks(x, labels, rotation='horizontal')\n",
    "plt.xlabel(\"Temperature\")\n",
    "plt.ylabel(\"Number of Particles\")"
   ]
  },
  {
   "cell_type": "markdown",
   "id": "c5d6a2fb-60f8-4b2f-918e-00a162789a55",
   "metadata": {},
   "source": [
    "## Compile Feed Forward NN"
   ]
  },
  {
   "cell_type": "markdown",
   "id": "0a32d6ba-e05e-435f-b3f7-3a0035628040",
   "metadata": {
    "tags": []
   },
   "source": [
    "#### Discrete Temperature Values Basic NN"
   ]
  },
  {
   "cell_type": "code",
   "execution_count": null,
   "id": "b9b7631e-8055-439d-a7c0-71c4e13b5f81",
   "metadata": {
    "jupyter": {
     "source_hidden": true
    },
    "tags": []
   },
   "outputs": [],
   "source": [
    "model = tf.keras.models.Sequential()\n",
    "model.add(tf.keras.layers.Flatten())\n",
    "model.add(tf.keras.layers.Dense(200,activation=tf.nn.relu))\n",
    "model.add(tf.keras.layers.Dense(4,activation=tf.nn.softmax))\n",
    "\n",
    "optim = tf.keras.optimizers.Adam(learning_rate=0.01)\n",
    "model.compile(optimizer=optim,loss='sparse_categorical_crossentropy',metrics=['accuracy'])"
   ]
  },
  {
   "cell_type": "markdown",
   "id": "2da1998e-65a7-4854-be02-1fa227d9c19d",
   "metadata": {
    "tags": []
   },
   "source": [
    "#### Continuous Temperature Values Basic NN"
   ]
  },
  {
   "cell_type": "markdown",
   "id": "37549d47-eedd-4938-85fb-8b73196a6f46",
   "metadata": {},
   "source": [
    "##### NN for Temperatures Greater than the Transition Temperature"
   ]
  },
  {
   "cell_type": "code",
   "execution_count": 69,
   "id": "9a4f4256-0edf-4a7b-86ce-c88c77616a7f",
   "metadata": {
    "tags": []
   },
   "outputs": [],
   "source": [
    "#on 1000 training images, 250 validation images, and 250 test images, model achieved 0.033 root mean sqr error on test images\n",
    "\n",
    "model = tf.keras.models.Sequential()\n",
    "model.add(tf.keras.layers.Flatten())\n",
    "model.add(tf.keras.layers.Dense(5000,activation = tf.nn.relu))\n",
    "model.add(tf.keras.layers.Dense(2500,activation = tf.nn.relu))\n",
    "model.add(tf.keras.layers.Dense(1000,activation = tf.nn.relu))\n",
    "model.add(tf.keras.layers.Dense(500,activation = tf.nn.relu))\n",
    "model.add(tf.keras.layers.Dense(100,activation = tf.nn.relu))\n",
    "model.add(tf.keras.layers.Dense(2,activation= tf.nn.relu))\n",
    "\n",
    "#0.000001 lr works well for temp only\n",
    "\n",
    "optim = tf.keras.optimizers.Adam(learning_rate = 0.000001)\n",
    "\n",
    "model.compile(optimizer=optim,loss='mean_squared_error',metrics=[tf.keras.metrics.RootMeanSquaredError(),tf.keras.metrics.MeanAbsoluteError()])"
   ]
  },
  {
   "cell_type": "markdown",
   "id": "b65cba1e-5189-4001-9a26-a7ffc8eedddd",
   "metadata": {},
   "source": [
    "#### Discrete Temperature Values Convolutional NN"
   ]
  },
  {
   "cell_type": "code",
   "execution_count": null,
   "id": "5928697b-3259-4f80-be4c-73a0cf62a008",
   "metadata": {
    "jupyter": {
     "source_hidden": true
    },
    "tags": []
   },
   "outputs": [],
   "source": [
    "model = tf.keras.Sequential()\n",
    "\n",
    "model.add(tf.keras.layers.Conv2D(kernel_size=3,filters=12,use_bias=False,padding='same'))\n",
    "model.add(tf.keras.layers.BatchNormalization(center=True,scale=False))\n",
    "model.add(tf.keras.layers.Activation(\"relu\"))\n",
    "\n",
    "model.add(tf.keras.layers.Conv2D(kernel_size=6,filters=24,use_bias=False,padding='same',strides=2))\n",
    "model.add(tf.keras.layers.BatchNormalization(center=True,scale=False))\n",
    "model.add(tf.keras.layers.Activation(\"relu\"))\n",
    "\n",
    "\n",
    "model.add(tf.keras.layers.Conv2D(kernel_size=6,filters=32,use_bias=False,padding='same',strides=2))\n",
    "model.add(tf.keras.layers.BatchNormalization(center=True,scale=False))\n",
    "model.add(tf.keras.layers.Activation(\"relu\"))\n",
    "\n",
    "model.add(tf.keras.layers.Flatten())\n",
    "model.add(tf.keras.layers.Dense(200,use_bias=False))\n",
    "model.add(tf.keras.layers.BatchNormalization(center=True,scale=False))\n",
    "model.add(tf.keras.layers.Activation(\"relu\"))\n",
    "\n",
    "model.add(tf.keras.layers.Dropout(0.3))\n",
    "model.add(tf.keras.layers.Dense(4,activation=tf.nn.softmax))\n",
    "\n",
    "optimizer = tf.keras.optimizers.Adam(learning_rate=0.01)\n",
    "\n",
    "model.compile(optimizer=optimizer,loss=\"sparse_categorical_crossentropy\",metrics=[\"accuracy\"])\n",
    "\n",
    "x_train = np.asarray(generate.x_train)\n",
    "x_test = np.asarray(generate.x_test)\n",
    "\n",
    "x_test = x_test.reshape((x_test.shape[0], 100, 100, 1)).tolist()\n",
    "x_train = x_train.reshape((x_train.shape[0], 100, 100, 1)).tolist()"
   ]
  },
  {
   "cell_type": "markdown",
   "id": "b9ca7189-802f-4fae-ac6d-5a36c8335941",
   "metadata": {
    "tags": []
   },
   "source": [
    "#### Continuous Temperature Values Convolutional NN"
   ]
  },
  {
   "cell_type": "code",
   "execution_count": null,
   "id": "e99cb28b-f1de-446d-b350-732b748eec4c",
   "metadata": {
    "jupyter": {
     "source_hidden": true
    },
    "tags": []
   },
   "outputs": [],
   "source": [
    "#isn't working great right now. needs tweaking\n",
    "model = tf.keras.models.Sequential()\n",
    "\n",
    "model.add(tf.keras.layers.Conv2D(kernel_size=10,filters=12, activation='relu', input_shape=(100, 100, 1)))\n",
    "model.add(tf.keras.layers.MaxPooling2D(2, 2))\n",
    "\n",
    "model.add(tf.keras.layers.Flatten())\n",
    "\n",
    "model.add(tf.keras.layers.Dense(1000, activation='relu'))\n",
    "model.add(tf.keras.layers.Dense(1, activation='linear'))\n",
    "\n",
    "\n",
    "optim = tf.keras.optimizers.Adam(lr=0.01)\n",
    "model.compile(optimizer=optim,loss='mean_squared_error',metrics=[tf.keras.metrics.RootMeanSquaredError()])\n",
    "\n",
    "\n",
    "generate.x_train = np.asarray(generate.x_train)\n",
    "x_test = np.asarray(x_test)\n",
    "validation_x = np.asarray(validation_x)\n",
    "\n",
    "generate.x_train = generate.x_train.reshape((generate.x_train.shape[0], 100, 100, 1)).tolist()\n",
    "x_test = x_test.reshape((x_test.shape[0], 100, 100, 1)).tolist()\n",
    "validation_x = validation_x.reshape((validation_x.shape[0], 100, 100, 1)).tolist()\n",
    "\n",
    "batch_size = 128\n",
    "\n",
    "steps_per_epoch = len(generate.x_train)//batch_size"
   ]
  },
  {
   "cell_type": "markdown",
   "id": "b4cfbd30-fbf8-4265-9f93-3a87caf4bde1",
   "metadata": {},
   "source": [
    "## Train Model"
   ]
  },
  {
   "cell_type": "markdown",
   "id": "63a77920-6d5f-4b2c-85ea-cc0920c779fd",
   "metadata": {},
   "source": [
    "#### Continuous Temperature Training For Basic NN"
   ]
  },
  {
   "cell_type": "code",
   "execution_count": 70,
   "id": "90ea4d53-152f-45ff-9027-bb145a234a93",
   "metadata": {
    "collapsed": true,
    "jupyter": {
     "outputs_hidden": true
    },
    "tags": []
   },
   "outputs": [
    {
     "name": "stdout",
     "output_type": "stream",
     "text": [
      "Epoch 1/100\n"
     ]
    },
    {
     "name": "stderr",
     "output_type": "stream",
     "text": [
      "2022-08-18 20:17:04.490628: I tensorflow/core/grappler/optimizers/custom_graph_optimizer_registry.cc:113] Plugin optimizer for device_type GPU is enabled.\n"
     ]
    },
    {
     "name": "stdout",
     "output_type": "stream",
     "text": [
      "313/313 [==============================] - ETA: 0s - loss: 357439936.0000 - root_mean_squared_error: 18906.0820 - mean_absolute_error: 6983.6597"
     ]
    },
    {
     "name": "stderr",
     "output_type": "stream",
     "text": [
      "2022-08-18 20:17:55.320843: I tensorflow/core/grappler/optimizers/custom_graph_optimizer_registry.cc:113] Plugin optimizer for device_type GPU is enabled.\n"
     ]
    },
    {
     "name": "stdout",
     "output_type": "stream",
     "text": [
      "313/313 [==============================] - 52s 165ms/step - loss: 357439936.0000 - root_mean_squared_error: 18906.0820 - mean_absolute_error: 6983.6597 - val_loss: 342050976.0000 - val_root_mean_squared_error: 18494.6211 - val_mean_absolute_error: 7009.8262\n",
      "Epoch 2/100\n",
      "313/313 [==============================] - 18s 57ms/step - loss: 299258560.0000 - root_mean_squared_error: 17299.0918 - mean_absolute_error: 6964.8130 - val_loss: 252215072.0000 - val_root_mean_squared_error: 15881.2803 - val_mean_absolute_error: 7023.0161\n",
      "Epoch 3/100\n",
      "313/313 [==============================] - 18s 57ms/step - loss: 188255728.0000 - root_mean_squared_error: 13720.6318 - mean_absolute_error: 6560.8076 - val_loss: 124804920.0000 - val_root_mean_squared_error: 11171.6133 - val_mean_absolute_error: 5709.9346\n",
      "Epoch 4/100\n",
      "313/313 [==============================] - 18s 57ms/step - loss: 68828208.0000 - root_mean_squared_error: 8296.2773 - mean_absolute_error: 4300.0620 - val_loss: 27429222.0000 - val_root_mean_squared_error: 5237.2915 - val_mean_absolute_error: 2861.9585\n",
      "Epoch 5/100\n",
      "313/313 [==============================] - 18s 56ms/step - loss: 12102431.0000 - root_mean_squared_error: 3478.8547 - mean_absolute_error: 1863.3975 - val_loss: 5435471.5000 - val_root_mean_squared_error: 2331.4099 - val_mean_absolute_error: 1281.1582\n",
      "Epoch 6/100\n",
      "313/313 [==============================] - 18s 57ms/step - loss: 3689084.2500 - root_mean_squared_error: 1920.6990 - mean_absolute_error: 1011.4930 - val_loss: 3021683.0000 - val_root_mean_squared_error: 1738.2990 - val_mean_absolute_error: 857.0930\n",
      "Epoch 7/100\n",
      "313/313 [==============================] - 18s 58ms/step - loss: 2377626.7500 - root_mean_squared_error: 1541.9556 - mean_absolute_error: 754.1121 - val_loss: 2189563.2500 - val_root_mean_squared_error: 1479.7174 - val_mean_absolute_error: 697.5435\n",
      "Epoch 8/100\n",
      "313/313 [==============================] - 19s 60ms/step - loss: 1806566.5000 - root_mean_squared_error: 1344.0857 - mean_absolute_error: 639.6075 - val_loss: 1757542.7500 - val_root_mean_squared_error: 1325.7235 - val_mean_absolute_error: 608.8659\n",
      "Epoch 9/100\n",
      "313/313 [==============================] - 19s 61ms/step - loss: 1493029.8750 - root_mean_squared_error: 1221.8960 - mean_absolute_error: 574.8864 - val_loss: 1504792.5000 - val_root_mean_squared_error: 1226.7000 - val_mean_absolute_error: 566.8023\n",
      "Epoch 10/100\n",
      "313/313 [==============================] - 19s 61ms/step - loss: 1314684.6250 - root_mean_squared_error: 1146.5970 - mean_absolute_error: 538.8009 - val_loss: 1356214.6250 - val_root_mean_squared_error: 1164.5663 - val_mean_absolute_error: 530.9171\n",
      "Epoch 11/100\n",
      " 78/313 [======>.......................] - ETA: 13s - loss: 1317031.6250 - root_mean_squared_error: 1147.6200 - mean_absolute_error: 530.8182"
     ]
    },
    {
     "ename": "KeyboardInterrupt",
     "evalue": "",
     "output_type": "error",
     "traceback": [
      "\u001b[0;31m---------------------------------------------------------------------------\u001b[0m",
      "\u001b[0;31mKeyboardInterrupt\u001b[0m                         Traceback (most recent call last)",
      "Input \u001b[0;32mIn [70]\u001b[0m, in \u001b[0;36m<cell line: 7>\u001b[0;34m()\u001b[0m\n\u001b[1;32m      1\u001b[0m \u001b[38;5;66;03m#on 1000 training images, 250 validation images, and 250 test images, model achieved 0.033 root mean sqr error on test images\u001b[39;00m\n\u001b[1;32m      2\u001b[0m \n\u001b[1;32m      3\u001b[0m \u001b[38;5;66;03m# lr_decay_callback = tf.keras.callbacks.LearningRateScheduler(lambda epoch: 0.000005 * math.pow(0.99,epoch), verbose=False)\u001b[39;00m\n\u001b[1;32m      5\u001b[0m earlystopping \u001b[38;5;241m=\u001b[39m tf\u001b[38;5;241m.\u001b[39mkeras\u001b[38;5;241m.\u001b[39mcallbacks\u001b[38;5;241m.\u001b[39mEarlyStopping(monitor \u001b[38;5;241m=\u001b[39m\u001b[38;5;124m\"\u001b[39m\u001b[38;5;124mval_loss\u001b[39m\u001b[38;5;124m\"\u001b[39m, mode \u001b[38;5;241m=\u001b[39m\u001b[38;5;124m\"\u001b[39m\u001b[38;5;124mmin\u001b[39m\u001b[38;5;124m\"\u001b[39m, patience \u001b[38;5;241m=\u001b[39m \u001b[38;5;241m5\u001b[39m,restore_best_weights \u001b[38;5;241m=\u001b[39m \u001b[38;5;28;01mTrue\u001b[39;00m)\n\u001b[0;32m----> 7\u001b[0m \u001b[43mmodel\u001b[49m\u001b[38;5;241;43m.\u001b[39;49m\u001b[43mfit\u001b[49m\u001b[43m(\u001b[49m\u001b[43mgenerate\u001b[49m\u001b[38;5;241;43m.\u001b[39;49m\u001b[43mx_train\u001b[49m\u001b[43m,\u001b[49m\u001b[43mgenerate\u001b[49m\u001b[38;5;241;43m.\u001b[39;49m\u001b[43my_train\u001b[49m\u001b[43m,\u001b[49m\u001b[43mepochs\u001b[49m\u001b[38;5;241;43m=\u001b[39;49m\u001b[38;5;241;43m100\u001b[39;49m\u001b[43m,\u001b[49m\u001b[43mvalidation_data\u001b[49m\u001b[43m \u001b[49m\u001b[38;5;241;43m=\u001b[39;49m\u001b[43m \u001b[49m\u001b[43m(\u001b[49m\u001b[43mvalidation_x\u001b[49m\u001b[43m,\u001b[49m\u001b[43mvalidation_y\u001b[49m\u001b[43m)\u001b[49m\u001b[43m)\u001b[49m\n",
      "File \u001b[0;32m~/miniforge3/envs/tf/lib/python3.10/site-packages/keras/utils/traceback_utils.py:64\u001b[0m, in \u001b[0;36mfilter_traceback.<locals>.error_handler\u001b[0;34m(*args, **kwargs)\u001b[0m\n\u001b[1;32m     62\u001b[0m filtered_tb \u001b[38;5;241m=\u001b[39m \u001b[38;5;28;01mNone\u001b[39;00m\n\u001b[1;32m     63\u001b[0m \u001b[38;5;28;01mtry\u001b[39;00m:\n\u001b[0;32m---> 64\u001b[0m   \u001b[38;5;28;01mreturn\u001b[39;00m \u001b[43mfn\u001b[49m\u001b[43m(\u001b[49m\u001b[38;5;241;43m*\u001b[39;49m\u001b[43margs\u001b[49m\u001b[43m,\u001b[49m\u001b[43m \u001b[49m\u001b[38;5;241;43m*\u001b[39;49m\u001b[38;5;241;43m*\u001b[39;49m\u001b[43mkwargs\u001b[49m\u001b[43m)\u001b[49m\n\u001b[1;32m     65\u001b[0m \u001b[38;5;28;01mexcept\u001b[39;00m \u001b[38;5;167;01mException\u001b[39;00m \u001b[38;5;28;01mas\u001b[39;00m e:  \u001b[38;5;66;03m# pylint: disable=broad-except\u001b[39;00m\n\u001b[1;32m     66\u001b[0m   filtered_tb \u001b[38;5;241m=\u001b[39m _process_traceback_frames(e\u001b[38;5;241m.\u001b[39m__traceback__)\n",
      "File \u001b[0;32m~/miniforge3/envs/tf/lib/python3.10/site-packages/keras/engine/training.py:1409\u001b[0m, in \u001b[0;36mModel.fit\u001b[0;34m(self, x, y, batch_size, epochs, verbose, callbacks, validation_split, validation_data, shuffle, class_weight, sample_weight, initial_epoch, steps_per_epoch, validation_steps, validation_batch_size, validation_freq, max_queue_size, workers, use_multiprocessing)\u001b[0m\n\u001b[1;32m   1402\u001b[0m \u001b[38;5;28;01mwith\u001b[39;00m tf\u001b[38;5;241m.\u001b[39mprofiler\u001b[38;5;241m.\u001b[39mexperimental\u001b[38;5;241m.\u001b[39mTrace(\n\u001b[1;32m   1403\u001b[0m     \u001b[38;5;124m'\u001b[39m\u001b[38;5;124mtrain\u001b[39m\u001b[38;5;124m'\u001b[39m,\n\u001b[1;32m   1404\u001b[0m     epoch_num\u001b[38;5;241m=\u001b[39mepoch,\n\u001b[1;32m   1405\u001b[0m     step_num\u001b[38;5;241m=\u001b[39mstep,\n\u001b[1;32m   1406\u001b[0m     batch_size\u001b[38;5;241m=\u001b[39mbatch_size,\n\u001b[1;32m   1407\u001b[0m     _r\u001b[38;5;241m=\u001b[39m\u001b[38;5;241m1\u001b[39m):\n\u001b[1;32m   1408\u001b[0m   callbacks\u001b[38;5;241m.\u001b[39mon_train_batch_begin(step)\n\u001b[0;32m-> 1409\u001b[0m   tmp_logs \u001b[38;5;241m=\u001b[39m \u001b[38;5;28;43mself\u001b[39;49m\u001b[38;5;241;43m.\u001b[39;49m\u001b[43mtrain_function\u001b[49m\u001b[43m(\u001b[49m\u001b[43miterator\u001b[49m\u001b[43m)\u001b[49m\n\u001b[1;32m   1410\u001b[0m   \u001b[38;5;28;01mif\u001b[39;00m data_handler\u001b[38;5;241m.\u001b[39mshould_sync:\n\u001b[1;32m   1411\u001b[0m     context\u001b[38;5;241m.\u001b[39masync_wait()\n",
      "File \u001b[0;32m~/miniforge3/envs/tf/lib/python3.10/site-packages/tensorflow/python/util/traceback_utils.py:150\u001b[0m, in \u001b[0;36mfilter_traceback.<locals>.error_handler\u001b[0;34m(*args, **kwargs)\u001b[0m\n\u001b[1;32m    148\u001b[0m filtered_tb \u001b[38;5;241m=\u001b[39m \u001b[38;5;28;01mNone\u001b[39;00m\n\u001b[1;32m    149\u001b[0m \u001b[38;5;28;01mtry\u001b[39;00m:\n\u001b[0;32m--> 150\u001b[0m   \u001b[38;5;28;01mreturn\u001b[39;00m \u001b[43mfn\u001b[49m\u001b[43m(\u001b[49m\u001b[38;5;241;43m*\u001b[39;49m\u001b[43margs\u001b[49m\u001b[43m,\u001b[49m\u001b[43m \u001b[49m\u001b[38;5;241;43m*\u001b[39;49m\u001b[38;5;241;43m*\u001b[39;49m\u001b[43mkwargs\u001b[49m\u001b[43m)\u001b[49m\n\u001b[1;32m    151\u001b[0m \u001b[38;5;28;01mexcept\u001b[39;00m \u001b[38;5;167;01mException\u001b[39;00m \u001b[38;5;28;01mas\u001b[39;00m e:\n\u001b[1;32m    152\u001b[0m   filtered_tb \u001b[38;5;241m=\u001b[39m _process_traceback_frames(e\u001b[38;5;241m.\u001b[39m__traceback__)\n",
      "File \u001b[0;32m~/miniforge3/envs/tf/lib/python3.10/site-packages/tensorflow/python/eager/def_function.py:915\u001b[0m, in \u001b[0;36mFunction.__call__\u001b[0;34m(self, *args, **kwds)\u001b[0m\n\u001b[1;32m    912\u001b[0m compiler \u001b[38;5;241m=\u001b[39m \u001b[38;5;124m\"\u001b[39m\u001b[38;5;124mxla\u001b[39m\u001b[38;5;124m\"\u001b[39m \u001b[38;5;28;01mif\u001b[39;00m \u001b[38;5;28mself\u001b[39m\u001b[38;5;241m.\u001b[39m_jit_compile \u001b[38;5;28;01melse\u001b[39;00m \u001b[38;5;124m\"\u001b[39m\u001b[38;5;124mnonXla\u001b[39m\u001b[38;5;124m\"\u001b[39m\n\u001b[1;32m    914\u001b[0m \u001b[38;5;28;01mwith\u001b[39;00m OptionalXlaContext(\u001b[38;5;28mself\u001b[39m\u001b[38;5;241m.\u001b[39m_jit_compile):\n\u001b[0;32m--> 915\u001b[0m   result \u001b[38;5;241m=\u001b[39m \u001b[38;5;28;43mself\u001b[39;49m\u001b[38;5;241;43m.\u001b[39;49m\u001b[43m_call\u001b[49m\u001b[43m(\u001b[49m\u001b[38;5;241;43m*\u001b[39;49m\u001b[43margs\u001b[49m\u001b[43m,\u001b[49m\u001b[43m \u001b[49m\u001b[38;5;241;43m*\u001b[39;49m\u001b[38;5;241;43m*\u001b[39;49m\u001b[43mkwds\u001b[49m\u001b[43m)\u001b[49m\n\u001b[1;32m    917\u001b[0m new_tracing_count \u001b[38;5;241m=\u001b[39m \u001b[38;5;28mself\u001b[39m\u001b[38;5;241m.\u001b[39mexperimental_get_tracing_count()\n\u001b[1;32m    918\u001b[0m without_tracing \u001b[38;5;241m=\u001b[39m (tracing_count \u001b[38;5;241m==\u001b[39m new_tracing_count)\n",
      "File \u001b[0;32m~/miniforge3/envs/tf/lib/python3.10/site-packages/tensorflow/python/eager/def_function.py:947\u001b[0m, in \u001b[0;36mFunction._call\u001b[0;34m(self, *args, **kwds)\u001b[0m\n\u001b[1;32m    944\u001b[0m   \u001b[38;5;28mself\u001b[39m\u001b[38;5;241m.\u001b[39m_lock\u001b[38;5;241m.\u001b[39mrelease()\n\u001b[1;32m    945\u001b[0m   \u001b[38;5;66;03m# In this case we have created variables on the first call, so we run the\u001b[39;00m\n\u001b[1;32m    946\u001b[0m   \u001b[38;5;66;03m# defunned version which is guaranteed to never create variables.\u001b[39;00m\n\u001b[0;32m--> 947\u001b[0m   \u001b[38;5;28;01mreturn\u001b[39;00m \u001b[38;5;28;43mself\u001b[39;49m\u001b[38;5;241;43m.\u001b[39;49m\u001b[43m_stateless_fn\u001b[49m\u001b[43m(\u001b[49m\u001b[38;5;241;43m*\u001b[39;49m\u001b[43margs\u001b[49m\u001b[43m,\u001b[49m\u001b[43m \u001b[49m\u001b[38;5;241;43m*\u001b[39;49m\u001b[38;5;241;43m*\u001b[39;49m\u001b[43mkwds\u001b[49m\u001b[43m)\u001b[49m  \u001b[38;5;66;03m# pylint: disable=not-callable\u001b[39;00m\n\u001b[1;32m    948\u001b[0m \u001b[38;5;28;01melif\u001b[39;00m \u001b[38;5;28mself\u001b[39m\u001b[38;5;241m.\u001b[39m_stateful_fn \u001b[38;5;129;01mis\u001b[39;00m \u001b[38;5;129;01mnot\u001b[39;00m \u001b[38;5;28;01mNone\u001b[39;00m:\n\u001b[1;32m    949\u001b[0m   \u001b[38;5;66;03m# Release the lock early so that multiple threads can perform the call\u001b[39;00m\n\u001b[1;32m    950\u001b[0m   \u001b[38;5;66;03m# in parallel.\u001b[39;00m\n\u001b[1;32m    951\u001b[0m   \u001b[38;5;28mself\u001b[39m\u001b[38;5;241m.\u001b[39m_lock\u001b[38;5;241m.\u001b[39mrelease()\n",
      "File \u001b[0;32m~/miniforge3/envs/tf/lib/python3.10/site-packages/tensorflow/python/eager/function.py:2453\u001b[0m, in \u001b[0;36mFunction.__call__\u001b[0;34m(self, *args, **kwargs)\u001b[0m\n\u001b[1;32m   2450\u001b[0m \u001b[38;5;28;01mwith\u001b[39;00m \u001b[38;5;28mself\u001b[39m\u001b[38;5;241m.\u001b[39m_lock:\n\u001b[1;32m   2451\u001b[0m   (graph_function,\n\u001b[1;32m   2452\u001b[0m    filtered_flat_args) \u001b[38;5;241m=\u001b[39m \u001b[38;5;28mself\u001b[39m\u001b[38;5;241m.\u001b[39m_maybe_define_function(args, kwargs)\n\u001b[0;32m-> 2453\u001b[0m \u001b[38;5;28;01mreturn\u001b[39;00m \u001b[43mgraph_function\u001b[49m\u001b[38;5;241;43m.\u001b[39;49m\u001b[43m_call_flat\u001b[49m\u001b[43m(\u001b[49m\n\u001b[1;32m   2454\u001b[0m \u001b[43m    \u001b[49m\u001b[43mfiltered_flat_args\u001b[49m\u001b[43m,\u001b[49m\u001b[43m \u001b[49m\u001b[43mcaptured_inputs\u001b[49m\u001b[38;5;241;43m=\u001b[39;49m\u001b[43mgraph_function\u001b[49m\u001b[38;5;241;43m.\u001b[39;49m\u001b[43mcaptured_inputs\u001b[49m\u001b[43m)\u001b[49m\n",
      "File \u001b[0;32m~/miniforge3/envs/tf/lib/python3.10/site-packages/tensorflow/python/eager/function.py:1860\u001b[0m, in \u001b[0;36mConcreteFunction._call_flat\u001b[0;34m(self, args, captured_inputs, cancellation_manager)\u001b[0m\n\u001b[1;32m   1856\u001b[0m possible_gradient_type \u001b[38;5;241m=\u001b[39m gradients_util\u001b[38;5;241m.\u001b[39mPossibleTapeGradientTypes(args)\n\u001b[1;32m   1857\u001b[0m \u001b[38;5;28;01mif\u001b[39;00m (possible_gradient_type \u001b[38;5;241m==\u001b[39m gradients_util\u001b[38;5;241m.\u001b[39mPOSSIBLE_GRADIENT_TYPES_NONE\n\u001b[1;32m   1858\u001b[0m     \u001b[38;5;129;01mand\u001b[39;00m executing_eagerly):\n\u001b[1;32m   1859\u001b[0m   \u001b[38;5;66;03m# No tape is watching; skip to running the function.\u001b[39;00m\n\u001b[0;32m-> 1860\u001b[0m   \u001b[38;5;28;01mreturn\u001b[39;00m \u001b[38;5;28mself\u001b[39m\u001b[38;5;241m.\u001b[39m_build_call_outputs(\u001b[38;5;28;43mself\u001b[39;49m\u001b[38;5;241;43m.\u001b[39;49m\u001b[43m_inference_function\u001b[49m\u001b[38;5;241;43m.\u001b[39;49m\u001b[43mcall\u001b[49m\u001b[43m(\u001b[49m\n\u001b[1;32m   1861\u001b[0m \u001b[43m      \u001b[49m\u001b[43mctx\u001b[49m\u001b[43m,\u001b[49m\u001b[43m \u001b[49m\u001b[43margs\u001b[49m\u001b[43m,\u001b[49m\u001b[43m \u001b[49m\u001b[43mcancellation_manager\u001b[49m\u001b[38;5;241;43m=\u001b[39;49m\u001b[43mcancellation_manager\u001b[49m\u001b[43m)\u001b[49m)\n\u001b[1;32m   1862\u001b[0m forward_backward \u001b[38;5;241m=\u001b[39m \u001b[38;5;28mself\u001b[39m\u001b[38;5;241m.\u001b[39m_select_forward_and_backward_functions(\n\u001b[1;32m   1863\u001b[0m     args,\n\u001b[1;32m   1864\u001b[0m     possible_gradient_type,\n\u001b[1;32m   1865\u001b[0m     executing_eagerly)\n\u001b[1;32m   1866\u001b[0m forward_function, args_with_tangents \u001b[38;5;241m=\u001b[39m forward_backward\u001b[38;5;241m.\u001b[39mforward()\n",
      "File \u001b[0;32m~/miniforge3/envs/tf/lib/python3.10/site-packages/tensorflow/python/eager/function.py:497\u001b[0m, in \u001b[0;36m_EagerDefinedFunction.call\u001b[0;34m(self, ctx, args, cancellation_manager)\u001b[0m\n\u001b[1;32m    495\u001b[0m \u001b[38;5;28;01mwith\u001b[39;00m _InterpolateFunctionError(\u001b[38;5;28mself\u001b[39m):\n\u001b[1;32m    496\u001b[0m   \u001b[38;5;28;01mif\u001b[39;00m cancellation_manager \u001b[38;5;129;01mis\u001b[39;00m \u001b[38;5;28;01mNone\u001b[39;00m:\n\u001b[0;32m--> 497\u001b[0m     outputs \u001b[38;5;241m=\u001b[39m \u001b[43mexecute\u001b[49m\u001b[38;5;241;43m.\u001b[39;49m\u001b[43mexecute\u001b[49m\u001b[43m(\u001b[49m\n\u001b[1;32m    498\u001b[0m \u001b[43m        \u001b[49m\u001b[38;5;28;43mstr\u001b[39;49m\u001b[43m(\u001b[49m\u001b[38;5;28;43mself\u001b[39;49m\u001b[38;5;241;43m.\u001b[39;49m\u001b[43msignature\u001b[49m\u001b[38;5;241;43m.\u001b[39;49m\u001b[43mname\u001b[49m\u001b[43m)\u001b[49m\u001b[43m,\u001b[49m\n\u001b[1;32m    499\u001b[0m \u001b[43m        \u001b[49m\u001b[43mnum_outputs\u001b[49m\u001b[38;5;241;43m=\u001b[39;49m\u001b[38;5;28;43mself\u001b[39;49m\u001b[38;5;241;43m.\u001b[39;49m\u001b[43m_num_outputs\u001b[49m\u001b[43m,\u001b[49m\n\u001b[1;32m    500\u001b[0m \u001b[43m        \u001b[49m\u001b[43minputs\u001b[49m\u001b[38;5;241;43m=\u001b[39;49m\u001b[43margs\u001b[49m\u001b[43m,\u001b[49m\n\u001b[1;32m    501\u001b[0m \u001b[43m        \u001b[49m\u001b[43mattrs\u001b[49m\u001b[38;5;241;43m=\u001b[39;49m\u001b[43mattrs\u001b[49m\u001b[43m,\u001b[49m\n\u001b[1;32m    502\u001b[0m \u001b[43m        \u001b[49m\u001b[43mctx\u001b[49m\u001b[38;5;241;43m=\u001b[39;49m\u001b[43mctx\u001b[49m\u001b[43m)\u001b[49m\n\u001b[1;32m    503\u001b[0m   \u001b[38;5;28;01melse\u001b[39;00m:\n\u001b[1;32m    504\u001b[0m     outputs \u001b[38;5;241m=\u001b[39m execute\u001b[38;5;241m.\u001b[39mexecute_with_cancellation(\n\u001b[1;32m    505\u001b[0m         \u001b[38;5;28mstr\u001b[39m(\u001b[38;5;28mself\u001b[39m\u001b[38;5;241m.\u001b[39msignature\u001b[38;5;241m.\u001b[39mname),\n\u001b[1;32m    506\u001b[0m         num_outputs\u001b[38;5;241m=\u001b[39m\u001b[38;5;28mself\u001b[39m\u001b[38;5;241m.\u001b[39m_num_outputs,\n\u001b[0;32m   (...)\u001b[0m\n\u001b[1;32m    509\u001b[0m         ctx\u001b[38;5;241m=\u001b[39mctx,\n\u001b[1;32m    510\u001b[0m         cancellation_manager\u001b[38;5;241m=\u001b[39mcancellation_manager)\n",
      "File \u001b[0;32m~/miniforge3/envs/tf/lib/python3.10/site-packages/tensorflow/python/eager/execute.py:54\u001b[0m, in \u001b[0;36mquick_execute\u001b[0;34m(op_name, num_outputs, inputs, attrs, ctx, name)\u001b[0m\n\u001b[1;32m     52\u001b[0m \u001b[38;5;28;01mtry\u001b[39;00m:\n\u001b[1;32m     53\u001b[0m   ctx\u001b[38;5;241m.\u001b[39mensure_initialized()\n\u001b[0;32m---> 54\u001b[0m   tensors \u001b[38;5;241m=\u001b[39m \u001b[43mpywrap_tfe\u001b[49m\u001b[38;5;241;43m.\u001b[39;49m\u001b[43mTFE_Py_Execute\u001b[49m\u001b[43m(\u001b[49m\u001b[43mctx\u001b[49m\u001b[38;5;241;43m.\u001b[39;49m\u001b[43m_handle\u001b[49m\u001b[43m,\u001b[49m\u001b[43m \u001b[49m\u001b[43mdevice_name\u001b[49m\u001b[43m,\u001b[49m\u001b[43m \u001b[49m\u001b[43mop_name\u001b[49m\u001b[43m,\u001b[49m\n\u001b[1;32m     55\u001b[0m \u001b[43m                                      \u001b[49m\u001b[43minputs\u001b[49m\u001b[43m,\u001b[49m\u001b[43m \u001b[49m\u001b[43mattrs\u001b[49m\u001b[43m,\u001b[49m\u001b[43m \u001b[49m\u001b[43mnum_outputs\u001b[49m\u001b[43m)\u001b[49m\n\u001b[1;32m     56\u001b[0m \u001b[38;5;28;01mexcept\u001b[39;00m core\u001b[38;5;241m.\u001b[39m_NotOkStatusException \u001b[38;5;28;01mas\u001b[39;00m e:\n\u001b[1;32m     57\u001b[0m   \u001b[38;5;28;01mif\u001b[39;00m name \u001b[38;5;129;01mis\u001b[39;00m \u001b[38;5;129;01mnot\u001b[39;00m \u001b[38;5;28;01mNone\u001b[39;00m:\n",
      "\u001b[0;31mKeyboardInterrupt\u001b[0m: "
     ]
    }
   ],
   "source": [
    "#on 1000 training images, 250 validation images, and 250 test images, model achieved 0.033 root mean sqr error on test images\n",
    "\n",
    "# lr_decay_callback = tf.keras.callbacks.LearningRateScheduler(lambda epoch: 0.000005 * math.pow(0.99,epoch), verbose=False)\n",
    "\n",
    "earlystopping = tf.keras.callbacks.EarlyStopping(monitor =\"val_loss\", mode =\"min\", patience = 5,restore_best_weights = True)\n",
    "\n",
    "model.fit(generate.x_train,generate.y_train,epochs=100,validation_data = (validation_x,validation_y))#,callbacks = [earlystopping])#,lr_decay_callback])"
   ]
  },
  {
   "cell_type": "markdown",
   "id": "6a8acb98-480c-401b-860e-926edff38c30",
   "metadata": {},
   "source": [
    "#### Continuous Temperature Training For Convolutional NN"
   ]
  },
  {
   "cell_type": "code",
   "execution_count": null,
   "id": "2daa6bed-4d1e-4e86-99a7-9ae6cfb8bbb8",
   "metadata": {
    "jupyter": {
     "source_hidden": true
    },
    "tags": []
   },
   "outputs": [],
   "source": [
    "#not quite accurate yet. needs tweaking\n",
    "earlystopping = tf.keras.callbacks.EarlyStopping(monitor =\"val_loss\", mode =\"min\", patience = 20,restore_best_weights = True)\n",
    "lr_decay_callback = tf.keras.callbacks.LearningRateScheduler(lambda epoch: 0.001 * math.pow(0.999,epoch), verbose=True)\n",
    "\n",
    "\n",
    "model.fit(generate.x_train,generate.y_train,batch_size = batch_size,epochs=1000,steps_per_epoch = steps_per_epoch,validation_data = (validation_x,validation_y),callbacks = [earlystopping])#,lr_decay_callback])"
   ]
  },
  {
   "cell_type": "markdown",
   "id": "e8ccf3cc-78c0-41d2-93e2-00bf00190881",
   "metadata": {},
   "source": [
    "## Evaluate Results"
   ]
  },
  {
   "cell_type": "markdown",
   "id": "9b82c297-ec5d-487d-bad0-7025a68d5a2a",
   "metadata": {},
   "source": [
    "#### Discrete Accuracy"
   ]
  },
  {
   "cell_type": "code",
   "execution_count": null,
   "id": "e556b569-6aa5-498f-8b9d-4ea6991dba63",
   "metadata": {
    "jupyter": {
     "source_hidden": true
    },
    "tags": []
   },
   "outputs": [],
   "source": [
    "val_loss, val_acc = model.evaluate(generate.x_test,generate.y_test)\n",
    "print(\"loss: \",val_loss,\"\\n\",\"accuracy: \",val_acc)"
   ]
  },
  {
   "cell_type": "markdown",
   "id": "70b96369-0d07-4961-a1ec-4276bcb9e94b",
   "metadata": {},
   "source": [
    "#### Continuous Accuracy"
   ]
  },
  {
   "cell_type": "code",
   "execution_count": 39,
   "id": "968a09f8-0044-46fd-8f6f-2d70b1f8fc14",
   "metadata": {},
   "outputs": [
    {
     "name": "stdout",
     "output_type": "stream",
     "text": [
      "8/8 [==============================] - 0s 9ms/step - loss: 575925.1875 - root_mean_squared_error: 758.8974 - mean_absolute_error: 148.0214\n",
      "loss:  575925.1875 \n",
      " rmse:  758.8973999023438 \n",
      " mae:  148.0214080810547\n"
     ]
    }
   ],
   "source": [
    "val_loss, val_rmse, val_mae = model.evaluate(x_test,y_test)\n",
    "print(\"loss: \",val_loss,\"\\n\",\"rmse: \",val_rmse,\"\\n\",\"mae: \",val_mae)"
   ]
  },
  {
   "cell_type": "markdown",
   "id": "c157aaf8-147e-4928-8203-f03e7ccb483c",
   "metadata": {},
   "source": [
    "## See Predictions"
   ]
  },
  {
   "cell_type": "markdown",
   "id": "29546791-45f0-4d1e-b0b0-6dadfe31e623",
   "metadata": {},
   "source": [
    "#### Continuous Predictions"
   ]
  },
  {
   "cell_type": "code",
   "execution_count": 40,
   "id": "68bcd89a-764c-4733-9f52-9e4c5bbff37e",
   "metadata": {},
   "outputs": [
    {
     "name": "stdout",
     "output_type": "stream",
     "text": [
      "8/8 [==============================] - 0s 10ms/step\n"
     ]
    },
    {
     "name": "stderr",
     "output_type": "stream",
     "text": [
      "2022-08-18 12:40:16.965670: I tensorflow/core/grappler/optimizers/custom_graph_optimizer_registry.cc:113] Plugin optimizer for device_type GPU is enabled.\n"
     ]
    }
   ],
   "source": [
    "#not really a great representation, but you can see the predicted scatterplot over correct scatterplot\n",
    "\n",
    "predictions = model.predict(x_test)\n",
    "temp_predictions = []\n",
    "BEC_atoms_predictions = []\n",
    "\n",
    "temp_test = []\n",
    "BEC_atoms_test = []\n",
    "for i in range(len(predictions)):\n",
    "    \n",
    "    temp_predictions.append(predictions[i][0])\n",
    "    BEC_atoms_predictions.append(predictions[i][1])\n",
    "    \n",
    "    temp_test.append(y_test[i][0])\n",
    "    BEC_atoms_test.append(y_test[i][1])"
   ]
  },
  {
   "cell_type": "markdown",
   "id": "94e37c7e-4db0-4aa9-9f20-ea9b52e0f98f",
   "metadata": {},
   "source": [
    "#### Temperature Plot"
   ]
  },
  {
   "cell_type": "code",
   "execution_count": 41,
   "id": "131a69fd-c975-41d4-acb2-53e1b7f90ac6",
   "metadata": {},
   "outputs": [
    {
     "data": {
      "text/plain": [
       "Text(0, 0.5, 'y')"
      ]
     },
     "execution_count": 41,
     "metadata": {},
     "output_type": "execute_result"
    },
    {
     "data": {
      "image/png": "[encoded data removed]",
      "text/plain": [
       "<Figure size 432x288 with 1 Axes>"
      ]
     },
     "metadata": {
      "needs_background": "light"
     },
     "output_type": "display_data"
    }
   ],
   "source": [
    "plt.scatter(np.arange(len(temp_test)),temp_test)\n",
    "plt.scatter(np.arange(len(temp_predictions)),temp_predictions)\n",
    "plt.xlabel(\"x\")\n",
    "plt.ylabel(\"y\")"
   ]
  },
  {
   "cell_type": "markdown",
   "id": "69c7b384-cd3e-4008-98ec-f75d69488144",
   "metadata": {},
   "source": [
    "#### Number of Atoms in BEC Plot"
   ]
  },
  {
   "cell_type": "code",
   "execution_count": 42,
   "id": "ae191a09-6c33-4a33-8144-ca33b883a720",
   "metadata": {},
   "outputs": [
    {
     "data": {
      "text/plain": [
       "Text(0, 0.5, 'y')"
      ]
     },
     "execution_count": 42,
     "metadata": {},
     "output_type": "execute_result"
    },
    {
     "data": {
      "image/png": "[encoded data removed]",
      "text/plain": [
       "<Figure size 432x288 with 1 Axes>"
      ]
     },
     "metadata": {
      "needs_background": "light"
     },
     "output_type": "display_data"
    }
   ],
   "source": [
    "plt.scatter(np.arange(len(BEC_atoms_predictions)),BEC_atoms_predictions)\n",
    "plt.scatter(np.arange(len(BEC_atoms_test)),BEC_atoms_test)\n",
    "plt.xlabel(\"x\")\n",
    "plt.ylabel(\"y\")"
   ]
  },
  {
   "cell_type": "code",
   "execution_count": null,
   "id": "e5594aa9-295f-41e5-98de-1a198e009d5c",
   "metadata": {},
   "outputs": [],
   "source": []
  }
 ],
 "metadata": {
  "kernelspec": {
   "display_name": "Python 3 (ipykernel)",
   "language": "python",
   "name": "python3"
  },
  "language_info": {
   "codemirror_mode": {
    "name": "ipython",
    "version": 3
   },
   "file_extension": ".py",
   "mimetype": "text/x-python",
   "name": "python",
   "nbconvert_exporter": "python",
   "pygments_lexer": "ipython3",
   "version": "3.10.5"
  }
 },
 "nbformat": 4,
 "nbformat_minor": 5
}
