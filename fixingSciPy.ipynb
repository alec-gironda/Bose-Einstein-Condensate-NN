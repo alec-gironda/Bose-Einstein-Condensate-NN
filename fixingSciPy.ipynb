{
 "cells": [
  {
   "cell_type": "code",
   "execution_count": 48,
   "id": "03f21fcb-0f3d-46cc-bef0-f992ba26c852",
   "metadata": {},
   "outputs": [],
   "source": [
    "import os\n",
    "#only print error messages from tensorflow\n",
    "import tensorflow as tf\n",
    "import numpy as np\n",
    "import math\n",
    "import time\n",
    "import pickle\n",
    "import bz2\n",
    "import matplotlib.pyplot as plt\n",
    "from sklearn.preprocessing import MinMaxScaler,StandardScaler,MaxAbsScaler\n",
    "import copy\n",
    "from sklearn.metrics import mean_squared_error,mean_absolute_error\n",
    "import scipy.optimize as opt\n",
    "from itertools import chain"
   ]
  },
  {
   "cell_type": "code",
   "execution_count": 49,
   "id": "43b3f633-8223-4ced-86b0-96f80b65a746",
   "metadata": {},
   "outputs": [],
   "source": [
    "def analytical_eq(xy,xo,yo,No,T):   \n",
    "    x, y = xy\n",
    "    \n",
    "    Nex = 100000-No\n",
    "    \n",
    "    out = (No/math.pi)*np.exp(-(x-xo)**2)*np.exp(-(y-yo)**2) + (Nex/(2*math.pi*T))*np.exp((-(x-xo)**2)/(2*T))*np.exp((-(y-yo)**2)/(2*T))\n",
    "\n",
    "    return out.ravel()"
   ]
  },
  {
   "cell_type": "code",
   "execution_count": 3,
   "id": "9b3de354-ed85-4dd9-8166-3a15aaee3a8a",
   "metadata": {},
   "outputs": [
    {
     "name": "stdout",
     "output_type": "stream",
     "text": [
      "loading data...\n",
      "data loaded.\n"
     ]
    }
   ],
   "source": [
    "#reload data\n",
    "\n",
    "print(\"loading data...\")\n",
    "in_file = bz2.BZ2File(\"./generated_data/full_generated_data.bz2\",'rb')\n",
    "data = pickle.load(in_file)\n",
    "in_file.close()\n",
    "\n",
    "print(\"data loaded.\")\n",
    "\n",
    "x_train = np.asarray(data[0])\n",
    "y_train = np.asarray(data[1])\n",
    "x_test = np.asarray(data[2])\n",
    "y_test = np.asarray(data[3])"
   ]
  },
  {
   "cell_type": "markdown",
   "id": "f03d7e83-b8cb-4cdd-a6ad-6417ca6ba2a3",
   "metadata": {
    "tags": []
   },
   "source": [
    "### blah blah"
   ]
  },
  {
   "cell_type": "code",
   "execution_count": 94,
   "id": "0f490024-2fc4-4898-9bbb-bb2cf261f02a",
   "metadata": {},
   "outputs": [
    {
     "name": "stdout",
     "output_type": "stream",
     "text": [
      "[  132.23956243 42466.77684532]\n"
     ]
    }
   ],
   "source": [
    "x = np.linspace(-49, 50, 100)\n",
    "y = np.linspace(-49, 50, 100)\n",
    "x, y = np.meshgrid(x, y)\n",
    "\n",
    "indx = 5\n",
    "\n",
    "print(y_test[indx])\n",
    "\n",
    "image = x_test[indx].ravel()\n",
    "\n",
    "initial_guess = (0,0,50000,175)\n",
    "popt, _ , infodict , _ , _ = opt.curve_fit(analytical_eq, (x, y), image, p0=initial_guess,full_output = True)"
   ]
  },
  {
   "cell_type": "code",
   "execution_count": 95,
   "id": "628533a2-03f7-4b9d-b33b-d77f7f69e218",
   "metadata": {},
   "outputs": [
    {
     "name": "stdout",
     "output_type": "stream",
     "text": [
      "1624.7837767263707\n"
     ]
    }
   ],
   "source": [
    "print(np.sqrt(np.sum(infodict[\"fvec\"]**2)))"
   ]
  },
  {
   "cell_type": "code",
   "execution_count": 96,
   "id": "a03db1c5-5cb2-468a-b6ce-9db181bd50cb",
   "metadata": {},
   "outputs": [],
   "source": [
    "fit_mse = mean_squared_error(analytical_eq((x,y),*popt[:2],*popt[2:][::-1]),x_test[indx].ravel(),squared = False)"
   ]
  },
  {
   "cell_type": "code",
   "execution_count": 97,
   "id": "063c4b0c-3a4e-4367-bf63-ae8278e51ce3",
   "metadata": {},
   "outputs": [
    {
     "data": {
      "text/plain": [
       "158.93961970589802"
      ]
     },
     "execution_count": 97,
     "metadata": {},
     "output_type": "execute_result"
    }
   ],
   "source": [
    "fit_mse"
   ]
  },
  {
   "cell_type": "code",
   "execution_count": 98,
   "id": "0a8dd6f6-a09d-408e-9784-d618b212ec83",
   "metadata": {},
   "outputs": [],
   "source": [
    "mse = mean_squared_error(analytical_eq((x,y),0,0,*y_test[indx][::-1]),x_test[indx].ravel(),squared = False)"
   ]
  },
  {
   "cell_type": "code",
   "execution_count": 99,
   "id": "77dbbee3-eeed-46d6-8d56-8f10859bc610",
   "metadata": {},
   "outputs": [
    {
     "data": {
      "text/plain": [
       "23.015033049028506"
      ]
     },
     "execution_count": 99,
     "metadata": {},
     "output_type": "execute_result"
    }
   ],
   "source": [
    "mse"
   ]
  },
  {
   "cell_type": "code",
   "execution_count": 100,
   "id": "9695391d-c8ea-4747-803f-a882a6d3093b",
   "metadata": {},
   "outputs": [
    {
     "data": {
      "text/plain": [
       "array([  132.23956243, 42466.77684532])"
      ]
     },
     "execution_count": 100,
     "metadata": {},
     "output_type": "execute_result"
    }
   ],
   "source": [
    "y_test[indx]"
   ]
  },
  {
   "cell_type": "code",
   "execution_count": 101,
   "id": "24492994-f2ed-46e2-bd61-ddf7a1548750",
   "metadata": {},
   "outputs": [
    {
     "data": {
      "text/plain": [
       "array([-1.51845259e-02, -1.53879236e-02,  3.84441094e+04,  1.07591586e+02])"
      ]
     },
     "execution_count": 101,
     "metadata": {},
     "output_type": "execute_result"
    }
   ],
   "source": [
    "popt"
   ]
  },
  {
   "cell_type": "code",
   "execution_count": 108,
   "id": "c1102212-7cc9-45ce-9ad9-8acc67e4434b",
   "metadata": {},
   "outputs": [
    {
     "data": {
      "text/plain": [
       "<matplotlib.legend.Legend at 0x3b99f7dc0>"
      ]
     },
     "execution_count": 108,
     "metadata": {},
     "output_type": "execute_result"
    },
    {
     "data": {
      "image/png": "[encoded data removed]",
      "text/plain": [
       "<Figure size 640x480 with 1 Axes>"
      ]
     },
     "metadata": {},
     "output_type": "display_data"
    }
   ],
   "source": [
    "data_fitted = analytical_eq((x, y), 0,0,*popt[2:]).reshape(100,100)\n",
    "noisy = image.reshape(100,100)\n",
    "row = 47\n",
    "\n",
    "plt.plot(np.arange(100),data_fitted[row],label = \"fit\")\n",
    "plt.plot(np.arange(100),noisy[row],label = \"noisy\")\n",
    "plt.legend()"
   ]
  },
  {
   "cell_type": "code",
   "execution_count": 320,
   "id": "04a76269-b9f8-4066-a83b-a57e02725024",
   "metadata": {},
   "outputs": [
    {
     "data": {
      "text/plain": [
       "<matplotlib.legend.Legend at 0x3d77a1db0>"
      ]
     },
     "execution_count": 320,
     "metadata": {},
     "output_type": "execute_result"
    },
    {
     "data": {
      "image/png": "[encoded data removed]",
      "text/plain": [
       "<Figure size 432x288 with 1 Axes>"
      ]
     },
     "metadata": {
      "needs_background": "light"
     },
     "output_type": "display_data"
    }
   ],
   "source": [
    "check = data_fitted.reshape(100,100)\n",
    "noisy = image.reshape(100,100)\n",
    "col = 10\n",
    "\n",
    "plt.plot(np.arange(len(check[0])),check[:,col],label = \"fit\")\n",
    "plt.plot(np.arange(len(check[0])),noisy[:,col],label = \"noisy\")\n",
    "plt.legend()"
   ]
  },
  {
   "cell_type": "code",
   "execution_count": 321,
   "id": "9b0557fb-8215-4eee-a260-1f0d89cf9487",
   "metadata": {},
   "outputs": [],
   "source": [
    "just_col = image.reshape(100,100)[:,col]"
   ]
  },
  {
   "cell_type": "code",
   "execution_count": 322,
   "id": "9910746a-8d48-41ec-9ca9-51c6710a67fb",
   "metadata": {},
   "outputs": [],
   "source": [
    "def analytical_eq_y(xy,xo,yo,No,T):   \n",
    "    x, y = xy\n",
    "    \n",
    "    Nex = 100000-No\n",
    "        \n",
    "    out = (No/math.pi)*np.exp(-(y-yo)**2) + (Nex/(2*math.pi*T))*np.exp((-(y-yo)**2)/(2*T))\n",
    "\n",
    "    return out.ravel()"
   ]
  },
  {
   "cell_type": "code",
   "execution_count": 323,
   "id": "32af9743-1594-46f1-ad74-329408ef44a5",
   "metadata": {},
   "outputs": [
    {
     "data": {
      "text/plain": [
       "(100,)"
      ]
     },
     "execution_count": 323,
     "metadata": {},
     "output_type": "execute_result"
    }
   ],
   "source": [
    "y[:,col].shape"
   ]
  },
  {
   "cell_type": "code",
   "execution_count": 324,
   "id": "5e59d897-b08b-4b3a-b8a8-c11b25155be4",
   "metadata": {},
   "outputs": [],
   "source": [
    "popt_col, _ = opt.curve_fit(analytical_eq_y, (x[:,col], y[:,col]), just_col, p0=initial_guess)"
   ]
  },
  {
   "cell_type": "code",
   "execution_count": 325,
   "id": "4493de72-f5f0-45a6-8add-c0acd73fc789",
   "metadata": {},
   "outputs": [
    {
     "data": {
      "text/plain": [
       "array([ 0.00000000e+00, -1.00140284e+00,  3.35153697e+00,  7.43221063e+04])"
      ]
     },
     "execution_count": 325,
     "metadata": {},
     "output_type": "execute_result"
    }
   ],
   "source": [
    "popt_col"
   ]
  },
  {
   "cell_type": "code",
   "execution_count": 326,
   "id": "72038caf-3899-46ff-a20f-192cbe5a05f4",
   "metadata": {},
   "outputs": [],
   "source": [
    "col_fitted = analytical_eq_y((x, y), *popt_col[:2],*popt_col[2:])\n",
    "col_fit = col_fitted.reshape(100,100)"
   ]
  },
  {
   "cell_type": "code",
   "execution_count": 327,
   "id": "d266bd8b-f994-490a-b55a-b4c70bc7463c",
   "metadata": {},
   "outputs": [
    {
     "data": {
      "text/plain": [
       "<matplotlib.legend.Legend at 0x3d7755720>"
      ]
     },
     "execution_count": 327,
     "metadata": {},
     "output_type": "execute_result"
    },
    {
     "data": {
      "image/png": "[encoded data removed]",
      "text/plain": [
       "<Figure size 432x288 with 1 Axes>"
      ]
     },
     "metadata": {
      "needs_background": "light"
     },
     "output_type": "display_data"
    }
   ],
   "source": [
    "plt.plot(np.arange(len(check[0])),col_fit[:,col],label = \"fit\")\n",
    "plt.plot(np.arange(len(check[0])),just_col,label = \"noisy\")\n",
    "plt.legend()"
   ]
  },
  {
   "cell_type": "code",
   "execution_count": 328,
   "id": "de124681-13f9-4565-9796-960302b828c0",
   "metadata": {},
   "outputs": [
    {
     "data": {
      "text/plain": [
       "array([  150.42190044, 25557.99864109])"
      ]
     },
     "execution_count": 328,
     "metadata": {},
     "output_type": "execute_result"
    }
   ],
   "source": [
    "y_test[indx]"
   ]
  },
  {
   "cell_type": "code",
   "execution_count": 329,
   "id": "991f34b9-306d-4864-a607-73426c3a251e",
   "metadata": {},
   "outputs": [
    {
     "data": {
      "text/plain": [
       "array([ 0.00000000e+00, -1.00140284e+00,  3.35153697e+00,  7.43221063e+04])"
      ]
     },
     "execution_count": 329,
     "metadata": {},
     "output_type": "execute_result"
    }
   ],
   "source": [
    "popt_col"
   ]
  },
  {
   "cell_type": "code",
   "execution_count": 330,
   "id": "91af7ab9-500e-47ec-b1e8-365ed91894ad",
   "metadata": {},
   "outputs": [],
   "source": [
    "initial_guess_cols = (0,0,25557.9986412,150.42190042)"
   ]
  },
  {
   "cell_type": "code",
   "execution_count": 331,
   "id": "db1455b9-138c-40f5-aee1-efb2ad350f25",
   "metadata": {},
   "outputs": [],
   "source": [
    "#think about forcing ranges\n",
    "popt_col, _ = opt.curve_fit(analytical_eq_y, (x[:,col], y[:,col]), just_col, p0=initial_guess_cols, bounds = ([-1,-1,25555,150],[1,1,25560,151]))\n"
   ]
  },
  {
   "cell_type": "code",
   "execution_count": 332,
   "id": "ef516850-9eb5-4c84-87fb-f855834a861b",
   "metadata": {},
   "outputs": [
    {
     "data": {
      "text/plain": [
       "array([ 0.00000000e+00, -5.00556773e-01,  2.55579677e+04,  1.50436951e+02])"
      ]
     },
     "execution_count": 332,
     "metadata": {},
     "output_type": "execute_result"
    }
   ],
   "source": [
    "popt_col"
   ]
  },
  {
   "cell_type": "code",
   "execution_count": 333,
   "id": "845d5cde-7e12-4167-875d-aac699744ea4",
   "metadata": {},
   "outputs": [],
   "source": [
    "col_fitted = analytical_eq_y((x, y), *popt_col[:2],*popt_col[2:])"
   ]
  },
  {
   "cell_type": "code",
   "execution_count": 334,
   "id": "8f02fc24-45ce-4055-b564-d25487baafe2",
   "metadata": {},
   "outputs": [
    {
     "data": {
      "text/plain": [
       "<matplotlib.legend.Legend at 0x16899b8b0>"
      ]
     },
     "execution_count": 334,
     "metadata": {},
     "output_type": "execute_result"
    },
    {
     "data": {
      "image/png": "[encoded data removed]",
      "text/plain": [
       "<Figure size 432x288 with 1 Axes>"
      ]
     },
     "metadata": {
      "needs_background": "light"
     },
     "output_type": "display_data"
    }
   ],
   "source": [
    "plt.plot(np.arange(len(check[0])),col_fit[:,col],label = \"fit\")\n",
    "plt.plot(np.arange(len(check[0])),just_col,label = \"noisy\")\n",
    "plt.legend()"
   ]
  },
  {
   "cell_type": "code",
   "execution_count": null,
   "id": "de46afc7-13d5-4907-b4f3-2e967a7cfa76",
   "metadata": {},
   "outputs": [],
   "source": []
  },
  {
   "cell_type": "markdown",
   "id": "75b8fe98-49d0-472f-a499-45c0e1ba0a04",
   "metadata": {
    "tags": []
   },
   "source": [
    "### mar 19"
   ]
  },
  {
   "cell_type": "code",
   "execution_count": 157,
   "id": "3a3edd00-dc40-4b3d-b425-b4c65297d027",
   "metadata": {},
   "outputs": [],
   "source": [
    "x = np.linspace(-49, 50, 100)\n",
    "y = np.linspace(-49, 50, 100)\n",
    "x, y = np.meshgrid(x, y)"
   ]
  },
  {
   "cell_type": "code",
   "execution_count": 158,
   "id": "8c38f550-49cd-41da-ba39-53d08975c74b",
   "metadata": {},
   "outputs": [],
   "source": [
    "def analytical_eq(xy,T,No):   \n",
    "    x, y = xy\n",
    "    \n",
    "    Nex = 100000-No\n",
    "    \n",
    "    out = (No/math.pi)*np.exp(-(x)**2)*np.exp(-(y)**2) + (Nex/(2*math.pi*T))*np.exp((-(x)**2)/(2*T))*np.exp((-(y)**2)/(2*T))\n",
    "\n",
    "    return out.ravel()"
   ]
  },
  {
   "cell_type": "code",
   "execution_count": 242,
   "id": "38728dac-37bb-417b-b94e-8f9ba4bd9ff8",
   "metadata": {},
   "outputs": [],
   "source": [
    "num_images = 10"
   ]
  },
  {
   "cell_type": "code",
   "execution_count": 260,
   "id": "2f016fd2-4859-4c69-a947-0e842b4a94c4",
   "metadata": {},
   "outputs": [
    {
     "name": "stdout",
     "output_type": "stream",
     "text": [
      "[150.42177805007177, 25558.119784358776]\n",
      "[148.42190044474083, 25555.998641089274] [152.42190044474083, 25559.998641089274]\n",
      "[135.3969373313849, 39686.6321986146]\n",
      "[133.39743506753794, 39684.18875876378] [137.39743506753794, 39688.18875876378]\n",
      "[333.68041534473514, 0]\n",
      "[331.66982368700155, 0] [335.66982368700155, 2.0]\n",
      "[169.88475384406297, 5047.870653315618]\n",
      "[167.8851907308781, 5045.38228239614] [171.8851907308781, 5049.38228239614]\n",
      "[219.82626101211488, 0]\n",
      "[217.29876936682524, 0] [221.29876936682524, 2.0]\n",
      "[132.2401490303163, 42466.26641880673]\n",
      "[130.2395624263856, 42464.77684532485] [134.2395624263856, 42468.77684532485]\n",
      "[241.3731338530372, 0]\n",
      "[239.6081619360145, 0] [243.6081619360145, 2.0]\n",
      "[298.39729789856784, 0]\n",
      "[297.1502181719717, 0] [301.1502181719717, 2.0]\n",
      "[322.64496349842, 0]\n",
      "[320.1543741495309, 0] [324.1543741495309, 2.0]\n",
      "[93.65517590690578, 71142.4494050351]\n",
      "[91.65594370604207, 71139.97624606594] [95.65594370604207, 71143.97624606594]\n"
     ]
    }
   ],
   "source": [
    "preds = []\n",
    "for pair in zip(x_test[:num_images],y_test[:num_images]):\n",
    "    im,labs = pair\n",
    "    \n",
    "    trans_temp = (100000/(2*1*1.645))**(1/2)\n",
    "    \n",
    "    guess_num_atoms = 0\n",
    "    guess_temp = max(0,labs[0]+ (np.random.rand()-0.5)*2)\n",
    "    if labs[1] > 0:\n",
    "        guess_num_atoms = max(0,labs[1]+ (np.random.rand()-0.5)*2)\n",
    "        guess_temp = np.sqrt(-((guess_num_atoms / 100000) - 1)*(trans_temp)**2)\n",
    "    initial_guess = [guess_temp,guess_num_atoms]    \n",
    "    low_bounds = [max(0,lab - 2) for lab in labs]\n",
    "    high_bounds = [labs[0]+2,min(labs[1]+2,100000)]\n",
    "    \n",
    "    print(initial_guess)\n",
    "    print(low_bounds,high_bounds)\n",
    "    \n",
    "#     initial_guess = [labs[0] + (np.random.rand()-0.5)*20 ,labs[1] + (np.random.rand()-0.5)*25000 ]\n",
    "    \n",
    "    popts = []\n",
    "    for i in range(100):\n",
    "        popt_x, _ = opt.curve_fit(analytical_eq, (x[i],y[i]), im[i], p0=initial_guess,maxfev = 10000,bounds = (low_bounds,high_bounds))\n",
    "        popt_y, _ = opt.curve_fit(analytical_eq, (x[:,i],y[:,i]), im[i], p0=initial_guess,maxfev = 10000,bounds = (low_bounds,high_bounds))\n",
    "        popts.append(popt_x)\n",
    "        popts.append(popt_y)\n",
    "    preds.append(np.mean(popts,axis = 0))"
   ]
  },
  {
   "cell_type": "code",
   "execution_count": 261,
   "id": "83dd33a8-792e-42e9-b638-fe6cb07ffc58",
   "metadata": {},
   "outputs": [],
   "source": [
    "preds = np.array(preds)"
   ]
  },
  {
   "cell_type": "code",
   "execution_count": 262,
   "id": "b4bd014b-d6bd-45a9-9142-621da3c7eb07",
   "metadata": {},
   "outputs": [
    {
     "data": {
      "text/plain": [
       "0.6788558084665807"
      ]
     },
     "execution_count": 262,
     "metadata": {},
     "output_type": "execute_result"
    }
   ],
   "source": [
    "fit_N_rmse = mean_squared_error(preds[:num_images,1],y_test[:num_images,1],squared = False)\n",
    "fit_N_rmse"
   ]
  },
  {
   "cell_type": "code",
   "execution_count": 263,
   "id": "8a425389-0797-49cb-9c47-45bba861edca",
   "metadata": {},
   "outputs": [
    {
     "data": {
      "text/plain": [
       "0.5904010189428848"
      ]
     },
     "execution_count": 263,
     "metadata": {},
     "output_type": "execute_result"
    }
   ],
   "source": [
    "fit_T_rmse = mean_squared_error(preds[:num_images,0],y_test[:num_images,0],squared = False)\n",
    "fit_T_rmse"
   ]
  },
  {
   "cell_type": "code",
   "execution_count": 264,
   "id": "1bef62c1-fe21-4ac1-88a2-a732a6f1fd17",
   "metadata": {},
   "outputs": [],
   "source": [
    "fit_residuals = preds - y_test[:num_images]"
   ]
  },
  {
   "cell_type": "code",
   "execution_count": 265,
   "id": "3feb1f76-f446-474d-bb19-c9ea26f44141",
   "metadata": {},
   "outputs": [
    {
     "data": {
      "text/plain": [
       "Text(0.5, 1.0, 'Fit Temperature Residuals')"
      ]
     },
     "execution_count": 265,
     "metadata": {},
     "output_type": "execute_result"
    },
    {
     "data": {
      "image/png": "[encoded data removed]",
      "text/plain": [
       "<Figure size 432x288 with 1 Axes>"
      ]
     },
     "metadata": {
      "needs_background": "light"
     },
     "output_type": "display_data"
    }
   ],
   "source": [
    "#fit temperature residuals\n",
    "plt.scatter(y_test[:num_images,0],fit_residuals[:,0])\n",
    "plt.xlabel(\"True Temperature\")\n",
    "plt.ylabel(\"Residual\")\n",
    "plt.title(\"Fit Temperature Residuals\")"
   ]
  },
  {
   "cell_type": "code",
   "execution_count": 266,
   "id": "92cb6399-5d22-4efe-8574-b855ba8823c9",
   "metadata": {},
   "outputs": [
    {
     "data": {
      "text/plain": [
       "Text(0.5, 1.0, 'Fit Nc Residuals')"
      ]
     },
     "execution_count": 266,
     "metadata": {},
     "output_type": "execute_result"
    },
    {
     "data": {
      "image/png": "[encoded data removed]",
      "text/plain": [
       "<Figure size 432x288 with 1 Axes>"
      ]
     },
     "metadata": {
      "needs_background": "light"
     },
     "output_type": "display_data"
    }
   ],
   "source": [
    "#fit temperature residuals\n",
    "plt.scatter(y_test[:num_images,1],fit_residuals[:,1])\n",
    "plt.xlabel(\"True Nc\")\n",
    "plt.ylabel(\"Residual\")\n",
    "plt.title(\"Fit Nc Residuals\")"
   ]
  },
  {
   "cell_type": "code",
   "execution_count": null,
   "id": "717d2b0a-bb66-4680-971f-268211a1294c",
   "metadata": {},
   "outputs": [],
   "source": []
  }
 ],
 "metadata": {
  "kernelspec": {
   "display_name": "Python 3 (ipykernel)",
   "language": "python",
   "name": "python3"
  },
  "language_info": {
   "codemirror_mode": {
    "name": "ipython",
    "version": 3
   },
   "file_extension": ".py",
   "mimetype": "text/x-python",
   "name": "python",
   "nbconvert_exporter": "python",
   "pygments_lexer": "ipython3",
   "version": "3.10.9"
  },
  "toc-showcode": false
 },
 "nbformat": 4,
 "nbformat_minor": 5
}
